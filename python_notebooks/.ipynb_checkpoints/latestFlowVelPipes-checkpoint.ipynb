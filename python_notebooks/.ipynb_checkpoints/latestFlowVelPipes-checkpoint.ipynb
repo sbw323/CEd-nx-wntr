{
 "cells": [
  {
   "cell_type": "code",
   "execution_count": 1,
   "metadata": {},
   "outputs": [],
   "source": [
    "import pandas as pd\n",
    "from pandas import DataFrame as df\n",
    "import numpy as np\n",
    "import matplotlib\n",
    "import matplotlib.pyplot as plt\n",
    "import wntr as wn\n",
    "import networkx as nx\n",
    "from collections import defaultdict\n",
    "import tensorflow as tf\n",
    "import math\n",
    "\n",
    "in2_ft2 = 0.0005787"
   ]
  },
  {
   "cell_type": "code",
   "execution_count": 2,
   "metadata": {},
   "outputs": [],
   "source": [
    "from matplotlib.axes._axes import _log as matplotlib_axes_logger\n",
    "matplotlib_axes_logger.setLevel('ERROR')"
   ]
  },
  {
   "cell_type": "code",
   "execution_count": 3,
   "metadata": {},
   "outputs": [
    {
     "name": "stdout",
     "output_type": "stream",
     "text": [
      "FilePath for Data is: /Users/aya/Documents/code-pfs/gas-nx/NYU_LeakData OK? y / n y\n"
     ]
    }
   ],
   "source": [
    "#toplevelpath = \"/Users/kavyaub/Documents/mySubjects/ConEdison\"\n",
    "toplevelpath = \"/Users/aya/Documents/code-pfs/gas-nx\"\n",
    "\n",
    "all_datadir = \"/NYU_LeakData\"\n",
    "\n",
    "def ask_user_path(pathinput, datadirinput):\n",
    "    ask_user_path_text = 'FilePath for Data is: ' + pathinput + datadirinput + ' OK? y / n '\n",
    "    response = 'y'\n",
    "    user_inputYN = input(ask_user_path_text)\n",
    "    if user_inputYN.lower() not in response:\n",
    "        new_input = 'PASTE FULL PATH TO YOUR DATA DIRECTORY HERE: '\n",
    "        newpath = input(new_input)\n",
    "        return newpath\n",
    "    elif user_inputYN in response:\n",
    "        response2 = pathinput + datadirinput\n",
    "        return response2\n",
    "\n",
    "#datadirpath = ask_user_path(toplevelpath, all_datadir)\n",
    "get_file_datadirpath = ask_user_path(toplevelpath, all_datadir)\n"
   ]
  },
  {
   "cell_type": "code",
   "execution_count": 4,
   "metadata": {},
   "outputs": [
    {
     "name": "stderr",
     "output_type": "stream",
     "text": [
      "/Users/aya/miniconda3/lib/python3.7/site-packages/IPython/core/interactiveshell.py:3146: DtypeWarning: Columns (105) have mixed types. Specify dtype option on import or set low_memory=False.\n",
      "  interactivity=interactivity, compiler=compiler, result=result)\n"
     ]
    }
   ],
   "source": [
    "\n",
    "anomalyFreeNode = toplevelpath + all_datadir + \"/LeakData_ZeroDegrees/NYU Anamoly Data_ZeroDeg_Nodes.csv\"\n",
    "nodeArr=pd.read_csv(anomalyFreeNode)\n",
    "\n",
    "anomalyFree = toplevelpath + all_datadir + \"/LeakData_ZeroDegrees/NYU Anamoly Data_ZeroDeg_Pipes.csv\"\n",
    "nFile0=pd.read_csv(anomalyFree)\n",
    "\n",
    "anomaly = toplevelpath + all_datadir + \"/LeakData_ZeroDegrees/NYU Anamoly Data_ZeroDeg_Pipes_Leak1.csv\"\n",
    "nFile1=pd.read_csv(anomaly)\n"
   ]
  },
  {
   "cell_type": "code",
   "execution_count": 5,
   "metadata": {},
   "outputs": [],
   "source": [
    "def get_file(name):\n",
    "    anomaly = get_file_datadirpath+name\n",
    "    nFile=pd.read_csv(anomaly)\n",
    "    return nFile"
   ]
  },
  {
   "cell_type": "code",
   "execution_count": 6,
   "metadata": {},
   "outputs": [],
   "source": [
    "def flowDeviation_vel(file0, file1):\n",
    "    res_arr = file1\n",
    "    res_arr['VELOpipeFPS']= file1.VELOpipeFPS\n",
    "    dividend = max(file0['VELOpipeFPS'])\n",
    "    res_arr.VELOpipeFPS = abs(res_arr.VELOpipeFPS.subtract(file0.VELOpipeFPS))/dividend\n",
    "    return res_arr"
   ]
  },
  {
   "cell_type": "code",
   "execution_count": null,
   "metadata": {},
   "outputs": [],
   "source": []
  },
  {
   "cell_type": "code",
   "execution_count": 7,
   "metadata": {},
   "outputs": [],
   "source": [
    "preDir = \"/ReducedNodeSet/\"\n",
    "name500=\"CECnodes_500_TableToExcel\"\n",
    "filetype = \".csv\"\n",
    "nodes500 = get_file(preDir+name500+filetype)"
   ]
  },
  {
   "cell_type": "code",
   "execution_count": 8,
   "metadata": {},
   "outputs": [],
   "source": [
    "preDir = \"/ReducedNodeSet/\"\n",
    "name200=\"CECnodes_200_TableToExcel\"\n",
    "filetype = \".csv\"\n",
    "nodes200 = get_file(preDir+name200+filetype)"
   ]
  },
  {
   "cell_type": "code",
   "execution_count": 9,
   "metadata": {},
   "outputs": [],
   "source": [
    "def calculations(input_arr):\n",
    "    final_temp_arr = np.array([input_arr['NAME'],input_arr['FacilityFromNodeName'],input_arr['FacilityToNodeName'],input_arr['NAME'],[0]*input_arr.NAME.size,[0]*input_arr.NAME.size,[0]*input_arr.NAME.size,[0]*input_arr.NAME.size,[0]*input_arr.NAME.size,[0]*input_arr.NAME.size])\n",
    "\n",
    "    anomalyFreeNode = toplevelpath + all_datadir + \"/LeakData_ZeroDegrees/NYU Anamoly Data_ZeroDeg_Nodes.csv\"\n",
    "    nodeArr=pd.read_csv(anomalyFreeNode)\n",
    "    setOfNames = set(nodeArr['NAME'])\n",
    "\n",
    "    for i in range(0,final_temp_arr[1].size):\n",
    "        if final_temp_arr[1][i] in setOfNames:\n",
    "            temp = nodeArr.loc[nodeArr['NAME']==final_temp_arr[1][i]]\n",
    "            final_temp_arr[4][i]=temp.iloc[0][3]\n",
    "            final_temp_arr[5][i]=temp.iloc[0][2]\n",
    "        if final_temp_arr[2][i] in setOfNames:\n",
    "            temp = nodeArr.loc[nodeArr['NAME']==final_temp_arr[2][i]]\n",
    "            final_temp_arr[6][i]=temp.iloc[0][3]\n",
    "            final_temp_arr[7][i]=temp.iloc[0][2]\n",
    "            \n",
    "    mid_elem_x=(final_temp_arr[4]+final_temp_arr[6])/2.0\n",
    "    mid_elem_y=(final_temp_arr[5]+final_temp_arr[7])/2.0\n",
    "    \n",
    "    final_temp_arr[8]=mid_elem_x\n",
    "    final_temp_arr[9]=mid_elem_y\n",
    "    input_arr['mid_point_x']=mid_elem_x\n",
    "    input_arr['mid_point_y']=mid_elem_y"
   ]
  },
  {
   "cell_type": "code",
   "execution_count": 10,
   "metadata": {},
   "outputs": [],
   "source": [
    "def reducer(input_arr):\n",
    "    \n",
    "    unique_nodes = nodes200.NAME.unique()\n",
    "    reduced_nodeArr = input_arr[input_arr.FacilityFromNodeName.isin(unique_nodes)]\n",
    "    reduced_nodeArr1 = input_arr[input_arr.FacilityToNodeName.isin(unique_nodes)]\n",
    "\n",
    "    reduced_nodeArr.reset_index(inplace = True, drop = True)\n",
    "    reduced_nodeArr1.reset_index(inplace = True, drop = True)\n",
    "\n",
    "    df=pd.merge(reduced_nodeArr,reduced_nodeArr1)\n",
    "    df_new=df.drop_duplicates()\n",
    "    return df_new\n",
    "    "
   ]
  },
  {
   "cell_type": "code",
   "execution_count": null,
   "metadata": {},
   "outputs": [],
   "source": []
  },
  {
   "cell_type": "code",
   "execution_count": null,
   "metadata": {},
   "outputs": [],
   "source": []
  },
  {
   "cell_type": "code",
   "execution_count": null,
   "metadata": {},
   "outputs": [],
   "source": []
  },
  {
   "cell_type": "code",
   "execution_count": 13,
   "metadata": {},
   "outputs": [],
   "source": [
    "preDir = \"/LeakData_ZeroDegrees/\"\n",
    "name0_11=\"NYU Anamoly Data_ZeroDeg_Pipes_Leak11\"\n",
    "name0_21=\"NYU Anamoly Data_ZeroDeg_Pipes_Leak21\"\n",
    "name0_31=\"NYU Anamoly Data_ZeroDeg_Pipes_Leak31\"\n",
    "name0_41=\"NYU Anamoly Data_ZeroDeg_Pipes_Leak41\"\n",
    "filetype = \".csv\"\n",
    "\n",
    "leak0_11 = get_file(preDir+name0_11+filetype)\n",
    "leak0_21 = get_file(preDir+name0_21+filetype)\n",
    "leak0_31 = get_file(preDir+name0_31+filetype)\n",
    "leak0_41 = get_file(preDir+name0_41+filetype)"
   ]
  },
  {
   "cell_type": "code",
   "execution_count": 14,
   "metadata": {},
   "outputs": [],
   "source": [
    "setOfNames = set(leak0_41['NAME'])\n",
    "def pipe_velocity_calc(pipedf):\n",
    "    final_pipedf = np.array([pipedf['NAME'],pipedf['FacilityFromNodeName'],pipedf['FacilityToNodeName'],pipedf['FacilityFlowAbsolute'],pipedf['PipeDiameter'],[0]*pipedf.NAME.size,[0]*pipedf.NAME.size,[0]*pipedf.NAME.size,[0]*pipedf.NAME.size,[0]*pipedf.NAME.size,[0]*pipedf.NAME.size])\n",
    "\n",
    "    for i in range(0,final_pipedf[1].size):\n",
    "        if final_pipedf[0][i] in setOfNames:\n",
    "            temp = pipedf.loc[pipedf['NAME']==final_pipedf[0][i]]\n",
    "            final_pipedf[5][i]=temp.iloc[0][90]\n",
    "            final_pipedf[6][i]=temp.iloc[0][94]\n",
    "\n",
    "    ## Creating the Velocity Rate Column ##\n",
    "    elem_AREApipeFT2 = (final_pipedf[6]**2/4*math.pi*in2_ft2)\n",
    "    elem_VELOpipeFPS = (final_pipedf[5]/elem_AREApipeFT2*1000/3600)\n",
    "    final_pipedf[8] = elem_AREApipeFT2\n",
    "    final_pipedf[9] = elem_VELOpipeFPS\n",
    "    pipedf['AREApipeFT2'] = elem_AREApipeFT2\n",
    "    pipedf['VELOpipeFPS'] = elem_VELOpipeFPS\n",
    "\n",
    "    return pipedf"
   ]
  },
  {
   "cell_type": "code",
   "execution_count": 15,
   "metadata": {},
   "outputs": [],
   "source": [
    "preDir = \"/LeakData_16Degrees/\"\n",
    "name1=\"NYU Anamoly Data_16Deg_Pipes_Leak1.csv\"\n",
    "name11=\"NYU Anamoly Data_16Deg_Pipes_Leak11.csv\"\n",
    "name21=\"NYU Anamoly Data_16Deg_Pipes_Leak21.csv\"\n",
    "name31=\"NYU Anamoly Data_16Deg_Pipes_Leak31.csv\"\n",
    "name41=\"NYU Anamoly Data_16Deg_Pipes_Leak41.csv\"\n",
    "\n",
    "leak1=get_file(preDir+name1)\n",
    "leak11 = get_file(preDir+name11)\n",
    "leak21 = get_file(preDir+name21)\n",
    "leak31 = get_file(preDir+name31)\n",
    "leak41 = get_file(preDir+name41)"
   ]
  },
  {
   "cell_type": "code",
   "execution_count": 16,
   "metadata": {},
   "outputs": [
    {
     "name": "stderr",
     "output_type": "stream",
     "text": [
      "/Library/Frameworks/Python.framework/Versions/3.6/lib/python3.6/site-packages/IPython/core/interactiveshell.py:3185: DtypeWarning: Columns (105) have mixed types. Specify dtype option on import or set low_memory=False.\n",
      "  if (yield from self.run_code(code, result)):\n"
     ]
    }
   ],
   "source": [
    "preDir = \"/LeakData_32Degrees/\"\n",
    "leakFree32 = \"NYU Anamoly Data_32Deg_Nodes.csv\"\n",
    "name32_01=\"NYU Anamoly Data_32Deg_Pipes_Leak1.csv\"\n",
    "name32_11=\"NYU Anamoly Data_32Deg_Pipes_Leak11.csv\"\n",
    "name32_21=\"NYU Anamoly Data_32Deg_Pipes_Leak21.csv\"\n",
    "name32_31=\"NYU Anamoly Data_32Deg_Pipes_Leak31.csv\"\n",
    "name32_41=\"NYU Anamoly Data_32Deg_Pipes_Leak41.csv\"\n",
    "\n",
    "leak32_00 = get_file(preDir+leakFree32)\n",
    "leak32_01 = get_file(preDir+name32_01)\n",
    "leak32_11 = get_file(preDir+name32_11)\n",
    "leak32_21 = get_file(preDir+name32_21)\n",
    "leak32_31 = get_file(preDir+name32_31)\n",
    "leak32_41 = get_file(preDir+name32_41)"
   ]
  },
  {
   "cell_type": "code",
   "execution_count": 17,
   "metadata": {},
   "outputs": [],
   "source": [
    "preDir = \"/LeakData_48Degrees/\"\n",
    "leakFree48 = \"NYU Anamoly Data_48Deg_Nodes.csv\"\n",
    "name48_01=\"NYU Anamoly Data_48Deg_Pipes_Leak1.csv\"\n",
    "name48_11=\"NYU Anamoly Data_48Deg_Pipes_Leak11.csv\"\n",
    "name48_21=\"NYU Anamoly Data_48Deg_Pipes_Leak21.csv\"\n",
    "name48_31=\"NYU Anamoly Data_48Deg_Pipes_Leak31.csv\"\n",
    "name48_41=\"NYU Anamoly Data_48Deg_Pipes_Leak41.csv\"\n",
    "\n",
    "leak48_00 = get_file(preDir+leakFree48)\n",
    "leak48_01 = get_file(preDir+name48_01)\n",
    "leak48_11 = get_file(preDir+name48_11)\n",
    "leak48_21 = get_file(preDir+name48_21)\n",
    "leak48_31 = get_file(preDir+name48_31)\n",
    "leak48_41 = get_file(preDir+name48_41)\n"
   ]
  },
  {
   "cell_type": "code",
   "execution_count": 18,
   "metadata": {},
   "outputs": [],
   "source": [
    "preDir = \"/LeakData_64Degrees/\"\n",
    "leakFree48 = \"NYU Anamoly Data_64Deg_Nodes.csv\"\n",
    "name64_01=\"NYU Anamoly Data_64Deg_Pipes_Leak1.csv\"\n",
    "name64_11=\"NYU Anamoly Data_64Deg_Pipes_Leak11.csv\"\n",
    "name64_21=\"NYU Anamoly Data_64Deg_Pipes_Leak21.csv\"\n",
    "name64_31=\"NYU Anamoly Data_64Deg_Pipes_Leak31.csv\"\n",
    "name64_41=\"NYU Anamoly Data_64Deg_Pipes_Leak41.csv\"\n",
    "\n",
    "leak64_00 = get_file(preDir+leakFree48)\n",
    "leak64_01 = get_file(preDir+name64_01)\n",
    "leak64_11 = get_file(preDir+name64_11)\n",
    "leak64_21 = get_file(preDir+name64_21)\n",
    "leak64_31 = get_file(preDir+name64_31)\n",
    "leak64_41 = get_file(preDir+name64_41)\n"
   ]
  },
  {
   "cell_type": "code",
   "execution_count": 19,
   "metadata": {},
   "outputs": [],
   "source": [
    "# max(an_free.VELOpipeFPS)\n",
    "# max(anomlay4.VELOpipeFPS)"
   ]
  },
  {
   "cell_type": "code",
   "execution_count": 182,
   "metadata": {},
   "outputs": [],
   "source": [
    "anomlay4 = pipe_velocity_calc(leak0_41)\n",
    "an_free = pipe_velocity_calc(nFile0)\n",
    "#max(anomlay4.VELOpipeFPS-an_free.VELOpipeFPS)\n",
    "# anomlay4[anomlay4.VELOpipeFPS>(an_free.VELOpipeFPS+5)]"
   ]
  },
  {
   "cell_type": "code",
   "execution_count": 181,
   "metadata": {},
   "outputs": [],
   "source": [
    "anomlay3 = pipe_velocity_calc(leak0_31)\n",
    "# max(anomlay3.VELOpipeFPS-an_free.VELOpipeFPS)"
   ]
  },
  {
   "cell_type": "code",
   "execution_count": 180,
   "metadata": {},
   "outputs": [],
   "source": [
    "anomlay2 = pipe_velocity_calc(leak0_21)\n",
    "# max(anomlay2.VELOpipeFPS-an_free.VELOpipeFPS)"
   ]
  },
  {
   "cell_type": "code",
   "execution_count": 179,
   "metadata": {},
   "outputs": [],
   "source": [
    "anomlay1 = pipe_velocity_calc(leak0_11)\n"
   ]
  },
  {
   "cell_type": "code",
   "execution_count": 178,
   "metadata": {},
   "outputs": [],
   "source": [
    "anomlay0 = pipe_velocity_calc(nFile1)\n"
   ]
  },
  {
   "cell_type": "code",
   "execution_count": 25,
   "metadata": {},
   "outputs": [],
   "source": [
    "res0_1 = pipe_velocity_calc(nFile1)\n",
    "normal_vel_1 = pipe_velocity_calc(nFile0)\n",
    "cal_diff0_1 = flowDeviation_vel(normal_vel_1,res0_1)\n",
    "calculations(cal_diff0_1)\n",
    "\n",
    "res0_11 = pipe_velocity_calc(leak0_11)\n",
    "normal_vel_11 = pipe_velocity_calc(nFile0)\n",
    "cal_diff0_11 = flowDeviation_vel(normal_vel_11,res0_11)\n",
    "calculations(cal_diff0_11)\n",
    "\n",
    "res0_21 = pipe_velocity_calc(leak0_21)\n",
    "normal_vel_21 = pipe_velocity_calc(nFile0)\n",
    "cal_diff0_21 = flowDeviation_vel(normal_vel_21,res0_21)\n",
    "calculations(cal_diff0_21)\n",
    "\n",
    "res0_31 = pipe_velocity_calc(leak0_31)\n",
    "normal_vel_31 = pipe_velocity_calc(nFile0)\n",
    "cal_diff0_31 = flowDeviation_vel(normal_vel_31,res0_31)\n",
    "calculations(cal_diff0_31)\n",
    "\n",
    "res0_41 = pipe_velocity_calc(leak0_41)\n",
    "normal_vel_41 = pipe_velocity_calc(nFile0)\n",
    "cal_diff0_41 = flowDeviation_vel(normal_vel_41,res0_41)\n",
    "calculations(cal_diff0_41)\n",
    "\n",
    "cal_diff0_1 = cal_diff0_1.fillna(value=0.0)\n",
    "cal_diff0_11 = cal_diff0_11.fillna(value=0.0)\n",
    "cal_diff0_21 = cal_diff0_21.fillna(value=0.0)\n",
    "cal_diff0_31 = cal_diff0_31.fillna(value=0.0)\n",
    "cal_diff0_41 = cal_diff0_41.fillna(value=0.0)\n",
    "\n",
    "cal_diff0_1_500=reducer(cal_diff0_1)\n",
    "cal_diff0_11_500=reducer(cal_diff0_11)\n",
    "cal_diff0_21_500=reducer(cal_diff0_21)\n",
    "cal_diff0_31_500=reducer(cal_diff0_31)\n",
    "cal_diff0_41_500=reducer(cal_diff0_41)"
   ]
  },
  {
   "cell_type": "code",
   "execution_count": 26,
   "metadata": {},
   "outputs": [],
   "source": [
    "#len(res0_41.VELOpipeFPS)"
   ]
  },
  {
   "cell_type": "code",
   "execution_count": 27,
   "metadata": {},
   "outputs": [],
   "source": [
    "anomalyFree = toplevelpath + all_datadir + \"/LeakData_16Degrees/NYU Anamoly Data_16Deg_Pipes.csv\"\n",
    "nFile0=pd.read_csv(anomalyFree)\n",
    "\n",
    "anomaly = toplevelpath + all_datadir + \"/LeakData_16Degrees/NYU Anamoly Data_16Deg_Pipes_Leak1.csv\"\n",
    "nFile1=pd.read_csv(anomaly)\n",
    "\n",
    "res1 = pipe_velocity_calc(nFile1)\n",
    "normal_vel_1 = pipe_velocity_calc(nFile0)\n",
    "cal_diff1 = flowDeviation_vel(normal_vel_1,res1)\n",
    "calculations(cal_diff1)\n",
    "\n",
    "res11 = pipe_velocity_calc(leak11)\n",
    "normal_vel_11 = pipe_velocity_calc(nFile0)\n",
    "cal_diff11 = flowDeviation_vel(normal_vel_11,res11)\n",
    "calculations(cal_diff11)\n",
    "\n",
    "res21 = pipe_velocity_calc(leak21)\n",
    "normal_vel_21 = pipe_velocity_calc(nFile0)\n",
    "cal_diff21 = flowDeviation_vel(normal_vel_21,res21)\n",
    "calculations(cal_diff21)\n",
    "\n",
    "res31 = pipe_velocity_calc(leak31)\n",
    "normal_vel_31 = pipe_velocity_calc(nFile0)\n",
    "cal_diff31 = flowDeviation_vel(normal_vel_31,res31)\n",
    "calculations(cal_diff31)\n",
    "\n",
    "res41 = pipe_velocity_calc(leak41)\n",
    "normal_vel_41 = pipe_velocity_calc(nFile0)\n",
    "cal_diff41 = flowDeviation_vel(normal_vel_41,res41)\n",
    "calculations(cal_diff41)\n",
    "\n",
    "cal_diff1 = cal_diff1.fillna(value=0.0)\n",
    "cal_diff11 = cal_diff11.fillna(value=0.0)\n",
    "cal_diff21 = cal_diff21.fillna(value=0.0)\n",
    "cal_diff31 = cal_diff31.fillna(value=0.0)\n",
    "cal_diff41 = cal_diff41.fillna(value=0.0)\n",
    "\n",
    "\n",
    "cal_diff1_500=reducer(cal_diff1)\n",
    "cal_diff11_500=reducer(cal_diff11)\n",
    "cal_diff21_500=reducer(cal_diff21)\n",
    "cal_diff31_500=reducer(cal_diff31)\n",
    "cal_diff41_500=reducer(cal_diff41)"
   ]
  },
  {
   "cell_type": "code",
   "execution_count": 28,
   "metadata": {},
   "outputs": [
    {
     "data": {
      "text/plain": [
       "7.604636543767339e-05"
      ]
     },
     "execution_count": 28,
     "metadata": {},
     "output_type": "execute_result"
    }
   ],
   "source": [
    "cal_diff0_1.VELOpipeFPS[0]"
   ]
  },
  {
   "cell_type": "code",
   "execution_count": 29,
   "metadata": {},
   "outputs": [],
   "source": [
    "anomalyFree = toplevelpath + all_datadir + \"/LeakData_32Degrees/NYU Anamoly Data_32Deg_Pipes.csv\"\n",
    "nFile0=pd.read_csv(anomalyFree)\n",
    "\n",
    "anomaly = toplevelpath + all_datadir + \"/LeakData_32Degrees/NYU Anamoly Data_32Deg_Pipes_Leak1.csv\"\n",
    "nFile1=pd.read_csv(anomaly)\n",
    "\n",
    "res32_1 = pipe_velocity_calc(nFile1)\n",
    "normal_vel_1 = pipe_velocity_calc(nFile0)\n",
    "cal_diff32_1 = flowDeviation_vel(normal_vel_1,res32_1)\n",
    "calculations(cal_diff32_1)\n",
    "\n",
    "res32_11 = pipe_velocity_calc(leak32_11)\n",
    "normal_vel_11 = pipe_velocity_calc(nFile0)\n",
    "cal_diff32_11 = flowDeviation_vel(normal_vel_11,res32_11)\n",
    "calculations(cal_diff32_11)\n",
    "\n",
    "res32_21 = pipe_velocity_calc(leak32_21)\n",
    "normal_vel_21 = pipe_velocity_calc(nFile0)\n",
    "cal_diff32_21 = flowDeviation_vel(normal_vel_21,res32_21)\n",
    "calculations(cal_diff32_21)\n",
    "\n",
    "res32_31 = pipe_velocity_calc(leak32_31)\n",
    "normal_vel_31 = pipe_velocity_calc(nFile0)\n",
    "cal_diff32_31 = flowDeviation_vel(normal_vel_31,res32_31)\n",
    "calculations(cal_diff32_31)\n",
    "\n",
    "res32_41 = pipe_velocity_calc(leak32_41)\n",
    "normal_vel_41 = pipe_velocity_calc(nFile0)\n",
    "cal_diff32_41 = flowDeviation_vel(normal_vel_41,res32_41)\n",
    "calculations(cal_diff32_41)\n",
    "\n",
    "cal_diff32_1 = cal_diff32_1.fillna(value=0.0)\n",
    "cal_diff32_11 = cal_diff32_11.fillna(value=0.0)\n",
    "cal_diff32_21 = cal_diff32_21.fillna(value=0.0)\n",
    "cal_diff32_31 = cal_diff32_31.fillna(value=0.0)\n",
    "cal_diff32_41 = cal_diff32_41.fillna(value=0.0)\n",
    "\n",
    "cal_diff32_1_500=reducer(cal_diff32_1)\n",
    "cal_diff32_11_500=reducer(cal_diff32_11)\n",
    "cal_diff32_21_500=reducer(cal_diff32_21)\n",
    "cal_diff32_31_500=reducer(cal_diff32_31)\n",
    "cal_diff32_41_500=reducer(cal_diff32_41)"
   ]
  },
  {
   "cell_type": "code",
   "execution_count": 30,
   "metadata": {},
   "outputs": [],
   "source": [
    "anomalyFree = toplevelpath + all_datadir + \"/LeakData_48Degrees/NYU Anamoly Data_48Deg_Pipes.csv\"\n",
    "nFile0=pd.read_csv(anomalyFree)\n",
    "\n",
    "anomaly = toplevelpath + all_datadir + \"/LeakData_48Degrees/NYU Anamoly Data_48Deg_Pipes_Leak1.csv\"\n",
    "nFile1=pd.read_csv(anomaly)\n",
    "\n",
    "res48_1 = pipe_velocity_calc(nFile1)\n",
    "normal_vel_1 = pipe_velocity_calc(nFile0)\n",
    "cal_diff48_1 = flowDeviation_vel(normal_vel_1,res48_1)\n",
    "calculations(cal_diff48_1)\n",
    "\n",
    "res48_11 = pipe_velocity_calc(leak48_11)\n",
    "normal_vel_11 = pipe_velocity_calc(nFile0)\n",
    "cal_diff48_11 = flowDeviation_vel(normal_vel_11,res48_11)\n",
    "calculations(cal_diff48_11)\n",
    "\n",
    "res48_21 = pipe_velocity_calc(leak48_21)\n",
    "normal_vel_21 = pipe_velocity_calc(nFile0)\n",
    "cal_diff48_21 = flowDeviation_vel(normal_vel_21,res48_21)\n",
    "calculations(cal_diff48_21)\n",
    "\n",
    "res48_31 = pipe_velocity_calc(leak48_31)\n",
    "normal_vel_31 = pipe_velocity_calc(nFile0)\n",
    "cal_diff48_31 = flowDeviation_vel(normal_vel_31,res48_31)\n",
    "calculations(cal_diff48_31)\n",
    "\n",
    "res48_41 = pipe_velocity_calc(leak48_41)\n",
    "normal_vel_41 = pipe_velocity_calc(nFile0)\n",
    "cal_diff48_41 = flowDeviation_vel(normal_vel_41,res48_41)\n",
    "calculations(cal_diff48_41)\n",
    "\n",
    "cal_diff48_1 = cal_diff48_1.fillna(value=0.0)\n",
    "cal_diff48_11 = cal_diff48_11.fillna(value=0.0)\n",
    "cal_diff48_21 = cal_diff48_21.fillna(value=0.0)\n",
    "cal_diff48_31 = cal_diff48_31.fillna(value=0.0)\n",
    "cal_diff48_41 = cal_diff48_41.fillna(value=0.0)\n",
    "\n",
    "cal_diff48_1_500=reducer(cal_diff48_1)\n",
    "cal_diff48_11_500=reducer(cal_diff48_11)\n",
    "cal_diff48_21_500=reducer(cal_diff48_21)\n",
    "cal_diff48_31_500=reducer(cal_diff48_31)\n",
    "cal_diff48_41_500=reducer(cal_diff48_41)"
   ]
  },
  {
   "cell_type": "code",
   "execution_count": 31,
   "metadata": {},
   "outputs": [],
   "source": [
    "anomalyFree = toplevelpath + all_datadir + \"/LeakData_64Degrees/NYU Anamoly Data_64Deg_Pipes.csv\"\n",
    "nFile0=pd.read_csv(anomalyFree)\n",
    "\n",
    "anomaly = toplevelpath + all_datadir + \"/LeakData_64Degrees/NYU Anamoly Data_64Deg_Pipes_Leak1.csv\"\n",
    "nFile1=pd.read_csv(anomaly)\n",
    "\n",
    "res64_1 = pipe_velocity_calc(nFile1)\n",
    "normal_vel_1 = pipe_velocity_calc(nFile0)\n",
    "cal_diff64_1 = flowDeviation_vel(normal_vel_1,res64_1)\n",
    "calculations(cal_diff64_1)\n",
    "\n",
    "res64_11 = pipe_velocity_calc(leak64_11)\n",
    "normal_vel_11 = pipe_velocity_calc(nFile0)\n",
    "cal_diff64_11 = flowDeviation_vel(normal_vel_11,res64_11)\n",
    "calculations(cal_diff64_11)\n",
    "\n",
    "res64_21 = pipe_velocity_calc(leak64_21)\n",
    "normal_vel_21 = pipe_velocity_calc(nFile0)\n",
    "cal_diff64_21 = flowDeviation_vel(normal_vel_21,res64_21)\n",
    "calculations(cal_diff64_21)\n",
    "\n",
    "res64_31 = pipe_velocity_calc(leak64_31)\n",
    "normal_vel_31 = pipe_velocity_calc(nFile0)\n",
    "cal_diff64_31 = flowDeviation_vel(normal_vel_31,res64_31)\n",
    "calculations(cal_diff64_31)\n",
    "\n",
    "res64_41 = pipe_velocity_calc(leak64_41)\n",
    "normal_vel_41 = pipe_velocity_calc(nFile0)\n",
    "cal_diff64_41 = flowDeviation_vel(normal_vel_41,res64_41)\n",
    "calculations(cal_diff64_41)\n",
    "\n",
    "cal_diff64_1 = cal_diff64_1.fillna(value=0.0)\n",
    "cal_diff64_11 = cal_diff64_11.fillna(value=0.0)\n",
    "cal_diff64_21 = cal_diff64_21.fillna(value=0.0)\n",
    "cal_diff64_31 = cal_diff64_31.fillna(value=0.0)\n",
    "cal_diff64_41 = cal_diff64_41.fillna(value=0.0)\n",
    "\n",
    "cal_diff64_1_500=reducer(cal_diff64_1)\n",
    "cal_diff64_11_500=reducer(cal_diff64_11)\n",
    "cal_diff64_21_500=reducer(cal_diff64_21)\n",
    "cal_diff64_31_500=reducer(cal_diff64_31)\n",
    "cal_diff64_41_500=reducer(cal_diff64_41)"
   ]
  },
  {
   "cell_type": "code",
   "execution_count": 32,
   "metadata": {},
   "outputs": [],
   "source": [
    "#np.mean(cal_diff0_1.VELOpipeFPS)"
   ]
  },
  {
   "cell_type": "code",
   "execution_count": null,
   "metadata": {},
   "outputs": [],
   "source": []
  },
  {
   "cell_type": "code",
   "execution_count": 33,
   "metadata": {},
   "outputs": [],
   "source": [
    "#def hightlightColor(r):\n",
    "#    if r['sumLeaks']>3:\n",
    "#        return ['background-color: red']*6\n",
    "#    elif r['sumLeaks']>2:\n",
    "#        return ['background-color: orange']*6\n",
    "#    elif r['sumLeaks']>1:\n",
    "#        return ['background-color: yellow']*6\n",
    "#    elif r['sumLeaks']>0:\n",
    "#        return ['background-color: green']*6\n",
    "#    else:\n",
    "#        return ['background-color: blue']*6"
   ]
  },
  {
   "cell_type": "code",
   "execution_count": 34,
   "metadata": {},
   "outputs": [],
   "source": [
    "#leakTable.style.apply(hightlightColor, axis=1)"
   ]
  },
  {
   "cell_type": "code",
   "execution_count": 35,
   "metadata": {
    "scrolled": true
   },
   "outputs": [],
   "source": [
    "anomalyFreeNode = toplevelpath + all_datadir + \"/LeakData_ZeroDegrees/NYU Anamoly Data_ZeroDeg_Nodes.csv\"\n",
    "\n",
    "nodeArr=pd.read_csv(anomalyFreeNode)\n",
    "\n",
    "#dirpltpath = \"/Users/aya/Documents/code-pfs/gas-nx/plots/04012020--finalVel\"\n",
    "dirpltpath = \"/Users/kavyaub/Documents/mySubjects/ConEdison/screenshots/screenshotsPipe_32Deg\""
   ]
  },
  {
   "cell_type": "code",
   "execution_count": 36,
   "metadata": {},
   "outputs": [],
   "source": [
    "from mpl_toolkits.mplot3d import Axes3D\n",
    "\n",
    "def draw_3d(graphArr):\n",
    "    cntrlnd = '0BEC50B8'\n",
    "    unique_node=graphArr.FacilityToNodeName.unique()\n",
    "    u_n_2 = graphArr.FacilityFromNodeName.unique()\n",
    "    unique_node=np.append(unique_node,u_n_2)\n",
    "    unique_node=np.unique(unique_node)\n",
    "    anomalyFreeNode = toplevelpath + all_datadir + \"/LeakData_ZeroDegrees/NYU Anamoly Data_ZeroDeg_Nodes.csv\"\n",
    "    nodeArr=pd.read_csv(anomalyFreeNode)\n",
    "    nodeArr = nodeArr[nodeArr.NAME.isin(unique_node)]\n",
    "\n",
    "    G = nx.Graph()\n",
    "\n",
    "    graphArr['mid_point_names']=\"mid_point\"+graphArr.NAME\n",
    "\n",
    "\n",
    "\n",
    "    temp_arr = np.array([graphArr.NAME, graphArr.FacilityFromNodeName, graphArr.FacilityToNodeName, graphArr.mid_point_names, graphArr.mid_point_x, graphArr.mid_point_y, [0]*graphArr.NAME.size,[0]*graphArr.NAME.size,[0]*graphArr.NAME.size])\n",
    "    edges=np.array([['','']])\n",
    "    m=0\n",
    "    for i,j in enumerate(temp_arr[3]):\n",
    "        tmp_src=temp_arr[1][i]\n",
    "        tmp_dest=temp_arr[2][i]\n",
    "        srcs = np.where(temp_arr[1]==tmp_src)\n",
    "        dests = np.where(temp_arr[2] == tmp_src)\n",
    "        for r in srcs[0]:\n",
    "            src_node=temp_arr[3][i]\n",
    "            dest_node=temp_arr[3][r]\n",
    "            edges = np.vstack([edges, [src_node,dest_node]])\n",
    "        for k in dests[0]:\n",
    "            src_node=temp_arr[3][i]\n",
    "            dest_node=temp_arr[3][k]\n",
    "            edges = np.vstack([edges, [src_node,dest_node]])\n",
    "    edges=np.delete(edges,(0), axis=0)\n",
    "\n",
    "    pos_dict = defaultdict(list)\n",
    "    mid_pos_dict = defaultdict(list)\n",
    "    for i, j, k in zip(graphArr.mid_point_names,graphArr.mid_point_x,graphArr.mid_point_y):\n",
    "        mid_pos_dict[i].append(j)\n",
    "        mid_pos_dict[i].append(k)\n",
    "    \n",
    "    for i,j,k in zip(nodeArr.NAME,nodeArr.NodeXCoordinate,nodeArr.NodeYCoordinate):\n",
    "        pos_dict[i].append(j)\n",
    "        pos_dict[i].append(k)\n",
    "    pos_dict0 = dict(pos_dict)\n",
    "\n",
    "    mid_post_dict0=dict(mid_pos_dict)\n",
    "\n",
    "\n",
    "    temp_0=[0]*graphArr.NAME.size\n",
    "\n",
    "\n",
    "    node_dict0 = {val:item for val, item in zip(nodeArr.NAME,graphArr.VELOpipeFPS)}\n",
    "    edgeflow_dict0 = {val:item for val, item in zip(graphArr.mid_point_names, graphArr.VELOpipeFPS)}\n",
    "\n",
    "    d3pos_dict = defaultdict(list)\n",
    "    midpos_dict = defaultdict(list)\n",
    "\n",
    "    for d in (mid_post_dict0, edgeflow_dict0): # you can list as many input dicts as you want here\n",
    "        for key, value in d.items():\n",
    "            midpos_dict[key].append(value)\n",
    "    midpos_dict0 = dict(midpos_dict)\n",
    "\n",
    "    for d in (pos_dict0, node_dict0): # you can list as many input dicts as you want here\n",
    "        for key, value in d.items():\n",
    "            d3pos_dict[key].append(value)\n",
    "    d3pos_dict0 = dict(d3pos_dict)\n",
    "\n",
    "\n",
    "    edge_list = list(graphArr.mid_point_names)\n",
    "    node_list = list(nodeArr.NAME)\n",
    "    temp = list(pos_dict0.keys())\n",
    "    temp2 = list(mid_post_dict0.keys())\n",
    "    keys_all=np.append(temp,temp2)\n",
    "\n",
    "    G.add_nodes_from(keys_all)\n",
    "\n",
    "    for n in node_list:\n",
    "        G.nodes[n]['pos'] = pos_dict0[n]\n",
    "        G.nodes[n]['flow'] = 0\n",
    "    \n",
    "    for n in edge_list:\n",
    "        G.nodes[n]['pos'] = mid_post_dict0[n]\n",
    "        G.nodes[n]['flow'] = edgeflow_dict0[n]\n",
    "    \n",
    "\n",
    "    for i in edges:\n",
    "        pdest = i[1]\n",
    "        psource = i[0]\n",
    "        name = i[0]\n",
    "        G.add_edge(psource, pdest, n = name)\n",
    "\n",
    "\n",
    "    def network_plot_3D(G, angle, save=True):\n",
    "    \n",
    "        lower = min(cal_diff0_41['VELOpipeFPS'])\n",
    "        upper = max(cal_diff0_41['VELOpipeFPS'])\n",
    "        tp_arr = (graphArr['VELOpipeFPS']-lower)/(upper-lower)\n",
    "        tp2 = [float(i) for i in tp_arr]\n",
    "        \n",
    "        colors = [\"#1a1aff\", \"#00cc00\", \"#ffff00\", \"#ffa500\", \"#ff4d4d\"]\n",
    "        cmap= matplotlib.colors.ListedColormap(colors)\n",
    "        cmap.set_under(\"crimson\")\n",
    "        cmap.set_over(\"w\")\n",
    "        norm= matplotlib.colors.Normalize(vmin=lower,vmax=upper)\n",
    "        mapper = matplotlib.cm.ScalarMappable(norm=norm, cmap=cmap)\n",
    "        cc = cmap(tp2)\n",
    "\n",
    "\n",
    "        # 3D network plot\n",
    "        with plt.style.context(('ggplot')):\n",
    "\n",
    "            fig = plt.figure(figsize=(30,30))\n",
    "            ax = Axes3D(fig)\n",
    "            ax.set_xlabel('x-coordinates',fontsize=30)\n",
    "            ax.set_ylabel('y-coordinates',fontsize=30)\n",
    "            ax.set_zlabel('Flow Deviation', fontsize=30)\n",
    "            ax.set_zlim(lower,upper)\n",
    "            \n",
    "            ctr=0\n",
    "            for key, value in midpos_dict0.items():\n",
    "                xi = value[0][0]\n",
    "                yi = value[0][1]\n",
    "                zi = value[1]\n",
    "\n",
    "                p = ax.scatter(xi, yi, zi, c=cc[ctr], alpha=0.7, s=80,cmap=cmap)\n",
    "                ctr=ctr+1\n",
    "            d3pos_dict0.update(midpos_dict0)\n",
    "\n",
    "        \n",
    "            for i in edges:\n",
    "                x = np.array((d3pos_dict0[i[0]][0][0],d3pos_dict0[i[1]][0][0] ))\n",
    "                y = np.array((d3pos_dict0[i[0]][0][1], d3pos_dict0[i[1]][0][1]))\n",
    "                z = np.array((d3pos_dict0[i[0]][1], d3pos_dict0[i[1]][1]))\n",
    "\n",
    "                ax.plot(x, y, z, c='gray',alpha=0.5)\n",
    "            #fig.colorbar(p)\n",
    "\n",
    "\n",
    "        # Set the initial view\n",
    "        angleVerticle = 30\n",
    "        ax.view_init(angleVerticle, angle)\n",
    "        ax.zaxis.set_tick_params(labelsize='22',pad=17)\n",
    "        ax.zaxis.labelpad = 40\n",
    "        ax.xaxis.labelpad = 20\n",
    "        ax.yaxis.labelpad = 20\n",
    "        \n",
    "\n",
    "        if save is not False:\n",
    "            plt.savefig(d3plotname)\n",
    "            plt.show()\n",
    "        else:\n",
    "            plt.show()\n",
    "\n",
    "        return\n",
    "\n",
    "    network_plot_3D(G, 60)"
   ]
  },
  {
   "cell_type": "code",
   "execution_count": 37,
   "metadata": {},
   "outputs": [],
   "source": [
    "def draw_2d_flow(graphArr):\n",
    "    cntrlnd = '0BEC50B8'\n",
    "    unique_node=graphArr.FacilityToNodeName.unique()\n",
    "    u_n_2 = graphArr.FacilityFromNodeName.unique()\n",
    "    unique_node=np.append(unique_node,u_n_2)\n",
    "    unique_node=np.unique(unique_node)\n",
    "    anomalyFreeNode = toplevelpath + all_datadir + \"/LeakData_ZeroDegrees/NYU Anamoly Data_ZeroDeg_Nodes.csv\"\n",
    "    nodeArr=pd.read_csv(anomalyFreeNode)\n",
    "    nodeArr = nodeArr[nodeArr.NAME.isin(unique_node)]\n",
    "\n",
    "    G = nx.Graph()\n",
    "\n",
    "    graphArr['mid_point_names']=\"mid_point\"+graphArr.NAME\n",
    "\n",
    "    temp_arr = np.array([graphArr.NAME, graphArr.FacilityFromNodeName, graphArr.FacilityToNodeName, graphArr.mid_point_names, graphArr.mid_point_x, graphArr.mid_point_y, [0]*graphArr.NAME.size,[0]*graphArr.NAME.size,[0]*graphArr.NAME.size])\n",
    "    edges=np.array([['','',5]])\n",
    "    m=0\n",
    "    for i,j in enumerate(temp_arr[3]):\n",
    "        tmp_src=temp_arr[1][i]\n",
    "        tmp_dest=temp_arr[2][i]\n",
    "        srcs = np.where(temp_arr[1]==tmp_src)\n",
    "        dests = np.where(temp_arr[2] == tmp_src)\n",
    "        for r in srcs[0]:\n",
    "            src_node=temp_arr[3][i]\n",
    "            dest_node=temp_arr[3][r]\n",
    "            flow=temp_arr[6][i]\n",
    "            edges = np.vstack([edges, [src_node,dest_node,flow]])\n",
    "        for k in dests[0]:\n",
    "            src_node=temp_arr[3][i]\n",
    "            dest_node=temp_arr[3][k]\n",
    "            flow=temp_arr[6][i]\n",
    "            edges = np.vstack([edges, [src_node,dest_node,flow]])\n",
    "    edges=np.delete(edges,(0), axis=0)\n",
    "\n",
    "    pos_dict = defaultdict(list)\n",
    "    mid_pos_dict = defaultdict(list)\n",
    "    for i, j, k in zip(graphArr.mid_point_names,graphArr.mid_point_x,graphArr.mid_point_y):\n",
    "        mid_pos_dict[i].append(j)\n",
    "        mid_pos_dict[i].append(k)\n",
    "    \n",
    "    for i,j,k in zip(nodeArr.NAME,nodeArr.NodeXCoordinate,nodeArr.NodeYCoordinate):\n",
    "        pos_dict[i].append(j)\n",
    "        pos_dict[i].append(k)\n",
    "    pos_dict0 = dict(pos_dict)\n",
    "\n",
    "    mid_post_dict0=dict(mid_pos_dict)\n",
    "\n",
    "\n",
    "    temp_0=[0]*graphArr.NAME.size\n",
    "\n",
    "\n",
    "    node_dict0 = {val:item for val, item in zip(nodeArr.NAME,graphArr.VELOpipeFPS)}\n",
    "    edgeflow_dict0 = {val:item for val, item in zip(graphArr.mid_point_names, graphArr.VELOpipeFPS)}\n",
    "\n",
    "    d3pos_dict = defaultdict(list)\n",
    "    midpos_dict = defaultdict(list)\n",
    "\n",
    "    for d in (mid_post_dict0, edgeflow_dict0): # you can list as many input dicts as you want here\n",
    "        for key, value in d.items():\n",
    "            midpos_dict[key].append(value)\n",
    "    midpos_dict0 = dict(midpos_dict)\n",
    "\n",
    "    for d in (pos_dict0, node_dict0): # you can list as many input dicts as you want here\n",
    "        for key, value in d.items():\n",
    "            d3pos_dict[key].append(value)\n",
    "    d3pos_dict0 = dict(d3pos_dict)\n",
    "\n",
    "\n",
    "    edge_list = list(graphArr.mid_point_names)\n",
    "    node_list = list(nodeArr.NAME)\n",
    "    temp = list(pos_dict0.keys())\n",
    "    temp2 = list(mid_post_dict0.keys())\n",
    "    keys_all=np.append(temp,temp2)\n",
    "\n",
    "    G.add_nodes_from(edge_list)\n",
    "    \n",
    "    for n in edge_list:\n",
    "        G.nodes[n]['pos'] = mid_post_dict0[n]\n",
    "        G.nodes[n]['flow'] = edgeflow_dict0[n]\n",
    "    \n",
    "\n",
    "    for i in edges:\n",
    "        pdest = i[1]\n",
    "        psource = i[0]\n",
    "        flow = i[2]\n",
    "        name = i[0]\n",
    "        G.add_edge(psource, pdest,p=flow, n = name)\n",
    "\n",
    "\n",
    "    n_data = list(G.nodes(data=True))\n",
    "    p_data = list(G.edges(data=True))\n",
    "\n",
    "    edgeinfo = nx.get_node_attributes(G, 'flow')\n",
    "\n",
    "    fig_size = plt.rcParams[\"figure.figsize\"]\n",
    "    fig_size[0] = 30\n",
    "    fig_size[1] = 30\n",
    "    plt.rcParams[\"figure.figsize\"] = fig_size\n",
    "    print(\"Current size:\", fig_size)\n",
    "\n",
    "    labels = {}\n",
    "    labels['mid_point0BF5C083'] = r'$\\delta$'\n",
    "    labels['mid_point0BF5C2D7'] = r'$\\delta$'\n",
    "    labels['mid_point0BF5C2D7'] = r'$\\delta$'\n",
    "    lower = min(cal_diff0_41.VELOpipeFPS)\n",
    "    upper = max(cal_diff0_41.VELOpipeFPS)\n",
    "    \n",
    "    colors = [\"#1a1aff\", \"#00cc00\", \"#ffff00\", \"#ffa500\", \"#ff4d4d\"]\n",
    "    cmap= matplotlib.colors.ListedColormap(colors)\n",
    "    cmap.set_under(\"crimson\")\n",
    "    cmap.set_over(\"w\")\n",
    "    norm= matplotlib.colors.Normalize(vmin=lower,vmax=upper)\n",
    "\n",
    "    nodes = G.nodes()\n",
    "    ec = nx.draw_networkx_edges(G, pos = mid_post_dict0, alpha=1)\n",
    "    nc = nx.draw_networkx_nodes(G, pos = mid_post_dict0, nodelist=nodes, node_color=graphArr['VELOpipeFPS'], with_labels=False, node_size=25, cmap=cmap, vmin=lower, vmax=upper)\n",
    "    lc = nx.draw_networkx_labels(G, pos = mid_post_dict0, labels = labels, font_size=32, font_color='r')\n",
    "    \n",
    "    plt.colorbar(nc)\n",
    "    plt.axis('off')\n",
    "    plt.savefig(d2plotname)\n",
    "    plt.show()"
   ]
  },
  {
   "cell_type": "code",
   "execution_count": 38,
   "metadata": {},
   "outputs": [
    {
     "name": "stdout",
     "output_type": "stream",
     "text": [
      "1636.2226718578963\n"
     ]
    }
   ],
   "source": [
    "simple_calc = pipe_velocity_calc(leak0_41)\n",
    "print(max(simple_calc['VELOpipeFPS']))"
   ]
  },
  {
   "cell_type": "code",
   "execution_count": 39,
   "metadata": {},
   "outputs": [],
   "source": [
    "color_picker=np.array([[0,0,0,0,0],[0,0,1,1,1],[0,1,2,2,2],[1,2,2,3,3],[1,2,3,3,4],[2,2,3,4,4]])\n",
    "color_picker\n",
    "def color_indexer(input_arr):\n",
    "    out_arr=np.array(input_arr)\n",
    "    for i in range(0,input_arr[0].size):\n",
    "        out_arr[0,i]=color_picker[input_arr[0,i]][0]\n",
    "        out_arr[1,i]=color_picker[input_arr[1,i]][1]\n",
    "        out_arr[2,i]=color_picker[input_arr[2,i]][2]\n",
    "        out_arr[3,i]=color_picker[input_arr[3,i]][3]\n",
    "        out_arr[4,i]=color_picker[input_arr[4,i]][4]\n",
    "\n",
    "    return out_arr"
   ]
  },
  {
   "cell_type": "code",
   "execution_count": 40,
   "metadata": {},
   "outputs": [],
   "source": [
    "scaled_vals=np.array([cal_diff0_1.VELOpipeFPS ,cal_diff0_11.VELOpipeFPS,cal_diff0_21.VELOpipeFPS,cal_diff0_31.VELOpipeFPS, cal_diff0_41.VELOpipeFPS])\n",
    "scaled_vals[scaled_vals > 0.1] = 5\n",
    "scaled_vals[scaled_vals <=0.01] = 6\n",
    "scaled_vals[scaled_vals <=0.02] = 1\n",
    "scaled_vals[scaled_vals <=0.04] = 2\n",
    "scaled_vals[scaled_vals <=0.07] = 3\n",
    "scaled_vals[scaled_vals <=0.1] = 4\n",
    "scaled_vals[scaled_vals == 6] = 0\n",
    "scaled_vals=scaled_vals.astype(int)\n",
    "colors_array = color_indexer(scaled_vals)\n",
    "color_indexed0_41=cal_diff0_41\n",
    "color_indexed0_41['color']=colors_array[4]\n",
    "color_indexed0_31=cal_diff0_31\n",
    "color_indexed0_31['color']=colors_array[3]\n",
    "color_indexed0_21=cal_diff0_21\n",
    "color_indexed0_21['color']=colors_array[2]\n",
    "color_indexed0_11=cal_diff0_11\n",
    "color_indexed0_11['color']=colors_array[1]\n",
    "color_indexed0_1=cal_diff0_1\n",
    "color_indexed0_1['color']=colors_array[0]\n"
   ]
  },
  {
   "cell_type": "code",
   "execution_count": 41,
   "metadata": {},
   "outputs": [],
   "source": [
    "scaled_vals=np.array([cal_diff0_1_500.VELOpipeFPS ,cal_diff0_11_500.VELOpipeFPS,cal_diff0_21_500.VELOpipeFPS,cal_diff0_31_500.VELOpipeFPS, cal_diff0_41_500.VELOpipeFPS])\n",
    "scaled_vals[scaled_vals > 0.1] = 5\n",
    "scaled_vals[scaled_vals <=0.01] = 6\n",
    "scaled_vals[scaled_vals <=0.02] = 1\n",
    "scaled_vals[scaled_vals <=0.04] = 2\n",
    "scaled_vals[scaled_vals <=0.07] = 3\n",
    "scaled_vals[scaled_vals <=0.1] = 4\n",
    "scaled_vals[scaled_vals == 6] = 0\n",
    "scaled_vals=scaled_vals.astype(int)\n",
    "colors_array = color_indexer(scaled_vals)\n",
    "color_indexed0_41_500=cal_diff0_41_500\n",
    "color_indexed0_41_500['color']=colors_array[4]\n",
    "color_indexed0_31_500=cal_diff0_31_500\n",
    "color_indexed0_31_500['color']=colors_array[3]\n",
    "color_indexed0_21_500=cal_diff0_21_500\n",
    "color_indexed0_21_500['color']=colors_array[2]\n",
    "color_indexed0_11_500=cal_diff0_11_500\n",
    "color_indexed0_11_500['color']=colors_array[1]\n",
    "color_indexed0_1_500=cal_diff0_1_500\n",
    "color_indexed0_1_500['color']=colors_array[0]"
   ]
  },
  {
   "cell_type": "code",
   "execution_count": 42,
   "metadata": {},
   "outputs": [],
   "source": [
    "scaled_vals=np.array([cal_diff0_1.VELOpipeFPS ,cal_diff0_11.VELOpipeFPS,cal_diff0_21.VELOpipeFPS,cal_diff0_31.VELOpipeFPS, cal_diff0_41.VELOpipeFPS])\n",
    "scaled_vals[scaled_vals >0.095] = 5\n",
    "scaled_vals[scaled_vals <=0.01] = 6\n",
    "scaled_vals[scaled_vals <=0.025] = 1\n",
    "scaled_vals[scaled_vals <=0.05] = 2\n",
    "scaled_vals[scaled_vals <=0.075] = 3\n",
    "scaled_vals[scaled_vals <=0.095] = 4\n",
    "scaled_vals[scaled_vals == 6] = 0\n",
    "scaled_vals=scaled_vals.astype(int)\n",
    "colors_array = color_indexer(scaled_vals)\n",
    "color_indexed0_41=cal_diff0_41\n",
    "color_indexed0_41['color']=colors_array[4]\n",
    "color_indexed0_31=cal_diff0_31\n",
    "color_indexed0_31['color']=colors_array[3]\n",
    "color_indexed0_21=cal_diff0_21\n",
    "color_indexed0_21['color']=colors_array[2]\n",
    "color_indexed0_11=cal_diff0_11\n",
    "color_indexed0_11['color']=colors_array[1]\n",
    "color_indexed0_1=cal_diff0_1\n",
    "color_indexed0_1['color']=colors_array[0]\n",
    "\n",
    "\n",
    "\n",
    "scaled_vals=np.array([cal_diff0_1_500.VELOpipeFPS ,cal_diff0_11_500.VELOpipeFPS,cal_diff0_21_500.VELOpipeFPS,cal_diff0_31_500.VELOpipeFPS, cal_diff0_41_500.VELOpipeFPS])\n",
    "scaled_vals[scaled_vals >0.095] = 5\n",
    "scaled_vals[scaled_vals <=0.01] = 6\n",
    "scaled_vals[scaled_vals <=0.025] = 1\n",
    "scaled_vals[scaled_vals <=0.05] = 2\n",
    "scaled_vals[scaled_vals <=0.075] = 3\n",
    "scaled_vals[scaled_vals <=0.095] = 4\n",
    "scaled_vals[scaled_vals == 6] = 0\n",
    "scaled_vals=scaled_vals.astype(int)\n",
    "colors_array = color_indexer(scaled_vals)\n",
    "color_indexed0_41_500=cal_diff0_41_500\n",
    "color_indexed0_41_500['color']=colors_array[4]\n",
    "color_indexed0_31_500=cal_diff0_31_500\n",
    "color_indexed0_31_500['color']=colors_array[3]\n",
    "color_indexed0_21_500=cal_diff0_21_500\n",
    "color_indexed0_21_500['color']=colors_array[2]\n",
    "color_indexed0_11_500=cal_diff0_11_500\n",
    "color_indexed0_11_500['color']=colors_array[1]\n",
    "color_indexed0_1_500=cal_diff0_1_500\n",
    "color_indexed0_1_500['color']=colors_array[0]"
   ]
  },
  {
   "cell_type": "code",
   "execution_count": 43,
   "metadata": {},
   "outputs": [],
   "source": [
    "scaled_vals=np.array([cal_diff1.VELOpipeFPS ,cal_diff11.VELOpipeFPS,cal_diff21.VELOpipeFPS,cal_diff31.VELOpipeFPS, cal_diff41.VELOpipeFPS])\n",
    "scaled_vals[scaled_vals > 0.1] = 5\n",
    "scaled_vals[scaled_vals <=0.01] = 6\n",
    "scaled_vals[scaled_vals <=0.02] = 1\n",
    "scaled_vals[scaled_vals <=0.04] = 2\n",
    "scaled_vals[scaled_vals <=0.07] = 3\n",
    "scaled_vals[scaled_vals <=0.1] = 4\n",
    "scaled_vals[scaled_vals == 6] = 0\n",
    "scaled_vals=scaled_vals.astype(int)\n",
    "colors_array = color_indexer(scaled_vals)\n",
    "color_indexed41=cal_diff41\n",
    "color_indexed41['color']=colors_array[4]\n",
    "color_indexed31=cal_diff31\n",
    "color_indexed31['color']=colors_array[3]\n",
    "color_indexed21=cal_diff21\n",
    "color_indexed21['color']=colors_array[2]\n",
    "color_indexed11=cal_diff11\n",
    "color_indexed11['color']=colors_array[1]\n",
    "color_indexed1=cal_diff1\n",
    "color_indexed1['color']=colors_array[0]"
   ]
  },
  {
   "cell_type": "code",
   "execution_count": 44,
   "metadata": {},
   "outputs": [],
   "source": [
    "scaled_vals=np.array([cal_diff1_500.VELOpipeFPS ,cal_diff11_500.VELOpipeFPS,cal_diff21_500.VELOpipeFPS,cal_diff31_500.VELOpipeFPS, cal_diff41_500.VELOpipeFPS])\n",
    "scaled_vals[scaled_vals > 0.1] = 5\n",
    "scaled_vals[scaled_vals <=0.01] = 6\n",
    "scaled_vals[scaled_vals <=0.02] = 1\n",
    "scaled_vals[scaled_vals <=0.04] = 2\n",
    "scaled_vals[scaled_vals <=0.07] = 3\n",
    "scaled_vals[scaled_vals <=0.1] = 4\n",
    "scaled_vals[scaled_vals == 6] = 0\n",
    "scaled_vals=scaled_vals.astype(int)\n",
    "colors_array = color_indexer(scaled_vals)\n",
    "color_indexed41_500=cal_diff41_500\n",
    "color_indexed41_500['color']=colors_array[4]\n",
    "color_indexed31_500=cal_diff31_500\n",
    "color_indexed31_500['color']=colors_array[3]\n",
    "color_indexed21_500=cal_diff21_500\n",
    "color_indexed21_500['color']=colors_array[2]\n",
    "color_indexed11_500=cal_diff11_500\n",
    "color_indexed11_500['color']=colors_array[1]\n",
    "color_indexed1_500=cal_diff1_500\n",
    "color_indexed1_500['color']=colors_array[0]"
   ]
  },
  {
   "cell_type": "code",
   "execution_count": 45,
   "metadata": {},
   "outputs": [],
   "source": [
    "scaled_vals=np.array([cal_diff32_1.VELOpipeFPS ,cal_diff32_11.VELOpipeFPS,cal_diff32_21.VELOpipeFPS,cal_diff32_31.VELOpipeFPS, cal_diff32_41.VELOpipeFPS])\n",
    "scaled_vals[scaled_vals > 0.1] = 5\n",
    "scaled_vals[scaled_vals <=0.01] = 6\n",
    "scaled_vals[scaled_vals <=0.02] = 1\n",
    "scaled_vals[scaled_vals <=0.04] = 2\n",
    "scaled_vals[scaled_vals <=0.07] = 3\n",
    "scaled_vals[scaled_vals <=0.1] = 4\n",
    "scaled_vals[scaled_vals == 6] = 0\n",
    "scaled_vals=scaled_vals.astype(int)\n",
    "colors_array = color_indexer(scaled_vals)\n",
    "color_indexed32_41=cal_diff32_41\n",
    "color_indexed32_41['color']=colors_array[4]\n",
    "color_indexed32_31=cal_diff32_31\n",
    "color_indexed32_31['color']=colors_array[3]\n",
    "color_indexed32_21=cal_diff32_21\n",
    "color_indexed32_21['color']=colors_array[2]\n",
    "color_indexed32_11=cal_diff32_11\n",
    "color_indexed32_11['color']=colors_array[1]\n",
    "color_indexed32_1=cal_diff32_1\n",
    "color_indexed32_1['color']=colors_array[0]"
   ]
  },
  {
   "cell_type": "code",
   "execution_count": 46,
   "metadata": {},
   "outputs": [],
   "source": [
    "scaled_vals=np.array([cal_diff32_1_500.VELOpipeFPS ,cal_diff32_11_500.VELOpipeFPS,cal_diff32_21_500.VELOpipeFPS,cal_diff32_31_500.VELOpipeFPS, cal_diff32_41_500.VELOpipeFPS])\n",
    "scaled_vals[scaled_vals > 0.1] = 5\n",
    "scaled_vals[scaled_vals <=0.01] = 6\n",
    "scaled_vals[scaled_vals <=0.02] = 1\n",
    "scaled_vals[scaled_vals <=0.04] = 2\n",
    "scaled_vals[scaled_vals <=0.07] = 3\n",
    "scaled_vals[scaled_vals <=0.1] = 4\n",
    "scaled_vals[scaled_vals == 6] = 0\n",
    "scaled_vals=scaled_vals.astype(int)\n",
    "colors_array = color_indexer(scaled_vals)\n",
    "color_indexed32_41_500=cal_diff32_41_500\n",
    "color_indexed32_41_500['color']=colors_array[4]\n",
    "color_indexed32_31_500=cal_diff32_31_500\n",
    "color_indexed32_31_500['color']=colors_array[3]\n",
    "color_indexed32_21_500=cal_diff32_21_500\n",
    "color_indexed32_21_500['color']=colors_array[2]\n",
    "color_indexed32_11_500=cal_diff32_11_500\n",
    "color_indexed32_11_500['color']=colors_array[1]\n",
    "color_indexed32_1_500=cal_diff32_1_500\n",
    "color_indexed32_1_500['color']=colors_array[0]"
   ]
  },
  {
   "cell_type": "code",
   "execution_count": 47,
   "metadata": {},
   "outputs": [],
   "source": [
    "scaled_vals=np.array([cal_diff48_1.VELOpipeFPS ,cal_diff48_11.VELOpipeFPS,cal_diff48_21.VELOpipeFPS,cal_diff48_31.VELOpipeFPS, cal_diff48_41.VELOpipeFPS])\n",
    "scaled_vals[scaled_vals > 0.1] = 5\n",
    "scaled_vals[scaled_vals <=0.01] = 6\n",
    "scaled_vals[scaled_vals <=0.02] = 1\n",
    "scaled_vals[scaled_vals <=0.04] = 2\n",
    "scaled_vals[scaled_vals <=0.07] = 3\n",
    "scaled_vals[scaled_vals <=0.1] = 4\n",
    "scaled_vals[scaled_vals == 6] = 0\n",
    "scaled_vals=scaled_vals.astype(int)\n",
    "colors_array = color_indexer(scaled_vals)\n",
    "color_indexed48_41=cal_diff48_41\n",
    "color_indexed48_41['color']=colors_array[4]\n",
    "color_indexed48_31=cal_diff48_31\n",
    "color_indexed48_31['color']=colors_array[3]\n",
    "color_indexed48_21=cal_diff48_21\n",
    "color_indexed48_21['color']=colors_array[2]\n",
    "color_indexed48_11=cal_diff48_11\n",
    "color_indexed48_11['color']=colors_array[1]\n",
    "color_indexed48_1=cal_diff48_1\n",
    "color_indexed48_1['color']=colors_array[0]"
   ]
  },
  {
   "cell_type": "code",
   "execution_count": 48,
   "metadata": {},
   "outputs": [],
   "source": [
    "scaled_vals=np.array([cal_diff48_1_500.VELOpipeFPS ,cal_diff48_11_500.VELOpipeFPS,cal_diff48_21_500.VELOpipeFPS,cal_diff48_31_500.VELOpipeFPS, cal_diff48_41_500.VELOpipeFPS])\n",
    "scaled_vals[scaled_vals > 0.1] = 5\n",
    "scaled_vals[scaled_vals <=0.01] = 6\n",
    "scaled_vals[scaled_vals <=0.02] = 1\n",
    "scaled_vals[scaled_vals <=0.04] = 2\n",
    "scaled_vals[scaled_vals <=0.07] = 3\n",
    "scaled_vals[scaled_vals <=0.1] = 4\n",
    "scaled_vals[scaled_vals == 6] = 0\n",
    "scaled_vals=scaled_vals.astype(int)\n",
    "colors_array = color_indexer(scaled_vals)\n",
    "color_indexed48_41_500=cal_diff48_41_500\n",
    "color_indexed48_41_500['color']=colors_array[4]\n",
    "color_indexed48_31_500=cal_diff48_31_500\n",
    "color_indexed48_31_500['color']=colors_array[3]\n",
    "color_indexed48_21_500=cal_diff48_21_500\n",
    "color_indexed48_21_500['color']=colors_array[2]\n",
    "color_indexed48_11_500=cal_diff48_11_500\n",
    "color_indexed48_11_500['color']=colors_array[1]\n",
    "color_indexed48_1_500=cal_diff48_1_500\n",
    "color_indexed48_1_500['color']=colors_array[0]"
   ]
  },
  {
   "cell_type": "code",
   "execution_count": 49,
   "metadata": {},
   "outputs": [],
   "source": [
    "scaled_vals=np.array([cal_diff64_1_500.VELOpipeFPS ,cal_diff64_11_500.VELOpipeFPS,cal_diff64_21_500.VELOpipeFPS,cal_diff64_31_500.VELOpipeFPS, cal_diff64_41_500.VELOpipeFPS])\n",
    "scaled_vals[scaled_vals > 0.1] = 5\n",
    "scaled_vals[scaled_vals <=0.01] = 6\n",
    "scaled_vals[scaled_vals <=0.02] = 1\n",
    "scaled_vals[scaled_vals <=0.04] = 2\n",
    "scaled_vals[scaled_vals <=0.07] = 3\n",
    "scaled_vals[scaled_vals <=0.1] = 4\n",
    "scaled_vals[scaled_vals == 6] = 0\n",
    "scaled_vals=scaled_vals.astype(int)\n",
    "colors_array = color_indexer(scaled_vals)\n",
    "color_indexed64_41_500=cal_diff64_41_500\n",
    "color_indexed64_41_500['color']=colors_array[4]\n",
    "color_indexed64_31_500=cal_diff64_31_500\n",
    "color_indexed64_31_500['color']=colors_array[3]\n",
    "color_indexed64_21_500=cal_diff64_21_500\n",
    "color_indexed64_21_500['color']=colors_array[2]\n",
    "color_indexed64_11_500=cal_diff64_11_500\n",
    "color_indexed64_11_500['color']=colors_array[1]\n",
    "color_indexed64_1_500=cal_diff64_1_500\n",
    "color_indexed64_1_500['color']=colors_array[0]"
   ]
  },
  {
   "cell_type": "code",
   "execution_count": 50,
   "metadata": {},
   "outputs": [],
   "source": [
    "scaled_vals=np.array([cal_diff64_1.VELOpipeFPS ,cal_diff64_11.VELOpipeFPS,cal_diff64_21.VELOpipeFPS,cal_diff64_31.VELOpipeFPS, cal_diff64_41.VELOpipeFPS])\n",
    "scaled_vals[scaled_vals > 0.1] = 5\n",
    "scaled_vals[scaled_vals <=0.01] = 6\n",
    "scaled_vals[scaled_vals <=0.02] = 1\n",
    "scaled_vals[scaled_vals <=0.04] = 2\n",
    "scaled_vals[scaled_vals <=0.07] = 3\n",
    "scaled_vals[scaled_vals <=0.1] = 4\n",
    "scaled_vals[scaled_vals == 6] = 0\n",
    "scaled_vals=scaled_vals.astype(int)\n",
    "colors_array = color_indexer(scaled_vals)\n",
    "color_indexed64_41=cal_diff64_41\n",
    "color_indexed64_41['color']=colors_array[4]\n",
    "color_indexed64_31=cal_diff64_31\n",
    "color_indexed64_31['color']=colors_array[3]\n",
    "color_indexed64_21=cal_diff64_21\n",
    "color_indexed64_21['color']=colors_array[2]\n",
    "color_indexed64_11=cal_diff64_11\n",
    "color_indexed64_11['color']=colors_array[1]\n",
    "color_indexed64_1=cal_diff64_1\n",
    "color_indexed64_1['color']=colors_array[0]"
   ]
  },
  {
   "cell_type": "code",
   "execution_count": 51,
   "metadata": {},
   "outputs": [],
   "source": [
    "def draw_2d_flow_color(graphArr,d2plotname):\n",
    "    cntrlnd = '0BEC50B8'\n",
    "    unique_node=graphArr.FacilityToNodeName.unique()\n",
    "    u_n_2 = graphArr.FacilityFromNodeName.unique()\n",
    "    unique_node=np.append(unique_node,u_n_2)\n",
    "    unique_node=np.unique(unique_node)\n",
    "    anomalyFreeNode = toplevelpath + all_datadir + \"/LeakData_ZeroDegrees/NYU Anamoly Data_ZeroDeg_Nodes.csv\"\n",
    "    nodeArr=pd.read_csv(anomalyFreeNode)\n",
    "    nodeArr = nodeArr[nodeArr.NAME.isin(unique_node)]\n",
    "\n",
    "    G = nx.Graph()\n",
    "\n",
    "    graphArr['mid_point_names']=\"mid_point\"+graphArr.NAME\n",
    "\n",
    "    temp_arr = np.array([graphArr.NAME, graphArr.FacilityFromNodeName, graphArr.FacilityToNodeName, graphArr.mid_point_names, graphArr.mid_point_x, graphArr.mid_point_y, [0]*graphArr.NAME.size,[0]*graphArr.NAME.size,[0]*graphArr.NAME.size])\n",
    "    edges=np.array([['','',5]])\n",
    "    m=0\n",
    "    for i,j in enumerate(temp_arr[3]):\n",
    "        tmp_src=temp_arr[1][i]\n",
    "        tmp_dest=temp_arr[2][i]\n",
    "        srcs = np.where(temp_arr[1]==tmp_src)\n",
    "        dests = np.where(temp_arr[2] == tmp_src)\n",
    "        for r in srcs[0]:\n",
    "            src_node=temp_arr[3][i]\n",
    "            dest_node=temp_arr[3][r]\n",
    "            flow=temp_arr[6][i]\n",
    "            edges = np.vstack([edges, [src_node,dest_node,flow]])\n",
    "        for k in dests[0]:\n",
    "            src_node=temp_arr[3][i]\n",
    "            dest_node=temp_arr[3][k]\n",
    "            flow=temp_arr[6][i]\n",
    "            edges = np.vstack([edges, [src_node,dest_node,flow]])\n",
    "    edges=np.delete(edges,(0), axis=0)\n",
    "\n",
    "    pos_dict = defaultdict(list)\n",
    "    mid_pos_dict = defaultdict(list)\n",
    "    for i, j, k in zip(graphArr.mid_point_names,graphArr.mid_point_x,graphArr.mid_point_y):\n",
    "        mid_pos_dict[i].append(j)\n",
    "        mid_pos_dict[i].append(k)\n",
    "    \n",
    "    for i,j,k in zip(nodeArr.NAME,nodeArr.NodeXCoordinate,nodeArr.NodeYCoordinate):\n",
    "        pos_dict[i].append(j)\n",
    "        pos_dict[i].append(k)\n",
    "    pos_dict0 = dict(pos_dict)\n",
    "\n",
    "    mid_post_dict0=dict(mid_pos_dict)\n",
    "\n",
    "\n",
    "    temp_0=[0]*graphArr.NAME.size\n",
    "\n",
    "\n",
    "    node_dict0 = {val:item for val, item in zip(nodeArr.NAME,graphArr.color)}\n",
    "    edgeflow_dict0 = {val:item for val, item in zip(graphArr.mid_point_names, graphArr.color)}\n",
    "\n",
    "    d3pos_dict = defaultdict(list)\n",
    "    midpos_dict = defaultdict(list)\n",
    "\n",
    "    for d in (mid_post_dict0, edgeflow_dict0): # you can list as many input dicts as you want here\n",
    "        for key, value in d.items():\n",
    "            midpos_dict[key].append(value)\n",
    "    midpos_dict0 = dict(midpos_dict)\n",
    "\n",
    "    for d in (pos_dict0, node_dict0): # you can list as many input dicts as you want here\n",
    "        for key, value in d.items():\n",
    "            d3pos_dict[key].append(value)\n",
    "    d3pos_dict0 = dict(d3pos_dict)\n",
    "\n",
    "\n",
    "    edge_list = list(graphArr.mid_point_names)\n",
    "    node_list = list(nodeArr.NAME)\n",
    "    temp = list(pos_dict0.keys())\n",
    "    temp2 = list(mid_post_dict0.keys())\n",
    "    keys_all=np.append(temp,temp2)\n",
    "\n",
    "    G.add_nodes_from(edge_list)\n",
    "    \n",
    "    for n in edge_list:\n",
    "        G.nodes[n]['pos'] = mid_post_dict0[n]\n",
    "        G.nodes[n]['flow'] = edgeflow_dict0[n]\n",
    "    \n",
    "\n",
    "    for i in edges:\n",
    "        pdest = i[1]\n",
    "        psource = i[0]\n",
    "        flow = i[2]\n",
    "        name = i[0]\n",
    "        G.add_edge(psource, pdest,p=flow, n = name)\n",
    "\n",
    "\n",
    "    n_data = list(G.nodes(data=True))\n",
    "    p_data = list(G.edges(data=True))\n",
    "\n",
    "    edgeinfo = nx.get_node_attributes(G, 'flow')\n",
    "\n",
    "    fig_size = plt.rcParams[\"figure.figsize\"]\n",
    "    fig_size[0] = 30\n",
    "    fig_size[1] = 30\n",
    "    plt.rcParams[\"figure.figsize\"] = fig_size\n",
    "    print(\"Current size:\", fig_size)\n",
    "\n",
    "    labels = {}\n",
    "    labels['mid_point0BF5C083'] = r'$\\delta$'\n",
    "    labels['mid_point0BF5C2D7'] = r'$\\delta$'\n",
    "    lower = 0\n",
    "    upper = 5\n",
    "    \n",
    "    colors = [\"#1a1aff\", \"#00cc00\", \"#ffff00\", \"#ffa500\", \"#ff4d4d\"]\n",
    "    cmap= matplotlib.colors.ListedColormap(colors)\n",
    "    cmap.set_under(\"crimson\")\n",
    "    cmap.set_over(\"w\")\n",
    "    norm= matplotlib.colors.Normalize(vmin=lower,vmax=upper)\n",
    "\n",
    "    nodes = G.nodes()\n",
    "    ec = nx.draw_networkx_edges(G, pos = mid_post_dict0, alpha=1)\n",
    "    nc = nx.draw_networkx_nodes(G, pos = mid_post_dict0, nodelist=nodes, node_color=graphArr['color'], with_labels=False, node_size=25, cmap=cmap, vmin=lower, vmax=upper)\n",
    "    lc = nx.draw_networkx_labels(G, pos = mid_post_dict0, labels = labels, font_size=32, font_color='r')\n",
    "    \n",
    "    plt.colorbar(nc)\n",
    "    plt.axis('off')\n",
    "    #plt.savefig(d2plotname)\n",
    "    plt.show()"
   ]
  },
  {
   "cell_type": "code",
   "execution_count": 52,
   "metadata": {},
   "outputs": [],
   "source": [
    "#draw_2d_flow_color(avgcolor_indexed0_41,\"hello\")"
   ]
  },
  {
   "cell_type": "code",
   "execution_count": 53,
   "metadata": {},
   "outputs": [
    {
     "name": "stdout",
     "output_type": "stream",
     "text": [
      "/Users/kavyaub/Documents/mySubjects/ConEdison/screenshots/screenshotsPipe_32Deg/NYU Anamoly Data_32Deg_Pipes_Leak11.csv_2D_velo_deviation.png\n"
     ]
    }
   ],
   "source": [
    "d2plotname = dirpltpath+\"/\"+name32_11+\"_2D_velo_deviation.png\"\n",
    "print(d2plotname)\n",
    "#draw_2d_flow_color(color_indexed0_41,d2plotname)"
   ]
  },
  {
   "cell_type": "code",
   "execution_count": 54,
   "metadata": {},
   "outputs": [
    {
     "name": "stdout",
     "output_type": "stream",
     "text": [
      "/Users/kavyaub/Documents/mySubjects/ConEdison/screenshots/screenshotsPipe_32Deg/NYU Anamoly Data_32Deg_Pipes_Leak31.csv_2D_velo_deviation.png\n"
     ]
    }
   ],
   "source": [
    "d2plotname = dirpltpath+\"/\"+name32_31+\"_2D_velo_deviation.png\"\n",
    "print(d2plotname)\n",
    "#draw_2d_flow_color(color_indexed32_31,d2plotname)"
   ]
  },
  {
   "cell_type": "code",
   "execution_count": 55,
   "metadata": {},
   "outputs": [
    {
     "name": "stdout",
     "output_type": "stream",
     "text": [
      "/Users/kavyaub/Documents/mySubjects/ConEdison/screenshots/screenshotsPipe_32Deg/NYU Anamoly Data_32Deg_Pipes_Leak21.csv_2D_velo_deviation.png\n"
     ]
    }
   ],
   "source": [
    "d2plotname = dirpltpath+\"/\"+name32_21+\"_2D_velo_deviation.png\"\n",
    "print(d2plotname)\n",
    "#draw_2d_flow_color(color_indexed32_21,d2plotname)"
   ]
  },
  {
   "cell_type": "code",
   "execution_count": 56,
   "metadata": {},
   "outputs": [
    {
     "name": "stdout",
     "output_type": "stream",
     "text": [
      "/Users/kavyaub/Documents/mySubjects/ConEdison/screenshots/screenshotsPipe_32Deg/NYU Anamoly Data_32Deg_Pipes_Leak41.csv_2D_velo_deviation.png\n"
     ]
    }
   ],
   "source": [
    "d2plotname = dirpltpath+\"/\"+name32_41+\"_2D_velo_deviation.png\"\n",
    "print(d2plotname)\n",
    "#draw_2d_flow_color(color_indexed0_41,d2plotname)"
   ]
  },
  {
   "cell_type": "code",
   "execution_count": 57,
   "metadata": {},
   "outputs": [
    {
     "name": "stdout",
     "output_type": "stream",
     "text": [
      "/Users/kavyaub/Documents/mySubjects/ConEdison/screenshots/screenshotsPipe_32Deg/Data_ZeroDeg_Pipes_Leak1_2D_velo_deviation.png\n"
     ]
    }
   ],
   "source": [
    "d2plotname = dirpltpath+\"/\"+\"Data_ZeroDeg_Pipes_Leak1_2D_velo_deviation.png\"\n",
    "print(d2plotname)\n",
    "#draw_2d_flow_color(color_indexed32_1,d2plotname)"
   ]
  },
  {
   "cell_type": "code",
   "execution_count": 58,
   "metadata": {},
   "outputs": [],
   "source": [
    "from mpl_toolkits.mplot3d import Axes3D\n",
    "\n",
    "def draw_3d_color(graphArr,d3plotname):\n",
    "    cntrlnd = '0BEC50B8'\n",
    "    unique_node=graphArr.FacilityToNodeName.unique()\n",
    "    u_n_2 = graphArr.FacilityFromNodeName.unique()\n",
    "    unique_node=np.append(unique_node,u_n_2)\n",
    "    unique_node=np.unique(unique_node)\n",
    "    anomalyFreeNode = toplevelpath + all_datadir + \"/LeakData_ZeroDegrees/NYU Anamoly Data_ZeroDeg_Nodes.csv\"\n",
    "    nodeArr=pd.read_csv(anomalyFreeNode)\n",
    "    nodeArr = nodeArr[nodeArr.NAME.isin(unique_node)]\n",
    "\n",
    "    G = nx.Graph()\n",
    "\n",
    "    graphArr['mid_point_names']=\"mid_point\"+graphArr.NAME\n",
    "\n",
    "\n",
    "\n",
    "    temp_arr = np.array([graphArr.NAME, graphArr.FacilityFromNodeName, graphArr.FacilityToNodeName, graphArr.mid_point_names, graphArr.mid_point_x, graphArr.mid_point_y, [0]*graphArr.NAME.size,[0]*graphArr.NAME.size,[0]*graphArr.NAME.size])\n",
    "    edges=np.array([['','']])\n",
    "    m=0\n",
    "    for i,j in enumerate(temp_arr[3]):\n",
    "        tmp_src=temp_arr[1][i]\n",
    "        tmp_dest=temp_arr[2][i]\n",
    "        srcs = np.where(temp_arr[1]==tmp_src)\n",
    "        dests = np.where(temp_arr[2] == tmp_src)\n",
    "        for r in srcs[0]:\n",
    "            src_node=temp_arr[3][i]\n",
    "            dest_node=temp_arr[3][r]\n",
    "            edges = np.vstack([edges, [src_node,dest_node]])\n",
    "        for k in dests[0]:\n",
    "            src_node=temp_arr[3][i]\n",
    "            dest_node=temp_arr[3][k]\n",
    "            edges = np.vstack([edges, [src_node,dest_node]])\n",
    "    edges=np.delete(edges,(0), axis=0)\n",
    "\n",
    "    pos_dict = defaultdict(list)\n",
    "    mid_pos_dict = defaultdict(list)\n",
    "    for i, j, k in zip(graphArr.mid_point_names,graphArr.mid_point_x,graphArr.mid_point_y):\n",
    "        mid_pos_dict[i].append(j)\n",
    "        mid_pos_dict[i].append(k)\n",
    "    \n",
    "    for i,j,k in zip(nodeArr.NAME,nodeArr.NodeXCoordinate,nodeArr.NodeYCoordinate):\n",
    "        pos_dict[i].append(j)\n",
    "        pos_dict[i].append(k)\n",
    "    pos_dict0 = dict(pos_dict)\n",
    "\n",
    "    mid_post_dict0=dict(mid_pos_dict)\n",
    "\n",
    "\n",
    "    temp_0=[0]*graphArr.NAME.size\n",
    "\n",
    "\n",
    "    node_dict0 = {val:item for val, item in zip(nodeArr.NAME,graphArr.color)}\n",
    "    edgeflow_dict0 = {val:item for val, item in zip(graphArr.mid_point_names, graphArr.color)}\n",
    "\n",
    "    d3pos_dict = defaultdict(list)\n",
    "    midpos_dict = defaultdict(list)\n",
    "\n",
    "    for d in (mid_post_dict0, edgeflow_dict0): # you can list as many input dicts as you want here\n",
    "        for key, value in d.items():\n",
    "            midpos_dict[key].append(value)\n",
    "    midpos_dict0 = dict(midpos_dict)\n",
    "\n",
    "    for d in (pos_dict0, node_dict0): # you can list as many input dicts as you want here\n",
    "        for key, value in d.items():\n",
    "            d3pos_dict[key].append(value)\n",
    "    d3pos_dict0 = dict(d3pos_dict)\n",
    "\n",
    "\n",
    "    edge_list = list(graphArr.mid_point_names)\n",
    "    node_list = list(nodeArr.NAME)\n",
    "    temp = list(pos_dict0.keys())\n",
    "    temp2 = list(mid_post_dict0.keys())\n",
    "    keys_all=np.append(temp,temp2)\n",
    "\n",
    "    G.add_nodes_from(keys_all)\n",
    "\n",
    "    for n in node_list:\n",
    "        G.nodes[n]['pos'] = pos_dict0[n]\n",
    "        G.nodes[n]['flow'] = 0\n",
    "    \n",
    "    for n in edge_list:\n",
    "        G.nodes[n]['pos'] = mid_post_dict0[n]\n",
    "        G.nodes[n]['flow'] = edgeflow_dict0[n]\n",
    "    \n",
    "\n",
    "    for i in edges:\n",
    "        pdest = i[1]\n",
    "        psource = i[0]\n",
    "        name = i[0]\n",
    "        G.add_edge(psource, pdest, n = name)\n",
    "\n",
    "\n",
    "    def network_plot_3D(G, angle, save=True):\n",
    "    \n",
    "        lower = 0\n",
    "        upper = 5\n",
    "        #tp_arr = (graphArr['VELOpipeFPS']-lower)/(upper-lower)\n",
    "        #tp2 = [float(i) for i in tp_arr]\n",
    "        \n",
    "        colors = [\"#1a1aff\", \"#00cc00\", \"#ffff00\", \"#ffa500\", \"#ff4d4d\"]\n",
    "        #cmap= matplotlib.colors.ListedColormap(colors)\n",
    "        #cmap.set_under(\"crimson\")\n",
    "        #cmap.set_over(\"w\")\n",
    "        #norm= matplotlib.colors.Normalize(vmin=lower,vmax=upper)\n",
    "        #mapper = matplotlib.cm.ScalarMappable(norm=norm, cmap=cmap)\n",
    "        #cc = cmap(tp2)\n",
    "\n",
    "\n",
    "        # 3D network plot\n",
    "        with plt.style.context(('ggplot')):\n",
    "\n",
    "            fig = plt.figure(figsize=(30,30))\n",
    "            ax = Axes3D(fig)\n",
    "            ax.set_xlabel('x-coordinates',fontsize=30)\n",
    "            ax.set_ylabel('y-coordinates',fontsize=30)\n",
    "            ax.set_zlabel('Flow Deviation', fontsize=30)\n",
    "            ax.set_zlim(lower,upper)\n",
    "            \n",
    "            ctr=0\n",
    "            for key, value in midpos_dict0.items():\n",
    "                xi = value[0][0]\n",
    "                yi = value[0][1]\n",
    "                zi = value[1]\n",
    "\n",
    "                p = ax.scatter(xi, yi, zi, c=colors[zi], alpha=0.7, s=80,cmap=colors)\n",
    "                ctr=ctr+1\n",
    "            d3pos_dict0.update(midpos_dict0)\n",
    "\n",
    "        \n",
    "            for i in edges:\n",
    "                x = np.array((d3pos_dict0[i[0]][0][0],d3pos_dict0[i[1]][0][0] ))\n",
    "                y = np.array((d3pos_dict0[i[0]][0][1], d3pos_dict0[i[1]][0][1]))\n",
    "                z = np.array((d3pos_dict0[i[0]][1], d3pos_dict0[i[1]][1]))\n",
    "\n",
    "                ax.plot(x, y, z, c='gray',alpha=0.5)\n",
    "            #fig.colorbar(p)\n",
    "\n",
    "\n",
    "        # Set the initial view\n",
    "        angleVerticle = 30\n",
    "        ax.view_init(angleVerticle, angle)\n",
    "        ax.zaxis.set_tick_params(labelsize='22',pad=17)\n",
    "        ax.zaxis.labelpad = 40\n",
    "        ax.xaxis.labelpad = 20\n",
    "        ax.yaxis.labelpad = 20\n",
    "        \n",
    "\n",
    "        \n",
    "        #plt.savefig(d3plotname)\n",
    "        plt.show()\n",
    "\n",
    "        return\n",
    "\n",
    "    network_plot_3D(G, 60)"
   ]
  },
  {
   "cell_type": "code",
   "execution_count": 59,
   "metadata": {},
   "outputs": [
    {
     "name": "stdout",
     "output_type": "stream",
     "text": [
      "/Users/kavyaub/Documents/mySubjects/ConEdison/screenshots/screenshotsPipe_32Deg/NYU Anamoly Data_32Deg_Pipes_Leak11.csv_3D_velo_deviation.png\n"
     ]
    }
   ],
   "source": [
    "d3plotname = dirpltpath+\"/\"+name32_11+\"_3D_velo_deviation.png\"\n",
    "print(d3plotname)\n",
    "#draw_3d_color(color_indexed32_11,d3plotname)"
   ]
  },
  {
   "cell_type": "code",
   "execution_count": 60,
   "metadata": {},
   "outputs": [
    {
     "name": "stdout",
     "output_type": "stream",
     "text": [
      "/Users/kavyaub/Documents/mySubjects/ConEdison/screenshots/screenshotsPipe_32Deg/NYU Anamoly Data_32Deg_Pipes_Leak21.csv_3D_velo_deviation.png\n"
     ]
    }
   ],
   "source": [
    "d3plotname = dirpltpath+\"/\"+name32_21+\"_3D_velo_deviation.png\"\n",
    "print(d3plotname)\n",
    "#draw_3d_color(color_indexed32_21,d3plotname)"
   ]
  },
  {
   "cell_type": "code",
   "execution_count": 61,
   "metadata": {},
   "outputs": [
    {
     "name": "stdout",
     "output_type": "stream",
     "text": [
      "/Users/kavyaub/Documents/mySubjects/ConEdison/screenshots/screenshotsPipe_32Deg/NYU Anamoly Data_32Deg_Pipes_Leak31.csv_3D_velo_deviation.png\n"
     ]
    }
   ],
   "source": [
    "d3plotname = dirpltpath+\"/\"+name32_31+\"_3D_velo_deviation.png\"\n",
    "print(d3plotname)\n",
    "#draw_3d_color(color_indexed32_31,d3plotname)"
   ]
  },
  {
   "cell_type": "code",
   "execution_count": 62,
   "metadata": {},
   "outputs": [
    {
     "name": "stdout",
     "output_type": "stream",
     "text": [
      "/Users/kavyaub/Documents/mySubjects/ConEdison/screenshots/screenshotsPipe_32Deg/NYU Anamoly Data_32Deg_Pipes_Leak41.csv_3D_velo_deviation.png\n"
     ]
    }
   ],
   "source": [
    "d3plotname = dirpltpath+\"/\"+name32_41+\"_3D_velo_deviation.png\"\n",
    "print(d3plotname)\n",
    "#draw_3d_color(color_indexed32_41,d3plotname)"
   ]
  },
  {
   "cell_type": "code",
   "execution_count": 63,
   "metadata": {},
   "outputs": [
    {
     "name": "stdout",
     "output_type": "stream",
     "text": [
      "/Users/kavyaub/Documents/mySubjects/ConEdison/screenshots/screenshotsPipe_32Deg/Data_ZeroDeg_Pipes_Leak1_3D_velo_deviation.png\n"
     ]
    }
   ],
   "source": [
    "d3plotname = dirpltpath+\"/\"+\"Data_ZeroDeg_Pipes_Leak1_3D_velo_deviation.png\"\n",
    "print(d3plotname)\n",
    "#draw_3d_color(color_indexed32_1,d3plotname)"
   ]
  },
  {
   "cell_type": "code",
   "execution_count": 64,
   "metadata": {},
   "outputs": [
    {
     "data": {
      "text/plain": [
       "0.3388456203725569"
      ]
     },
     "execution_count": 64,
     "metadata": {},
     "output_type": "execute_result"
    }
   ],
   "source": [
    "max(res64_41.VELOpipeFPS)"
   ]
  },
  {
   "cell_type": "code",
   "execution_count": 65,
   "metadata": {},
   "outputs": [],
   "source": [
    "def save_data_file(temp):\n",
    "    if temp == 16:\n",
    "        arr1=color_indexed1\n",
    "        arr11=color_indexed11\n",
    "        arr21=color_indexed21\n",
    "        arr31=color_indexed31\n",
    "        arr41=color_indexed41\n",
    "    elif temp==0:\n",
    "        arr1=color_indexed0_1\n",
    "        arr11=color_indexed0_11\n",
    "        arr21=color_indexed0_21\n",
    "        arr31=color_indexed0_31\n",
    "        arr41=color_indexed0_41\n",
    "    elif temp==32:\n",
    "        arr1=color_indexed32_1\n",
    "        arr11=color_indexed32_11\n",
    "        arr21=color_indexed32_21\n",
    "        arr31=color_indexed32_31\n",
    "        arr41=color_indexed32_41\n",
    "    elif temp==48:\n",
    "        arr1=color_indexed48_1\n",
    "        arr11=color_indexed48_11\n",
    "        arr21=color_indexed48_21\n",
    "        arr31=color_indexed48_31\n",
    "        arr41=color_indexed48_41\n",
    "    elif temp==64:\n",
    "        arr1=color_indexed64_1\n",
    "        arr11=color_indexed64_11\n",
    "        arr21=color_indexed64_21\n",
    "        arr31=color_indexed64_31\n",
    "        arr41=color_indexed64_41\n",
    "    day = np.hstack([[0]*arr1.NAME.size,[1]*arr1.NAME.size,[2]*arr1.NAME.size,[3]*arr1.NAME.size,[4]*arr1.NAME.size])\n",
    "    p = np.hstack([arr1.FacilityFlowAbsolute,arr11.FacilityFlowAbsolute,arr21.FacilityFlowAbsolute,arr31.FacilityFlowAbsolute,arr41.FacilityFlowAbsolute])\n",
    "    pd = np.hstack([arr1.VELOpipeFPS,arr11.VELOpipeFPS,arr21.VELOpipeFPS,arr31.VELOpipeFPS,arr41.VELOpipeFPS])\n",
    "    names = np.hstack([arr1.NAME,arr1.NAME,arr1.NAME,arr1.NAME,arr1.NAME])\n",
    "    temps=np.hstack([[temp]*arr1.NAME.size,[temp]*arr1.NAME.size,[temp]*arr1.NAME.size,[temp]*arr1.NAME.size,[temp]*arr1.NAME.size])\n",
    "    color=np.hstack([arr1.color,arr11.color,arr21.color,arr31.color,arr41.color])\n",
    "    final_file = np.vstack([names.T,p.T,pd.T,temps.T,color.T,day.T])\n",
    "\n",
    "    ff = np.vstack([p,pd,color,day])\n",
    "    np.savetxt(\"./data/pipes/full/vel_\"+str(temp)+\".csv\",ff,delimiter=\",\",fmt='%s')\n",
    "    \n",
    "    labels = np.hstack([[0]*arr1.NAME.size,[0]*arr1.NAME.size,[0]*arr1.NAME.size,[0]*arr1.NAME.size,[0]*arr1.NAME.size])\n",
    "    labels[np.where(final_file[4]>=1)]=1\n",
    "    targets=labels\n",
    "    \n",
    "    np.savetxt(\"./data/pipes/full/target_\"+str(temp)+\".txt\", targets.T,fmt='%s')\n",
    "    \n",
    "    return final_file, targets\n"
   ]
  },
  {
   "cell_type": "code",
   "execution_count": 66,
   "metadata": {},
   "outputs": [],
   "source": [
    "def save_data_file_500(temp):\n",
    "    if temp == 16:\n",
    "        arr1=color_indexed1_500\n",
    "        arr11=color_indexed11_500\n",
    "        arr21=color_indexed21_500\n",
    "        arr31=color_indexed31_500\n",
    "        arr41=color_indexed41_500\n",
    "    elif temp==0:\n",
    "        arr1=color_indexed0_1_500\n",
    "        arr11=color_indexed0_11_500\n",
    "        arr21=color_indexed0_21_500\n",
    "        arr31=color_indexed0_31_500\n",
    "        arr41=color_indexed0_41_500\n",
    "    elif temp==32:\n",
    "        arr1=color_indexed32_1_500\n",
    "        arr11=color_indexed32_11_500\n",
    "        arr21=color_indexed32_21_500\n",
    "        arr31=color_indexed32_31_500\n",
    "        arr41=color_indexed32_41_500\n",
    "    elif temp==48:\n",
    "        arr1=color_indexed48_1_500\n",
    "        arr11=color_indexed48_11_500\n",
    "        arr21=color_indexed48_21_500\n",
    "        arr31=color_indexed48_31_500\n",
    "        arr41=color_indexed48_41_500\n",
    "    elif temp==64:\n",
    "        arr1=color_indexed64_1_500\n",
    "        arr11=color_indexed64_11_500\n",
    "        arr21=color_indexed64_21_500\n",
    "        arr31=color_indexed64_31_500\n",
    "        arr41=color_indexed64_41_500\n",
    "    day = np.hstack([[0]*arr1.NAME.size,[1]*arr1.NAME.size,[2]*arr1.NAME.size,[3]*arr1.NAME.size,[4]*arr1.NAME.size])\n",
    "    p = np.hstack([arr1.FacilityFlowAbsolute,arr11.FacilityFlowAbsolute,arr21.FacilityFlowAbsolute,arr31.FacilityFlowAbsolute,arr41.FacilityFlowAbsolute])\n",
    "    pd = np.hstack([arr1.VELOpipeFPS,arr11.VELOpipeFPS,arr21.VELOpipeFPS,arr31.VELOpipeFPS,arr41.VELOpipeFPS])\n",
    "    names = np.hstack([arr1.NAME,arr1.NAME,arr1.NAME,arr1.NAME,arr1.NAME])\n",
    "    temps=np.hstack([[temp]*arr1.NAME.size,[temp]*arr1.NAME.size,[temp]*arr1.NAME.size,[temp]*arr1.NAME.size,[temp]*arr1.NAME.size])\n",
    "    color=np.hstack([arr1.color,arr11.color,arr21.color,arr31.color,arr41.color])\n",
    "\n",
    "    final_file = np.vstack([names.T,p.T,pd.T,temps.T,color.T,day.T])\n",
    "    ff = np.vstack([p,pd,day])\n",
    "    #np.savetxt(\"data_pipes_vel\"+str(temp)+\".txt\", final_file.T,fmt='%s')\n",
    "    #np.savetxt(\"data_pipes_vel_ind_\"+str(temp)+\".txt\", final_file[2],fmt='%s')\n",
    "    #np.savetxt(\"./data/pipes/data_pipes_vel_500_\"+str(temp)+\".csv\",ff,delimiter=\",\",fmt='%s')\n",
    "\n",
    "    \n",
    "    labels = np.hstack([[0]*arr1.NAME.size,[0]*arr1.NAME.size,[0]*arr1.NAME.size,[0]*arr1.NAME.size,[0]*arr1.NAME.size])\n",
    "    labels[np.where(final_file[4]>=1)]=1\n",
    "    targets=labels\n",
    "    \n",
    "    #np.savetxt(\"target_nodes\"+str(temp)+\".txt\", targets.T,fmt='%s')\n",
    "    #np.savetxt(\"./data/pipes/target_pipes_500_lab4_\"+str(temp)+\".csv\",targets,delimiter=\",\",fmt='%s')\n",
    "    \n",
    "    return final_file, targets\n",
    "\n"
   ]
  },
  {
   "cell_type": "code",
   "execution_count": 67,
   "metadata": {},
   "outputs": [],
   "source": [
    "final_file_0_500,target_0_500 = save_data_file_500(0)\n",
    "#final_file_16_500,target_16_500 = save_data_file_500(16)\n",
    "#final_file_32_500,target_32_500= save_data_file_500(32)\n",
    "#final_file_48_500,target_48_500 = save_data_file_500(48)\n",
    "#final_file_64_500,target_64_500 = save_data_file_500(64)"
   ]
  },
  {
   "cell_type": "code",
   "execution_count": 68,
   "metadata": {},
   "outputs": [],
   "source": [
    "#Code to transpose input file for ANN\n",
    "#pd.read_csv(\"./data/pipes/data_pipes_vel_500_64.csv\", header=None).T.to_csv(\"./data/pipes/data_pipes_vel_500_64.csv\", header=False, index=False)\n",
    "#final_file_0_500[2]"
   ]
  },
  {
   "cell_type": "code",
   "execution_count": 69,
   "metadata": {},
   "outputs": [],
   "source": [
    "import numpy as np\n",
    "import tensorflow as tf\n",
    "from sklearn.model_selection import train_test_split\n",
    "from sklearn import svm\n"
   ]
  },
  {
   "cell_type": "code",
   "execution_count": 70,
   "metadata": {},
   "outputs": [],
   "source": [
    "final_file_0,target_0 = save_data_file(0)\n",
    "#final_file_16,target_16 = save_data_file(16)\n",
    "#final_file_32,target_32= save_data_file(32)\n",
    "#final_file_48,target_48 = save_data_file(48)\n",
    "#final_file_64,target_64 = save_data_file(64)\n",
    "\n",
    "label1_values = []\n",
    "label2_values = []\n",
    "label3_values = []\n",
    "label4_values = []\n",
    "\n",
    "for i in range(0,len(final_file_0_500[4])):\n",
    "    if final_file_0_500[4][i]==1:\n",
    "        label1_values.append(final_file_0_500.T[i])\n",
    "    elif final_file_0_500[4][i]==2:\n",
    "        label2_values.append(final_file_0_500.T[i])\n",
    "    elif final_file_0_500[4][i]==3:\n",
    "        label3_values.append(final_file_0_500.T[i])\n",
    "    elif final_file_0_500[4][i]==4:\n",
    "        label4_values.append(final_file_0_500.T[i])\n",
    "    else:\n",
    "        label1_values.append(final_file_0_500.T[i])\n",
    "        label2_values.append(final_file_0_500.T[i])\n",
    "        label3_values.append(final_file_0_500.T[i])\n",
    "        label4_values.append(final_file_0_500.T[i])\n",
    "label1 = np.vstack(label1_values).T\n",
    "label2 = np.vstack(label2_values).T\n",
    "label3 = np.vstack(label3_values).T\n",
    "label4 = np.vstack(label4_values).T\n",
    "\n",
    "label2[4][label2[4]==2]=1\n",
    "label3[4][label3[4]==3]=1\n",
    "label4[4][label4[4]==4]=1"
   ]
  },
  {
   "cell_type": "code",
   "execution_count": 71,
   "metadata": {},
   "outputs": [
    {
     "data": {
      "text/plain": [
       "array([0, 1], dtype=object)"
      ]
     },
     "execution_count": 71,
     "metadata": {},
     "output_type": "execute_result"
    }
   ],
   "source": [
    "#consolidated_file = np.concatenate((final_file_0,final_file_16,final_file_32,final_file_48,final_file_64),axis=1)\n",
    "#consolidated_target = np.concatenate((target_0,target_16,target_32,target_48,target_64))\n",
    "X=np.array([label1[2],label1[5]])\n",
    "y=label1[4]\n",
    "\n",
    "np.savetxt(\"./data/pipes/vel_0_label1.csv\",X.T,delimiter=\",\",fmt='%s')\n",
    "np.savetxt(\"./data/pipes/target_0label1.csv\",y,delimiter=\",\",fmt='%s')\n",
    "X=np.array([label2[2],label2[5]])\n",
    "y=label2[4]\n",
    "\n",
    "np.savetxt(\"./data/pipes/vel_0_label2.csv\",X.T,delimiter=\",\",fmt='%s')\n",
    "np.savetxt(\"./data/pipes/target_0label2.csv\",y,delimiter=\",\",fmt='%s')\n",
    "X=np.array([label3[2],label3[5]])\n",
    "y=label3[4]\n",
    "np.savetxt(\"./data/pipes/vel_0_label3.csv\",X.T,delimiter=\",\",fmt='%s')\n",
    "np.savetxt(\"./data/pipes/target_0label3.csv\",y,delimiter=\",\",fmt='%s')\n",
    "X=np.array([label4[2],label4[5]])\n",
    "y=label4[4]\n",
    "np.savetxt(\"./data/pipes/vel_0_label4.csv\",X.T,delimiter=\",\",fmt='%s')\n",
    "np.savetxt(\"./data/pipes/target_0label4.csv\",y,delimiter=\",\",fmt='%s')\n",
    "\n",
    "\n",
    "label=final_file_0_500[4]\n",
    "label[label==2]=0\n",
    "label[label==3]=0\n",
    "label[label==4]=0\n",
    "np.unique(label)\n",
    "\n",
    "label_pred=final_file_0[4]\n",
    "label_pred[label_pred==2]=0\n",
    "label_pred[label_pred==3]=0\n",
    "label_pred[label_pred==4]=0\n",
    "np.unique(label_pred)"
   ]
  },
  {
   "cell_type": "code",
   "execution_count": 74,
   "metadata": {},
   "outputs": [
    {
     "data": {
      "text/plain": [
       "(array([0, 1], dtype=object), array([745, 134]))"
      ]
     },
     "execution_count": 74,
     "metadata": {},
     "output_type": "execute_result"
    }
   ],
   "source": [
    "np.unique(final_file_0_500[4],return_counts=True)\n",
    "np.unique(label1[4],return_counts=True)"
   ]
  },
  {
   "cell_type": "code",
   "execution_count": 75,
   "metadata": {
    "collapsed": true
   },
   "outputs": [
    {
     "ename": "AttributeError",
     "evalue": "module 'tensorflow' has no attribute 'Session'",
     "output_type": "error",
     "traceback": [
      "\u001b[0;31m---------------------------------------------------------------------------\u001b[0m",
      "\u001b[0;31mAttributeError\u001b[0m                            Traceback (most recent call last)",
      "\u001b[0;32m<ipython-input-75-5335143e62de>\u001b[0m in \u001b[0;36m<module>\u001b[0;34m\u001b[0m\n\u001b[1;32m      3\u001b[0m \u001b[0;34m\u001b[0m\u001b[0m\n\u001b[1;32m      4\u001b[0m \u001b[0;34m\u001b[0m\u001b[0m\n\u001b[0;32m----> 5\u001b[0;31m \u001b[0msess\u001b[0m\u001b[0;34m=\u001b[0m\u001b[0mtf\u001b[0m\u001b[0;34m.\u001b[0m\u001b[0mSession\u001b[0m\u001b[0;34m(\u001b[0m\u001b[0;34m)\u001b[0m\u001b[0;34m\u001b[0m\u001b[0;34m\u001b[0m\u001b[0m\n\u001b[0m\u001b[1;32m      6\u001b[0m \u001b[0mX\u001b[0m\u001b[0;34m=\u001b[0m\u001b[0mnp\u001b[0m\u001b[0;34m.\u001b[0m\u001b[0marray\u001b[0m\u001b[0;34m(\u001b[0m\u001b[0;34m[\u001b[0m\u001b[0mfinal_file_0_500\u001b[0m\u001b[0;34m[\u001b[0m\u001b[0;36m2\u001b[0m\u001b[0;34m]\u001b[0m\u001b[0;34m,\u001b[0m\u001b[0mfinal_file_0_500\u001b[0m\u001b[0;34m[\u001b[0m\u001b[0;36m5\u001b[0m\u001b[0;34m]\u001b[0m\u001b[0;34m]\u001b[0m\u001b[0;34m)\u001b[0m\u001b[0;34m\u001b[0m\u001b[0;34m\u001b[0m\u001b[0m\n\u001b[1;32m      7\u001b[0m \u001b[0mX\u001b[0m\u001b[0;34m=\u001b[0m\u001b[0mX\u001b[0m\u001b[0;34m.\u001b[0m\u001b[0mT\u001b[0m\u001b[0;34m\u001b[0m\u001b[0;34m\u001b[0m\u001b[0m\n",
      "\u001b[0;31mAttributeError\u001b[0m: module 'tensorflow' has no attribute 'Session'"
     ]
    }
   ],
   "source": [
    "from imblearn.over_sampling import RandomOverSampler\n",
    "from imblearn.under_sampling import RandomUnderSampler\n",
    "\n",
    "\n",
    "sess=tf.Session()\n",
    "X=np.array([final_file_0_500[2],final_file_0_500[5]])\n",
    "X=X.T\n",
    "\n",
    "y=label\n",
    "y = y.astype('int')\n",
    "\n",
    "ros = RandomUnderSampler(random_state=42)\n",
    "\n",
    "X_res, y_res = ros.fit_resample(X, y)\n",
    "\n",
    "X_train, X_test, y_train, y_test = train_test_split(X, y, test_size=0.20, random_state=42)\n",
    "\n",
    "y_train=y_train.astype('int')\n",
    "y_test=y_test.astype('int')\n",
    "y = y.astype('int')\n",
    "print(X_train.shape)\n",
    "np.unique(y, return_counts=True)"
   ]
  },
  {
   "cell_type": "code",
   "execution_count": null,
   "metadata": {},
   "outputs": [],
   "source": [
    "svc1 = svm.SVC(probability=False,  kernel=\"linear\", C=10, gamma=.0073,verbose=10)\n",
    "svc1.fit(X_train,y_train)"
   ]
  },
  {
   "cell_type": "code",
   "execution_count": null,
   "metadata": {},
   "outputs": [],
   "source": [
    "np.unique(y_train,return_counts=True)"
   ]
  },
  {
   "cell_type": "code",
   "execution_count": null,
   "metadata": {},
   "outputs": [],
   "source": [
    "yhat_ts = svc1.predict(X_test)"
   ]
  },
  {
   "cell_type": "code",
   "execution_count": null,
   "metadata": {
    "scrolled": true
   },
   "outputs": [],
   "source": [
    "acc = np.mean(y_test == yhat_ts)\n",
    "acc"
   ]
  },
  {
   "cell_type": "code",
   "execution_count": null,
   "metadata": {},
   "outputs": [],
   "source": [
    "validation_set = np.array([final_file_0[2],final_file_0[5]])\n",
    "yhat_ts_full = svc1.predict(validation_set.T)\n",
    "label_pred=label_pred.astype('int')\n",
    "acc = np.mean(label_pred == yhat_ts_full)\n",
    "acc"
   ]
  },
  {
   "cell_type": "code",
   "execution_count": null,
   "metadata": {},
   "outputs": [],
   "source": []
  },
  {
   "cell_type": "code",
   "execution_count": null,
   "metadata": {},
   "outputs": [],
   "source": [
    "S = svc1.support_vectors_\n",
    "np.unique(y_test,return_counts=True)"
   ]
  },
  {
   "cell_type": "code",
   "execution_count": null,
   "metadata": {},
   "outputs": [],
   "source": [
    "\n",
    "from sklearn.metrics import confusion_matrix\n",
    "C = confusion_matrix(label_pred,yhat_ts_full)\n",
    "\n",
    "# Normalize the confusion matrix\n",
    "Csum = np.sum(C,1)\n",
    "C = C / Csum[None,:]\n",
    "\n",
    "# Print the confusion matrix\n",
    "print(np.array_str(C, precision=3, suppress_small=True))\n",
    "plt.imshow(C, interpolation='none')\n",
    "plt.colorbar()"
   ]
  },
  {
   "cell_type": "code",
   "execution_count": null,
   "metadata": {},
   "outputs": [],
   "source": []
  },
  {
   "cell_type": "code",
   "execution_count": null,
   "metadata": {},
   "outputs": [],
   "source": [
    "from sklearn import linear_model\n",
    "logreg = linear_model.LogisticRegression(verbose=10, solver='lbfgs',\\\n",
    "                                         multi_class='multinomial',max_iter=1000)\n",
    "logreg.fit(X_train,y_train)"
   ]
  },
  {
   "cell_type": "code",
   "execution_count": null,
   "metadata": {},
   "outputs": [],
   "source": [
    "yhat = logreg.predict(X_test)\n",
    "acc1 = np.mean(yhat == y_test)\n",
    "acc1"
   ]
  },
  {
   "cell_type": "code",
   "execution_count": null,
   "metadata": {},
   "outputs": [],
   "source": [
    "#C1 = confusion_matrix(y_test,yhat_ts)\n",
    "\n",
    "#print(np.array_str(C1, precision=3, suppress_small=True))\n"
   ]
  },
  {
   "cell_type": "code",
   "execution_count": null,
   "metadata": {},
   "outputs": [],
   "source": [
    "X_multi=np.array([final_file_0_500[2],final_file_0_500[5]])\n",
    "X_multi=X_multi.T\n",
    "\n",
    "y_multi = final_file_0_500[4]\n",
    "y_multi=y_multi.astype('int') \n",
    "\n",
    "ros = RandomOverSampler(random_state=42)\n",
    "\n",
    "X_res, y_res = ros.fit_resample(X_multi, y_multi)\n",
    "\n",
    "Xm_train, Xm_test, ym_train, ym_test = train_test_split(X_multi, y_multi, test_size=0.20, random_state=42)\n",
    "\n",
    "np.unique(y_multi, return_counts=True)"
   ]
  },
  {
   "cell_type": "code",
   "execution_count": null,
   "metadata": {},
   "outputs": [],
   "source": [
    "np.savetxt(\"./data/pipes/vel_0.csv\",X_multi,delimiter=\",\",fmt='%s')\n",
    "np.savetxt(\"./data/pipes/target_0.csv\",y_multi,delimiter=\",\",fmt='%s')"
   ]
  },
  {
   "cell_type": "code",
   "execution_count": null,
   "metadata": {},
   "outputs": [],
   "source": [
    "clf = svm.SVC(decision_function_shape='linear',kernel='linear', C=20, gamma=0.073)"
   ]
  },
  {
   "cell_type": "code",
   "execution_count": null,
   "metadata": {},
   "outputs": [],
   "source": [
    "clf.fit(Xm_train, ym_train)"
   ]
  },
  {
   "cell_type": "code",
   "execution_count": null,
   "metadata": {},
   "outputs": [],
   "source": [
    "ymhat = clf.predict(Xm_test)\n",
    "acc1 = np.mean(ymhat == ym_test)\n",
    "acc1"
   ]
  },
  {
   "cell_type": "code",
   "execution_count": null,
   "metadata": {},
   "outputs": [],
   "source": [
    "C2 = confusion_matrix(ym_test,ymhat)\n",
    "\n",
    "\n",
    "# Normalize the confusion matrix\n",
    "Csum1 = np.sum(C2,1)\n",
    "C2 = C2[None, :]/Csum1[:,None]\n",
    "\n",
    "# Print the confusion matrix\n",
    "print(np.array_str(C2, precision=3, suppress_small=True))\n",
    "plt.imshow(C2[0], interpolation='none')\n",
    "plt.colorbar()"
   ]
  },
  {
   "cell_type": "code",
   "execution_count": null,
   "metadata": {},
   "outputs": [],
   "source": [
    "x0_predict_41=np.vstack([final_file_0[2],final_file_0[5]])\n",
    "\n",
    "ylabel=final_file_0[4]\n",
    "ylabel=ylabel.astype('int') \n",
    "\n",
    "yhat_ts = clf.predict(x0_predict_41.T)\n",
    "\n",
    "acc= np.mean(yhat_ts == ylabel)\n",
    "acc"
   ]
  },
  {
   "cell_type": "code",
   "execution_count": null,
   "metadata": {},
   "outputs": [],
   "source": [
    "C2 = confusion_matrix(ylabel,yhat_ts)\n",
    "\n",
    "\n",
    "# Normalize the confusion matrix\n",
    "Csum1 = np.sum(C2,1)\n",
    "C2 = C2[None, :]/Csum1[:,None]\n",
    "\n",
    "# Print the confusion matrix\n",
    "print(np.array_str(C2, precision=3, suppress_small=True))\n",
    "plt.imshow(C2[0], interpolation='none')\n",
    "plt.colorbar()"
   ]
  },
  {
   "cell_type": "code",
   "execution_count": null,
   "metadata": {},
   "outputs": [],
   "source": []
  },
  {
   "cell_type": "code",
   "execution_count": null,
   "metadata": {},
   "outputs": [],
   "source": []
  },
  {
   "cell_type": "code",
   "execution_count": 136,
   "metadata": {},
   "outputs": [],
   "source": [
    "def reducer_node(input_df, template_df):\n",
    "    unique_nodes = template_df.NAME.unique()\n",
    "    reduced_nodeArr = input_df[input_df.NAME.isin(unique_nodes)]\n",
    "    reduced_nodeArr.reset_index(inplace = True, drop = True)\n",
    "    return reduced_nodeArr"
   ]
  },
  {
   "cell_type": "code",
   "execution_count": null,
   "metadata": {},
   "outputs": [],
   "source": []
  },
  {
   "cell_type": "code",
   "execution_count": 158,
   "metadata": {},
   "outputs": [
    {
     "name": "stderr",
     "output_type": "stream",
     "text": [
      "/Library/Frameworks/Python.framework/Versions/3.6/lib/python3.6/site-packages/IPython/core/interactiveshell.py:3020: DtypeWarning: Columns (106) have mixed types. Specify dtype option on import or set low_memory=False.\n",
      "  interactivity=interactivity, compiler=compiler, result=result)\n"
     ]
    }
   ],
   "source": [
    "fN = \"./data/nodes/full/color_indexed0_1.csv\"\n",
    "nodes0_1=pd.read_csv(fN)\n",
    "fN = \"./data/nodes/full/color_indexed0_11.csv\"\n",
    "nodes0_11=pd.read_csv(fN)\n",
    "fN = \"./data/nodes/full/color_indexed0_21.csv\"\n",
    "nodes0_21=pd.read_csv(fN)\n",
    "fN = \"./data/nodes/full/color_indexed0_31.csv\"\n",
    "nodes0_31=pd.read_csv(fN)\n",
    "fN = \"./data/nodes/full/color_indexed0_41.csv\"\n",
    "nodes0_41=pd.read_csv(fN)\n",
    "\n",
    "preDir = \"/ReducedNodeSet/\"\n",
    "name500=\"CECnodes_500_TableToExcel\"\n",
    "filetype = \".csv\"\n",
    "nodes500 = get_file(preDir+name500+filetype)\n",
    "\n",
    "\n",
    "nodes0_1_500=reducer_node(nodes0_1,nodes500)\n",
    "nodes0_11_500=reducer_node(nodes0_11,nodes500)\n",
    "nodes0_21_500=reducer_node(nodes0_21,nodes500)\n",
    "nodes0_31_500=reducer_node(nodes0_31,nodes500)\n",
    "nodes0_41_500=reducer_node(nodes0_41,nodes500)\n",
    "nodeArr_500=reducer_node(nodeArr,nodes500)"
   ]
  },
  {
   "cell_type": "code",
   "execution_count": 78,
   "metadata": {},
   "outputs": [
    {
     "name": "stderr",
     "output_type": "stream",
     "text": [
      "/Library/Frameworks/Python.framework/Versions/3.6/lib/python3.6/site-packages/IPython/core/interactiveshell.py:3020: DtypeWarning: Columns (105) have mixed types. Specify dtype option on import or set low_memory=False.\n",
      "  interactivity=interactivity, compiler=compiler, result=result)\n"
     ]
    }
   ],
   "source": [
    "anomalyFree = \"/Users/kavyaub/Documents/mySubjects/ConEdison/NYU_LeakData/LeakData_ZeroDegrees/NYU Anamoly Data_ZeroDeg_Nodes.csv\"\n",
    "nFile0=pd.read_csv(anomalyFree)\n",
    "\n",
    "def calculations_press_avg(input_arr,nodeArr):\n",
    "    final_temp_arr = np.array([input_arr['NAME'],input_arr['FacilityFromNodeName'],input_arr['FacilityToNodeName'],input_arr['NAME'],[0]*input_arr.NAME.size,[0]*input_arr.NAME.size,[0]*input_arr.NAME.size,[0]*input_arr.NAME.size,[0]*input_arr.NAME.size,[0]*input_arr.NAME.size,[0]*input_arr.NAME.size])\n",
    "    pres1 = 0\n",
    "    pres2 = 0\n",
    "    setOfNames = set(nodeArr['NAME'])\n",
    "    for i in range(0,final_temp_arr[1].size):\n",
    "        if final_temp_arr[1][i] in setOfNames:\n",
    "            temp = nodeArr.loc[nodeArr['NAME']==final_temp_arr[1][i]]\n",
    "            pres1 = temp.color\n",
    "            final_temp_arr[4][i]=pres1.iloc[0]\n",
    "            pressure1 = temp.NodePressure\n",
    "            final_temp_arr[6][i]=pressure1.iloc[0]\n",
    "            pressure2 = nFile0[nFile0.NAME==final_temp_arr[1][i]].NodePressure\n",
    "            final_temp_arr[8][i]=pressure2.iloc[0]\n",
    "        if final_temp_arr[2][i] in setOfNames:\n",
    "            temp = nodeArr.loc[nodeArr['NAME']==final_temp_arr[2][i]]\n",
    "            pres2 = temp.color\n",
    "            final_temp_arr[5][i]=pres2.iloc[0]\n",
    "            pressure1 = temp.NodePressure\n",
    "            final_temp_arr[7][i]=pressure1.iloc[0]\n",
    "            pressure2 = nFile0[nFile0.NAME==final_temp_arr[2][i]].NodePressure\n",
    "            final_temp_arr[9][i]=pressure2.iloc[0]\n",
    "            \n",
    "    fin_anomaly=(final_temp_arr[6]+final_temp_arr[7])/2\n",
    "    fin_no_anomaly=(final_temp_arr[8]+final_temp_arr[9])/2\n",
    "    finalPres = (final_temp_arr[4]+final_temp_arr[5])/2\n",
    "    avg_pressure=abs(fin_anomaly-fin_no_anomaly)/fin_no_anomaly\n",
    "    \n",
    "    \n",
    "    input_arr['pressureColor'] = finalPres.astype(int)\n",
    "    input_arr['finalVal']=0.6*finalPres+0.4*input_arr.color\n",
    "    input_arr['avgPressure']=avg_pressure\n",
    "    "
   ]
  },
  {
   "cell_type": "code",
   "execution_count": 79,
   "metadata": {},
   "outputs": [],
   "source": [
    "calculations_press_avg(cal_diff0_1,nodes0_1)\n",
    "calculations_press_avg(cal_diff0_11,nodes0_11)\n",
    "calculations_press_avg(cal_diff0_21,nodes0_21)\n",
    "calculations_press_avg(cal_diff0_31,nodes0_31)\n",
    "calculations_press_avg(cal_diff0_41,nodes0_41)"
   ]
  },
  {
   "cell_type": "code",
   "execution_count": 80,
   "metadata": {},
   "outputs": [
    {
     "data": {
      "text/plain": [
       "4"
      ]
     },
     "execution_count": 80,
     "metadata": {},
     "output_type": "execute_result"
    }
   ],
   "source": [
    "np.max(cal_diff0_41['pressureColor'])"
   ]
  },
  {
   "cell_type": "code",
   "execution_count": 81,
   "metadata": {},
   "outputs": [],
   "source": [
    "scaled_vals=np.array([cal_diff0_1.finalVal ,cal_diff0_11.finalVal,cal_diff0_21.finalVal,cal_diff0_31.finalVal, cal_diff0_41.finalVal])\n",
    "scaled_vals[scaled_vals >= 4] = 40\n",
    "scaled_vals[scaled_vals <1] = 6\n",
    "scaled_vals[scaled_vals <2] = 10\n",
    "scaled_vals[scaled_vals <3] = 20\n",
    "scaled_vals[scaled_vals <4] = 30\n",
    "scaled_vals[scaled_vals == 6] = 0\n",
    "\n",
    "scaled_vals=scaled_vals/10\n",
    "\n",
    "scaled_vals=scaled_vals.astype(int)\n",
    "\n",
    "#colors_array = color_indexer(scaled_vals)\n",
    "avgcolor_indexed0_41=cal_diff0_41\n",
    "avgcolor_indexed0_41['color']=scaled_vals[4]\n",
    "avgcolor_indexed0_31=cal_diff0_31\n",
    "avgcolor_indexed0_31['color']=scaled_vals[3]\n",
    "avgcolor_indexed0_21=cal_diff0_21\n",
    "avgcolor_indexed0_21['color']=scaled_vals[2]\n",
    "avgcolor_indexed0_11=cal_diff0_11\n",
    "avgcolor_indexed0_11['color']=scaled_vals[1]\n",
    "avgcolor_indexed0_1=cal_diff0_1\n",
    "avgcolor_indexed0_1['color']=scaled_vals[0]\n",
    "\n",
    "\n",
    "avgcolor_indexed0_1_500=reducer(avgcolor_indexed0_1)\n",
    "avgcolor_indexed0_11_500=reducer(avgcolor_indexed0_11)\n",
    "avgcolor_indexed0_21_500=reducer(avgcolor_indexed0_21)\n",
    "avgcolor_indexed0_31_500=reducer(avgcolor_indexed0_31)\n",
    "avgcolor_indexed0_41_500=reducer(avgcolor_indexed0_41)"
   ]
  },
  {
   "cell_type": "code",
   "execution_count": 82,
   "metadata": {},
   "outputs": [],
   "source": [
    "#draw_3d_color(avgcolor_indexed0_41,\"hello\")"
   ]
  },
  {
   "cell_type": "code",
   "execution_count": 83,
   "metadata": {},
   "outputs": [],
   "source": [
    "#draw_2d_flow_color(cal_diff0_41,\"hello\")"
   ]
  },
  {
   "cell_type": "code",
   "execution_count": 84,
   "metadata": {},
   "outputs": [],
   "source": [
    "arr=[1,11,21,31,41]\n",
    "vals=[np.max(color_indexed0_1.VELOpipeFPS),np.max(color_indexed0_11.VELOpipeFPS),np.max(color_indexed0_21.VELOpipeFPS),np.max(color_indexed0_31.VELOpipeFPS),np.max(color_indexed0_41.VELOpipeFPS)]\n",
    "fig_size = plt.rcParams[\"figure.figsize\"]\n",
    "fig_size[0] = 5\n",
    "fig_size[1] = 5\n",
    "plt.rcParams[\"figure.figsize\"] = fig_size\n",
    "#plt.plot(arr, vals)"
   ]
  },
  {
   "cell_type": "code",
   "execution_count": 85,
   "metadata": {},
   "outputs": [],
   "source": [
    "def save_data_file_500_avg(temp):\n",
    "    if temp == 16:\n",
    "        arr1=color_indexed1_500\n",
    "        arr11=color_indexed11_500\n",
    "        arr21=color_indexed21_500\n",
    "        arr31=color_indexed31_500\n",
    "        arr41=color_indexed41_500\n",
    "    elif temp==0:\n",
    "        arr1=avgcolor_indexed0_1_500\n",
    "        arr11=avgcolor_indexed0_11_500\n",
    "        arr21=avgcolor_indexed0_21_500\n",
    "        arr31=avgcolor_indexed0_31_500\n",
    "        arr41=avgcolor_indexed0_41_500\n",
    "    elif temp==32:\n",
    "        arr1=color_indexed32_1_500\n",
    "        arr11=color_indexed32_11_500\n",
    "        arr21=color_indexed32_21_500\n",
    "        arr31=color_indexed32_31_500\n",
    "        arr41=color_indexed32_41_500\n",
    "    elif temp==48:\n",
    "        arr1=color_indexed48_1_500\n",
    "        arr11=color_indexed48_11_500\n",
    "        arr21=color_indexed48_21_500\n",
    "        arr31=color_indexed48_31_500\n",
    "        arr41=color_indexed48_41_500\n",
    "    elif temp==64:\n",
    "        arr1=color_indexed64_1_500\n",
    "        arr11=color_indexed64_11_500\n",
    "        arr21=color_indexed64_21_500\n",
    "        arr31=color_indexed64_31_500\n",
    "        arr41=color_indexed64_41_500\n",
    "    day = np.hstack([[0]*arr1.NAME.size,[1]*arr1.NAME.size,[2]*arr1.NAME.size,[3]*arr1.NAME.size,[4]*arr1.NAME.size])\n",
    "    p = np.hstack([arr1.FacilityFlowAbsolute,arr11.FacilityFlowAbsolute,arr21.FacilityFlowAbsolute,arr31.FacilityFlowAbsolute,arr41.FacilityFlowAbsolute])\n",
    "    pd = np.hstack([arr1.VELOpipeFPS,arr11.VELOpipeFPS,arr21.VELOpipeFPS,arr31.VELOpipeFPS,arr41.VELOpipeFPS])\n",
    "    names = np.hstack([arr1.NAME,arr1.NAME,arr1.NAME,arr1.NAME,arr1.NAME])\n",
    "    pressures=np.hstack([arr1.avgPressure,arr11.avgPressure,arr21.avgPressure,arr31.avgPressure,arr41.avgPressure])\n",
    "    temps=np.hstack([[temp]*arr1.NAME.size,[temp]*arr1.NAME.size,[temp]*arr1.NAME.size,[temp]*arr1.NAME.size,[temp]*arr1.NAME.size])\n",
    "    color=np.hstack([arr1.color,arr11.color,arr21.color,arr31.color,arr41.color])\n",
    "    print(names.shape)\n",
    "    print(pressures.shape)\n",
    "    final_file = np.vstack([names.T,p.T,pd.T,temps.T,color.T,day.T,pressures.T])\n",
    "    \n",
    "    #final_file = np.vstack([names.T,p.T,pd.T,temps.T,color.T,day.T])\n",
    "    ff = np.vstack([pd,day,pressures])\n",
    "    \n",
    "    np.savetxt(\"./data/pipes/data_combined_200_\"+str(temp)+\".csv\",ff,delimiter=\",\",fmt='%s')\n",
    "\n",
    "    \n",
    "    labels = np.hstack([[0]*arr1.NAME.size,[0]*arr1.NAME.size,[0]*arr1.NAME.size,[0]*arr1.NAME.size,[0]*arr1.NAME.size])\n",
    "    labels[np.where(final_file[4]==1)]=1\n",
    "    targets=labels\n",
    "    \n",
    "    np.savetxt(\"./data/pipes/target_combined_200_\"+str(temp)+\".csv\",targets,delimiter=\",\",fmt='%s')\n",
    "    \n",
    "    return final_file, targets\n",
    "\n",
    "\n"
   ]
  },
  {
   "cell_type": "code",
   "execution_count": 86,
   "metadata": {},
   "outputs": [],
   "source": [
    "def save_data_file_avg(temp):\n",
    "    if temp == 16:\n",
    "        arr1=color_indexed1_500\n",
    "        arr11=color_indexed11_500\n",
    "        arr21=color_indexed21_500\n",
    "        arr31=color_indexed31_500\n",
    "        arr41=color_indexed41_500\n",
    "    elif temp==0:\n",
    "        arr1=avgcolor_indexed0_1\n",
    "        arr11=avgcolor_indexed0_11\n",
    "        arr21=avgcolor_indexed0_21\n",
    "        arr31=avgcolor_indexed0_31\n",
    "        arr41=avgcolor_indexed0_41\n",
    "    elif temp==32:\n",
    "        arr1=color_indexed32_1_500\n",
    "        arr11=color_indexed32_11_500\n",
    "        arr21=color_indexed32_21_500\n",
    "        arr31=color_indexed32_31_500\n",
    "        arr41=color_indexed32_41_500\n",
    "    elif temp==48:\n",
    "        arr1=color_indexed48_1_500\n",
    "        arr11=color_indexed48_11_500\n",
    "        arr21=color_indexed48_21_500\n",
    "        arr31=color_indexed48_31_500\n",
    "        arr41=color_indexed48_41_500\n",
    "    elif temp==64:\n",
    "        arr1=color_indexed64_1_500\n",
    "        arr11=color_indexed64_11_500\n",
    "        arr21=color_indexed64_21_500\n",
    "        arr31=color_indexed64_31_500\n",
    "        arr41=color_indexed64_41_500\n",
    "    day = np.hstack([[0]*arr1.NAME.size,[1]*arr1.NAME.size,[2]*arr1.NAME.size,[3]*arr1.NAME.size,[4]*arr1.NAME.size])\n",
    "    p = np.hstack([arr1.FacilityFlowAbsolute,arr11.FacilityFlowAbsolute,arr21.FacilityFlowAbsolute,arr31.FacilityFlowAbsolute,arr41.FacilityFlowAbsolute])\n",
    "    pd = np.hstack([arr1.VELOpipeFPS,arr11.VELOpipeFPS,arr21.VELOpipeFPS,arr31.VELOpipeFPS,arr41.VELOpipeFPS])\n",
    "    pressures=np.hstack([arr1.avgPressure,arr11.avgPressure,arr21.avgPressure,arr31.avgPressure,arr41.avgPressure])\n",
    "    names = np.hstack([arr1.NAME,arr1.NAME,arr1.NAME,arr1.NAME,arr1.NAME])\n",
    "    temps=np.hstack([[temp]*arr1.NAME.size,[temp]*arr1.NAME.size,[temp]*arr1.NAME.size,[temp]*arr1.NAME.size,[temp]*arr1.NAME.size])\n",
    "    color=np.hstack([arr1.color,arr11.color,arr21.color,arr31.color,arr41.color])\n",
    "    \n",
    "    final_file = np.vstack([names.T,p.T,pd.T,temps.T,color.T,day.T,pressures.T])\n",
    "    #final_file = np.vstack([names.T,p.T,pd.T,temps.T,color.T,day.T])\n",
    "    ff = np.vstack([p,pd,day])\n",
    "\n",
    "    \n",
    "    labels = np.hstack([[0]*arr1.NAME.size,[0]*arr1.NAME.size,[0]*arr1.NAME.size,[0]*arr1.NAME.size,[0]*arr1.NAME.size])\n",
    "    labels[np.where(final_file[4]>=1)]=1\n",
    "    targets=labels\n",
    "    \n",
    "    return final_file, targets\n"
   ]
  },
  {
   "cell_type": "code",
   "execution_count": null,
   "metadata": {},
   "outputs": [],
   "source": []
  },
  {
   "cell_type": "code",
   "execution_count": 87,
   "metadata": {},
   "outputs": [
    {
     "name": "stdout",
     "output_type": "stream",
     "text": [
      "(1025,)\n",
      "(1025,)\n"
     ]
    }
   ],
   "source": [
    "avg_0_500,avg_tgt_0_500 = save_data_file_500_avg(0)\n",
    "avg_0,avg_tgt_0 = save_data_file_avg(0)"
   ]
  },
  {
   "cell_type": "code",
   "execution_count": 88,
   "metadata": {},
   "outputs": [],
   "source": [
    "# sess=tf.Session()\n",
    "# X=np.array([avg_0_500[2],avg_0_500[5],avg_0_500[6]])\n",
    "# X=X.T\n",
    "# labels1 = np.hstack([[0]*avgcolor_indexed0_1_500.NAME.size,[0]*avgcolor_indexed0_1_500.NAME.size,[0]*avgcolor_indexed0_1_500.NAME.size,[0]*avgcolor_indexed0_1_500.NAME.size,[0]*avgcolor_indexed0_1_500.NAME.size])\n",
    "\n",
    "\n",
    "# #X_train, X_test, y_train, y_test = train_test_split(X, y, test_size=0.20, random_state=42)\n"
   ]
  },
  {
   "cell_type": "code",
   "execution_count": 89,
   "metadata": {},
   "outputs": [],
   "source": [
    "# svc = svm.SVC(probability=False,  kernel=\"linear\", C=2.8, gamma=.0073,verbose=10)"
   ]
  },
  {
   "cell_type": "code",
   "execution_count": 90,
   "metadata": {},
   "outputs": [],
   "source": [
    "# #labels1[avg_0_500[4]==1]=1\n",
    "# #y=labels1\n",
    "# #svc.fit(X,y)\n",
    "\n",
    "# #labels1[avg_0_500[4]==3]=1\n",
    "# #y=labels1\n",
    "# #svc.fit(X,y)\n",
    "\n",
    "# #labels1[avg_0_500[4]==2]=1\n",
    "# #y=labels1\n",
    "# #svc.fit(X,y)\n",
    "\n",
    "# #labels1[avg_0_500[4]==1]=1\n",
    "# #y=labels1\n",
    "# #svc.fit(X,y)\n",
    "\n",
    "# label1_values = []\n",
    "# label2_values = []\n",
    "# label3_values = []\n",
    "# label4_values = []\n",
    "# label123_value = []\n",
    "# label234_value = []\n",
    "\n",
    "# for i in range(0,len(avg_0_500[4])):\n",
    "#     if avg_0_500[4][i]==1:\n",
    "#         label1_values.append(avg_0_500.T[i])\n",
    "#         label123_value.append(avg_0_500.T[i])\n",
    "#     elif avg_0_500[4][i]==2:\n",
    "#         label2_values.append(avg_0_500.T[i])\n",
    "#         label123_value.append(avg_0_500.T[i])\n",
    "#         label234_value.append(avg_0_500.T[i])\n",
    "#     elif avg_0_500[4][i]==3:\n",
    "#         label3_values.append(avg_0_500.T[i])\n",
    "#         label123_value.append(avg_0_500.T[i])\n",
    "#         label234_value.append(avg_0_500.T[i])\n",
    "#     elif avg_0_500[4][i]==4:\n",
    "#         label4_values.append(avg_0_500.T[i])\n",
    "#         label234_value.append(avg_0_500.T[i])\n",
    "#     else:\n",
    "#         label1_values.append(avg_0_500.T[i])\n",
    "#         label2_values.append(avg_0_500.T[i])\n",
    "#         label3_values.append(avg_0_500.T[i])\n",
    "#         label4_values.append(avg_0_500.T[i])\n",
    "#         label123_value.append(avg_0_500.T[i])\n",
    "#         label234_value.append(avg_0_500.T[i])\n",
    "# label1 = np.vstack(label1_values).T\n",
    "# label2 = np.vstack(label2_values).T\n",
    "# label3 = np.vstack(label3_values).T\n",
    "# label4 = np.vstack(label4_values).T\n",
    "# label123 = np.vstack(label123_value).T\n",
    "# label234 = np.vstack(label234_value).T\n",
    "\n",
    "# #label2[4][label2[4]==2]=1\n",
    "# #label3[4][label3[4]==3]=1\n",
    "# #label4[4][label4[4]==4]=1"
   ]
  },
  {
   "cell_type": "code",
   "execution_count": 91,
   "metadata": {},
   "outputs": [],
   "source": [
    "# X = np.array([label123[2],label123[5],label123[6]])\n",
    "# X=X.T\n",
    "\n",
    "# y=label123[4]\n",
    "\n",
    "# y=y.astype('int')\n",
    "# ros = RandomUnderSampler(random_state=42)\n",
    "\n",
    "# X_res, y_res = ros.fit_resample(X, y)\n",
    "\n",
    "# X_train, X_test, y_train, y_test = train_test_split(X, y, test_size=0.20, random_state=42)\n",
    "\n",
    "# svc123 = svm.SVC(probability=False,  kernel=\"linear\", C=2.3, gamma=.0073,verbose=10)\n",
    "# svc123.fit(X_train,y_train)\n",
    "\n",
    "# yhat_ts = svc123.predict(X_test)\n",
    "\n",
    "# acc = np.mean(yhat_ts == y_test)\n",
    "# acc\n"
   ]
  },
  {
   "cell_type": "code",
   "execution_count": 92,
   "metadata": {},
   "outputs": [],
   "source": [
    "# X = np.array([label234[2],label234[5],label234[6]])\n",
    "# X=X.T\n",
    "\n",
    "# y=label234[4]\n",
    "\n",
    "# y=y.astype('int')\n",
    "# ros = RandomUnderSampler(random_state=42)\n",
    "\n",
    "# X_res, y_res = ros.fit_resample(X, y)\n",
    "\n",
    "# X_train, X_test, y_train, y_test = train_test_split(X, y, test_size=0.20, random_state=42)\n",
    "\n",
    "# svc234 = svm.SVC(probability=False,  kernel=\"linear\", C=2.3, gamma=.0073,verbose=10)\n",
    "# svc234.fit(X_train,y_train)\n",
    "\n",
    "# yhat_ts = svc234.predict(X_test)\n",
    "\n",
    "# acc = np.mean(yhat_ts == y_test)\n",
    "# acc\n"
   ]
  },
  {
   "cell_type": "code",
   "execution_count": 93,
   "metadata": {},
   "outputs": [],
   "source": [
    "# #green\n",
    "# X = np.array([label1[2],label1[5],label1[6]])\n",
    "# X=X.T\n",
    "\n",
    "# y=label1[4]\n",
    "\n",
    "# y=y.astype('int')\n",
    "# ros = RandomUnderSampler(random_state=42)\n",
    "\n",
    "# X_res, y_res = ros.fit_resample(X, y)\n",
    "\n",
    "# X_train, X_test, y_train, y_test = train_test_split(X_res, y_res, test_size=0.20, random_state=42)\n",
    "\n",
    "# svc1 = svm.SVC(probability=False,  kernel=\"linear\", C=10, gamma=.0073,verbose=10)\n",
    "# svc1.fit(X_train,y_train)\n",
    "\n",
    "# yhat_ts = svc1.predict(X_test)\n",
    "\n",
    "# acc = np.mean(yhat_ts == y_test)\n",
    "# np.unique(y_res, return_counts=True)\n",
    "# acc"
   ]
  },
  {
   "cell_type": "code",
   "execution_count": 94,
   "metadata": {},
   "outputs": [],
   "source": [
    "# #Yellow\n",
    "# X = np.array([label2[2],label2[5],label2[6]])\n",
    "# X=X.T\n",
    "\n",
    "# y=label2[4]\n",
    "\n",
    "# y=y.astype('int')\n",
    "\n",
    "# ros = RandomUnderSampler(random_state=42)\n",
    "\n",
    "# X_res, y_res = ros.fit_resample(X, y)\n",
    "\n",
    "# X_train, X_test, y_train, y_test = train_test_split(X_res, y_res, test_size=0.20, random_state=42)\n",
    "\n",
    "# svc2 = svm.SVC(probability=False,  kernel=\"linear\", C=5, gamma=.0073,verbose=10)\n",
    "# svc2.fit(X_train,y_train)\n",
    "\n",
    "# yhat_ts = svc2.predict(X_test)\n",
    "\n",
    "# acc = np.mean(yhat_ts == y_test)\n",
    "# acc"
   ]
  },
  {
   "cell_type": "code",
   "execution_count": 95,
   "metadata": {},
   "outputs": [],
   "source": [
    "# #Cyan\n",
    "# X = np.array([label3[2],label3[5],label3[6]])\n",
    "# X=X.T\n",
    "\n",
    "# y=label3[4]\n",
    "\n",
    "# y=y.astype('int')\n",
    "\n",
    "# ros = RandomUnderSampler(random_state=42)\n",
    "\n",
    "# X_res, y_res = ros.fit_resample(X, y)\n",
    "\n",
    "# X_train, X_test, y_train, y_test = train_test_split(X_res, y_res, test_size=0.20, random_state=42)\n",
    "\n",
    "# svc3 = svm.SVC(probability=False,  kernel=\"linear\", C=1, gamma=.0073,verbose=10)\n",
    "# svc3.fit(X_train,y_train)\n",
    "\n",
    "# yhat_ts = svc3.predict(X_test)\n",
    "\n",
    "# acc = np.mean(yhat_ts == y_test) \n",
    "# print(acc)\n",
    "# np.unique(y, return_counts=True)"
   ]
  },
  {
   "cell_type": "code",
   "execution_count": 96,
   "metadata": {},
   "outputs": [],
   "source": [
    "# #Red\n",
    "# X = np.array([label4[2],label4[5],label4[6]])\n",
    "# X=X.T\n",
    "\n",
    "# y=label4[4]\n",
    "\n",
    "# y=y.astype('int')\n",
    "# ros = RandomUnderSampler(random_state=42)\n",
    "\n",
    "# X_res, y_res = ros.fit_resample(X, y)\n",
    "# X_train, X_test, y_train, y_test = train_test_split(X, y, test_size=0.20, random_state=42)\n",
    "\n",
    "# svc4 = svm.SVC(probability=False,  kernel=\"linear\", C=2.3, gamma=.0073,verbose=10)\n",
    "# svc4.fit(X_train,y_train)\n",
    "\n",
    "# yhat_ts = svc4.predict(X_test)\n",
    "\n",
    "# acc = np.mean(yhat_ts == y_test)\n",
    "# acc\n"
   ]
  },
  {
   "cell_type": "code",
   "execution_count": 97,
   "metadata": {},
   "outputs": [],
   "source": [
    "# np.unique(y_test,return_counts=True)"
   ]
  },
  {
   "cell_type": "code",
   "execution_count": 98,
   "metadata": {},
   "outputs": [],
   "source": [
    "# C = confusion_matrix(y_test,yhat_ts)\n",
    "\n",
    "# # Normalize the confusion matrix\n",
    "# Csum = np.sum(C,1)\n",
    "# C = C / Csum[None,:]\n",
    "\n",
    "# # Print the confusion matrix\n",
    "# print(np.array_str(C, precision=3, suppress_small=True))\n",
    "# plt.imshow(C, interpolation='none')\n",
    "# plt.colorbar()"
   ]
  },
  {
   "cell_type": "code",
   "execution_count": 99,
   "metadata": {},
   "outputs": [],
   "source": [
    "# from sklearn.preprocessing import MultiLabelBinarizer\n",
    "# from sklearn.multiclass import OneVsOneClassifier\n",
    "# from sklearn.svm import LinearSVC\n",
    "\n",
    "# y=avg_0_500[4]\n",
    "# y=y.astype('int')\n",
    "\n",
    "\n",
    "#MultiLabelBinarizer().fit_transform(y)\n",
    "\n"
   ]
  },
  {
   "cell_type": "code",
   "execution_count": 100,
   "metadata": {},
   "outputs": [
    {
     "name": "stdout",
     "output_type": "stream",
     "text": [
      "[LibSVM]"
     ]
    },
    {
     "data": {
      "text/plain": [
       "0.9093799682034976"
      ]
     },
     "execution_count": 100,
     "metadata": {},
     "output_type": "execute_result"
    }
   ],
   "source": [
    "from sklearn.model_selection import cross_val_score\n",
    "from sklearn.preprocessing import MultiLabelBinarizer\n",
    "from sklearn.multiclass import OneVsRestClassifier\n",
    "from sklearn.svm import LinearSVC\n",
    "\n",
    "X = np.array([avg_0_500[2],avg_0_500[5],avg_0_500[6]])\n",
    "X=X.T\n",
    "\n",
    "y=avg_0_500[4]\n",
    "\n",
    "y=y.astype('int')\n",
    "\n",
    "ros = RandomOverSampler(random_state=109)\n",
    "\n",
    "X_res, y_res = ros.fit_resample(X, y)\n",
    "\n",
    "X_train, X_test, y_train, y_test = train_test_split(X_res, y_res, test_size=0.20, random_state=42)\n",
    "\n",
    "clf = svm.SVC(decision_function_shape='linear',probability=False,  kernel=\"linear\", C=20, gamma=.0073,verbose=10)\n",
    "\n",
    "clf.fit(X_train,y_train)\n",
    "\n",
    "ovo = OneVsRestClassifier(LinearSVC(random_state=42)).fit(X_train, y_train)\n",
    "\n",
    "\n",
    "yhat_ts = clf.predict(X_test)\n",
    "#yhat_ts = ovo.predict(X_test)\n",
    "\n",
    "\n",
    "#scores = cross_val_score(clf, X_res, y_res, cv=10)\n",
    "\n",
    "acc = np.mean(yhat_ts == y_test)\n",
    "#scores\n",
    "acc"
   ]
  },
  {
   "cell_type": "code",
   "execution_count": 101,
   "metadata": {},
   "outputs": [],
   "source": [
    "# import  sklearn.model_selection\n",
    "# import numpy.polynomial.polynomial as poly\n",
    "\n",
    "# # Create a k-fold object\n",
    "# nfold = 10\n",
    "# kf = sklearn.model_selection.KFold(n_splits=nfold,shuffle=True)\n",
    "\n",
    "# # Model orders to be tested\n",
    "# dtest = np.arange(0,20)\n",
    "# nd = len(dtest)\n",
    "\n",
    "# RSSts = np.zeros((nd,nfold))\n",
    "\n",
    "# # Loop over the folds\n",
    "# for isplit, Ind in enumerate(kf.split(X_res)):\n",
    "        \n",
    "#     # Get the training data in the split\n",
    "#     Itr, Its = Ind \n",
    "#     #kf.split( ) returns Ind, which contains the indices to the training and testing data for each fold \n",
    "#     xtr = X_res[Itr]\n",
    "#     ytr = y_res[Itr]\n",
    "#     xts = X_res[Its]\n",
    "#     yts = y_res[Its]\n",
    "#     # Loop over the model order\n",
    "#     for it, d in enumerate(dtest):\n",
    "#         clf = svm.SVC(decision_function_shape='linear',probability=False,  kernel=\"linear\", C=d+1, gamma=.0073,verbose=10)\n",
    "    \n",
    "#         # Fit data on training data\n",
    "#         clf.fit(xtr,ytr)\n",
    "        \n",
    "#         # Measure RSS on test data\n",
    "#         yhat = clf.predict(xts)\n",
    "#         RSSts[it,isplit] = np.mean((yhat-yts)**2)"
   ]
  },
  {
   "cell_type": "code",
   "execution_count": 102,
   "metadata": {},
   "outputs": [],
   "source": [
    "#RSS_mean = np.mean(RSSts,axis=1) #note mean is taken over the second dimension, i.e. all folds for the same model order\n",
    "#RSS_std  = np.std(RSSts,axis=1)/np.sqrt(nfold-1)\n",
    "#plt.errorbar(dtest, RSS_mean, yerr=RSS_std, fmt='-')\n",
    "#plt.ylim(0,1.5)\n",
    "#plt.xlabel('Model order')\n",
    "#plt.ylabel('Test RSS')\n",
    "#plt.grid()\n",
    "#RSSts"
   ]
  },
  {
   "cell_type": "code",
   "execution_count": 103,
   "metadata": {},
   "outputs": [
    {
     "ename": "NameError",
     "evalue": "name 'confusion_matrix' is not defined",
     "output_type": "error",
     "traceback": [
      "\u001b[0;31m---------------------------------------------------------------------------\u001b[0m",
      "\u001b[0;31mNameError\u001b[0m                                 Traceback (most recent call last)",
      "\u001b[0;32m<ipython-input-103-6bc735a0547e>\u001b[0m in \u001b[0;36m<module>\u001b[0;34m\u001b[0m\n\u001b[0;32m----> 1\u001b[0;31m \u001b[0mC\u001b[0m \u001b[0;34m=\u001b[0m \u001b[0mconfusion_matrix\u001b[0m\u001b[0;34m(\u001b[0m\u001b[0my_test\u001b[0m\u001b[0;34m,\u001b[0m\u001b[0myhat_ts\u001b[0m\u001b[0;34m)\u001b[0m\u001b[0;34m\u001b[0m\u001b[0;34m\u001b[0m\u001b[0m\n\u001b[0m\u001b[1;32m      2\u001b[0m \u001b[0;34m\u001b[0m\u001b[0m\n\u001b[1;32m      3\u001b[0m \u001b[0;31m# Normalize the confusion matrix\u001b[0m\u001b[0;34m\u001b[0m\u001b[0;34m\u001b[0m\u001b[0;34m\u001b[0m\u001b[0m\n\u001b[1;32m      4\u001b[0m \u001b[0mCsum\u001b[0m \u001b[0;34m=\u001b[0m \u001b[0mnp\u001b[0m\u001b[0;34m.\u001b[0m\u001b[0msum\u001b[0m\u001b[0;34m(\u001b[0m\u001b[0mC\u001b[0m\u001b[0;34m,\u001b[0m\u001b[0;36m1\u001b[0m\u001b[0;34m)\u001b[0m\u001b[0;34m\u001b[0m\u001b[0;34m\u001b[0m\u001b[0m\n\u001b[1;32m      5\u001b[0m \u001b[0mC\u001b[0m \u001b[0;34m=\u001b[0m \u001b[0mC\u001b[0m \u001b[0;34m/\u001b[0m \u001b[0mCsum\u001b[0m\u001b[0;34m[\u001b[0m\u001b[0;32mNone\u001b[0m\u001b[0;34m,\u001b[0m\u001b[0;34m:\u001b[0m\u001b[0;34m]\u001b[0m\u001b[0;34m\u001b[0m\u001b[0;34m\u001b[0m\u001b[0m\n",
      "\u001b[0;31mNameError\u001b[0m: name 'confusion_matrix' is not defined"
     ]
    }
   ],
   "source": [
    "C = confusion_matrix(y_test,yhat_ts)\n",
    "\n",
    "# Normalize the confusion matrix\n",
    "Csum = np.sum(C,1)\n",
    "C = C / Csum[None,:]\n",
    "\n",
    "# Print the confusion matrix\n",
    "print(np.array_str(C, precision=3, suppress_small=True))\n",
    "plt.imshow(C, interpolation='none')\n",
    "plt.colorbar()"
   ]
  },
  {
   "cell_type": "code",
   "execution_count": 155,
   "metadata": {},
   "outputs": [
    {
     "data": {
      "text/plain": [
       "0.9359907120743034"
      ]
     },
     "execution_count": 155,
     "metadata": {},
     "output_type": "execute_result"
    }
   ],
   "source": [
    "ipmulti=np.array([avg_0[2],avg_0[5],avg_0[6]])\n",
    "ymulti=avg_0[4]\n",
    "ymulti=ymulti.astype(int)\n",
    "\n",
    "yhat_ts = clf.predict(ipmulti.T)\n",
    "\n",
    "acc = np.mean(ymulti == yhat_ts)\n",
    "acc"
   ]
  },
  {
   "cell_type": "code",
   "execution_count": 156,
   "metadata": {},
   "outputs": [
    {
     "name": "stdout",
     "output_type": "stream",
     "text": [
      "[[0.982 0.141 0.002 0.    0.   ]\n",
      " [0.047 0.605 0.178 0.    0.   ]\n",
      " [0.    0.014 0.786 1.97  0.   ]\n",
      " [0.    0.    0.002 0.97  0.   ]\n",
      " [0.    0.    0.    0.    1.   ]]\n"
     ]
    },
    {
     "data": {
      "text/plain": [
       "<matplotlib.colorbar.Colorbar at 0x163f91c88>"
      ]
     },
     "execution_count": 156,
     "metadata": {},
     "output_type": "execute_result"
    },
    {
     "data": {
      "image/png": "[encoded data removed]",
      "text/plain": [
       "<Figure size 360x360 with 2 Axes>"
      ]
     },
     "metadata": {
      "needs_background": "light"
     },
     "output_type": "display_data"
    }
   ],
   "source": [
    "C = confusion_matrix(ymulti,yhat_ts)\n",
    "\n",
    "# Normalize the confusion matrix\n",
    "Csum = np.sum(C,1)\n",
    "C = C / Csum[None,:]\n",
    "\n",
    "# Print the confusion matrix\n",
    "print(np.array_str(C, precision=3, suppress_small=True))\n",
    "plt.imshow(C, interpolation='none')\n",
    "plt.colorbar()"
   ]
  },
  {
   "cell_type": "code",
   "execution_count": 157,
   "metadata": {},
   "outputs": [],
   "source": [
    "def visualize_spread(arr1,y_test):\n",
    "    col = []\n",
    "    for i in range(0,len(arr1[0])):\n",
    "        if y_test[i] == 1:\n",
    "            col.append('g')\n",
    "        elif y_test[i] == 2:\n",
    "            col.append('y')\n",
    "        elif y_test[i] == 3:\n",
    "            col.append('cyan')\n",
    "        elif y_test[i] == 4:\n",
    "            col.append('r')\n",
    "        else:\n",
    "            col.append('b')\n",
    "    \n",
    "    plt.scatter(np.arange(len(arr1[1])),arr1[0],c=col)\n"
   ]
  },
  {
   "cell_type": "code",
   "execution_count": null,
   "metadata": {},
   "outputs": [],
   "source": []
  },
  {
   "cell_type": "code",
   "execution_count": 158,
   "metadata": {},
   "outputs": [
    {
     "data": {
      "image/png": "[encoded data removed]",
      "text/plain": [
       "<Figure size 360x360 with 1 Axes>"
      ]
     },
     "metadata": {
      "needs_background": "light"
     },
     "output_type": "display_data"
    }
   ],
   "source": [
    "visualize_spread(ipmulti,yhat_ts)\n",
    "#np.unique(yfinal,return_counts=True)"
   ]
  },
  {
   "cell_type": "code",
   "execution_count": 159,
   "metadata": {},
   "outputs": [
    {
     "data": {
      "image/png": "[encoded data removed]",
      "text/plain": [
       "<Figure size 360x360 with 1 Axes>"
      ]
     },
     "metadata": {
      "needs_background": "light"
     },
     "output_type": "display_data"
    }
   ],
   "source": [
    "visualize_spread(ipmulti,ymulti)"
   ]
  },
  {
   "cell_type": "code",
   "execution_count": 160,
   "metadata": {},
   "outputs": [],
   "source": [
    "#visualize_spread(ip,yxp) "
   ]
  },
  {
   "cell_type": "code",
   "execution_count": 161,
   "metadata": {},
   "outputs": [],
   "source": [
    "#visualize_spread(X_train.T,y_train) \n"
   ]
  },
  {
   "cell_type": "code",
   "execution_count": 162,
   "metadata": {},
   "outputs": [],
   "source": [
    "# #labels1[avg_0_500[4]==1]=1\n",
    "# #y=labels1\n",
    "# #svc.fit(X,y)\n",
    "\n",
    "# #labels1[avg_0_500[4]==3]=1\n",
    "# #y=labels1\n",
    "# #svc.fit(X,y)\n",
    "\n",
    "# #labels1[avg_0_500[4]==2]=1\n",
    "# #y=labels1\n",
    "# #svc.fit(X,y)\n",
    "\n",
    "# #labels1[avg_0_500[4]==1]=1\n",
    "# #y=labels1\n",
    "# #svc.fit(X,y)\n",
    "\n",
    "# label1_values = []\n",
    "# label2_values = []\n",
    "# label3_values = []\n",
    "# label4_values = []\n",
    "\n",
    "\n",
    "# for i in range(0,len(avg_0[4])):\n",
    "#     if avg_0[4][i]==1:\n",
    "#         label1_values.append(avg_0.T[i])\n",
    "#     elif avg_0[4][i]==2:\n",
    "#         label2_values.append(avg_0.T[i])\n",
    "#     elif avg_0[4][i]==3:\n",
    "#         label3_values.append(avg_0.T[i])\n",
    "#     elif avg_0[4][i]==4:\n",
    "#         label4_values.append(avg_0.T[i])\n",
    "#     else:\n",
    "#         label1_values.append(avg_0.T[i])\n",
    "#         label2_values.append(avg_0.T[i])\n",
    "#         label3_values.append(avg_0.T[i])\n",
    "#         label4_values.append(avg_0.T[i])\n",
    "# label1 = np.vstack(label1_values).T\n",
    "# label2 = np.vstack(label2_values).T\n",
    "# label3 = np.vstack(label3_values).T\n",
    "# label4 = np.vstack(label4_values).T\n",
    "\n",
    "# label2[4][label2[4]==2]=1\n",
    "# label3[4][label3[4]==3]=1\n",
    "# label4[4][label4[4]==4]=1"
   ]
  },
  {
   "cell_type": "code",
   "execution_count": 163,
   "metadata": {},
   "outputs": [],
   "source": [
    "# np.unique(yfinal, return_counts=True)"
   ]
  },
  {
   "cell_type": "code",
   "execution_count": 164,
   "metadata": {},
   "outputs": [],
   "source": [
    "# C = confusion_matrix(yxp,yfinal)\n",
    "\n",
    "# # Normalize the confusion matrix\n",
    "# Csum = np.sum(C,1)\n",
    "# C = C / Csum[None,:]\n",
    "\n",
    "# # Print the confusion matrix\n",
    "# print(np.array_str(C, precision=3, suppress_small=True))\n",
    "# plt.imshow(C, interpolation='none')\n",
    "# plt.colorbar()"
   ]
  },
  {
   "cell_type": "code",
   "execution_count": 165,
   "metadata": {},
   "outputs": [],
   "source": [
    "#ip = np.array([avg_0[2],avg_0[5],avg_0[6]])\n",
    "\n",
    "# yip123 = svc123.predict(ip.T)\n",
    "# yip234 = svc234.predict(ip.T)\n",
    "\n",
    "# yxp = avg_0[4]\n",
    "# yxp = yxp.astype('int')\n",
    "\n",
    "# yfinal = np.zeros(len(yxp))\n",
    "\n",
    "# acc123= np.mean(yxp == yip123)\n",
    "# acc234= np.mean(yxp == yip234)\n",
    "\n",
    "# yfinal[np.where(yip123==1)]=1\n",
    "# yfinal[np.where(yip123==2)]=2\n",
    "# yfinal[np.where(yip123==3)]=3\n",
    "# yfinal[np.where(yip234==2)]=2\n",
    "# yfinal[np.where(yip234==3)]=3\n",
    "# yfinal[np.where(yip234==4)]=4\n",
    "\n",
    "# acc=np.mean(yfinal==yxp)\n",
    "# acc\n"
   ]
  },
  {
   "cell_type": "code",
   "execution_count": 166,
   "metadata": {},
   "outputs": [],
   "source": [
    "#C = confusion_matrix(yxp,yfinal)\n",
    "\n",
    "# Normalize the confusion matrix\n",
    "#Csum = np.sum(C,1)\n",
    "#C = C / Csum[None,:]\n",
    "\n",
    "# Print the confusion matrix\n",
    "#print(np.array_str(C, precision=3, suppress_small=True))\n",
    "#plt.imshow(C, interpolation='none')\n",
    "#plt.colorbar()"
   ]
  },
  {
   "cell_type": "code",
   "execution_count": 104,
   "metadata": {},
   "outputs": [],
   "source": [
    "#Method 2\n",
    "\n",
    "color_picker=np.array([[0,0,0,0,0],[0,0,1,1,1],[0,1,2,2,2],[1,2,2,3,3],[1,2,3,3,4],[2,2,3,4,4]])\n",
    "color_picker\n",
    "def color_indexer(input_arr):\n",
    "    out_arr=np.array(input_arr)\n",
    "    for i in range(0,input_arr[0].size):\n",
    "        out_arr[0,i]=color_picker[input_arr[0,i]][0]\n",
    "        out_arr[1,i]=color_picker[input_arr[1,i]][1]\n",
    "        out_arr[2,i]=color_picker[input_arr[2,i]][2]\n",
    "        out_arr[3,i]=color_picker[input_arr[3,i]][3]\n",
    "        out_arr[4,i]=color_picker[input_arr[4,i]][4]\n",
    "\n",
    "    return out_arr\n",
    "\n",
    "\n",
    "scaled_vals=np.array([cal_diff0_1.VELOpipeFPS ,cal_diff0_11.VELOpipeFPS,cal_diff0_21.VELOpipeFPS,cal_diff0_31.VELOpipeFPS, cal_diff0_41.VELOpipeFPS])\n",
    "scaled_vals[scaled_vals > 0.1] = 5\n",
    "scaled_vals[scaled_vals <=0.01] = 6\n",
    "scaled_vals[scaled_vals <=0.02] = 1\n",
    "scaled_vals[scaled_vals <=0.04] = 2\n",
    "scaled_vals[scaled_vals <=0.07] = 3\n",
    "scaled_vals[scaled_vals <=0.1] = 4\n",
    "scaled_vals[scaled_vals == 6] = 0\n",
    "scaled_vals=scaled_vals.astype(int)\n",
    "colors_array = color_indexer(scaled_vals)\n",
    "color_indexed0_41=cal_diff0_41\n",
    "color_indexed0_41['color']=colors_array[4]\n",
    "color_indexed0_31=cal_diff0_31\n",
    "color_indexed0_31['color']=colors_array[3]\n",
    "color_indexed0_21=cal_diff0_21\n",
    "color_indexed0_21['color']=colors_array[2]\n",
    "color_indexed0_11=cal_diff0_11\n",
    "color_indexed0_11['color']=colors_array[1]\n",
    "color_indexed0_1=cal_diff0_1\n",
    "color_indexed0_1['color']=colors_array[0]\n",
    "\n"
   ]
  },
  {
   "cell_type": "code",
   "execution_count": 105,
   "metadata": {},
   "outputs": [],
   "source": [
    "# a1=np.array([[1,2,3,4,5]])\n",
    "# a2=np.array([[5,4,3,2,1]])\n",
    "# a3 = np.matmul(a1.T,a2)\n",
    "# a3 = a3.T\n",
    "\n",
    "color_picker_new=np.array([[0,0,1,1,1],[0,1,2,2,2],[1,2,2,3,3],[1,2,3,3,4],[2,2,3,4,4]])\n",
    "\n",
    "\n",
    "def color_indexer_new(input_arr):\n",
    "    out_arr=np.zeros(len(input_arr))\n",
    "    for i in range(0,len(input_arr)):\n",
    "        \n",
    "        out_arr[i]=(color_picker_new[input_arr[i][0]][input_arr[i][1]])\n",
    "    return out_arr"
   ]
  },
  {
   "cell_type": "code",
   "execution_count": null,
   "metadata": {},
   "outputs": [],
   "source": []
  },
  {
   "cell_type": "code",
   "execution_count": 106,
   "metadata": {},
   "outputs": [
    {
     "data": {
      "text/plain": [
       "array([0., 1., 2., 3., 4.])"
      ]
     },
     "execution_count": 106,
     "metadata": {},
     "output_type": "execute_result"
    }
   ],
   "source": [
    "presColor_500 = np.hstack([avgcolor_indexed0_1_500['pressureColor'], avgcolor_indexed0_11_500['pressureColor'],avgcolor_indexed0_21_500['pressureColor'],avgcolor_indexed0_31_500['pressureColor'],avgcolor_indexed0_41_500['pressureColor']])\n",
    "ip_arr_0=np.array([presColor_500,avg_0_500[4]])\n",
    "ip_arr_0 = ip_arr_0.T\n",
    "\n",
    "final_combined_index_500 = color_indexer_new(ip_arr_0)\n",
    "\n",
    "presColor = np.hstack([avgcolor_indexed0_1['pressureColor'], avgcolor_indexed0_11['pressureColor'],avgcolor_indexed0_21['pressureColor'],avgcolor_indexed0_31['pressureColor'],avgcolor_indexed0_41['pressureColor']])\n",
    "ip_arr=np.array([presColor,avg_0[4]])\n",
    "ip_arr = ip_arr.T\n",
    "\n",
    "final_combined_index = color_indexer_new(ip_arr)\n",
    "\n",
    "np.unique(final_combined_index)"
   ]
  },
  {
   "cell_type": "code",
   "execution_count": 107,
   "metadata": {},
   "outputs": [
    {
     "name": "stdout",
     "output_type": "stream",
     "text": [
      "[LibSVM]"
     ]
    },
    {
     "data": {
      "text/plain": [
       "0.8320126782884311"
      ]
     },
     "execution_count": 107,
     "metadata": {},
     "output_type": "execute_result"
    }
   ],
   "source": [
    "X = np.array([avg_0_500[2],avg_0_500[5],avg_0_500[6]])\n",
    "X=X.T\n",
    "\n",
    "y=final_combined_index_500\n",
    "\n",
    "y=y.astype('int')\n",
    "\n",
    "ros = RandomOverSampler(random_state=109)\n",
    "\n",
    "X_res, y_res = ros.fit_resample(X, y)\n",
    "\n",
    "X_train, X_test, y_train, y_test = train_test_split(X_res, y_res, test_size=0.20, random_state=42)\n",
    "\n",
    "clf = svm.SVC(decision_function_shape='linear',probability=False,  kernel=\"linear\", C=20, gamma=.0073,verbose=10)\n",
    "\n",
    "clf.fit(X_train,y_train)\n",
    "\n",
    "\n",
    "yhat_ts = clf.predict(X_test)\n",
    "\n",
    "acc = np.mean(yhat_ts == y_test)\n",
    "\n",
    "acc"
   ]
  },
  {
   "cell_type": "code",
   "execution_count": 108,
   "metadata": {},
   "outputs": [
    {
     "ename": "NameError",
     "evalue": "name 'confusion_matrix' is not defined",
     "output_type": "error",
     "traceback": [
      "\u001b[0;31m---------------------------------------------------------------------------\u001b[0m",
      "\u001b[0;31mNameError\u001b[0m                                 Traceback (most recent call last)",
      "\u001b[0;32m<ipython-input-108-6bc735a0547e>\u001b[0m in \u001b[0;36m<module>\u001b[0;34m\u001b[0m\n\u001b[0;32m----> 1\u001b[0;31m \u001b[0mC\u001b[0m \u001b[0;34m=\u001b[0m \u001b[0mconfusion_matrix\u001b[0m\u001b[0;34m(\u001b[0m\u001b[0my_test\u001b[0m\u001b[0;34m,\u001b[0m\u001b[0myhat_ts\u001b[0m\u001b[0;34m)\u001b[0m\u001b[0;34m\u001b[0m\u001b[0;34m\u001b[0m\u001b[0m\n\u001b[0m\u001b[1;32m      2\u001b[0m \u001b[0;34m\u001b[0m\u001b[0m\n\u001b[1;32m      3\u001b[0m \u001b[0;31m# Normalize the confusion matrix\u001b[0m\u001b[0;34m\u001b[0m\u001b[0;34m\u001b[0m\u001b[0;34m\u001b[0m\u001b[0m\n\u001b[1;32m      4\u001b[0m \u001b[0mCsum\u001b[0m \u001b[0;34m=\u001b[0m \u001b[0mnp\u001b[0m\u001b[0;34m.\u001b[0m\u001b[0msum\u001b[0m\u001b[0;34m(\u001b[0m\u001b[0mC\u001b[0m\u001b[0;34m,\u001b[0m\u001b[0;36m1\u001b[0m\u001b[0;34m)\u001b[0m\u001b[0;34m\u001b[0m\u001b[0;34m\u001b[0m\u001b[0m\n\u001b[1;32m      5\u001b[0m \u001b[0mC\u001b[0m \u001b[0;34m=\u001b[0m \u001b[0mC\u001b[0m \u001b[0;34m/\u001b[0m \u001b[0mCsum\u001b[0m\u001b[0;34m[\u001b[0m\u001b[0;32mNone\u001b[0m\u001b[0;34m,\u001b[0m\u001b[0;34m:\u001b[0m\u001b[0;34m]\u001b[0m\u001b[0;34m\u001b[0m\u001b[0;34m\u001b[0m\u001b[0m\n",
      "\u001b[0;31mNameError\u001b[0m: name 'confusion_matrix' is not defined"
     ]
    }
   ],
   "source": [
    "C = confusion_matrix(y_test,yhat_ts)\n",
    "\n",
    "# Normalize the confusion matrix\n",
    "Csum = np.sum(C,1)\n",
    "C = C / Csum[None,:]\n",
    "\n",
    "# Print the confusion matrix\n",
    "print(np.array_str(C, precision=3, suppress_small=True))\n",
    "plt.imshow(C, interpolation='none')\n",
    "plt.colorbar()"
   ]
  },
  {
   "cell_type": "code",
   "execution_count": 109,
   "metadata": {},
   "outputs": [
    {
     "ename": "NameError",
     "evalue": "name 'visualize_spread' is not defined",
     "output_type": "error",
     "traceback": [
      "\u001b[0;31m---------------------------------------------------------------------------\u001b[0m",
      "\u001b[0;31mNameError\u001b[0m                                 Traceback (most recent call last)",
      "\u001b[0;32m<ipython-input-109-6e7c56f61653>\u001b[0m in \u001b[0;36m<module>\u001b[0;34m\u001b[0m\n\u001b[0;32m----> 1\u001b[0;31m \u001b[0mvisualize_spread\u001b[0m\u001b[0;34m(\u001b[0m\u001b[0mX_test\u001b[0m\u001b[0;34m.\u001b[0m\u001b[0mT\u001b[0m\u001b[0;34m,\u001b[0m\u001b[0my_test\u001b[0m\u001b[0;34m)\u001b[0m\u001b[0;34m\u001b[0m\u001b[0;34m\u001b[0m\u001b[0m\n\u001b[0m",
      "\u001b[0;31mNameError\u001b[0m: name 'visualize_spread' is not defined"
     ]
    }
   ],
   "source": [
    "visualize_spread(X_test.T,y_test) "
   ]
  },
  {
   "cell_type": "code",
   "execution_count": null,
   "metadata": {},
   "outputs": [],
   "source": [
    "visualize_spread(X.T,y) "
   ]
  },
  {
   "cell_type": "code",
   "execution_count": 110,
   "metadata": {},
   "outputs": [
    {
     "data": {
      "text/plain": [
       "0.7564241486068112"
      ]
     },
     "execution_count": 110,
     "metadata": {},
     "output_type": "execute_result"
    }
   ],
   "source": [
    "ipmulti=np.array([avg_0[2],avg_0[5],avg_0[6]])\n",
    "ymulti=final_combined_index\n",
    "ymulti=ymulti.astype(int)\n",
    "\n",
    "yhat_ts = clf.predict(ipmulti.T)\n",
    "\n",
    "acc = np.mean(ymulti == yhat_ts)\n",
    "acc"
   ]
  },
  {
   "cell_type": "code",
   "execution_count": 111,
   "metadata": {},
   "outputs": [
    {
     "ename": "NameError",
     "evalue": "name 'confusion_matrix' is not defined",
     "output_type": "error",
     "traceback": [
      "\u001b[0;31m---------------------------------------------------------------------------\u001b[0m",
      "\u001b[0;31mNameError\u001b[0m                                 Traceback (most recent call last)",
      "\u001b[0;32m<ipython-input-111-f62dc92f4697>\u001b[0m in \u001b[0;36m<module>\u001b[0;34m\u001b[0m\n\u001b[0;32m----> 1\u001b[0;31m \u001b[0mC\u001b[0m \u001b[0;34m=\u001b[0m \u001b[0mconfusion_matrix\u001b[0m\u001b[0;34m(\u001b[0m\u001b[0mymulti\u001b[0m\u001b[0;34m,\u001b[0m\u001b[0myhat_ts\u001b[0m\u001b[0;34m)\u001b[0m\u001b[0;34m\u001b[0m\u001b[0;34m\u001b[0m\u001b[0m\n\u001b[0m\u001b[1;32m      2\u001b[0m \u001b[0;34m\u001b[0m\u001b[0m\n\u001b[1;32m      3\u001b[0m \u001b[0;31m# Normalize the confusion matrix\u001b[0m\u001b[0;34m\u001b[0m\u001b[0;34m\u001b[0m\u001b[0;34m\u001b[0m\u001b[0m\n\u001b[1;32m      4\u001b[0m \u001b[0mCsum\u001b[0m \u001b[0;34m=\u001b[0m \u001b[0mnp\u001b[0m\u001b[0;34m.\u001b[0m\u001b[0msum\u001b[0m\u001b[0;34m(\u001b[0m\u001b[0mC\u001b[0m\u001b[0;34m,\u001b[0m\u001b[0;36m1\u001b[0m\u001b[0;34m)\u001b[0m\u001b[0;34m\u001b[0m\u001b[0;34m\u001b[0m\u001b[0m\n\u001b[1;32m      5\u001b[0m \u001b[0mC\u001b[0m \u001b[0;34m=\u001b[0m \u001b[0mC\u001b[0m \u001b[0;34m/\u001b[0m \u001b[0mCsum\u001b[0m\u001b[0;34m[\u001b[0m\u001b[0;32mNone\u001b[0m\u001b[0;34m,\u001b[0m\u001b[0;34m:\u001b[0m\u001b[0;34m]\u001b[0m\u001b[0;34m\u001b[0m\u001b[0;34m\u001b[0m\u001b[0m\n",
      "\u001b[0;31mNameError\u001b[0m: name 'confusion_matrix' is not defined"
     ]
    }
   ],
   "source": [
    "C = confusion_matrix(ymulti,yhat_ts)\n",
    "\n",
    "# Normalize the confusion matrix\n",
    "Csum = np.sum(C,1)\n",
    "C = C / Csum[None,:]\n",
    "\n",
    "# Print the confusion matrix\n",
    "print(np.array_str(C, precision=3, suppress_small=True))\n",
    "plt.imshow(C, interpolation='none')\n",
    "plt.colorbar()"
   ]
  },
  {
   "cell_type": "code",
   "execution_count": null,
   "metadata": {},
   "outputs": [],
   "source": []
  },
  {
   "cell_type": "code",
   "execution_count": null,
   "metadata": {},
   "outputs": [],
   "source": []
  },
  {
   "cell_type": "code",
   "execution_count": null,
   "metadata": {},
   "outputs": [],
   "source": []
  },
  {
   "cell_type": "code",
   "execution_count": null,
   "metadata": {},
   "outputs": [],
   "source": []
  },
  {
   "cell_type": "code",
   "execution_count": null,
   "metadata": {},
   "outputs": [],
   "source": [
    "# 0.095] = 5\n",
    "# scaled_vals[scaled_vals <=0.01] = 6\n",
    "# scaled_vals[scaled_vals <=0.025] = 1\n",
    "# scaled_vals[scaled_vals <=0.05] = 2\n",
    "# scaled_vals[scaled_vals <=0.075] = 3\n",
    "# scaled_vals[scaled_vals <=0.095] = 4\n",
    "# scaled_vals[scaled_vals == 6] ="
   ]
  },
  {
   "cell_type": "code",
   "execution_count": 138,
   "metadata": {},
   "outputs": [],
   "source": [
    "color_picker=np.array([[0,0,0,0,0],[0,0,1,1,1],[0,1,2,2,2],[1,2,2,3,3],[1,2,3,3,4],[2,2,3,4,4]])\n",
    "color_picker\n",
    "def color_indexer(input_arr):\n",
    "    out_arr=np.array(input_arr)\n",
    "    for i in range(0,input_arr[0].size):\n",
    "        out_arr[0,i]=color_picker[input_arr[0,i]][0]\n",
    "        out_arr[1,i]=color_picker[input_arr[1,i]][1]\n",
    "        out_arr[2,i]=color_picker[input_arr[2,i]][2]\n",
    "        out_arr[3,i]=color_picker[input_arr[3,i]][3]\n",
    "        out_arr[4,i]=color_picker[input_arr[4,i]][4]\n",
    "\n",
    "    return out_arr"
   ]
  },
  {
   "cell_type": "code",
   "execution_count": 139,
   "metadata": {},
   "outputs": [],
   "source": [
    "#Trying the data split the way prof mentioned with the std deviattions\n",
    "\n",
    "\n",
    "def color_assigner(input_arr):\n",
    "    lim1 = 0.06\n",
    "    lim2 = 0.04\n",
    "    lim3 = 0.02\n",
    "    lim4 = 0.01\n",
    "    lim5 = 0.01\n",
    "    out_arr=np.zeros(len(input_arr))\n",
    "    j=0\n",
    "    \n",
    "    for i in range(0, len(input_arr), 5):\n",
    "        #red label\n",
    "        if input_arr[i] >= lim1:\n",
    "            out_arr[i]=3\n",
    "            \n",
    "        if input_arr[i+1]>=lim1:\n",
    "            if input_arr[i] >= lim1:\n",
    "                out_arr[i+1]=4\n",
    "                \n",
    "        if input_arr[i+2]>=lim1:\n",
    "            if input_arr[i+1] >= lim1:\n",
    "                if input_arr[i] >= lim1:\n",
    "                    out_arr[i+2]=4\n",
    "                else:\n",
    "                    out_arr[i+2]=4\n",
    "            else:\n",
    "                out_arr[i+2]=3\n",
    "        \n",
    "        if input_arr[i+3]>=lim1:\n",
    "            if input_arr[i+2]>=lim1:\n",
    "                if input_arr[i+1] >= lim1:\n",
    "                    if input_arr[i] >= lim1:\n",
    "                        out_arr[i+3]=4\n",
    "                    else:\n",
    "                        out_arr[i+3]=4\n",
    "                else:\n",
    "                    out_arr[i+3]=4\n",
    "            else:\n",
    "                out_arr[i+3]=3\n",
    "        \n",
    "        if input_arr[i+4]>=lim1:\n",
    "            if input_arr[i+3]>=lim1:\n",
    "                if input_arr[i+2]>=lim1:\n",
    "                    if input_arr[i+1] >= lim1:\n",
    "                        if input_arr[i] >= lim1:\n",
    "                            out_arr[i+4]=4\n",
    "                        else:\n",
    "                            out_arr[i+4]=4\n",
    "                    else:\n",
    "                        out_arr[i+4]=4\n",
    "                else:\n",
    "                    out_arr[i+4]=4\n",
    "            else:\n",
    "                out_arr[i+4]=3        \n",
    "        \n",
    "        #orange\n",
    "        \n",
    "        if input_arr[i] < lim1 and input_arr[i]>=lim2:\n",
    "            out_arr[i]=2\n",
    "            \n",
    "        if input_arr[i+1] < lim1 and input_arr[i+1]>=lim2:\n",
    "            if input_arr[i] < lim1 and input_arr[i]>=lim2:\n",
    "                out_arr[i+1]=3\n",
    "                \n",
    "        if input_arr[i+2] < lim1 and input_arr[i+2]>=lim2:\n",
    "            if input_arr[i+1] < lim1 and input_arr[i+1]>=lim2:\n",
    "                if input_arr[i] < lim1 and input_arr[i]>=lim2:\n",
    "                    out_arr[i+2]=4\n",
    "                else:\n",
    "                    out_arr[i+2]=3\n",
    "            else:\n",
    "                out_arr[i+2]=2\n",
    "        \n",
    "        if input_arr[i+3] < lim1 and input_arr[i+3]>=lim2:\n",
    "            if input_arr[i+2] < lim1 and input_arr[i+2]>=lim2:\n",
    "                if input_arr[i+1] < lim1 and input_arr[i+1]>=lim2:\n",
    "                    if input_arr[i] < lim1 and input_arr[i]>=lim2:\n",
    "                        out_arr[i+3]=4\n",
    "                    else:\n",
    "                        out_arr[i+3]=4\n",
    "                else:\n",
    "                    out_arr[i+3]=3\n",
    "            else:\n",
    "                out_arr[i+3]=2\n",
    "        \n",
    "        if input_arr[i+4] < lim1 and input_arr[i+4]>=lim2:\n",
    "            if input_arr[i+3] < lim1 and input_arr[i+3]>=lim2:\n",
    "                if input_arr[i+2] < lim1 and input_arr[i+2]>=lim2:\n",
    "                    if input_arr[i+1] < lim1 and input_arr[i+1]>=lim2:\n",
    "                        if input_arr[i] < lim1 and input_arr[i]>=lim2:\n",
    "                            out_arr[i+3]=4\n",
    "                        else:\n",
    "                            out_arr[i+4]=4\n",
    "                    else:\n",
    "                        out_arr[i+4]=4\n",
    "                else:\n",
    "                    out_arr[i+4]=3\n",
    "            else:\n",
    "                out_arr[i+4]=2 \n",
    "        \n",
    "        # yellow\n",
    "        \n",
    "        if input_arr[i] < lim2 and input_arr[i]>=lim3:\n",
    "            out_arr[i]=1\n",
    "        \n",
    "        if input_arr[i+1] < lim2 and input_arr[i+1]>=lim3:\n",
    "            if input_arr[i] < lim2 and input_arr[i]>=lim3:\n",
    "                out_arr[i+1]=2\n",
    "                \n",
    "        if input_arr[i+2] < lim2 and input_arr[i+2]>=lim3:\n",
    "            if input_arr[i+1] < lim2 and input_arr[i+1]>=lim3:\n",
    "                if input_arr[i] < lim2 and input_arr[i]>=lim3:\n",
    "                    out_arr[i+2]=3\n",
    "                else:\n",
    "                    out_arr[i+2]=2\n",
    "            else:\n",
    "                out_arr[i+2]=1\n",
    "        \n",
    "        if input_arr[i+3] < lim2 and input_arr[i+3]>=lim3:\n",
    "            if input_arr[i+2] < lim2 and input_arr[i+2]>=lim3:\n",
    "                if input_arr[i+1] < lim2 and input_arr[i+1]>=lim3:\n",
    "                    if input_arr[i] < lim2 and input_arr[i]>=lim3:\n",
    "                        out_arr[i+3]=4\n",
    "                    else:\n",
    "                        out_arr[i+3]=3\n",
    "                else:\n",
    "                    out_arr[i+3]=2\n",
    "            else:\n",
    "                out_arr[i+3]=1\n",
    "        \n",
    "        if input_arr[i+4] < lim2 and input_arr[i+4]>=lim3:\n",
    "            if input_arr[i+3] < lim2 and input_arr[i+3]>=lim3:\n",
    "                if input_arr[i+2] < lim2 and input_arr[i+2]>=lim3:\n",
    "                    if input_arr[i+1] < lim2 and input_arr[i+1]>=lim3:\n",
    "                        if input_arr[i] < lim2 and input_arr[i]>=lim3:\n",
    "                            out_arr[i+4]=4\n",
    "                        else:\n",
    "                            out_arr[i+4]=3\n",
    "                    else:\n",
    "                        out_arr[i+4]=3\n",
    "                else:\n",
    "                    out_arr[i+4]=2\n",
    "            else:\n",
    "                out_arr[i+4]=1\n",
    "        \n",
    "        #green\n",
    "        \n",
    "        if input_arr[i] < lim3 and input_arr[i]>=lim4:\n",
    "            out_arr[i]=0\n",
    "        \n",
    "        if input_arr[i+1] < lim3 and input_arr[i+1]>=lim4:\n",
    "            if input_arr[i] < lim3 and input_arr[i]>=lim4:\n",
    "                out_arr[i+1]=1\n",
    "                \n",
    "        if input_arr[i+2] < lim3 and input_arr[i+2]>=lim4:\n",
    "            if input_arr[i+1] < lim3 and input_arr[i+1]>=lim4:\n",
    "                if input_arr[i] < lim3 and input_arr[i]>=lim4:\n",
    "                    out_arr[i+2]=2\n",
    "                else:\n",
    "                    out_arr[i+2]=1\n",
    "            else:\n",
    "                out_arr[i+2]=0\n",
    "        \n",
    "        if input_arr[i+3] < lim3 and input_arr[i+3]>=lim4:\n",
    "            if input_arr[i+2] < lim3 and input_arr[i+2]>=lim4:\n",
    "                if input_arr[i+1] < lim3 and input_arr[i+1]>=lim4:\n",
    "                    if input_arr[i] < lim3 and input_arr[i]>=lim4:\n",
    "                        out_arr[i+3]=3\n",
    "                    else:\n",
    "                        out_arr[i+3]=2\n",
    "                else:\n",
    "                    out_arr[i+3]=1\n",
    "            else:\n",
    "                out_arr[i+3]=0\n",
    "        \n",
    "        if input_arr[i+4] < lim3 and input_arr[i+4]>=lim4:\n",
    "            if input_arr[i+3] < lim3 and input_arr[i+3]>=lim4:\n",
    "                if input_arr[i+2] < lim3 and input_arr[i+2]>=lim4:\n",
    "                    if input_arr[i+1] < lim3 and input_arr[i+1]>=lim4:\n",
    "                        if input_arr[i] < lim3 and input_arr[i]>=lim4:\n",
    "                            out_arr[i+4]=3\n",
    "                        else:\n",
    "                            out_arr[i+4]=3\n",
    "                    else:\n",
    "                        out_arr[i+4]=2\n",
    "                else:\n",
    "                    out_arr[i+4]=1\n",
    "            else:\n",
    "                out_arr[i+4]=0\n",
    "    \n",
    "    \n",
    "        #blue\n",
    "        if input_arr[i] < lim4:\n",
    "            out_arr[i]=0\n",
    "            \n",
    "        if input_arr[i+1]<lim4:\n",
    "            if input_arr[i] < lim4:\n",
    "                out_arr[i+1]=0\n",
    "                \n",
    "        if input_arr[i+2]<lim4:\n",
    "            if input_arr[i+1] < lim4:\n",
    "                if input_arr[i] < lim4:\n",
    "                    out_arr[i+2]=1\n",
    "                else:\n",
    "                    out_arr[i+2]=0\n",
    "            else:\n",
    "                out_arr[i+2]=0\n",
    "        \n",
    "        if input_arr[i+3]<lim4:\n",
    "            if input_arr[i+2]<lim4:\n",
    "                if input_arr[i+1] < lim4:\n",
    "                    if input_arr[i] < lim4:\n",
    "                        out_arr[i+3]=2\n",
    "                    else:\n",
    "                        out_arr[i+3]=1\n",
    "                else:\n",
    "                    out_arr[i+3]=0\n",
    "            else:\n",
    "                out_arr[i+3]=0\n",
    "        \n",
    "        if input_arr[i+4]<lim4:\n",
    "            if input_arr[i+3]<lim4:\n",
    "                if input_arr[i+2]<lim4:\n",
    "                    if input_arr[i+1] < lim4:\n",
    "                        if input_arr[i] < lim4:\n",
    "                            out_arr[i+4]=2\n",
    "                        else:\n",
    "                            out_arr[i+4]=2\n",
    "                    else:\n",
    "                        out_arr[i+4]=1\n",
    "                else:\n",
    "                    out_arr[i+4]=0\n",
    "            else:\n",
    "                out_arr[i+4]=0\n",
    "        \n",
    "        \n",
    "        \n",
    "    return out_arr\n",
    "        "
   ]
  },
  {
   "cell_type": "code",
   "execution_count": 140,
   "metadata": {},
   "outputs": [],
   "source": [
    "scaled_temp=np.vstack([cal_diff0_1.VELOpipeFPS,cal_diff0_11.VELOpipeFPS,cal_diff0_21.VELOpipeFPS,cal_diff0_31.VELOpipeFPS,cal_diff0_41.VELOpipeFPS])\n",
    "#vals=color_assigner(scaled_temp)\n",
    "#np.unique(vals)\n",
    "#np.unique(scaled_temp[2,:]>=0.1)"
   ]
  },
  {
   "cell_type": "code",
   "execution_count": 141,
   "metadata": {},
   "outputs": [
    {
     "data": {
      "text/plain": [
       "(array([0., 1., 2., 3., 4.]), array([499, 233, 268,  19,   6]))"
      ]
     },
     "execution_count": 141,
     "metadata": {},
     "output_type": "execute_result"
    }
   ],
   "source": [
    "newArr=np.ndarray((len(avg_0_500[5]),2))\n",
    "o=0\n",
    "for i,j,k,l,m in zip(cal_diff0_1_500.VELOpipeFPS,cal_diff0_11_500.VELOpipeFPS,cal_diff0_21_500.VELOpipeFPS,cal_diff0_31_500.VELOpipeFPS,cal_diff0_41_500.VELOpipeFPS):\n",
    "    newArr[o]=[i,0]\n",
    "    o+=1\n",
    "    newArr[o]=[j,1]\n",
    "    o+=1\n",
    "    newArr[o]=[k,2]\n",
    "    o+=1\n",
    "    newArr[o]=[l,3]\n",
    "    o+=1\n",
    "    newArr[o]=[m,4]\n",
    "    o+=1\n",
    "vals=color_assigner(newArr[:,0])\n",
    "np.unique(vals, return_counts=True)"
   ]
  },
  {
   "cell_type": "code",
   "execution_count": 142,
   "metadata": {},
   "outputs": [],
   "source": [
    "newArr_test=np.ndarray((len(avg_0[5]),2))\n",
    "o=0\n",
    "for i,j,k,l,m in zip(cal_diff0_1.VELOpipeFPS,cal_diff0_11.VELOpipeFPS,cal_diff0_21.VELOpipeFPS,cal_diff0_31.VELOpipeFPS,cal_diff0_41.VELOpipeFPS):\n",
    "    newArr_test[o]=[i,0]\n",
    "    o+=1\n",
    "    newArr_test[o]=[j,1]\n",
    "    o+=1\n",
    "    newArr_test[o]=[k,2]\n",
    "    o+=1\n",
    "    newArr_test[o]=[l,3]\n",
    "    o+=1\n",
    "    newArr_test[o]=[m,4]\n",
    "    o+=1\n",
    "validation_labels=color_assigner(newArr_test[:,0])\n"
   ]
  },
  {
   "cell_type": "code",
   "execution_count": null,
   "metadata": {},
   "outputs": [],
   "source": []
  },
  {
   "cell_type": "code",
   "execution_count": 143,
   "metadata": {},
   "outputs": [],
   "source": [
    "np.savetxt(\"./data/myDataTesting.txt\",newArr[:,0],delimiter=\",\",fmt='%s')"
   ]
  },
  {
   "cell_type": "code",
   "execution_count": 144,
   "metadata": {},
   "outputs": [
    {
     "name": "stdout",
     "output_type": "stream",
     "text": [
      "[LibSVM]"
     ]
    },
    {
     "data": {
      "text/plain": [
       "0.7073170731707317"
      ]
     },
     "execution_count": 144,
     "metadata": {},
     "output_type": "execute_result"
    }
   ],
   "source": [
    "\n",
    "X=newArr\n",
    "\n",
    "y=vals\n",
    "\n",
    "ros = RandomUnderSampler(random_state=42)\n",
    "\n",
    "#X_res, y_res = ros.fit_resample(X, y)\n",
    "\n",
    "X_train, X_test, y_train, y_test = train_test_split(X, y, test_size=0.20, random_state=42)\n",
    "\n",
    "#y_train=y_train.astype('int')\n",
    "#y_test=y_test.astype('int')\n",
    "#y = y.astype('int')\n",
    "\n",
    "svc1 = svm.SVC(probability=False,  kernel=\"linear\", C=2.3, gamma=.0073,verbose=10)\n",
    "svc1.fit(X_train,y_train)\n",
    "\n",
    "\n",
    "yhat_ts = svc1.predict(X_test)\n",
    "\n",
    "acc = np.mean(y_test == yhat_ts)\n",
    "acc"
   ]
  },
  {
   "cell_type": "code",
   "execution_count": 145,
   "metadata": {},
   "outputs": [
    {
     "name": "stdout",
     "output_type": "stream",
     "text": [
      "[0.001 0.007 0.016 0.025 0.03 ]\n"
     ]
    },
    {
     "data": {
      "text/plain": [
       "array([0., 0., 0., 1., 2.])"
      ]
     },
     "execution_count": 145,
     "metadata": {},
     "output_type": "execute_result"
    }
   ],
   "source": [
    "print(newArr[0:5,0])\n",
    "vals[0:5]"
   ]
  },
  {
   "cell_type": "code",
   "execution_count": 146,
   "metadata": {},
   "outputs": [
    {
     "ename": "NameError",
     "evalue": "name 'confusion_matrix' is not defined",
     "output_type": "error",
     "traceback": [
      "\u001b[0;31m---------------------------------------------------------------------------\u001b[0m",
      "\u001b[0;31mNameError\u001b[0m                                 Traceback (most recent call last)",
      "\u001b[0;32m<ipython-input-146-6bc735a0547e>\u001b[0m in \u001b[0;36m<module>\u001b[0;34m\u001b[0m\n\u001b[0;32m----> 1\u001b[0;31m \u001b[0mC\u001b[0m \u001b[0;34m=\u001b[0m \u001b[0mconfusion_matrix\u001b[0m\u001b[0;34m(\u001b[0m\u001b[0my_test\u001b[0m\u001b[0;34m,\u001b[0m\u001b[0myhat_ts\u001b[0m\u001b[0;34m)\u001b[0m\u001b[0;34m\u001b[0m\u001b[0;34m\u001b[0m\u001b[0m\n\u001b[0m\u001b[1;32m      2\u001b[0m \u001b[0;34m\u001b[0m\u001b[0m\n\u001b[1;32m      3\u001b[0m \u001b[0;31m# Normalize the confusion matrix\u001b[0m\u001b[0;34m\u001b[0m\u001b[0;34m\u001b[0m\u001b[0;34m\u001b[0m\u001b[0m\n\u001b[1;32m      4\u001b[0m \u001b[0mCsum\u001b[0m \u001b[0;34m=\u001b[0m \u001b[0mnp\u001b[0m\u001b[0;34m.\u001b[0m\u001b[0msum\u001b[0m\u001b[0;34m(\u001b[0m\u001b[0mC\u001b[0m\u001b[0;34m,\u001b[0m\u001b[0;36m1\u001b[0m\u001b[0;34m)\u001b[0m\u001b[0;34m\u001b[0m\u001b[0;34m\u001b[0m\u001b[0m\n\u001b[1;32m      5\u001b[0m \u001b[0mC\u001b[0m \u001b[0;34m=\u001b[0m \u001b[0mC\u001b[0m \u001b[0;34m/\u001b[0m \u001b[0mCsum\u001b[0m\u001b[0;34m[\u001b[0m\u001b[0;32mNone\u001b[0m\u001b[0;34m,\u001b[0m\u001b[0;34m:\u001b[0m\u001b[0;34m]\u001b[0m\u001b[0;34m\u001b[0m\u001b[0;34m\u001b[0m\u001b[0m\n",
      "\u001b[0;31mNameError\u001b[0m: name 'confusion_matrix' is not defined"
     ]
    }
   ],
   "source": [
    "C = confusion_matrix(y_test,yhat_ts)\n",
    "\n",
    "# Normalize the confusion matrix\n",
    "Csum = np.sum(C,1)\n",
    "C = C / Csum[None,:]\n",
    "\n",
    "# Print the confusion matrix\n",
    "print(np.array_str(C, precision=3, suppress_small=True))\n",
    "plt.imshow(C, interpolation='none')\n",
    "plt.colorbar()"
   ]
  },
  {
   "cell_type": "code",
   "execution_count": 147,
   "metadata": {},
   "outputs": [
    {
     "name": "stdout",
     "output_type": "stream",
     "text": [
      "0.7599458204334365\n"
     ]
    },
    {
     "ename": "NameError",
     "evalue": "name 'confusion_matrix' is not defined",
     "output_type": "error",
     "traceback": [
      "\u001b[0;31m---------------------------------------------------------------------------\u001b[0m",
      "\u001b[0;31mNameError\u001b[0m                                 Traceback (most recent call last)",
      "\u001b[0;32m<ipython-input-147-61d560a2af27>\u001b[0m in \u001b[0;36m<module>\u001b[0;34m\u001b[0m\n\u001b[1;32m      4\u001b[0m \u001b[0mprint\u001b[0m\u001b[0;34m(\u001b[0m\u001b[0macc\u001b[0m\u001b[0;34m)\u001b[0m\u001b[0;34m\u001b[0m\u001b[0;34m\u001b[0m\u001b[0m\n\u001b[1;32m      5\u001b[0m \u001b[0;34m\u001b[0m\u001b[0m\n\u001b[0;32m----> 6\u001b[0;31m \u001b[0mC\u001b[0m \u001b[0;34m=\u001b[0m \u001b[0mconfusion_matrix\u001b[0m\u001b[0;34m(\u001b[0m\u001b[0mvalidation_labels\u001b[0m\u001b[0;34m,\u001b[0m\u001b[0myhat_ts_full\u001b[0m\u001b[0;34m)\u001b[0m\u001b[0;34m\u001b[0m\u001b[0;34m\u001b[0m\u001b[0m\n\u001b[0m\u001b[1;32m      7\u001b[0m \u001b[0;34m\u001b[0m\u001b[0m\n\u001b[1;32m      8\u001b[0m \u001b[0;31m# Normalize the confusion matrix\u001b[0m\u001b[0;34m\u001b[0m\u001b[0;34m\u001b[0m\u001b[0;34m\u001b[0m\u001b[0m\n",
      "\u001b[0;31mNameError\u001b[0m: name 'confusion_matrix' is not defined"
     ]
    }
   ],
   "source": [
    "yhat_ts_full = svc1.predict(newArr_test)\n",
    "\n",
    "acc = np.mean(validation_labels== yhat_ts_full)\n",
    "print(acc)\n",
    "\n",
    "C = confusion_matrix(validation_labels,yhat_ts_full)\n",
    "\n",
    "# Normalize the confusion matrix\n",
    "Csum = np.sum(C,1)\n",
    "C = C / Csum[None,:]\n",
    "\n",
    "# Print the confusion matrix\n",
    "print(np.array_str(C, precision=3, suppress_small=True))\n",
    "plt.imshow(C, interpolation='none')\n",
    "plt.colorbar()"
   ]
  },
  {
   "cell_type": "code",
   "execution_count": 148,
   "metadata": {},
   "outputs": [
    {
     "data": {
      "text/plain": [
       "4"
      ]
     },
     "execution_count": 148,
     "metadata": {},
     "output_type": "execute_result"
    }
   ],
   "source": [
    "np.max(cal_diff0_41_500.VELOpipeFPS)\n",
    "np.max(cal_diff0_31_500.VELOpipeFPS)\n",
    "np.max(cal_diff0_11_500.VELOpipeFPS)\n",
    "k=0\n",
    "for i in cal_diff0_31.VELOpipeFPS:\n",
    "    if i>=0.07:\n",
    "        k+=1\n",
    "k\n"
   ]
  },
  {
   "cell_type": "code",
   "execution_count": null,
   "metadata": {},
   "outputs": [],
   "source": []
  },
  {
   "cell_type": "code",
   "execution_count": 149,
   "metadata": {},
   "outputs": [],
   "source": [
    "arr1 = np.loadtxt('./data/nodes/day5.txt')\n",
    "arr2 = np.loadtxt('./data/nodes/day4.txt')\n",
    "arr3 = np.loadtxt('./data/nodes/day3.txt')\n",
    "arr4 = np.loadtxt('./data/nodes/day2.txt')\n",
    "arr5 = np.loadtxt('./data/nodes/day1.txt')\n",
    "\n",
    "final_arr=np.ndarray((len(arr1)*5))\n",
    "o=0\n",
    "for i,j,k,l,m in zip(arr1,arr2,arr3,arr4,arr5):\n",
    "    final_arr[o]=i\n",
    "    o+=1\n",
    "    final_arr[o]=j\n",
    "    o+=1\n",
    "    final_arr[o]=k\n",
    "    o+=1\n",
    "    final_arr[o]=l\n",
    "    o+=1\n",
    "    final_arr[o]=m\n",
    "    o+=1\n",
    "np.savetxt('./data/nodes/combined_training_testing.txt',final_arr,delimiter=\",\",fmt='%s')\n",
    "\n"
   ]
  },
  {
   "cell_type": "code",
   "execution_count": null,
   "metadata": {},
   "outputs": [],
   "source": []
  },
  {
   "cell_type": "code",
   "execution_count": 150,
   "metadata": {},
   "outputs": [],
   "source": [
    "an_free = np.loadtxt('./data/nodes/an_free.txt')\n",
    "final_arr=np.ndarray((len(an_free)*5))\n",
    "o=0\n",
    "for i in an_free:\n",
    "    final_arr[o]=i\n",
    "    o+=1\n",
    "    final_arr[o]=i\n",
    "    o+=1\n",
    "    final_arr[o]=i\n",
    "    o+=1\n",
    "    final_arr[o]=i\n",
    "    o+=1\n",
    "    final_arr[o]=i\n",
    "    o+=1\n",
    "np.savetxt('./data/nodes/combined_an_free.txt',final_arr,delimiter=\",\",fmt='%s')\n"
   ]
  },
  {
   "cell_type": "code",
   "execution_count": 151,
   "metadata": {},
   "outputs": [],
   "source": [
    "def color_assigner_greater(input_arr):\n",
    "    lim1 = 0.07\n",
    "    lim2 = 0.05\n",
    "    lim3 = 0.03\n",
    "    lim4 = 0.01\n",
    "    lim5 = 0.01\n",
    "    out_arr=np.zeros(len(cal_diff0_41_500.VELOpipeFPS))\n",
    "    k=0\n",
    "    for i in range(0, len(input_arr), 5):\n",
    "        ctr=0\n",
    "        for j in range(i,i+5):\n",
    "            if input_arr[j]>=lim1:\n",
    "                ctr+=1\n",
    "        if ctr == 1:\n",
    "            out_arr[k]=3\n",
    "        elif ctr>=2:\n",
    "            out_arr[k]=4\n",
    "            \n",
    "        ctr=0\n",
    "        for j in range(i,i+5):\n",
    "            if input_arr[j]>=lim2:\n",
    "                ctr+=1\n",
    "        if ctr >= 4 and out_arr[k] < 4:\n",
    "            out_arr[k]=4\n",
    "        elif ctr >= 2 and out_arr[k] < 3:\n",
    "            out_arr[k]=3\n",
    "        elif ctr == 1 and out_arr[k] < 2:\n",
    "            out_arr[k]=2\n",
    "            \n",
    "        ctr=0\n",
    "        for j in range(i,i+5):\n",
    "            if input_arr[j]>=lim3:\n",
    "                ctr+=1\n",
    "        if ctr >=4 and out_arr[k] <3:\n",
    "            out_arr[k] = 3\n",
    "        elif ctr >=2 and out_arr[k] <2:\n",
    "            out_arr[k] = 2\n",
    "        elif ctr == 1 and out_arr[k] <1:\n",
    "            out_arr[k]=1\n",
    "        #elif ctr == 1 and out_arr[k] <1:\n",
    "        #    out_arr[k]=1\n",
    "        \n",
    "        ctr=0\n",
    "        for j in range(i,i+5):\n",
    "            if input_arr[j]>=lim4:\n",
    "                ctr+=1\n",
    "        if ctr >= 4 and out_arr[k] <2:\n",
    "            out_arr[k]=2\n",
    "        elif ctr>=2 and out_arr[k] <1:\n",
    "            out_arr[k]=1\n",
    "        #elif ctr==2 and out_arr[k] < 1:\n",
    "        #    out_arr[k]=1\n",
    "        \n",
    "        \n",
    "        ctr=0\n",
    "        for j in range(i,i+5):\n",
    "            if input_arr[j]<lim4:\n",
    "                ctr+=1\n",
    "        if ctr >=4 and out_arr[k] < 1:\n",
    "            out_arr[k] = 1\n",
    "        \n",
    "        k+=1\n",
    "    \n",
    "    return out_arr"
   ]
  },
  {
   "cell_type": "code",
   "execution_count": 152,
   "metadata": {},
   "outputs": [
    {
     "data": {
      "text/plain": [
       "(array([1., 2., 3., 4.]), array([161,  39,   1,   4]))"
      ]
     },
     "execution_count": 152,
     "metadata": {},
     "output_type": "execute_result"
    }
   ],
   "source": [
    "newArr=np.ndarray((len(avg_0_500[5]),2))\n",
    "o=0\n",
    "for i,j,k,l,m in zip(cal_diff0_1_500.VELOpipeFPS,cal_diff0_11_500.VELOpipeFPS,cal_diff0_21_500.VELOpipeFPS,cal_diff0_31_500.VELOpipeFPS,cal_diff0_41_500.VELOpipeFPS):\n",
    "    newArr[o]=[i,0]\n",
    "    o+=1\n",
    "    newArr[o]=[j,1]\n",
    "    o+=1\n",
    "    newArr[o]=[k,2]\n",
    "    o+=1\n",
    "    newArr[o]=[l,3]\n",
    "    o+=1\n",
    "    newArr[o]=[m,4]\n",
    "    o+=1\n",
    "vals=color_assigner_greater(newArr[:,0])\n",
    "np.unique(vals, return_counts=True)"
   ]
  },
  {
   "cell_type": "code",
   "execution_count": 153,
   "metadata": {},
   "outputs": [
    {
     "data": {
      "text/plain": [
       "array([0.004, 0.037, 0.066, 0.092, 0.122])"
      ]
     },
     "execution_count": 153,
     "metadata": {},
     "output_type": "execute_result"
    }
   ],
   "source": [
    "newArr[425:430,0]"
   ]
  },
  {
   "cell_type": "code",
   "execution_count": 154,
   "metadata": {
    "collapsed": true
   },
   "outputs": [
    {
     "ename": "ValueError",
     "evalue": "Found input variables with inconsistent numbers of samples: [1025, 205]",
     "output_type": "error",
     "traceback": [
      "\u001b[0;31m---------------------------------------------------------------------------\u001b[0m",
      "\u001b[0;31mValueError\u001b[0m                                Traceback (most recent call last)",
      "\u001b[0;32m<ipython-input-154-5ab517937175>\u001b[0m in \u001b[0;36m<module>\u001b[0;34m\u001b[0m\n\u001b[1;32m     11\u001b[0m \u001b[0;31m#X_res, y_res = ros.fit_resample(X, y)\u001b[0m\u001b[0;34m\u001b[0m\u001b[0;34m\u001b[0m\u001b[0;34m\u001b[0m\u001b[0m\n\u001b[1;32m     12\u001b[0m \u001b[0;34m\u001b[0m\u001b[0m\n\u001b[0;32m---> 13\u001b[0;31m \u001b[0mX_train\u001b[0m\u001b[0;34m,\u001b[0m \u001b[0mX_test\u001b[0m\u001b[0;34m,\u001b[0m \u001b[0my_train\u001b[0m\u001b[0;34m,\u001b[0m \u001b[0my_test\u001b[0m \u001b[0;34m=\u001b[0m \u001b[0mtrain_test_split\u001b[0m\u001b[0;34m(\u001b[0m\u001b[0mX\u001b[0m\u001b[0;34m,\u001b[0m \u001b[0my\u001b[0m\u001b[0;34m,\u001b[0m \u001b[0mtest_size\u001b[0m\u001b[0;34m=\u001b[0m\u001b[0;36m0.20\u001b[0m\u001b[0;34m,\u001b[0m \u001b[0mrandom_state\u001b[0m\u001b[0;34m=\u001b[0m\u001b[0;36m42\u001b[0m\u001b[0;34m)\u001b[0m\u001b[0;34m\u001b[0m\u001b[0;34m\u001b[0m\u001b[0m\n\u001b[0m\u001b[1;32m     14\u001b[0m \u001b[0;34m\u001b[0m\u001b[0m\n\u001b[1;32m     15\u001b[0m \u001b[0;31m#y_train=y_train.astype('int')\u001b[0m\u001b[0;34m\u001b[0m\u001b[0;34m\u001b[0m\u001b[0;34m\u001b[0m\u001b[0m\n",
      "\u001b[0;32m/Library/Frameworks/Python.framework/Versions/3.6/lib/python3.6/site-packages/sklearn/model_selection/_split.py\u001b[0m in \u001b[0;36mtrain_test_split\u001b[0;34m(*arrays, **options)\u001b[0m\n\u001b[1;32m   2116\u001b[0m         \u001b[0;32mraise\u001b[0m \u001b[0mTypeError\u001b[0m\u001b[0;34m(\u001b[0m\u001b[0;34m\"Invalid parameters passed: %s\"\u001b[0m \u001b[0;34m%\u001b[0m \u001b[0mstr\u001b[0m\u001b[0;34m(\u001b[0m\u001b[0moptions\u001b[0m\u001b[0;34m)\u001b[0m\u001b[0;34m)\u001b[0m\u001b[0;34m\u001b[0m\u001b[0;34m\u001b[0m\u001b[0m\n\u001b[1;32m   2117\u001b[0m \u001b[0;34m\u001b[0m\u001b[0m\n\u001b[0;32m-> 2118\u001b[0;31m     \u001b[0marrays\u001b[0m \u001b[0;34m=\u001b[0m \u001b[0mindexable\u001b[0m\u001b[0;34m(\u001b[0m\u001b[0;34m*\u001b[0m\u001b[0marrays\u001b[0m\u001b[0;34m)\u001b[0m\u001b[0;34m\u001b[0m\u001b[0;34m\u001b[0m\u001b[0m\n\u001b[0m\u001b[1;32m   2119\u001b[0m \u001b[0;34m\u001b[0m\u001b[0m\n\u001b[1;32m   2120\u001b[0m     \u001b[0mn_samples\u001b[0m \u001b[0;34m=\u001b[0m \u001b[0m_num_samples\u001b[0m\u001b[0;34m(\u001b[0m\u001b[0marrays\u001b[0m\u001b[0;34m[\u001b[0m\u001b[0;36m0\u001b[0m\u001b[0;34m]\u001b[0m\u001b[0;34m)\u001b[0m\u001b[0;34m\u001b[0m\u001b[0;34m\u001b[0m\u001b[0m\n",
      "\u001b[0;32m/Library/Frameworks/Python.framework/Versions/3.6/lib/python3.6/site-packages/sklearn/utils/validation.py\u001b[0m in \u001b[0;36mindexable\u001b[0;34m(*iterables)\u001b[0m\n\u001b[1;32m    246\u001b[0m     \"\"\"\n\u001b[1;32m    247\u001b[0m     \u001b[0mresult\u001b[0m \u001b[0;34m=\u001b[0m \u001b[0;34m[\u001b[0m\u001b[0m_make_indexable\u001b[0m\u001b[0;34m(\u001b[0m\u001b[0mX\u001b[0m\u001b[0;34m)\u001b[0m \u001b[0;32mfor\u001b[0m \u001b[0mX\u001b[0m \u001b[0;32min\u001b[0m \u001b[0miterables\u001b[0m\u001b[0;34m]\u001b[0m\u001b[0;34m\u001b[0m\u001b[0;34m\u001b[0m\u001b[0m\n\u001b[0;32m--> 248\u001b[0;31m     \u001b[0mcheck_consistent_length\u001b[0m\u001b[0;34m(\u001b[0m\u001b[0;34m*\u001b[0m\u001b[0mresult\u001b[0m\u001b[0;34m)\u001b[0m\u001b[0;34m\u001b[0m\u001b[0;34m\u001b[0m\u001b[0m\n\u001b[0m\u001b[1;32m    249\u001b[0m     \u001b[0;32mreturn\u001b[0m \u001b[0mresult\u001b[0m\u001b[0;34m\u001b[0m\u001b[0;34m\u001b[0m\u001b[0m\n\u001b[1;32m    250\u001b[0m \u001b[0;34m\u001b[0m\u001b[0m\n",
      "\u001b[0;32m/Library/Frameworks/Python.framework/Versions/3.6/lib/python3.6/site-packages/sklearn/utils/validation.py\u001b[0m in \u001b[0;36mcheck_consistent_length\u001b[0;34m(*arrays)\u001b[0m\n\u001b[1;32m    210\u001b[0m     \u001b[0;32mif\u001b[0m \u001b[0mlen\u001b[0m\u001b[0;34m(\u001b[0m\u001b[0muniques\u001b[0m\u001b[0;34m)\u001b[0m \u001b[0;34m>\u001b[0m \u001b[0;36m1\u001b[0m\u001b[0;34m:\u001b[0m\u001b[0;34m\u001b[0m\u001b[0;34m\u001b[0m\u001b[0m\n\u001b[1;32m    211\u001b[0m         raise ValueError(\"Found input variables with inconsistent numbers of\"\n\u001b[0;32m--> 212\u001b[0;31m                          \" samples: %r\" % [int(l) for l in lengths])\n\u001b[0m\u001b[1;32m    213\u001b[0m \u001b[0;34m\u001b[0m\u001b[0m\n\u001b[1;32m    214\u001b[0m \u001b[0;34m\u001b[0m\u001b[0m\n",
      "\u001b[0;31mValueError\u001b[0m: Found input variables with inconsistent numbers of samples: [1025, 205]"
     ]
    }
   ],
   "source": [
    "#newArr and vals\n",
    "\n",
    "from sklearn.model_selection import cross_val_score\n",
    "\n",
    "X=newArr\n",
    "\n",
    "y=vals\n",
    "\n",
    "ros = RandomUnderSampler(random_state=42)\n",
    "\n",
    "#X_res, y_res = ros.fit_resample(X, y)\n",
    "\n",
    "X_train, X_test, y_train, y_test = train_test_split(X, y, test_size=0.20, random_state=42)\n",
    "\n",
    "#y_train=y_train.astype('int')\n",
    "#y_test=y_test.astype('int')\n",
    "#y = y.astype('int')\n",
    "\n",
    "\n",
    "clf = svm.SVC(probability=False,  kernel=\"linear\", C=10, gamma=.0073,verbose=10)\n",
    "clf.fit(X_train,y_train)\n",
    "\n",
    "\n",
    "yhat_ts = clf.predict(X_test)\n",
    "\n"
   ]
  },
  {
   "cell_type": "code",
   "execution_count": 129,
   "metadata": {
    "collapsed": true
   },
   "outputs": [
    {
     "ename": "ValueError",
     "evalue": "Found input variables with inconsistent numbers of samples: [1025, 205]",
     "output_type": "error",
     "traceback": [
      "\u001b[0;31m---------------------------------------------------------------------------\u001b[0m",
      "\u001b[0;31mValueError\u001b[0m                                Traceback (most recent call last)",
      "\u001b[0;32m<ipython-input-129-3eb0e6e536ee>\u001b[0m in \u001b[0;36m<module>\u001b[0;34m\u001b[0m\n\u001b[0;32m----> 1\u001b[0;31m \u001b[0mscores\u001b[0m \u001b[0;34m=\u001b[0m \u001b[0mcross_val_score\u001b[0m\u001b[0;34m(\u001b[0m\u001b[0mclf\u001b[0m\u001b[0;34m,\u001b[0m \u001b[0mX\u001b[0m\u001b[0;34m,\u001b[0m \u001b[0my\u001b[0m\u001b[0;34m,\u001b[0m \u001b[0mcv\u001b[0m\u001b[0;34m=\u001b[0m\u001b[0;36m10\u001b[0m\u001b[0;34m)\u001b[0m\u001b[0;34m\u001b[0m\u001b[0;34m\u001b[0m\u001b[0m\n\u001b[0m\u001b[1;32m      2\u001b[0m \u001b[0mscores\u001b[0m\u001b[0;34m\u001b[0m\u001b[0;34m\u001b[0m\u001b[0m\n",
      "\u001b[0;32m/Library/Frameworks/Python.framework/Versions/3.6/lib/python3.6/site-packages/sklearn/model_selection/_validation.py\u001b[0m in \u001b[0;36mcross_val_score\u001b[0;34m(estimator, X, y, groups, scoring, cv, n_jobs, verbose, fit_params, pre_dispatch, error_score)\u001b[0m\n\u001b[1;32m    388\u001b[0m                                 \u001b[0mfit_params\u001b[0m\u001b[0;34m=\u001b[0m\u001b[0mfit_params\u001b[0m\u001b[0;34m,\u001b[0m\u001b[0;34m\u001b[0m\u001b[0;34m\u001b[0m\u001b[0m\n\u001b[1;32m    389\u001b[0m                                 \u001b[0mpre_dispatch\u001b[0m\u001b[0;34m=\u001b[0m\u001b[0mpre_dispatch\u001b[0m\u001b[0;34m,\u001b[0m\u001b[0;34m\u001b[0m\u001b[0;34m\u001b[0m\u001b[0m\n\u001b[0;32m--> 390\u001b[0;31m                                 error_score=error_score)\n\u001b[0m\u001b[1;32m    391\u001b[0m     \u001b[0;32mreturn\u001b[0m \u001b[0mcv_results\u001b[0m\u001b[0;34m[\u001b[0m\u001b[0;34m'test_score'\u001b[0m\u001b[0;34m]\u001b[0m\u001b[0;34m\u001b[0m\u001b[0;34m\u001b[0m\u001b[0m\n\u001b[1;32m    392\u001b[0m \u001b[0;34m\u001b[0m\u001b[0m\n",
      "\u001b[0;32m/Library/Frameworks/Python.framework/Versions/3.6/lib/python3.6/site-packages/sklearn/model_selection/_validation.py\u001b[0m in \u001b[0;36mcross_validate\u001b[0;34m(estimator, X, y, groups, scoring, cv, n_jobs, verbose, fit_params, pre_dispatch, return_train_score, return_estimator, error_score)\u001b[0m\n\u001b[1;32m    219\u001b[0m \u001b[0;34m\u001b[0m\u001b[0m\n\u001b[1;32m    220\u001b[0m     \"\"\"\n\u001b[0;32m--> 221\u001b[0;31m     \u001b[0mX\u001b[0m\u001b[0;34m,\u001b[0m \u001b[0my\u001b[0m\u001b[0;34m,\u001b[0m \u001b[0mgroups\u001b[0m \u001b[0;34m=\u001b[0m \u001b[0mindexable\u001b[0m\u001b[0;34m(\u001b[0m\u001b[0mX\u001b[0m\u001b[0;34m,\u001b[0m \u001b[0my\u001b[0m\u001b[0;34m,\u001b[0m \u001b[0mgroups\u001b[0m\u001b[0;34m)\u001b[0m\u001b[0;34m\u001b[0m\u001b[0;34m\u001b[0m\u001b[0m\n\u001b[0m\u001b[1;32m    222\u001b[0m \u001b[0;34m\u001b[0m\u001b[0m\n\u001b[1;32m    223\u001b[0m     \u001b[0mcv\u001b[0m \u001b[0;34m=\u001b[0m \u001b[0mcheck_cv\u001b[0m\u001b[0;34m(\u001b[0m\u001b[0mcv\u001b[0m\u001b[0;34m,\u001b[0m \u001b[0my\u001b[0m\u001b[0;34m,\u001b[0m \u001b[0mclassifier\u001b[0m\u001b[0;34m=\u001b[0m\u001b[0mis_classifier\u001b[0m\u001b[0;34m(\u001b[0m\u001b[0mestimator\u001b[0m\u001b[0;34m)\u001b[0m\u001b[0;34m)\u001b[0m\u001b[0;34m\u001b[0m\u001b[0;34m\u001b[0m\u001b[0m\n",
      "\u001b[0;32m/Library/Frameworks/Python.framework/Versions/3.6/lib/python3.6/site-packages/sklearn/utils/validation.py\u001b[0m in \u001b[0;36mindexable\u001b[0;34m(*iterables)\u001b[0m\n\u001b[1;32m    246\u001b[0m     \"\"\"\n\u001b[1;32m    247\u001b[0m     \u001b[0mresult\u001b[0m \u001b[0;34m=\u001b[0m \u001b[0;34m[\u001b[0m\u001b[0m_make_indexable\u001b[0m\u001b[0;34m(\u001b[0m\u001b[0mX\u001b[0m\u001b[0;34m)\u001b[0m \u001b[0;32mfor\u001b[0m \u001b[0mX\u001b[0m \u001b[0;32min\u001b[0m \u001b[0miterables\u001b[0m\u001b[0;34m]\u001b[0m\u001b[0;34m\u001b[0m\u001b[0;34m\u001b[0m\u001b[0m\n\u001b[0;32m--> 248\u001b[0;31m     \u001b[0mcheck_consistent_length\u001b[0m\u001b[0;34m(\u001b[0m\u001b[0;34m*\u001b[0m\u001b[0mresult\u001b[0m\u001b[0;34m)\u001b[0m\u001b[0;34m\u001b[0m\u001b[0;34m\u001b[0m\u001b[0m\n\u001b[0m\u001b[1;32m    249\u001b[0m     \u001b[0;32mreturn\u001b[0m \u001b[0mresult\u001b[0m\u001b[0;34m\u001b[0m\u001b[0;34m\u001b[0m\u001b[0m\n\u001b[1;32m    250\u001b[0m \u001b[0;34m\u001b[0m\u001b[0m\n",
      "\u001b[0;32m/Library/Frameworks/Python.framework/Versions/3.6/lib/python3.6/site-packages/sklearn/utils/validation.py\u001b[0m in \u001b[0;36mcheck_consistent_length\u001b[0;34m(*arrays)\u001b[0m\n\u001b[1;32m    210\u001b[0m     \u001b[0;32mif\u001b[0m \u001b[0mlen\u001b[0m\u001b[0;34m(\u001b[0m\u001b[0muniques\u001b[0m\u001b[0;34m)\u001b[0m \u001b[0;34m>\u001b[0m \u001b[0;36m1\u001b[0m\u001b[0;34m:\u001b[0m\u001b[0;34m\u001b[0m\u001b[0;34m\u001b[0m\u001b[0m\n\u001b[1;32m    211\u001b[0m         raise ValueError(\"Found input variables with inconsistent numbers of\"\n\u001b[0;32m--> 212\u001b[0;31m                          \" samples: %r\" % [int(l) for l in lengths])\n\u001b[0m\u001b[1;32m    213\u001b[0m \u001b[0;34m\u001b[0m\u001b[0m\n\u001b[1;32m    214\u001b[0m \u001b[0;34m\u001b[0m\u001b[0m\n",
      "\u001b[0;31mValueError\u001b[0m: Found input variables with inconsistent numbers of samples: [1025, 205]"
     ]
    }
   ],
   "source": [
    "scores = cross_val_score(clf, X, y, cv=10)\n",
    "scores"
   ]
  },
  {
   "cell_type": "code",
   "execution_count": 130,
   "metadata": {},
   "outputs": [
    {
     "data": {
      "text/plain": [
       "0.974025974025974"
      ]
     },
     "execution_count": 130,
     "metadata": {},
     "output_type": "execute_result"
    }
   ],
   "source": [
    "from sklearn.model_selection import ShuffleSplit\n",
    "from sklearn import preprocessing\n",
    "\n",
    "X_multi=np.array([final_file_0_500[2],final_file_0_500[5]])\n",
    "X_multi=X_multi.T\n",
    "\n",
    "y_multi = final_file_0_500[4]\n",
    "y_multi = y_multi.astype('int') \n",
    "\n",
    "#cv = ShuffleSplit(n_splits=20, test_size=0.3, random_state=0)\n",
    "#cross_val_score(clf, X_multi, y_multi, cv=cv)\n",
    "\n",
    "#X_multi=newArr\n",
    "#y_multi=vals\n",
    "\n",
    "X_train, X_test, y_train, y_test = train_test_split(X_multi, y_multi, test_size=0.3, random_state=0)\n",
    "scaler = preprocessing.StandardScaler().fit(X_train)\n",
    "X_train_transformed = scaler.transform(X_train)\n",
    "clf = svm.SVC(C=1,probability=True).fit(X_train_transformed, y_train)\n",
    "X_test_transformed = scaler.transform(X_test)\n",
    "clf.score(X_test_transformed, y_test)"
   ]
  },
  {
   "cell_type": "code",
   "execution_count": 131,
   "metadata": {},
   "outputs": [
    {
     "data": {
      "text/plain": [
       "0.9437306501547987"
      ]
     },
     "execution_count": 131,
     "metadata": {},
     "output_type": "execute_result"
    }
   ],
   "source": [
    "X_multi_test=np.array([final_file_0[2],final_file_0[5]])\n",
    "X_multi_test=X_multi_test.T\n",
    "\n",
    "y_multi_test = final_file_0[4]\n",
    "y_multi_test=y_multi_test.astype('int') \n",
    "#clf.predict(X_multi_test)\n",
    "clf.score(X_multi_test, y_multi_test)"
   ]
  },
  {
   "cell_type": "code",
   "execution_count": 155,
   "metadata": {},
   "outputs": [],
   "source": [
    "#Trying the data split the way prof mentioned with the std deviattions\n",
    "\n",
    "\n",
    "def color_assigner_latest(input_arr):\n",
    "    lim1 = 0.075\n",
    "    lim2 = 0.055\n",
    "    lim3 = 0.025\n",
    "    lim4 = 0.01\n",
    "    lim5 = 0.01\n",
    "    lenIp = len(input_arr)\n",
    "    out_arr=np.zeros(int(lenIp/5))\n",
    "    \n",
    "    k=0\n",
    "    for i in range(0, lenIp, 5):\n",
    "        #red label\n",
    "        for j in range(i,i+5):\n",
    "            \n",
    "            if (j+1)<lenIp:\n",
    "                if input_arr[j+1]>=lim1 and (j+1)<(i+5):\n",
    "                    if input_arr[j] >= lim1:\n",
    "                        out_arr[k]=4\n",
    "\n",
    "                    \n",
    "            if input_arr[j] >= lim1 and out_arr[k]<3:\n",
    "                out_arr[k]=3\n",
    "\n",
    "            if (j+2)<lenIp:\n",
    "                if input_arr[j+2]>=lim1 and (j+2)<(i+5) and out_arr[k]<3:\n",
    "                    if input_arr[j+1] >= lim1 and (j+1)<(i+5):\n",
    "                        if input_arr[j] >= lim1:\n",
    "                            out_arr[k]=4\n",
    "\n",
    "                        else:\n",
    "                            out_arr[k]=4\n",
    "\n",
    "                    elif out_arr[k]<3:\n",
    "                        out_arr[k]=3\n",
    "                        \n",
    "            if (j+3)<lenIp:\n",
    "                if input_arr[j+3]>=lim1 and (j+3)<(i+5):\n",
    "                    if input_arr[j+2]>=lim1:\n",
    "                        if input_arr[j+1] >= lim1:\n",
    "                            if input_arr[j] >= lim1:\n",
    "                                out_arr[k]=4\n",
    "                            else:\n",
    "                                out_arr[k]=4\n",
    "                        else:\n",
    "                            out_arr[k]=4\n",
    "                    elif out_arr[k]<3:\n",
    "                        out_arr[k]=3\n",
    "\n",
    "            if (j+4)<lenIp:\n",
    "                if input_arr[j+4]>=lim1 and (j+4)<(i+5):\n",
    "                    if input_arr[j+3]>=lim1 :\n",
    "                        if input_arr[j+2]>=lim1 :\n",
    "                            if input_arr[j+1] >= lim1:\n",
    "                                if input_arr[j] >= lim1:\n",
    "                                    out_arr[k]=4\n",
    "                                else:\n",
    "                                    out_arr[k]=4\n",
    "                            else:\n",
    "                                out_arr[k]=4\n",
    "                        else:\n",
    "                            out_arr[k]=4\n",
    "                    elif out_arr[k]<3:\n",
    "                        out_arr[k]=3  \n",
    "                \n",
    "\n",
    "            #orange\n",
    "\n",
    "            if input_arr[j] < lim1 and input_arr[j]>=lim2 and out_arr[k]<2 :\n",
    "                out_arr[k]=2\n",
    "            \n",
    "            if (j+1)<lenIp:\n",
    "                if input_arr[j+1] < lim1 and input_arr[j+1]>=lim2 and (j+1)<(i+5):\n",
    "                    if input_arr[j] < lim1 and input_arr[j]>=lim2 and out_arr[k]<3:\n",
    "                        out_arr[k]=3\n",
    "            \n",
    "            \n",
    "            if (j+2)<lenIp:\n",
    "                if input_arr[j+2] < lim1 and input_arr[j+2]>=lim2 and (j+2)<(i+5):\n",
    "                    if input_arr[j+1] < lim1 and input_arr[j+1]>=lim2:\n",
    "                        if input_arr[j] < lim1 and input_arr[j]>=lim2 and out_arr[k]<3:\n",
    "                            out_arr[k]=3\n",
    "                    elif out_arr[k]<3:\n",
    "                        out_arr[k]=3\n",
    "                elif out_arr[k]<2:\n",
    "                    out_arr[k]=2\n",
    "            \n",
    "            if (j+3)<lenIp:\n",
    "                if input_arr[j+3] < lim1 and input_arr[i+3]>=lim2 and (j+3)<(i+5):\n",
    "                    if input_arr[j+2] < lim1 and input_arr[j+2]>=lim2 :\n",
    "                        if input_arr[j+1] < lim1 and input_arr[j+1]>=lim2:\n",
    "                            if input_arr[j] < lim1 and input_arr[j]>=lim2 and out_arr[k]<3:\n",
    "                                out_arr[k]=3\n",
    "                            elif out_arr[k]<3:\n",
    "                                out_arr[k]=3\n",
    "                        elif out_arr[k]<3:\n",
    "                            out_arr[k]=3\n",
    "                    elif out_arr[k]<2:\n",
    "                        out_arr[k]=2\n",
    "            \n",
    "            if (j+4)<lenIp:\n",
    "                if input_arr[j+4] < lim1 and input_arr[j+4]>=lim2 and (j+4)<(i+5):\n",
    "                    if input_arr[j+3] < lim1 and input_arr[j+3]>=lim2 :\n",
    "                        if input_arr[j+2] < lim1 and input_arr[j+2]>=lim2:\n",
    "                            if input_arr[j+1] < lim1 and input_arr[j+1]>=lim2:\n",
    "                                if input_arr[j] < lim1 and input_arr[j]>=lim2:\n",
    "                                    out_arr[k]=4\n",
    "                                elif out_arr[k]<3:\n",
    "                                    out_arr[k]=3\n",
    "                            elif out_arr[k]<3:\n",
    "                                out_arr[k]=3\n",
    "                        elif out_arr[k]<3:\n",
    "                            out_arr[k]=3\n",
    "                    elif out_arr[k]<2:\n",
    "                        out_arr[k]=2 \n",
    "\n",
    "            # yellow\n",
    "\n",
    "            if input_arr[j] < lim2 and input_arr[j]>=lim3 and out_arr[k]<1:\n",
    "                out_arr[i]=1\n",
    "            \n",
    "            if (j+1)<lenIp:\n",
    "                if input_arr[j+1] < lim2 and input_arr[j+1]>=lim3 and (j+1)<(i+5):\n",
    "                    if input_arr[j] < lim2 and input_arr[j]>=lim3 and out_arr[k]<2 :\n",
    "                        out_arr[k]=2\n",
    "            \n",
    "            if (j+2)<lenIp:\n",
    "                if input_arr[j+2] < lim2 and input_arr[j+2]>=lim3 and (j+2)<(i+5):\n",
    "                    if input_arr[j+1] < lim2 and input_arr[j+1]>=lim3:\n",
    "                        if input_arr[j] < lim2 and input_arr[j]>=lim3 and out_arr[k] < 2:\n",
    "                            out_arr[k]=2\n",
    "                        elif out_arr[k] < 2:\n",
    "                            out_arr[k]=2\n",
    "                    else:\n",
    "                        out_arr[k]=1\n",
    "\n",
    "            if (j+3)<lenIp:\n",
    "                if input_arr[j+3] < lim2 and input_arr[j+3]>=lim3 and (j+3)<(1+5):\n",
    "                    if input_arr[j+2] < lim2 and input_arr[j+2]>=lim3:\n",
    "                        if input_arr[j+1] < lim2 and input_arr[j+1]>=lim3:\n",
    "                            if input_arr[j] < lim2 and input_arr[j]>=lim3 and out_arr[k]<2:\n",
    "                                out_arr[k]=2\n",
    "                            elif out_arr[k]<2:\n",
    "                                out_arr[k]=2\n",
    "                        elif out_arr[k]<2:\n",
    "                            out_arr[k]=2\n",
    "                    elif out_arr[k]<1:\n",
    "                        out_arr[k]=1\n",
    "                        \n",
    "            if (j+4)<lenIp:\n",
    "                if input_arr[j+4] < lim2 and input_arr[i+4]>=lim3 and (j+4)<(i+5):\n",
    "                    if input_arr[i+3] < lim2 and input_arr[i+3]>=lim3:\n",
    "                        if input_arr[i+2] < lim2 and input_arr[i+2]>=lim3:\n",
    "                            if input_arr[i+1] < lim2 and input_arr[i+1]>=lim3:\n",
    "                                if input_arr[i] < lim2 and input_arr[i]>=lim3 and out_arr[k]<3:\n",
    "                                    out_arr[k]=3\n",
    "                                elif out_arr[k]<2:\n",
    "                                    out_arr[k]=2\n",
    "                            elif out_arr[k]<2:\n",
    "                                out_arr[k]=2\n",
    "                        elif out_arr[k]<2:\n",
    "                            out_arr[k]=2\n",
    "                    elif out_arr[k]<1:\n",
    "                        out_arr[k]=1\n",
    "\n",
    "            #green\n",
    "\n",
    "            #if input_arr[j] < lim3 and input_arr[j]>=lim4:\n",
    "            #    out_arr[i]=0\n",
    "            if (j+1)<lenIp:\n",
    "                if input_arr[j+1] < lim3 and input_arr[j+1]>=lim4 and (j+1)<(i+5) :\n",
    "                    if input_arr[j] < lim3 and input_arr[j]>=lim4 and out_arr[k]<1:\n",
    "                        out_arr[k]=1\n",
    "            if (j+2)<lenIp:\n",
    "                if input_arr[j+2] < lim3 and input_arr[j+2]>=lim4 and (j+2)<(i+5):\n",
    "                    if input_arr[j+1] < lim3 and input_arr[j+1]>=lim4:\n",
    "                        if input_arr[i] < lim3 and input_arr[i]>=lim4 and out_arr[k]<1:\n",
    "                            out_arr[k]=1\n",
    "                        elif out_arr[k]<1:\n",
    "                            out_arr[k]=1\n",
    "                    #else:\n",
    "                    #    out_arr[k]=0\n",
    "            if (j+3)<lenIp:\n",
    "                if input_arr[j+3] < lim3 and input_arr[j+3]>=lim4 and (j+3)<(i+5):\n",
    "                    if input_arr[j+2] < lim3 and input_arr[j+2]>=lim4:\n",
    "                        if input_arr[j+1] < lim3 and input_arr[j+1]>=lim4:\n",
    "                            if input_arr[j] < lim3 and input_arr[j]>=lim4 and out_arr[k]<1:\n",
    "                                out_arr[k]=1\n",
    "                            elif out_arr[k]<1:\n",
    "                                out_arr[k]=1\n",
    "                        elif out_arr[k]<1:\n",
    "                            out_arr[k]=1\n",
    "                    #else:\n",
    "                    #    out_arr[i+3]=0\n",
    "            if (j+4)<lenIp:\n",
    "                if input_arr[j+4] < lim3 and input_arr[j+4]>=lim4 and (j+4)<(i+5):\n",
    "                    if input_arr[j+3] < lim3 and input_arr[j+3]>=lim4:\n",
    "                        if input_arr[j+2] < lim3 and input_arr[j+2]>=lim4:\n",
    "                            if input_arr[j+1] < lim3 and input_arr[j+1]>=lim4:\n",
    "                                if input_arr[j] < lim3 and input_arr[j]>=lim4 and out_arr[k]<2:\n",
    "                                    out_arr[k]=2\n",
    "                                elif out_arr[k]<1:\n",
    "                                    out_arr[k]=1\n",
    "                            elif out_arr[k]<1:\n",
    "                                out_arr[k]=1\n",
    "                        elif out_arr[k]<1:\n",
    "                            out_arr[k]=1\n",
    "                    #else:\n",
    "                    #    out_arr[i+4]=0\n",
    "\n",
    "\n",
    "            #blue\n",
    "            #if input_arr[j] < lim4:\n",
    "            #    out_arr[j]=0\n",
    "\n",
    "            #if input_arr[j+1]<lim4:\n",
    "            #    if input_arr[j] < lim4:\n",
    "            #        out_arr[j+1]=0\n",
    "#             if (j+2)<lenIp:\n",
    "#                 if input_arr[j+2]<lim4 and (j+2)<(i+5):\n",
    "#                     if input_arr[j+1] < lim4:\n",
    "#                         if input_arr[j] < lim4 and out_arr[k]<1:\n",
    "#                             out_arr[k]=1\n",
    "                        #else:\n",
    "                        #    out_arr[j+2]=0\n",
    "                    #else:\n",
    "                    #    out_arr[j+2]=0\n",
    "                    \n",
    "#             if (j+3)<lenIp:\n",
    "#                 if input_arr[j+3]<lim4 and (j+3)<(i+5):\n",
    "#                     if input_arr[j+2]<lim4:\n",
    "#                         if input_arr[j+1] < lim4:\n",
    "#                             if input_arr[j] < lim4 and out_arr[k]<1:\n",
    "#                                 out_arr[k]=1\n",
    "#                             elif out_arr[k]<1:\n",
    "#                                 out_arr[k]=1\n",
    "                        #else:\n",
    "                        #    out_arr[i+3]=0\n",
    "                    #else:\n",
    "                        #out_arr[i+3]=0\n",
    "            if (j+4)<lenIp:\n",
    "                if input_arr[j+4]<lim4 and (j+4)<(i+5):\n",
    "                    if input_arr[j+3]<lim4:\n",
    "                        if input_arr[j+2]<lim4:\n",
    "                            if input_arr[j+1] < lim4:\n",
    "                                if input_arr[j] < lim4 and out_arr[k]<2:\n",
    "                                    out_arr[k]=2\n",
    "                                elif out_arr[k]<1:\n",
    "                                    out_arr[k]=1\n",
    "                            elif out_arr[k]<1:\n",
    "                                out_arr[k]=1\n",
    "                        #else:\n",
    "                        #    out_arr[i+4]=0\n",
    "                    #else:\n",
    "                    #    out_arr[i+4]=0\n",
    "        \n",
    "        k+=1\n",
    "        \n",
    "    return out_arr\n",
    "        "
   ]
  },
  {
   "cell_type": "code",
   "execution_count": 183,
   "metadata": {},
   "outputs": [],
   "source": [
    "newArr=np.ndarray((len(anomlay0_500.VELOpipeFPS)*4,2))\n",
    "o=0\n",
    "for j,k,l,m in zip(anomlay1_500.VELOpipeFPS,anomlay2_500.VELOpipeFPS,anomlay3_500.VELOpipeFPS,anomlay4_500.VELOpipeFPS):\n",
    "    newArr[o]=[j,1]\n",
    "    o+=1\n",
    "    newArr[o]=[k,2]\n",
    "    o+=1\n",
    "    newArr[o]=[l,3]\n",
    "    o+=1\n",
    "    newArr[o]=[m,4]\n",
    "    o+=1\n",
    "\n",
    "np.savetxt(\"./data/combined_flows_4.txt\", newArr,fmt='%s')\n",
    "#vals=color_assigner_latest(newArr[:,0])\n",
    "#np.unique(vals, return_counts=True)"
   ]
  },
  {
   "cell_type": "code",
   "execution_count": null,
   "metadata": {},
   "outputs": [],
   "source": []
  },
  {
   "cell_type": "code",
   "execution_count": 184,
   "metadata": {},
   "outputs": [],
   "source": [
    "newArr=np.ndarray((len(nodes0_1_500.NodePressure)*4))\n",
    "o=0\n",
    "for j,k,l,m in zip(nodes0_11_500.NodePressure,nodes0_21_500.NodePressure,nodes0_31_500.NodePressure,nodes0_41_500.NodePressure):\n",
    "    newArr[o]=j\n",
    "    o+=1\n",
    "    newArr[o]=k\n",
    "    o+=1\n",
    "    newArr[o]=l\n",
    "    o+=1\n",
    "    newArr[o]=m\n",
    "    o+=1\n",
    "    \n",
    "np.savetxt(\"./data/combined_pressure.txt\", newArr,fmt='%s')"
   ]
  },
  {
   "cell_type": "code",
   "execution_count": 185,
   "metadata": {},
   "outputs": [],
   "source": [
    "newArr=np.ndarray((len(nodeArr_500.NodePressure)*4))\n",
    "o=0\n",
    "for j,k,l,m in zip(nodeArr_500.NodePressure,nodeArr_500.NodePressure,nodeArr_500.NodePressure,nodeArr_500.NodePressure):\n",
    "\n",
    "    newArr[o]=j\n",
    "    o+=1\n",
    "    newArr[o]=k\n",
    "    o+=1\n",
    "    newArr[o]=l\n",
    "    o+=1\n",
    "    newArr[o]=m\n",
    "    o+=1\n",
    "    \n",
    "np.savetxt(\"./data/anomaly_free.txt\", newArr,fmt='%s')"
   ]
  },
  {
   "cell_type": "code",
   "execution_count": 186,
   "metadata": {},
   "outputs": [],
   "source": [
    "np.savetxt(\"./data/validation_pressure_name.txt\", nodes0_41.NAME,fmt='%s')"
   ]
  },
  {
   "cell_type": "code",
   "execution_count": 187,
   "metadata": {},
   "outputs": [],
   "source": [
    "fN = \"./data/day1.csv\"\n",
    "day1=pd.read_csv(fN)\n",
    "fN = \"./data/day2.csv\"\n",
    "day2=pd.read_csv(fN)\n",
    "fN = \"./data/day3.csv\"\n",
    "day3=pd.read_csv(fN)\n",
    "fN = \"./data/day4.csv\"\n",
    "day4=pd.read_csv(fN)\n"
   ]
  },
  {
   "cell_type": "code",
   "execution_count": 188,
   "metadata": {},
   "outputs": [],
   "source": [
    "newArr=np.ndarray((len(day1.Pressure)*4))\n",
    "o=0\n",
    "for j,k,l,m in zip(day1.Pressure,day2.Pressure,day3.Prerssure,day4.Pressure):\n",
    "    newArr[o]=j\n",
    "    o+=1\n",
    "    newArr[o]=k\n",
    "    o+=1\n",
    "    newArr[o]=l\n",
    "    o+=1\n",
    "    newArr[o]=m\n",
    "    o+=1\n",
    "# np.savetxt(\"./data/combined_training.txt\", newArr,fmt='%s')"
   ]
  },
  {
   "cell_type": "code",
   "execution_count": 189,
   "metadata": {},
   "outputs": [],
   "source": [
    "fN = \"./data/an_free_ind_val.csv\"\n",
    "an_free=pd.read_csv(fN)\n",
    "\n",
    "newArr=np.ndarray((len(an_free.Pressure)))\n",
    "o=0\n",
    "for i in an_free.Pressure:\n",
    "    newArr[o]=i\n",
    "    o+=1\n",
    "\n",
    "np.savetxt(\"./data/an_free_ind_val.txt\", newArr,fmt='%s')"
   ]
  },
  {
   "cell_type": "code",
   "execution_count": 190,
   "metadata": {},
   "outputs": [
    {
     "data": {
      "text/plain": [
       "(array([0., 1.]), array([189,  16]))"
      ]
     },
     "execution_count": 190,
     "metadata": {},
     "output_type": "execute_result"
    }
   ],
   "source": [
    "fN = \"./data/labels.csv\"\n",
    "labels=pd.read_csv(fN)\n",
    "newArr=np.zeros((int(len(labels)/5)))\n",
    "j=0\n",
    "for i in range(0,len(labels),5):\n",
    "    if labels.Color[i]==1 or labels.Color[i+1]==1 or labels.Color[i+2]==1 or labels.Color[i+3]==1 or labels.Color[i+4]==1:\n",
    "        newArr[j]=1\n",
    "    j+=1\n",
    "np.unique(newArr,return_counts=True)"
   ]
  },
  {
   "cell_type": "code",
   "execution_count": 165,
   "metadata": {},
   "outputs": [
    {
     "name": "stdout",
     "output_type": "stream",
     "text": [
      "0\n",
      "0\n",
      "0\n",
      "0\n",
      "0\n",
      "0\n",
      "0\n",
      "0\n",
      "0\n",
      "0\n",
      "0\n",
      "0\n",
      "0\n",
      "0\n",
      "0\n",
      "0\n",
      "0\n",
      "0\n",
      "0\n",
      "0\n",
      "0\n",
      "0\n",
      "0\n",
      "0\n",
      "0\n",
      "0\n",
      "0\n",
      "0\n",
      "0\n",
      "0\n",
      "0\n",
      "0\n",
      "0\n",
      "0\n",
      "0\n",
      "0\n",
      "0\n",
      "0\n",
      "0\n",
      "0\n",
      "0\n",
      "0\n",
      "0\n",
      "0\n",
      "0\n",
      "0\n",
      "0\n",
      "0\n",
      "0\n",
      "0\n",
      "0\n",
      "0\n",
      "0\n",
      "0\n",
      "0\n",
      "0\n",
      "0\n",
      "0\n",
      "0\n",
      "0\n",
      "0\n",
      "0\n",
      "0\n",
      "0\n",
      "0\n",
      "0\n",
      "0\n",
      "0\n",
      "0\n",
      "0\n",
      "0\n",
      "0\n",
      "0\n",
      "0\n",
      "0\n",
      "0\n",
      "0\n",
      "0\n",
      "0\n",
      "0\n",
      "0\n",
      "0\n",
      "0\n",
      "0\n",
      "0\n",
      "1\n",
      "1\n",
      "0\n",
      "0\n",
      "0\n",
      "0\n",
      "0\n",
      "0\n",
      "0\n",
      "0\n",
      "0\n",
      "1\n",
      "1\n",
      "0\n",
      "0\n",
      "1\n",
      "1\n",
      "1\n",
      "1\n",
      "1\n",
      "1\n",
      "1\n",
      "1\n",
      "0\n",
      "0\n",
      "1\n",
      "1\n",
      "0\n",
      "0\n",
      "0\n",
      "0\n",
      "0\n",
      "0\n",
      "0\n",
      "0\n",
      "0\n",
      "0\n",
      "0\n",
      "0\n",
      "0\n",
      "0\n",
      "0\n",
      "0\n",
      "0\n",
      "0\n",
      "0\n",
      "0\n",
      "0\n",
      "0\n",
      "0\n",
      "0\n",
      "0\n",
      "0\n",
      "0\n",
      "0\n",
      "0\n",
      "0\n",
      "0\n",
      "0\n",
      "0\n",
      "0\n",
      "0\n",
      "0\n",
      "0\n",
      "0\n",
      "0\n",
      "0\n",
      "0\n",
      "0\n",
      "0\n",
      "0\n",
      "0\n",
      "0\n",
      "0\n",
      "0\n",
      "0\n",
      "0\n",
      "0\n",
      "0\n",
      "0\n",
      "0\n",
      "0\n",
      "0\n",
      "0\n",
      "0\n",
      "0\n",
      "0\n",
      "0\n",
      "1\n",
      "0\n",
      "0\n",
      "0\n",
      "0\n",
      "0\n",
      "0\n",
      "0\n",
      "0\n",
      "0\n",
      "0\n",
      "0\n",
      "0\n",
      "0\n",
      "0\n",
      "0\n",
      "0\n",
      "1\n",
      "0\n",
      "0\n",
      "0\n",
      "0\n",
      "0\n",
      "0\n",
      "0\n",
      "0\n",
      "0\n",
      "0\n",
      "0\n",
      "0\n",
      "0\n",
      "0\n"
     ]
    }
   ],
   "source": [
    "for i in newArr:\n",
    "    print(int(i))"
   ]
  },
  {
   "cell_type": "code",
   "execution_count": 191,
   "metadata": {},
   "outputs": [
    {
     "ename": "NameError",
     "evalue": "name 'an_free_500' is not defined",
     "output_type": "error",
     "traceback": [
      "\u001b[0;31m---------------------------------------------------------------------------\u001b[0m",
      "\u001b[0;31mNameError\u001b[0m                                 Traceback (most recent call last)",
      "\u001b[0;32m<ipython-input-191-31554ba1e1bc>\u001b[0m in \u001b[0;36m<module>\u001b[0;34m\u001b[0m\n\u001b[1;32m      2\u001b[0m \u001b[0man_free\u001b[0m\u001b[0;34m=\u001b[0m\u001b[0mpd\u001b[0m\u001b[0;34m.\u001b[0m\u001b[0mread_csv\u001b[0m\u001b[0;34m(\u001b[0m\u001b[0mfN\u001b[0m\u001b[0;34m)\u001b[0m\u001b[0;34m\u001b[0m\u001b[0;34m\u001b[0m\u001b[0m\n\u001b[1;32m      3\u001b[0m \u001b[0;34m\u001b[0m\u001b[0m\n\u001b[0;32m----> 4\u001b[0;31m \u001b[0man_pressure\u001b[0m\u001b[0;34m=\u001b[0m\u001b[0mnp\u001b[0m\u001b[0;34m.\u001b[0m\u001b[0mndarray\u001b[0m\u001b[0;34m(\u001b[0m\u001b[0;34m(\u001b[0m\u001b[0mlen\u001b[0m\u001b[0;34m(\u001b[0m\u001b[0man_free_500\u001b[0m\u001b[0;34m.\u001b[0m\u001b[0mPressure\u001b[0m\u001b[0;34m)\u001b[0m\u001b[0;34m*\u001b[0m\u001b[0;36m4\u001b[0m\u001b[0;34m)\u001b[0m\u001b[0;34m)\u001b[0m\u001b[0;34m\u001b[0m\u001b[0;34m\u001b[0m\u001b[0m\n\u001b[0m\u001b[1;32m      5\u001b[0m \u001b[0mo\u001b[0m\u001b[0;34m=\u001b[0m\u001b[0;36m0\u001b[0m\u001b[0;34m\u001b[0m\u001b[0;34m\u001b[0m\u001b[0m\n\u001b[1;32m      6\u001b[0m \u001b[0;32mfor\u001b[0m \u001b[0mi\u001b[0m \u001b[0;32min\u001b[0m \u001b[0man_free\u001b[0m\u001b[0;34m.\u001b[0m\u001b[0mPressure\u001b[0m\u001b[0;34m:\u001b[0m\u001b[0;34m\u001b[0m\u001b[0;34m\u001b[0m\u001b[0m\n",
      "\u001b[0;31mNameError\u001b[0m: name 'an_free_500' is not defined"
     ]
    }
   ],
   "source": [
    "fN = \"./data/An_free_node_epanet.csv\"\n",
    "an_free=pd.read_csv(fN)\n",
    "\n",
    "an_pressure=np.ndarray((len(an_free_500.Pressure)*4))\n",
    "o=0\n",
    "for i in an_free.Pressure:\n",
    "    an_pressure[o]=i\n",
    "    o+=1\n",
    "    an_pressure[o]=i\n",
    "    o+=1\n",
    "    an_pressure[o]=i\n",
    "    o+=1\n",
    "    an_pressure[o]=i\n",
    "    o+=1\n",
    "#np.savetxt(\"./data/an_free_ind_val.txt\", newArr,fmt='%s')"
   ]
  },
  {
   "cell_type": "code",
   "execution_count": 192,
   "metadata": {},
   "outputs": [],
   "source": [
    "#normal_vel_1 = pipe_velocity_calc(nFile0)\n",
    "#an_free_500=reducer(normal_vel_1)\n",
    "#anomalyFreeNode_500=reducer_node(anomalyFreeNode,nodes500)"
   ]
  },
  {
   "cell_type": "code",
   "execution_count": 171,
   "metadata": {},
   "outputs": [
    {
     "ename": "NameError",
     "evalue": "name 'an_free_500' is not defined",
     "output_type": "error",
     "traceback": [
      "\u001b[0;31m---------------------------------------------------------------------------\u001b[0m",
      "\u001b[0;31mNameError\u001b[0m                                 Traceback (most recent call last)",
      "\u001b[0;32m<ipython-input-171-1fa380d5b7c5>\u001b[0m in \u001b[0;36m<module>\u001b[0;34m\u001b[0m\n\u001b[0;32m----> 1\u001b[0;31m \u001b[0mnewArr\u001b[0m\u001b[0;34m=\u001b[0m\u001b[0mnp\u001b[0m\u001b[0;34m.\u001b[0m\u001b[0mndarray\u001b[0m\u001b[0;34m(\u001b[0m\u001b[0;34m(\u001b[0m\u001b[0mlen\u001b[0m\u001b[0;34m(\u001b[0m\u001b[0man_free_500\u001b[0m\u001b[0;34m.\u001b[0m\u001b[0mVELOpipeFPS\u001b[0m\u001b[0;34m)\u001b[0m\u001b[0;34m*\u001b[0m\u001b[0;36m5\u001b[0m\u001b[0;34m,\u001b[0m\u001b[0;36m2\u001b[0m\u001b[0;34m)\u001b[0m\u001b[0;34m)\u001b[0m\u001b[0;34m\u001b[0m\u001b[0;34m\u001b[0m\u001b[0m\n\u001b[0m\u001b[1;32m      2\u001b[0m \u001b[0mo\u001b[0m\u001b[0;34m=\u001b[0m\u001b[0;36m0\u001b[0m\u001b[0;34m\u001b[0m\u001b[0;34m\u001b[0m\u001b[0m\n\u001b[1;32m      3\u001b[0m \u001b[0;32mfor\u001b[0m \u001b[0mi\u001b[0m \u001b[0;32min\u001b[0m \u001b[0man_free_500\u001b[0m\u001b[0;34m.\u001b[0m\u001b[0mVELOpipeFPS\u001b[0m\u001b[0;34m:\u001b[0m\u001b[0;34m\u001b[0m\u001b[0;34m\u001b[0m\u001b[0m\n\u001b[1;32m      4\u001b[0m     \u001b[0mnewArr\u001b[0m\u001b[0;34m[\u001b[0m\u001b[0mo\u001b[0m\u001b[0;34m]\u001b[0m\u001b[0;34m=\u001b[0m\u001b[0;34m[\u001b[0m\u001b[0mi\u001b[0m\u001b[0;34m,\u001b[0m\u001b[0;36m0\u001b[0m\u001b[0;34m]\u001b[0m\u001b[0;34m\u001b[0m\u001b[0;34m\u001b[0m\u001b[0m\n\u001b[1;32m      5\u001b[0m     \u001b[0mo\u001b[0m\u001b[0;34m+=\u001b[0m\u001b[0;36m1\u001b[0m\u001b[0;34m\u001b[0m\u001b[0;34m\u001b[0m\u001b[0m\n",
      "\u001b[0;31mNameError\u001b[0m: name 'an_free_500' is not defined"
     ]
    }
   ],
   "source": [
    "newArr=np.ndarray((len(an_free_500.VELOpipeFPS)*5,2))\n",
    "o=0\n",
    "for i in an_free_500.VELOpipeFPS:\n",
    "    newArr[o]=[i,0]\n",
    "    o+=1\n",
    "    newArr[o]=[i,1]\n",
    "    o+=1\n",
    "    newArr[o]=[i,2]\n",
    "    o+=1\n",
    "    newArr[o]=[i,3]\n",
    "    o+=1\n",
    "    newArr[o]=[i,3]\n",
    "    o+=1\n",
    "    \n",
    "np.savetxt(\"./data/anomaly_free_pipes.txt\", newArr,fmt='%s')"
   ]
  },
  {
   "cell_type": "code",
   "execution_count": 172,
   "metadata": {},
   "outputs": [],
   "source": [
    "newArr=np.ndarray((len(nodes0_11_500.NodePressure)*4,2))\n",
    "o=0\n",
    "for i,j,k,l in zip(nodes0_11_500.NodePressure,nodes0_21_500.NodePressure,nodes0_31_500.NodePressure,nodes0_41_500.NodePressure):\n",
    "    newArr[o]=[i,0]\n",
    "    o+=1\n",
    "    newArr[o]=[j,1]\n",
    "    o+=1\n",
    "    newArr[o]=[k,2]\n",
    "    o+=1\n",
    "    newArr[o]=[l,3]\n",
    "    o+=1\n",
    "#vals=color_assigner_latest(newArr[:,0])\n",
    "#np.unique(vals, return_counts=True)\n",
    "np.savetxt(\"./data/combined_pressures_4.txt\", newArr,fmt='%s')"
   ]
  },
  {
   "cell_type": "code",
   "execution_count": 193,
   "metadata": {},
   "outputs": [],
   "source": [
    "flow0_1 = pipe_velocity_calc(nFile1)\n",
    "\n",
    "flow0_11 = pipe_velocity_calc(leak0_11)\n",
    "\n",
    "flow0_21 = pipe_velocity_calc(leak0_21)\n",
    "\n",
    "flow0_31 = pipe_velocity_calc(leak0_31)\n",
    "\n",
    "flow0_41 = pipe_velocity_calc(leak0_41)"
   ]
  },
  {
   "cell_type": "code",
   "execution_count": 194,
   "metadata": {},
   "outputs": [],
   "source": [
    "flow0_1_500=reducer(flow0_1)\n",
    "flow0_11_500=reducer(flow0_11)\n",
    "flow0_21_500=reducer(flow0_21)\n",
    "flow0_31_500=reducer(flow0_31)\n",
    "flow0_41_500=reducer(flow0_41)"
   ]
  },
  {
   "cell_type": "code",
   "execution_count": 195,
   "metadata": {},
   "outputs": [
    {
     "ename": "NameError",
     "evalue": "name 'an_free_500' is not defined",
     "output_type": "error",
     "traceback": [
      "\u001b[0;31m---------------------------------------------------------------------------\u001b[0m",
      "\u001b[0;31mNameError\u001b[0m                                 Traceback (most recent call last)",
      "\u001b[0;32m<ipython-input-195-2915dc52ee4b>\u001b[0m in \u001b[0;36m<module>\u001b[0;34m\u001b[0m\n\u001b[0;32m----> 1\u001b[0;31m \u001b[0;32mfor\u001b[0m \u001b[0mi\u001b[0m \u001b[0;32min\u001b[0m \u001b[0man_free_500\u001b[0m\u001b[0;34m.\u001b[0m\u001b[0mVELOpipeFPS\u001b[0m\u001b[0;34m:\u001b[0m\u001b[0;34m\u001b[0m\u001b[0;34m\u001b[0m\u001b[0m\n\u001b[0m\u001b[1;32m      2\u001b[0m     \u001b[0mprint\u001b[0m\u001b[0;34m(\u001b[0m\u001b[0mi\u001b[0m\u001b[0;34m)\u001b[0m\u001b[0;34m\u001b[0m\u001b[0;34m\u001b[0m\u001b[0m\n",
      "\u001b[0;31mNameError\u001b[0m: name 'an_free_500' is not defined"
     ]
    }
   ],
   "source": [
    "for i in an_free_500.VELOpipeFPS:\n",
    "    print(i)"
   ]
  },
  {
   "cell_type": "code",
   "execution_count": null,
   "metadata": {},
   "outputs": [],
   "source": [
    "#47.3409\n",
    "#46.4912\n",
    "#36.3787\n",
    "#186.5734383057958\n",
    "#140.42229765166198\n",
    "#100.54533059135716\n",
    "#56.452610581961125\n",
    "#5.502386616287922"
   ]
  },
  {
   "cell_type": "code",
   "execution_count": null,
   "metadata": {},
   "outputs": [],
   "source": [
    "#ndarray of shape (n_class,)\n"
   ]
  },
  {
   "cell_type": "code",
   "execution_count": 196,
   "metadata": {},
   "outputs": [
    {
     "data": {
      "text/plain": [
       "0.974025974025974"
      ]
     },
     "execution_count": 196,
     "metadata": {},
     "output_type": "execute_result"
    }
   ],
   "source": [
    "from sklearn.model_selection import ShuffleSplit\n",
    "from sklearn import preprocessing\n",
    "\n",
    "X_multi=np.array([final_file_0_500[2],final_file_0_500[5]])\n",
    "X_multi=X_multi.T\n",
    "\n",
    "y_multi = final_file_0_500[4]\n",
    "y_multi = y_multi.astype('int') \n",
    "\n",
    "#cv = ShuffleSplit(n_splits=20, test_size=0.3, random_state=0)\n",
    "#cross_val_score(clf, X_multi, y_multi, cv=cv)\n",
    "\n",
    "#X_multi=newArr\n",
    "#y_multi=vals\n",
    "\n",
    "X_train, X_test, y_train, y_test = train_test_split(X_multi, y_multi, test_size=0.3, random_state=0)\n",
    "scaler = preprocessing.StandardScaler().fit(X_train)\n",
    "X_train_transformed = scaler.transform(X_train)\n",
    "clf = svm.SVC(C=1,probability=True, class_weight=np.ndarray([0,1,2,6,10])).fit(X_train_transformed, y_train)\n",
    "X_test_transformed = scaler.transform(X_test)\n",
    "clf.score(X_test_transformed, y_test)"
   ]
  },
  {
   "cell_type": "code",
   "execution_count": 197,
   "metadata": {},
   "outputs": [],
   "source": [
    "#Trying the data split the way prof mentioned with the std deviattions\n",
    "\n",
    "\n",
    "def color_assigner_3(input_arr):\n",
    "    lim1 = 0.015\n",
    "    lim2 = 0.01\n",
    "    lim3 = 0.001\n",
    "\n",
    "    lenIp = len(input_arr)\n",
    "    out_arr=np.zeros(int(lenIp/4))\n",
    "    \n",
    "    k=0\n",
    "    for i in range(0, lenIp, 4):\n",
    "        #red label\n",
    "        for j in range(i,i+4):\n",
    "\n",
    "                    \n",
    "            if input_arr[j] >= lim1 and out_arr[k]<2:\n",
    "                out_arr[k]=2\n",
    "            \n",
    "            if (j+1)<lenIp:\n",
    "                if input_arr[j+1]>=lim1 and (j+1)<(i+4):\n",
    "                    if input_arr[j] >= lim1:\n",
    "                        out_arr[k]=3\n",
    "\n",
    "            if (j+2)<lenIp:\n",
    "                if input_arr[j+2]>=lim1 and (j+2)<(i+4):\n",
    "                    if input_arr[j+1] >= lim1 :\n",
    "                        if input_arr[j] >= lim1:\n",
    "                            out_arr[k]=3\n",
    "\n",
    "                        else:\n",
    "                            out_arr[k]=3\n",
    "\n",
    "                    elif out_arr[k]<2:\n",
    "                        out_arr[k]=2\n",
    "                        \n",
    "            if (j+3)<lenIp:\n",
    "                if input_arr[j+3]>=lim1 and (j+3)<(i+4):\n",
    "                    if input_arr[j+2]>=lim1:\n",
    "                        if input_arr[j+1] >= lim1:\n",
    "                            if input_arr[j] >= lim1:\n",
    "                                out_arr[k]=3\n",
    "                            else:\n",
    "                                out_arr[k]=3\n",
    "                        else:\n",
    "                            out_arr[k]=3\n",
    "                    elif out_arr[k]<2:\n",
    "                        out_arr[k]=2\n",
    "\n",
    "                \n",
    "\n",
    "            #orange\n",
    "\n",
    "            if input_arr[j] < lim1 and input_arr[j]>=lim2 and out_arr[k]<1 :\n",
    "                out_arr[k]=1\n",
    "            \n",
    "            if (j+1)<lenIp:\n",
    "                if input_arr[j+1] < lim1 and input_arr[j+1]>=lim2 and (j+1)<(i+4):\n",
    "                    if input_arr[j] < lim1 and input_arr[j]>=lim2 and out_arr[k]<2:\n",
    "                        out_arr[k]=2\n",
    "            \n",
    "            \n",
    "            if (j+2)<lenIp:\n",
    "                if input_arr[j+2] < lim1 and input_arr[j+2]>=lim2 and (j+2)<(i+4):\n",
    "                    if input_arr[j+1] < lim1 and input_arr[j+1]>=lim2:\n",
    "                        if input_arr[j] < lim1 and input_arr[j]>=lim2 and out_arr[k]<3:\n",
    "                            out_arr[k]=3\n",
    "                    elif out_arr[k]<2:\n",
    "                        out_arr[k]=2\n",
    "                elif out_arr[k]<1:\n",
    "                    out_arr[k]=1\n",
    "            \n",
    "            if (j+3)<lenIp:\n",
    "                if input_arr[j+3] < lim1 and input_arr[i+3]>=lim2 and (j+3)<(i+4):\n",
    "                    if input_arr[j+2] < lim1 and input_arr[j+2]>=lim2 :\n",
    "                        if input_arr[j+1] < lim1 and input_arr[j+1]>=lim2:\n",
    "                            if input_arr[j] < lim1 and input_arr[j]>=lim2 and out_arr[k]<3:\n",
    "                                out_arr[k]=3\n",
    "                            elif out_arr[k]<3:\n",
    "                                out_arr[k]=3\n",
    "                        elif out_arr[k]<2:\n",
    "                            out_arr[k]=2\n",
    "                    elif out_arr[k]<1:\n",
    "                        out_arr[k]=1\n",
    "\n",
    "\n",
    "            # yellow\n",
    "\n",
    "            if input_arr[j] < lim2 and input_arr[j]>=lim3 and out_arr[k]<1:\n",
    "                out_arr[i]=1\n",
    "            \n",
    "            if (j+1)<lenIp:\n",
    "                if input_arr[j+1] < lim2 and input_arr[j+1]>=lim3 and (j+1)<(i+4):\n",
    "                    if input_arr[j] < lim2 and input_arr[j]>=lim3 and out_arr[k]<1 :\n",
    "                        out_arr[k]=1\n",
    "            \n",
    "            if (j+2)<lenIp:\n",
    "                if input_arr[j+2] < lim2 and input_arr[j+2]>=lim3 and (j+2)<(i+5):\n",
    "                    if input_arr[j+1] < lim2 and input_arr[j+1]>=lim3:\n",
    "                        if input_arr[j] < lim2 and input_arr[j]>=lim3 and out_arr[k] < 2:\n",
    "                            out_arr[k]=2\n",
    "                        elif out_arr[k] < 2:\n",
    "                            out_arr[k]=2\n",
    "                    else:\n",
    "                        out_arr[k]=1\n",
    "\n",
    "            if (j+3)<lenIp:\n",
    "                if input_arr[j+3] < lim2 and input_arr[j+3]>=lim3 and (j+3)<(1+5):\n",
    "                    if input_arr[j+2] < lim2 and input_arr[j+2]>=lim3:\n",
    "                        if input_arr[j+1] < lim2 and input_arr[j+1]>=lim3:\n",
    "                            if input_arr[j] < lim2 and input_arr[j]>=lim3 and out_arr[k]<2:\n",
    "                                out_arr[k]=2\n",
    "                            elif out_arr[k]<2:\n",
    "                                out_arr[k]=2\n",
    "                        elif out_arr[k]<1:\n",
    "                            out_arr[k]=1\n",
    "                    elif out_arr[k]<1:\n",
    "                        out_arr[k]=1\n",
    "                        \n",
    "\n",
    "        \n",
    "        k+=1\n",
    "        \n",
    "    return out_arr\n",
    "        "
   ]
  },
  {
   "cell_type": "code",
   "execution_count": 198,
   "metadata": {},
   "outputs": [
    {
     "ename": "NameError",
     "evalue": "name 'an_pressure' is not defined",
     "output_type": "error",
     "traceback": [
      "\u001b[0;31m---------------------------------------------------------------------------\u001b[0m",
      "\u001b[0;31mNameError\u001b[0m                                 Traceback (most recent call last)",
      "\u001b[0;32m<ipython-input-198-4dcccb6b9349>\u001b[0m in \u001b[0;36m<module>\u001b[0;34m\u001b[0m\n\u001b[0;32m----> 1\u001b[0;31m \u001b[0mlatest_arr\u001b[0m\u001b[0;34m=\u001b[0m\u001b[0mabs\u001b[0m\u001b[0;34m(\u001b[0m\u001b[0mnewArr\u001b[0m\u001b[0;34m-\u001b[0m\u001b[0man_pressure\u001b[0m\u001b[0;34m)\u001b[0m\u001b[0;34m\u001b[0m\u001b[0;34m\u001b[0m\u001b[0m\n\u001b[0m\u001b[1;32m      2\u001b[0m \u001b[0mt\u001b[0m\u001b[0;34m=\u001b[0m\u001b[0mcolor_assigner_3\u001b[0m\u001b[0;34m(\u001b[0m\u001b[0mlatest_arr\u001b[0m\u001b[0;34m)\u001b[0m\u001b[0;34m\u001b[0m\u001b[0;34m\u001b[0m\u001b[0m\n\u001b[1;32m      3\u001b[0m \u001b[0;32mfor\u001b[0m \u001b[0mi\u001b[0m \u001b[0;32min\u001b[0m \u001b[0mt\u001b[0m\u001b[0;34m:\u001b[0m\u001b[0;34m\u001b[0m\u001b[0;34m\u001b[0m\u001b[0m\n\u001b[1;32m      4\u001b[0m     \u001b[0mprint\u001b[0m\u001b[0;34m(\u001b[0m\u001b[0mint\u001b[0m\u001b[0;34m(\u001b[0m\u001b[0mi\u001b[0m\u001b[0;34m)\u001b[0m\u001b[0;34m)\u001b[0m\u001b[0;34m\u001b[0m\u001b[0;34m\u001b[0m\u001b[0m\n",
      "\u001b[0;31mNameError\u001b[0m: name 'an_pressure' is not defined"
     ]
    }
   ],
   "source": [
    "latest_arr=abs(newArr-an_pressure)\n",
    "t=color_assigner_3(latest_arr)\n",
    "for i in t:\n",
    "    print(int(i))"
   ]
  },
  {
   "cell_type": "code",
   "execution_count": 216,
   "metadata": {},
   "outputs": [],
   "source": [
    "anomlay0_500=reducer(anomlay0)\n",
    "anomlay1_500=reducer(anomlay1)\n",
    "anomlay2_500=reducer(anomlay2)\n",
    "anomlay3_500=reducer(anomlay3)\n",
    "anomlay4_500=reducer(anomlay4)\n",
    "#an_free_500=reducer(an_free)\n",
    "temps=np.vstack([anomlay1_500.VELOpipeFPS,anomlay2_500.VELOpipeFPS,anomlay3_500.VELOpipeFPS,anomlay4_500.VELOpipeFPS])\n",
    "\n",
    "#an_free_1=np.hstack([an_free_500.VELOpipeFPS,an_free_500.VELOpipeFPS,an_free_500.VELOpipeFPS,an_free_500.VELOpipeFPS,an_free_500.VELOpipeFPS])"
   ]
  },
  {
   "cell_type": "code",
   "execution_count": null,
   "metadata": {},
   "outputs": [],
   "source": [
    "# np.where(temps>(an_free_500.VELOpipeFPS+5))\n",
    "#>100=9\n",
    "#>70=26\n",
    "#>40=103\n",
    "#>10=278\n",
    "ctr=0\n",
    "for i in range(0,len(temps)):\n",
    "    if temps[i]>(an_free_1[i]+30):\n",
    "        ctr+=1\n",
    "ctr"
   ]
  },
  {
   "cell_type": "code",
   "execution_count": 204,
   "metadata": {},
   "outputs": [],
   "source": [
    "#60 - Red    - 42\n",
    "#40 - Orange - 100\n",
    "#20 - Yellow - 194\n",
    "\n",
    "#5  - Green  - 333\n",
    "#<5 - Blue   - 692\n",
    "\n",
    "#40 - 103\n",
    "#20 - 194\n",
    "#10 - 278\n",
    "#5  - 333\n",
    "\n",
    "\n",
    "#50-78\n",
    "#30-148\n",
    "#10-278\n",
    "\n",
    "#Take minimum of the 4 days!"
   ]
  },
  {
   "cell_type": "code",
   "execution_count": null,
   "metadata": {},
   "outputs": [],
   "source": [
    "temps=np.ndarray((len(nodes0_1_500.NodePressure)*4),2)\n",
    "\n",
    "for i,j,k,([nodes0_1_500.NodePressure,nodes0_11_500.NodePressure,nodes0_21_500.NodePressure,nodes0_31_500.NodePressure,nodes0_41_500.NodePressure])\n"
   ]
  },
  {
   "cell_type": "code",
   "execution_count": 223,
   "metadata": {},
   "outputs": [],
   "source": [
    "temps=temps.T\n",
    "temps2=temps\n",
    "for i in range(0,temps.shape[0]):\n",
    "    mins=min(temps[i])\n",
    "    temps2[i]=temps[i]-mins\n",
    "temps2=temps2.reshape(820)\n"
   ]
  },
  {
   "cell_type": "code",
   "execution_count": 224,
   "metadata": {},
   "outputs": [
    {
     "data": {
      "text/plain": [
       "130.12082772383468"
      ]
     },
     "execution_count": 224,
     "metadata": {},
     "output_type": "execute_result"
    }
   ],
   "source": [
    "max(temps2)"
   ]
  },
  {
   "cell_type": "code",
   "execution_count": null,
   "metadata": {},
   "outputs": [],
   "source": []
  }
 ],
 "metadata": {
  "kernelspec": {
   "display_name": "Python 3",
   "language": "python",
   "name": "python3"
  },
  "language_info": {
   "codemirror_mode": {
    "name": "ipython",
    "version": 3
   },
   "file_extension": ".py",
   "mimetype": "text/x-python",
   "name": "python",
   "nbconvert_exporter": "python",
   "pygments_lexer": "ipython3",
   "version": "3.7.1"
  }
 },
 "nbformat": 4,
 "nbformat_minor": 4
}
