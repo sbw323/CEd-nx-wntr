{
 "cells": [
  {
   "cell_type": "code",
   "execution_count": 1,
   "metadata": {},
   "outputs": [],
   "source": [
    "import pandas as pd\n",
    "from pandas import DataFrame as df\n",
    "import numpy as np\n",
    "import matplotlib\n",
    "import matplotlib.pyplot as plt\n",
    "import wntr as wn\n",
    "import networkx as nx\n",
    "from collections import defaultdict\n",
    "import tensorflow as tf\n",
    "import math\n",
    "\n",
    "in2_ft2 = 0.0005787"
   ]
  },
  {
   "cell_type": "code",
   "execution_count": 2,
   "metadata": {},
   "outputs": [],
   "source": [
    "from matplotlib.axes._axes import _log as matplotlib_axes_logger\n",
    "matplotlib_axes_logger.setLevel('ERROR')"
   ]
  },
  {
   "cell_type": "code",
   "execution_count": 3,
   "metadata": {},
   "outputs": [
    {
     "name": "stdout",
     "output_type": "stream",
     "text": [
      "FilePath for Data is: /Users/kavyaub/Documents/mySubjects/ConEdison/NYU_LeakData OK? y / n y\n"
     ]
    }
   ],
   "source": [
    "toplevelpath = \"/Users/kavyaub/Documents/mySubjects/ConEdison\"\n",
    "#toplevelpath = \"/Users/aya/Documents/code-pfs/gas-nx\"\n",
    "\n",
    "all_datadir = \"/NYU_LeakData\"\n",
    "\n",
    "def ask_user_path(pathinput, datadirinput):\n",
    "    ask_user_path_text = 'FilePath for Data is: ' + pathinput + datadirinput + ' OK? y / n '\n",
    "    response = 'y'\n",
    "    user_inputYN = input(ask_user_path_text)\n",
    "    if user_inputYN.lower() not in response:\n",
    "        new_input = 'PASTE FULL PATH TO YOUR DATA DIRECTORY HERE: '\n",
    "        newpath = input(new_input)\n",
    "        return newpath\n",
    "    elif user_inputYN in response:\n",
    "        response2 = pathinput + datadirinput\n",
    "        return response2\n",
    "\n",
    "#datadirpath = ask_user_path(toplevelpath, all_datadir)\n",
    "get_file_datadirpath = ask_user_path(toplevelpath, all_datadir)\n"
   ]
  },
  {
   "cell_type": "code",
   "execution_count": 4,
   "metadata": {},
   "outputs": [
    {
     "name": "stderr",
     "output_type": "stream",
     "text": [
      "/Library/Frameworks/Python.framework/Versions/3.6/lib/python3.6/site-packages/IPython/core/interactiveshell.py:3020: DtypeWarning: Columns (105) have mixed types. Specify dtype option on import or set low_memory=False.\n",
      "  interactivity=interactivity, compiler=compiler, result=result)\n"
     ]
    }
   ],
   "source": [
    "\n",
    "anomalyFreeNode = toplevelpath + all_datadir + \"/LeakData_ZeroDegrees/NYU Anamoly Data_ZeroDeg_Nodes.csv\"\n",
    "nodeArr=pd.read_csv(anomalyFreeNode)\n",
    "\n",
    "anomalyFree = toplevelpath + all_datadir + \"/LeakData_ZeroDegrees/NYU Anamoly Data_ZeroDeg_Pipes.csv\"\n",
    "nFile0=pd.read_csv(anomalyFree)\n",
    "\n",
    "anomaly = toplevelpath + all_datadir + \"/LeakData_ZeroDegrees/NYU Anamoly Data_ZeroDeg_Pipes_Leak1.csv\"\n",
    "nFile1=pd.read_csv(anomaly)\n"
   ]
  },
  {
   "cell_type": "code",
   "execution_count": 5,
   "metadata": {},
   "outputs": [],
   "source": [
    "def get_file(name):\n",
    "    anomaly = get_file_datadirpath+name\n",
    "    nFile=pd.read_csv(anomaly)\n",
    "    return nFile"
   ]
  },
  {
   "cell_type": "code",
   "execution_count": 6,
   "metadata": {},
   "outputs": [],
   "source": [
    "def flowDeviation_vel(file0, file1):\n",
    "    res_arr = file1\n",
    "    res_arr['VELOpipeFPS']= file1.VELOpipeFPS\n",
    "    dividend = max(file0['VELOpipeFPS'])\n",
    "    res_arr.VELOpipeFPS = abs(res_arr.VELOpipeFPS.subtract(file0.VELOpipeFPS))/dividend\n",
    "    return res_arr"
   ]
  },
  {
   "cell_type": "code",
   "execution_count": 7,
   "metadata": {},
   "outputs": [],
   "source": [
    "preDir = \"/ReducedNodeSet/\"\n",
    "name500=\"CECnodes_500_TableToExcel\"\n",
    "filetype = \".csv\"\n",
    "nodes500 = get_file(preDir+name500+filetype)"
   ]
  },
  {
   "cell_type": "code",
   "execution_count": null,
   "metadata": {},
   "outputs": [],
   "source": []
  },
  {
   "cell_type": "code",
   "execution_count": 8,
   "metadata": {},
   "outputs": [],
   "source": [
    "def calculations(input_arr):\n",
    "    final_temp_arr = np.array([input_arr['NAME'],input_arr['FacilityFromNodeName'],input_arr['FacilityToNodeName'],input_arr['NAME'],[0]*input_arr.NAME.size,[0]*input_arr.NAME.size,[0]*input_arr.NAME.size,[0]*input_arr.NAME.size,[0]*input_arr.NAME.size,[0]*input_arr.NAME.size])\n",
    "\n",
    "    anomalyFreeNode = toplevelpath + all_datadir + \"/LeakData_ZeroDegrees/NYU Anamoly Data_ZeroDeg_Nodes.csv\"\n",
    "    nodeArr=pd.read_csv(anomalyFreeNode)\n",
    "    setOfNames = set(nodeArr['NAME'])\n",
    "\n",
    "    for i in range(0,final_temp_arr[1].size):\n",
    "        if final_temp_arr[1][i] in setOfNames:\n",
    "            temp = nodeArr.loc[nodeArr['NAME']==final_temp_arr[1][i]]\n",
    "            final_temp_arr[4][i]=temp.iloc[0][3]\n",
    "            final_temp_arr[5][i]=temp.iloc[0][2]\n",
    "        if final_temp_arr[2][i] in setOfNames:\n",
    "            temp = nodeArr.loc[nodeArr['NAME']==final_temp_arr[2][i]]\n",
    "            final_temp_arr[6][i]=temp.iloc[0][3]\n",
    "            final_temp_arr[7][i]=temp.iloc[0][2]\n",
    "            \n",
    "    mid_elem_x=(final_temp_arr[4]+final_temp_arr[6])/2.0\n",
    "    mid_elem_y=(final_temp_arr[5]+final_temp_arr[7])/2.0\n",
    "    \n",
    "    final_temp_arr[8]=mid_elem_x\n",
    "    final_temp_arr[9]=mid_elem_y\n",
    "    input_arr['mid_point_x']=mid_elem_x\n",
    "    input_arr['mid_point_y']=mid_elem_y"
   ]
  },
  {
   "cell_type": "code",
   "execution_count": 9,
   "metadata": {},
   "outputs": [],
   "source": [
    "def reducer(input_arr):\n",
    "    \n",
    "    unique_nodes = nodes500.NAME.unique()\n",
    "    reduced_nodeArr = input_arr[input_arr.FacilityFromNodeName.isin(unique_nodes)]\n",
    "    reduced_nodeArr1 = input_arr[input_arr.FacilityToNodeName.isin(unique_nodes)]\n",
    "\n",
    "    reduced_nodeArr.reset_index(inplace = True, drop = True)\n",
    "    reduced_nodeArr1.reset_index(inplace = True, drop = True)\n",
    "\n",
    "    df=pd.merge(reduced_nodeArr,reduced_nodeArr1)\n",
    "    df_new=df.drop_duplicates()\n",
    "    return df_new\n",
    "    "
   ]
  },
  {
   "cell_type": "code",
   "execution_count": null,
   "metadata": {},
   "outputs": [],
   "source": []
  },
  {
   "cell_type": "code",
   "execution_count": null,
   "metadata": {},
   "outputs": [],
   "source": []
  },
  {
   "cell_type": "code",
   "execution_count": 177,
   "metadata": {},
   "outputs": [],
   "source": [
    "preDir = \"/LeakData_ZeroDegrees/\"\n",
    "name0_11=\"NYU Anamoly Data_ZeroDeg_Pipes_Leak11\"\n",
    "name0_21=\"NYU Anamoly Data_ZeroDeg_Pipes_Leak21\"\n",
    "name0_31=\"NYU Anamoly Data_ZeroDeg_Pipes_Leak31\"\n",
    "name0_41=\"NYU Anamoly Data_ZeroDeg_Pipes_Leak41\"\n",
    "filetype = \".csv\"\n",
    "\n",
    "leak0_11 = get_file(preDir+name0_11+filetype)\n",
    "leak0_21 = get_file(preDir+name0_21+filetype)\n",
    "leak0_31 = get_file(preDir+name0_31+filetype)\n",
    "leak0_41 = get_file(preDir+name0_41+filetype)"
   ]
  },
  {
   "cell_type": "code",
   "execution_count": 778,
   "metadata": {},
   "outputs": [],
   "source": [
    "preDir = \"/LeakData_16Degrees/\"\n",
    "name1=\"NYU Anamoly Data_16Deg_Pipes_Leak1.csv\"\n",
    "name11=\"NYU Anamoly Data_16Deg_Pipes_Leak11.csv\"\n",
    "name21=\"NYU Anamoly Data_16Deg_Pipes_Leak21.csv\"\n",
    "name31=\"NYU Anamoly Data_16Deg_Pipes_Leak31.csv\"\n",
    "name41=\"NYU Anamoly Data_16Deg_Pipes_Leak41.csv\"\n",
    "\n",
    "leak1=get_file(preDir+name1)\n",
    "leak11 = get_file(preDir+name11)\n",
    "leak21 = get_file(preDir+name21)\n",
    "leak31 = get_file(preDir+name31)\n",
    "leak41 = get_file(preDir+name41)"
   ]
  },
  {
   "cell_type": "code",
   "execution_count": 779,
   "metadata": {},
   "outputs": [
    {
     "name": "stderr",
     "output_type": "stream",
     "text": [
      "/Library/Frameworks/Python.framework/Versions/3.6/lib/python3.6/site-packages/IPython/core/interactiveshell.py:3185: DtypeWarning: Columns (105) have mixed types. Specify dtype option on import or set low_memory=False.\n",
      "  if (yield from self.run_code(code, result)):\n"
     ]
    }
   ],
   "source": [
    "preDir = \"/LeakData_32Degrees/\"\n",
    "leakFree32 = \"NYU Anamoly Data_32Deg_Nodes.csv\"\n",
    "name32_01=\"NYU Anamoly Data_32Deg_Pipes_Leak1.csv\"\n",
    "name32_11=\"NYU Anamoly Data_32Deg_Pipes_Leak11.csv\"\n",
    "name32_21=\"NYU Anamoly Data_32Deg_Pipes_Leak21.csv\"\n",
    "name32_31=\"NYU Anamoly Data_32Deg_Pipes_Leak31.csv\"\n",
    "name32_41=\"NYU Anamoly Data_32Deg_Pipes_Leak41.csv\"\n",
    "\n",
    "leak32_00 = get_file(preDir+leakFree32)\n",
    "leak32_01 = get_file(preDir+name32_01)\n",
    "leak32_11 = get_file(preDir+name32_11)\n",
    "leak32_21 = get_file(preDir+name32_21)\n",
    "leak32_31 = get_file(preDir+name32_31)\n",
    "leak32_41 = get_file(preDir+name32_41)"
   ]
  },
  {
   "cell_type": "code",
   "execution_count": 780,
   "metadata": {},
   "outputs": [],
   "source": [
    "preDir = \"/LeakData_48Degrees/\"\n",
    "leakFree48 = \"NYU Anamoly Data_48Deg_Nodes.csv\"\n",
    "name48_01=\"NYU Anamoly Data_48Deg_Pipes_Leak1.csv\"\n",
    "name48_11=\"NYU Anamoly Data_48Deg_Pipes_Leak11.csv\"\n",
    "name48_21=\"NYU Anamoly Data_48Deg_Pipes_Leak21.csv\"\n",
    "name48_31=\"NYU Anamoly Data_48Deg_Pipes_Leak31.csv\"\n",
    "name48_41=\"NYU Anamoly Data_48Deg_Pipes_Leak41.csv\"\n",
    "\n",
    "leak48_00 = get_file(preDir+leakFree48)\n",
    "leak48_01 = get_file(preDir+name48_01)\n",
    "leak48_11 = get_file(preDir+name48_11)\n",
    "leak48_21 = get_file(preDir+name48_21)\n",
    "leak48_31 = get_file(preDir+name48_31)\n",
    "leak48_41 = get_file(preDir+name48_41)\n"
   ]
  },
  {
   "cell_type": "code",
   "execution_count": 781,
   "metadata": {},
   "outputs": [],
   "source": [
    "preDir = \"/LeakData_64Degrees/\"\n",
    "leakFree48 = \"NYU Anamoly Data_64Deg_Nodes.csv\"\n",
    "name64_01=\"NYU Anamoly Data_64Deg_Pipes_Leak1.csv\"\n",
    "name64_11=\"NYU Anamoly Data_64Deg_Pipes_Leak11.csv\"\n",
    "name64_21=\"NYU Anamoly Data_64Deg_Pipes_Leak21.csv\"\n",
    "name64_31=\"NYU Anamoly Data_64Deg_Pipes_Leak31.csv\"\n",
    "name64_41=\"NYU Anamoly Data_64Deg_Pipes_Leak41.csv\"\n",
    "\n",
    "leak64_00 = get_file(preDir+leakFree48)\n",
    "leak64_01 = get_file(preDir+name64_01)\n",
    "leak64_11 = get_file(preDir+name64_11)\n",
    "leak64_21 = get_file(preDir+name64_21)\n",
    "leak64_31 = get_file(preDir+name64_31)\n",
    "leak64_41 = get_file(preDir+name64_41)\n"
   ]
  },
  {
   "cell_type": "code",
   "execution_count": 11,
   "metadata": {},
   "outputs": [],
   "source": [
    "\n",
    "setOfNames = set(leak0_41['NAME'])\n",
    "def pipe_velocity_calc(pipedf):\n",
    "    final_pipedf = np.array([pipedf['NAME'],pipedf['FacilityFromNodeName'],pipedf['FacilityToNodeName'],pipedf['FacilityFlowAbsolute'],pipedf['PipeDiameter'],[0]*pipedf.NAME.size,[0]*pipedf.NAME.size,[0]*pipedf.NAME.size,[0]*pipedf.NAME.size,[0]*pipedf.NAME.size,[0]*pipedf.NAME.size])\n",
    "\n",
    "    for i in range(0,final_pipedf[1].size):\n",
    "        if final_pipedf[0][i] in setOfNames:\n",
    "            temp = pipedf.loc[pipedf['NAME']==final_pipedf[0][i]]\n",
    "            final_pipedf[5][i]=temp.iloc[0][90]\n",
    "            final_pipedf[6][i]=temp.iloc[0][94]\n",
    "\n",
    "    ## Creating the Velocity Rate Column ##\n",
    "    elem_AREApipeFT2 = (final_pipedf[6]**2/4*math.pi*in2_ft2)\n",
    "    elem_VELOpipeFPS = (final_pipedf[5]/elem_AREApipeFT2*1000/3600)\n",
    "    final_pipedf[8] = elem_AREApipeFT2\n",
    "    final_pipedf[9] = elem_VELOpipeFPS\n",
    "    pipedf['AREApipeFT2'] = elem_AREApipeFT2\n",
    "    pipedf['VELOpipeFPS'] = elem_VELOpipeFPS\n",
    "\n",
    "    return pipedf"
   ]
  },
  {
   "cell_type": "code",
   "execution_count": 178,
   "metadata": {},
   "outputs": [
    {
     "ename": "KeyError",
     "evalue": "'FacilityFromNodeName'",
     "output_type": "error",
     "traceback": [
      "\u001b[0;31m---------------------------------------------------------------------------\u001b[0m",
      "\u001b[0;31mKeyError\u001b[0m                                  Traceback (most recent call last)",
      "\u001b[0;32m/Library/Frameworks/Python.framework/Versions/3.6/lib/python3.6/site-packages/pandas/core/indexes/base.py\u001b[0m in \u001b[0;36mget_loc\u001b[0;34m(self, key, method, tolerance)\u001b[0m\n\u001b[1;32m   2601\u001b[0m             \u001b[0;32mtry\u001b[0m\u001b[0;34m:\u001b[0m\u001b[0;34m\u001b[0m\u001b[0;34m\u001b[0m\u001b[0m\n\u001b[0;32m-> 2602\u001b[0;31m                 \u001b[0;32mreturn\u001b[0m \u001b[0mself\u001b[0m\u001b[0;34m.\u001b[0m\u001b[0m_engine\u001b[0m\u001b[0;34m.\u001b[0m\u001b[0mget_loc\u001b[0m\u001b[0;34m(\u001b[0m\u001b[0mkey\u001b[0m\u001b[0;34m)\u001b[0m\u001b[0;34m\u001b[0m\u001b[0;34m\u001b[0m\u001b[0m\n\u001b[0m\u001b[1;32m   2603\u001b[0m             \u001b[0;32mexcept\u001b[0m \u001b[0mKeyError\u001b[0m\u001b[0;34m:\u001b[0m\u001b[0;34m\u001b[0m\u001b[0;34m\u001b[0m\u001b[0m\n",
      "\u001b[0;32mpandas/_libs/index.pyx\u001b[0m in \u001b[0;36mpandas._libs.index.IndexEngine.get_loc\u001b[0;34m()\u001b[0m\n",
      "\u001b[0;32mpandas/_libs/index.pyx\u001b[0m in \u001b[0;36mpandas._libs.index.IndexEngine.get_loc\u001b[0;34m()\u001b[0m\n",
      "\u001b[0;32mpandas/_libs/hashtable_class_helper.pxi\u001b[0m in \u001b[0;36mpandas._libs.hashtable.PyObjectHashTable.get_item\u001b[0;34m()\u001b[0m\n",
      "\u001b[0;32mpandas/_libs/hashtable_class_helper.pxi\u001b[0m in \u001b[0;36mpandas._libs.hashtable.PyObjectHashTable.get_item\u001b[0;34m()\u001b[0m\n",
      "\u001b[0;31mKeyError\u001b[0m: 'FacilityFromNodeName'",
      "\nDuring handling of the above exception, another exception occurred:\n",
      "\u001b[0;31mKeyError\u001b[0m                                  Traceback (most recent call last)",
      "\u001b[0;32m<ipython-input-178-e1a8dba57844>\u001b[0m in \u001b[0;36m<module>\u001b[0;34m\u001b[0m\n\u001b[1;32m      1\u001b[0m \u001b[0mres0_1\u001b[0m \u001b[0;34m=\u001b[0m \u001b[0mpipe_velocity_calc\u001b[0m\u001b[0;34m(\u001b[0m\u001b[0mnFile1\u001b[0m\u001b[0;34m)\u001b[0m\u001b[0;34m\u001b[0m\u001b[0;34m\u001b[0m\u001b[0m\n\u001b[0;32m----> 2\u001b[0;31m \u001b[0mnormal_vel_1\u001b[0m \u001b[0;34m=\u001b[0m \u001b[0mpipe_velocity_calc\u001b[0m\u001b[0;34m(\u001b[0m\u001b[0mnFile0\u001b[0m\u001b[0;34m)\u001b[0m\u001b[0;34m\u001b[0m\u001b[0;34m\u001b[0m\u001b[0m\n\u001b[0m\u001b[1;32m      3\u001b[0m \u001b[0mcal_diff0_1\u001b[0m \u001b[0;34m=\u001b[0m \u001b[0mflowDeviation_vel\u001b[0m\u001b[0;34m(\u001b[0m\u001b[0mnormal_vel_1\u001b[0m\u001b[0;34m,\u001b[0m\u001b[0mres0_1\u001b[0m\u001b[0;34m)\u001b[0m\u001b[0;34m\u001b[0m\u001b[0;34m\u001b[0m\u001b[0m\n\u001b[1;32m      4\u001b[0m \u001b[0mcalculations\u001b[0m\u001b[0;34m(\u001b[0m\u001b[0mcal_diff0_1\u001b[0m\u001b[0;34m)\u001b[0m\u001b[0;34m\u001b[0m\u001b[0;34m\u001b[0m\u001b[0m\n\u001b[1;32m      5\u001b[0m \u001b[0;34m\u001b[0m\u001b[0m\n",
      "\u001b[0;32m<ipython-input-11-a522bde7bc59>\u001b[0m in \u001b[0;36mpipe_velocity_calc\u001b[0;34m(pipedf)\u001b[0m\n\u001b[1;32m      2\u001b[0m \u001b[0msetOfNames\u001b[0m \u001b[0;34m=\u001b[0m \u001b[0mset\u001b[0m\u001b[0;34m(\u001b[0m\u001b[0mleak0_41\u001b[0m\u001b[0;34m[\u001b[0m\u001b[0;34m'NAME'\u001b[0m\u001b[0;34m]\u001b[0m\u001b[0;34m)\u001b[0m\u001b[0;34m\u001b[0m\u001b[0;34m\u001b[0m\u001b[0m\n\u001b[1;32m      3\u001b[0m \u001b[0;32mdef\u001b[0m \u001b[0mpipe_velocity_calc\u001b[0m\u001b[0;34m(\u001b[0m\u001b[0mpipedf\u001b[0m\u001b[0;34m)\u001b[0m\u001b[0;34m:\u001b[0m\u001b[0;34m\u001b[0m\u001b[0;34m\u001b[0m\u001b[0m\n\u001b[0;32m----> 4\u001b[0;31m     \u001b[0mfinal_pipedf\u001b[0m \u001b[0;34m=\u001b[0m \u001b[0mnp\u001b[0m\u001b[0;34m.\u001b[0m\u001b[0marray\u001b[0m\u001b[0;34m(\u001b[0m\u001b[0;34m[\u001b[0m\u001b[0mpipedf\u001b[0m\u001b[0;34m[\u001b[0m\u001b[0;34m'NAME'\u001b[0m\u001b[0;34m]\u001b[0m\u001b[0;34m,\u001b[0m\u001b[0mpipedf\u001b[0m\u001b[0;34m[\u001b[0m\u001b[0;34m'FacilityFromNodeName'\u001b[0m\u001b[0;34m]\u001b[0m\u001b[0;34m,\u001b[0m\u001b[0mpipedf\u001b[0m\u001b[0;34m[\u001b[0m\u001b[0;34m'FacilityToNodeName'\u001b[0m\u001b[0;34m]\u001b[0m\u001b[0;34m,\u001b[0m\u001b[0mpipedf\u001b[0m\u001b[0;34m[\u001b[0m\u001b[0;34m'FacilityFlowAbsolute'\u001b[0m\u001b[0;34m]\u001b[0m\u001b[0;34m,\u001b[0m\u001b[0mpipedf\u001b[0m\u001b[0;34m[\u001b[0m\u001b[0;34m'PipeDiameter'\u001b[0m\u001b[0;34m]\u001b[0m\u001b[0;34m,\u001b[0m\u001b[0;34m[\u001b[0m\u001b[0;36m0\u001b[0m\u001b[0;34m]\u001b[0m\u001b[0;34m*\u001b[0m\u001b[0mpipedf\u001b[0m\u001b[0;34m.\u001b[0m\u001b[0mNAME\u001b[0m\u001b[0;34m.\u001b[0m\u001b[0msize\u001b[0m\u001b[0;34m,\u001b[0m\u001b[0;34m[\u001b[0m\u001b[0;36m0\u001b[0m\u001b[0;34m]\u001b[0m\u001b[0;34m*\u001b[0m\u001b[0mpipedf\u001b[0m\u001b[0;34m.\u001b[0m\u001b[0mNAME\u001b[0m\u001b[0;34m.\u001b[0m\u001b[0msize\u001b[0m\u001b[0;34m,\u001b[0m\u001b[0;34m[\u001b[0m\u001b[0;36m0\u001b[0m\u001b[0;34m]\u001b[0m\u001b[0;34m*\u001b[0m\u001b[0mpipedf\u001b[0m\u001b[0;34m.\u001b[0m\u001b[0mNAME\u001b[0m\u001b[0;34m.\u001b[0m\u001b[0msize\u001b[0m\u001b[0;34m,\u001b[0m\u001b[0;34m[\u001b[0m\u001b[0;36m0\u001b[0m\u001b[0;34m]\u001b[0m\u001b[0;34m*\u001b[0m\u001b[0mpipedf\u001b[0m\u001b[0;34m.\u001b[0m\u001b[0mNAME\u001b[0m\u001b[0;34m.\u001b[0m\u001b[0msize\u001b[0m\u001b[0;34m,\u001b[0m\u001b[0;34m[\u001b[0m\u001b[0;36m0\u001b[0m\u001b[0;34m]\u001b[0m\u001b[0;34m*\u001b[0m\u001b[0mpipedf\u001b[0m\u001b[0;34m.\u001b[0m\u001b[0mNAME\u001b[0m\u001b[0;34m.\u001b[0m\u001b[0msize\u001b[0m\u001b[0;34m,\u001b[0m\u001b[0;34m[\u001b[0m\u001b[0;36m0\u001b[0m\u001b[0;34m]\u001b[0m\u001b[0;34m*\u001b[0m\u001b[0mpipedf\u001b[0m\u001b[0;34m.\u001b[0m\u001b[0mNAME\u001b[0m\u001b[0;34m.\u001b[0m\u001b[0msize\u001b[0m\u001b[0;34m]\u001b[0m\u001b[0;34m)\u001b[0m\u001b[0;34m\u001b[0m\u001b[0;34m\u001b[0m\u001b[0m\n\u001b[0m\u001b[1;32m      5\u001b[0m \u001b[0;34m\u001b[0m\u001b[0m\n\u001b[1;32m      6\u001b[0m     \u001b[0;32mfor\u001b[0m \u001b[0mi\u001b[0m \u001b[0;32min\u001b[0m \u001b[0mrange\u001b[0m\u001b[0;34m(\u001b[0m\u001b[0;36m0\u001b[0m\u001b[0;34m,\u001b[0m\u001b[0mfinal_pipedf\u001b[0m\u001b[0;34m[\u001b[0m\u001b[0;36m1\u001b[0m\u001b[0;34m]\u001b[0m\u001b[0;34m.\u001b[0m\u001b[0msize\u001b[0m\u001b[0;34m)\u001b[0m\u001b[0;34m:\u001b[0m\u001b[0;34m\u001b[0m\u001b[0;34m\u001b[0m\u001b[0m\n",
      "\u001b[0;32m/Library/Frameworks/Python.framework/Versions/3.6/lib/python3.6/site-packages/pandas/core/frame.py\u001b[0m in \u001b[0;36m__getitem__\u001b[0;34m(self, key)\u001b[0m\n\u001b[1;32m   2915\u001b[0m             \u001b[0;32mif\u001b[0m \u001b[0mself\u001b[0m\u001b[0;34m.\u001b[0m\u001b[0mcolumns\u001b[0m\u001b[0;34m.\u001b[0m\u001b[0mnlevels\u001b[0m \u001b[0;34m>\u001b[0m \u001b[0;36m1\u001b[0m\u001b[0;34m:\u001b[0m\u001b[0;34m\u001b[0m\u001b[0;34m\u001b[0m\u001b[0m\n\u001b[1;32m   2916\u001b[0m                 \u001b[0;32mreturn\u001b[0m \u001b[0mself\u001b[0m\u001b[0;34m.\u001b[0m\u001b[0m_getitem_multilevel\u001b[0m\u001b[0;34m(\u001b[0m\u001b[0mkey\u001b[0m\u001b[0;34m)\u001b[0m\u001b[0;34m\u001b[0m\u001b[0;34m\u001b[0m\u001b[0m\n\u001b[0;32m-> 2917\u001b[0;31m             \u001b[0mindexer\u001b[0m \u001b[0;34m=\u001b[0m \u001b[0mself\u001b[0m\u001b[0;34m.\u001b[0m\u001b[0mcolumns\u001b[0m\u001b[0;34m.\u001b[0m\u001b[0mget_loc\u001b[0m\u001b[0;34m(\u001b[0m\u001b[0mkey\u001b[0m\u001b[0;34m)\u001b[0m\u001b[0;34m\u001b[0m\u001b[0;34m\u001b[0m\u001b[0m\n\u001b[0m\u001b[1;32m   2918\u001b[0m             \u001b[0;32mif\u001b[0m \u001b[0mis_integer\u001b[0m\u001b[0;34m(\u001b[0m\u001b[0mindexer\u001b[0m\u001b[0;34m)\u001b[0m\u001b[0;34m:\u001b[0m\u001b[0;34m\u001b[0m\u001b[0;34m\u001b[0m\u001b[0m\n\u001b[1;32m   2919\u001b[0m                 \u001b[0mindexer\u001b[0m \u001b[0;34m=\u001b[0m \u001b[0;34m[\u001b[0m\u001b[0mindexer\u001b[0m\u001b[0;34m]\u001b[0m\u001b[0;34m\u001b[0m\u001b[0;34m\u001b[0m\u001b[0m\n",
      "\u001b[0;32m/Library/Frameworks/Python.framework/Versions/3.6/lib/python3.6/site-packages/pandas/core/indexes/base.py\u001b[0m in \u001b[0;36mget_loc\u001b[0;34m(self, key, method, tolerance)\u001b[0m\n\u001b[1;32m   2602\u001b[0m                 \u001b[0;32mreturn\u001b[0m \u001b[0mself\u001b[0m\u001b[0;34m.\u001b[0m\u001b[0m_engine\u001b[0m\u001b[0;34m.\u001b[0m\u001b[0mget_loc\u001b[0m\u001b[0;34m(\u001b[0m\u001b[0mkey\u001b[0m\u001b[0;34m)\u001b[0m\u001b[0;34m\u001b[0m\u001b[0;34m\u001b[0m\u001b[0m\n\u001b[1;32m   2603\u001b[0m             \u001b[0;32mexcept\u001b[0m \u001b[0mKeyError\u001b[0m\u001b[0;34m:\u001b[0m\u001b[0;34m\u001b[0m\u001b[0;34m\u001b[0m\u001b[0m\n\u001b[0;32m-> 2604\u001b[0;31m                 \u001b[0;32mreturn\u001b[0m \u001b[0mself\u001b[0m\u001b[0;34m.\u001b[0m\u001b[0m_engine\u001b[0m\u001b[0;34m.\u001b[0m\u001b[0mget_loc\u001b[0m\u001b[0;34m(\u001b[0m\u001b[0mself\u001b[0m\u001b[0;34m.\u001b[0m\u001b[0m_maybe_cast_indexer\u001b[0m\u001b[0;34m(\u001b[0m\u001b[0mkey\u001b[0m\u001b[0;34m)\u001b[0m\u001b[0;34m)\u001b[0m\u001b[0;34m\u001b[0m\u001b[0;34m\u001b[0m\u001b[0m\n\u001b[0m\u001b[1;32m   2605\u001b[0m         \u001b[0mindexer\u001b[0m \u001b[0;34m=\u001b[0m \u001b[0mself\u001b[0m\u001b[0;34m.\u001b[0m\u001b[0mget_indexer\u001b[0m\u001b[0;34m(\u001b[0m\u001b[0;34m[\u001b[0m\u001b[0mkey\u001b[0m\u001b[0;34m]\u001b[0m\u001b[0;34m,\u001b[0m \u001b[0mmethod\u001b[0m\u001b[0;34m=\u001b[0m\u001b[0mmethod\u001b[0m\u001b[0;34m,\u001b[0m \u001b[0mtolerance\u001b[0m\u001b[0;34m=\u001b[0m\u001b[0mtolerance\u001b[0m\u001b[0;34m)\u001b[0m\u001b[0;34m\u001b[0m\u001b[0;34m\u001b[0m\u001b[0m\n\u001b[1;32m   2606\u001b[0m         \u001b[0;32mif\u001b[0m \u001b[0mindexer\u001b[0m\u001b[0;34m.\u001b[0m\u001b[0mndim\u001b[0m \u001b[0;34m>\u001b[0m \u001b[0;36m1\u001b[0m \u001b[0;32mor\u001b[0m \u001b[0mindexer\u001b[0m\u001b[0;34m.\u001b[0m\u001b[0msize\u001b[0m \u001b[0;34m>\u001b[0m \u001b[0;36m1\u001b[0m\u001b[0;34m:\u001b[0m\u001b[0;34m\u001b[0m\u001b[0;34m\u001b[0m\u001b[0m\n",
      "\u001b[0;32mpandas/_libs/index.pyx\u001b[0m in \u001b[0;36mpandas._libs.index.IndexEngine.get_loc\u001b[0;34m()\u001b[0m\n",
      "\u001b[0;32mpandas/_libs/index.pyx\u001b[0m in \u001b[0;36mpandas._libs.index.IndexEngine.get_loc\u001b[0;34m()\u001b[0m\n",
      "\u001b[0;32mpandas/_libs/hashtable_class_helper.pxi\u001b[0m in \u001b[0;36mpandas._libs.hashtable.PyObjectHashTable.get_item\u001b[0;34m()\u001b[0m\n",
      "\u001b[0;32mpandas/_libs/hashtable_class_helper.pxi\u001b[0m in \u001b[0;36mpandas._libs.hashtable.PyObjectHashTable.get_item\u001b[0;34m()\u001b[0m\n",
      "\u001b[0;31mKeyError\u001b[0m: 'FacilityFromNodeName'"
     ]
    }
   ],
   "source": [
    "res0_1 = pipe_velocity_calc(nFile1)\n",
    "normal_vel_1 = pipe_velocity_calc(nFile0)\n",
    "cal_diff0_1 = flowDeviation_vel(normal_vel_1,res0_1)\n",
    "calculations(cal_diff0_1)\n",
    "\n",
    "res0_11 = pipe_velocity_calc(leak0_11)\n",
    "normal_vel_11 = pipe_velocity_calc(nFile0)\n",
    "cal_diff0_11 = flowDeviation_vel(normal_vel_11,res0_11)\n",
    "calculations(cal_diff0_11)\n",
    "\n",
    "res0_21 = pipe_velocity_calc(leak0_21)\n",
    "normal_vel_21 = pipe_velocity_calc(nFile0)\n",
    "cal_diff0_21 = flowDeviation_vel(normal_vel_21,res0_21)\n",
    "calculations(cal_diff0_21)\n",
    "\n",
    "res0_31 = pipe_velocity_calc(leak0_31)\n",
    "normal_vel_31 = pipe_velocity_calc(nFile0)\n",
    "cal_diff0_31 = flowDeviation_vel(normal_vel_31,res0_31)\n",
    "calculations(cal_diff0_31)\n",
    "\n",
    "res0_41 = pipe_velocity_calc(leak0_41)\n",
    "normal_vel_41 = pipe_velocity_calc(nFile0)\n",
    "cal_diff0_41 = flowDeviation_vel(normal_vel_41,res0_41)\n",
    "calculations(cal_diff0_41)\n",
    "\n",
    "cal_diff0_1 = cal_diff0_1.fillna(value=0.0)\n",
    "cal_diff0_11 = cal_diff0_11.fillna(value=0.0)\n",
    "cal_diff0_21 = cal_diff0_21.fillna(value=0.0)\n",
    "cal_diff0_31 = cal_diff0_31.fillna(value=0.0)\n",
    "cal_diff0_41 = cal_diff0_41.fillna(value=0.0)\n",
    "\n",
    "cal_diff0_1_500=reducer(cal_diff0_1)\n",
    "cal_diff0_11_500=reducer(cal_diff0_11)\n",
    "cal_diff0_21_500=reducer(cal_diff0_21)\n",
    "cal_diff0_31_500=reducer(cal_diff0_31)\n",
    "cal_diff0_41_500=reducer(cal_diff0_41)"
   ]
  },
  {
   "cell_type": "code",
   "execution_count": 13,
   "metadata": {},
   "outputs": [
    {
     "data": {
      "text/plain": [
       "5168"
      ]
     },
     "execution_count": 13,
     "metadata": {},
     "output_type": "execute_result"
    }
   ],
   "source": [
    "len(res0_41.VELOpipeFPS)"
   ]
  },
  {
   "cell_type": "code",
   "execution_count": 785,
   "metadata": {},
   "outputs": [],
   "source": [
    "anomalyFree = toplevelpath + all_datadir + \"/LeakData_16Degrees/NYU Anamoly Data_16Deg_Pipes.csv\"\n",
    "nFile0=pd.read_csv(anomalyFree)\n",
    "\n",
    "anomaly = toplevelpath + all_datadir + \"/LeakData_16Degrees/NYU Anamoly Data_16Deg_Pipes_Leak1.csv\"\n",
    "nFile1=pd.read_csv(anomaly)\n",
    "\n",
    "res1 = pipe_velocity_calc(nFile1)\n",
    "normal_vel_1 = pipe_velocity_calc(nFile0)\n",
    "cal_diff1 = flowDeviation_vel(normal_vel_1,res1)\n",
    "calculations(cal_diff1)\n",
    "\n",
    "res11 = pipe_velocity_calc(leak11)\n",
    "normal_vel_11 = pipe_velocity_calc(nFile0)\n",
    "cal_diff11 = flowDeviation_vel(normal_vel_11,res11)\n",
    "calculations(cal_diff11)\n",
    "\n",
    "res21 = pipe_velocity_calc(leak21)\n",
    "normal_vel_21 = pipe_velocity_calc(nFile0)\n",
    "cal_diff21 = flowDeviation_vel(normal_vel_21,res21)\n",
    "calculations(cal_diff21)\n",
    "\n",
    "res31 = pipe_velocity_calc(leak31)\n",
    "normal_vel_31 = pipe_velocity_calc(nFile0)\n",
    "cal_diff31 = flowDeviation_vel(normal_vel_31,res31)\n",
    "calculations(cal_diff31)\n",
    "\n",
    "res41 = pipe_velocity_calc(leak41)\n",
    "normal_vel_41 = pipe_velocity_calc(nFile0)\n",
    "cal_diff41 = flowDeviation_vel(normal_vel_41,res41)\n",
    "calculations(cal_diff41)\n",
    "\n",
    "cal_diff1 = cal_diff1.fillna(value=0.0)\n",
    "cal_diff11 = cal_diff11.fillna(value=0.0)\n",
    "cal_diff21 = cal_diff21.fillna(value=0.0)\n",
    "cal_diff31 = cal_diff31.fillna(value=0.0)\n",
    "cal_diff41 = cal_diff41.fillna(value=0.0)\n",
    "\n",
    "\n",
    "cal_diff1_500=reducer(cal_diff1)\n",
    "cal_diff11_500=reducer(cal_diff11)\n",
    "cal_diff21_500=reducer(cal_diff21)\n",
    "cal_diff31_500=reducer(cal_diff31)\n",
    "cal_diff41_500=reducer(cal_diff41)"
   ]
  },
  {
   "cell_type": "code",
   "execution_count": 786,
   "metadata": {},
   "outputs": [],
   "source": [
    "anomalyFree = toplevelpath + all_datadir + \"/LeakData_32Degrees/NYU Anamoly Data_32Deg_Pipes.csv\"\n",
    "nFile0=pd.read_csv(anomalyFree)\n",
    "\n",
    "anomaly = toplevelpath + all_datadir + \"/LeakData_32Degrees/NYU Anamoly Data_32Deg_Pipes_Leak1.csv\"\n",
    "nFile1=pd.read_csv(anomaly)\n",
    "\n",
    "res32_1 = pipe_velocity_calc(nFile1)\n",
    "normal_vel_1 = pipe_velocity_calc(nFile0)\n",
    "cal_diff32_1 = flowDeviation_vel(normal_vel_1,res32_1)\n",
    "calculations(cal_diff32_1)\n",
    "\n",
    "res32_11 = pipe_velocity_calc(leak32_11)\n",
    "normal_vel_11 = pipe_velocity_calc(nFile0)\n",
    "cal_diff32_11 = flowDeviation_vel(normal_vel_11,res32_11)\n",
    "calculations(cal_diff32_11)\n",
    "\n",
    "res32_21 = pipe_velocity_calc(leak32_21)\n",
    "normal_vel_21 = pipe_velocity_calc(nFile0)\n",
    "cal_diff32_21 = flowDeviation_vel(normal_vel_21,res32_21)\n",
    "calculations(cal_diff32_21)\n",
    "\n",
    "res32_31 = pipe_velocity_calc(leak32_31)\n",
    "normal_vel_31 = pipe_velocity_calc(nFile0)\n",
    "cal_diff32_31 = flowDeviation_vel(normal_vel_31,res32_31)\n",
    "calculations(cal_diff32_31)\n",
    "\n",
    "res32_41 = pipe_velocity_calc(leak32_41)\n",
    "normal_vel_41 = pipe_velocity_calc(nFile0)\n",
    "cal_diff32_41 = flowDeviation_vel(normal_vel_41,res32_41)\n",
    "calculations(cal_diff32_41)\n",
    "\n",
    "cal_diff32_1 = cal_diff32_1.fillna(value=0.0)\n",
    "cal_diff32_11 = cal_diff32_11.fillna(value=0.0)\n",
    "cal_diff32_21 = cal_diff32_21.fillna(value=0.0)\n",
    "cal_diff32_31 = cal_diff32_31.fillna(value=0.0)\n",
    "cal_diff32_41 = cal_diff32_41.fillna(value=0.0)\n",
    "\n",
    "cal_diff32_1_500=reducer(cal_diff32_1)\n",
    "cal_diff32_11_500=reducer(cal_diff32_11)\n",
    "cal_diff32_21_500=reducer(cal_diff32_21)\n",
    "cal_diff32_31_500=reducer(cal_diff32_31)\n",
    "cal_diff32_41_500=reducer(cal_diff32_41)"
   ]
  },
  {
   "cell_type": "code",
   "execution_count": 226,
   "metadata": {},
   "outputs": [],
   "source": [
    "anomalyFree = toplevelpath + all_datadir + \"/LeakData_48Degrees/NYU Anamoly Data_48Deg_Pipes.csv\"\n",
    "nFile0=pd.read_csv(anomalyFree)\n",
    "\n",
    "anomaly = toplevelpath + all_datadir + \"/LeakData_48Degrees/NYU Anamoly Data_48Deg_Pipes_Leak1.csv\"\n",
    "nFile1=pd.read_csv(anomaly)\n",
    "\n",
    "res48_1 = pipe_velocity_calc(nFile1)\n",
    "normal_vel_1 = pipe_velocity_calc(nFile0)\n",
    "cal_diff48_1 = flowDeviation_vel(normal_vel_1,res48_1)\n",
    "calculations(cal_diff48_1)\n",
    "\n",
    "res48_11 = pipe_velocity_calc(leak48_11)\n",
    "normal_vel_11 = pipe_velocity_calc(nFile0)\n",
    "cal_diff48_11 = flowDeviation_vel(normal_vel_11,res48_11)\n",
    "calculations(cal_diff48_11)\n",
    "\n",
    "res48_21 = pipe_velocity_calc(leak48_21)\n",
    "normal_vel_21 = pipe_velocity_calc(nFile0)\n",
    "cal_diff48_21 = flowDeviation_vel(normal_vel_21,res48_21)\n",
    "calculations(cal_diff48_21)\n",
    "\n",
    "res48_31 = pipe_velocity_calc(leak48_31)\n",
    "normal_vel_31 = pipe_velocity_calc(nFile0)\n",
    "cal_diff48_31 = flowDeviation_vel(normal_vel_31,res48_31)\n",
    "calculations(cal_diff48_31)\n",
    "\n",
    "res48_41 = pipe_velocity_calc(leak48_41)\n",
    "normal_vel_41 = pipe_velocity_calc(nFile0)\n",
    "cal_diff48_41 = flowDeviation_vel(normal_vel_41,res48_41)\n",
    "calculations(cal_diff48_41)\n",
    "\n",
    "cal_diff48_1 = cal_diff48_1.fillna(value=0.0)\n",
    "cal_diff48_11 = cal_diff48_11.fillna(value=0.0)\n",
    "cal_diff48_21 = cal_diff48_21.fillna(value=0.0)\n",
    "cal_diff48_31 = cal_diff48_31.fillna(value=0.0)\n",
    "cal_diff48_41 = cal_diff48_41.fillna(value=0.0)\n",
    "\n",
    "cal_diff48_1_500=reducer(cal_diff48_1)\n",
    "cal_diff48_11_500=reducer(cal_diff48_11)\n",
    "cal_diff48_21_500=reducer(cal_diff48_21)\n",
    "cal_diff48_31_500=reducer(cal_diff48_31)\n",
    "cal_diff48_41_500=reducer(cal_diff48_41)"
   ]
  },
  {
   "cell_type": "code",
   "execution_count": 227,
   "metadata": {},
   "outputs": [],
   "source": [
    "anomalyFree = toplevelpath + all_datadir + \"/LeakData_64Degrees/NYU Anamoly Data_64Deg_Pipes.csv\"\n",
    "nFile0=pd.read_csv(anomalyFree)\n",
    "\n",
    "anomaly = toplevelpath + all_datadir + \"/LeakData_64Degrees/NYU Anamoly Data_64Deg_Pipes_Leak1.csv\"\n",
    "nFile1=pd.read_csv(anomaly)\n",
    "\n",
    "res64_1 = pipe_velocity_calc(nFile1)\n",
    "normal_vel_1 = pipe_velocity_calc(nFile0)\n",
    "cal_diff64_1 = flowDeviation_vel(normal_vel_1,res64_1)\n",
    "calculations(cal_diff64_1)\n",
    "\n",
    "res64_11 = pipe_velocity_calc(leak64_11)\n",
    "normal_vel_11 = pipe_velocity_calc(nFile0)\n",
    "cal_diff64_11 = flowDeviation_vel(normal_vel_11,res64_11)\n",
    "calculations(cal_diff64_11)\n",
    "\n",
    "res64_21 = pipe_velocity_calc(leak64_21)\n",
    "normal_vel_21 = pipe_velocity_calc(nFile0)\n",
    "cal_diff64_21 = flowDeviation_vel(normal_vel_21,res64_21)\n",
    "calculations(cal_diff64_21)\n",
    "\n",
    "res64_31 = pipe_velocity_calc(leak64_31)\n",
    "normal_vel_31 = pipe_velocity_calc(nFile0)\n",
    "cal_diff64_31 = flowDeviation_vel(normal_vel_31,res64_31)\n",
    "calculations(cal_diff64_31)\n",
    "\n",
    "res64_41 = pipe_velocity_calc(leak64_41)\n",
    "normal_vel_41 = pipe_velocity_calc(nFile0)\n",
    "cal_diff64_41 = flowDeviation_vel(normal_vel_41,res64_41)\n",
    "calculations(cal_diff64_41)\n",
    "\n",
    "cal_diff64_1 = cal_diff64_1.fillna(value=0.0)\n",
    "cal_diff64_11 = cal_diff64_11.fillna(value=0.0)\n",
    "cal_diff64_21 = cal_diff64_21.fillna(value=0.0)\n",
    "cal_diff64_31 = cal_diff64_31.fillna(value=0.0)\n",
    "cal_diff64_41 = cal_diff64_41.fillna(value=0.0)\n",
    "\n",
    "cal_diff64_1_500=reducer(cal_diff64_1)\n",
    "cal_diff64_11_500=reducer(cal_diff64_11)\n",
    "cal_diff64_21_500=reducer(cal_diff64_21)\n",
    "cal_diff64_31_500=reducer(cal_diff64_31)\n",
    "cal_diff64_41_500=reducer(cal_diff64_41)"
   ]
  },
  {
   "cell_type": "code",
   "execution_count": 228,
   "metadata": {},
   "outputs": [
    {
     "data": {
      "text/plain": [
       "0.0001434721354319211"
      ]
     },
     "execution_count": 228,
     "metadata": {},
     "output_type": "execute_result"
    }
   ],
   "source": [
    "np.mean(cal_diff0_1.VELOpipeFPS)"
   ]
  },
  {
   "cell_type": "code",
   "execution_count": null,
   "metadata": {},
   "outputs": [],
   "source": []
  },
  {
   "cell_type": "code",
   "execution_count": 229,
   "metadata": {},
   "outputs": [],
   "source": [
    "#def hightlightColor(r):\n",
    "#    if r['sumLeaks']>3:\n",
    "#        return ['background-color: red']*6\n",
    "#    elif r['sumLeaks']>2:\n",
    "#        return ['background-color: orange']*6\n",
    "#    elif r['sumLeaks']>1:\n",
    "#        return ['background-color: yellow']*6\n",
    "#    elif r['sumLeaks']>0:\n",
    "#        return ['background-color: green']*6\n",
    "#    else:\n",
    "#        return ['background-color: blue']*6"
   ]
  },
  {
   "cell_type": "code",
   "execution_count": 230,
   "metadata": {},
   "outputs": [],
   "source": [
    "#leakTable.style.apply(hightlightColor, axis=1)"
   ]
  },
  {
   "cell_type": "code",
   "execution_count": 14,
   "metadata": {
    "scrolled": true
   },
   "outputs": [],
   "source": [
    "anomalyFreeNode = toplevelpath + all_datadir + \"/LeakData_ZeroDegrees/NYU Anamoly Data_ZeroDeg_Nodes.csv\"\n",
    "\n",
    "nodeArr=pd.read_csv(anomalyFreeNode)\n",
    "\n",
    "#dirpltpath = \"/Users/aya/Documents/code-pfs/gas-nx/plots/04012020--finalVel\"\n",
    "dirpltpath = \"/Users/kavyaub/Documents/mySubjects/ConEdison/screenshots/screenshotsPipe_32Deg\""
   ]
  },
  {
   "cell_type": "code",
   "execution_count": 15,
   "metadata": {},
   "outputs": [],
   "source": [
    "from mpl_toolkits.mplot3d import Axes3D\n",
    "\n",
    "def draw_3d(graphArr):\n",
    "    cntrlnd = '0BEC50B8'\n",
    "    unique_node=graphArr.FacilityToNodeName.unique()\n",
    "    u_n_2 = graphArr.FacilityFromNodeName.unique()\n",
    "    unique_node=np.append(unique_node,u_n_2)\n",
    "    unique_node=np.unique(unique_node)\n",
    "    anomalyFreeNode = toplevelpath + all_datadir + \"/LeakData_ZeroDegrees/NYU Anamoly Data_ZeroDeg_Nodes.csv\"\n",
    "    nodeArr=pd.read_csv(anomalyFreeNode)\n",
    "    nodeArr = nodeArr[nodeArr.NAME.isin(unique_node)]\n",
    "\n",
    "    G = nx.Graph()\n",
    "\n",
    "    graphArr['mid_point_names']=\"mid_point\"+graphArr.NAME\n",
    "\n",
    "\n",
    "\n",
    "    temp_arr = np.array([graphArr.NAME, graphArr.FacilityFromNodeName, graphArr.FacilityToNodeName, graphArr.mid_point_names, graphArr.mid_point_x, graphArr.mid_point_y, [0]*graphArr.NAME.size,[0]*graphArr.NAME.size,[0]*graphArr.NAME.size])\n",
    "    edges=np.array([['','']])\n",
    "    m=0\n",
    "    for i,j in enumerate(temp_arr[3]):\n",
    "        tmp_src=temp_arr[1][i]\n",
    "        tmp_dest=temp_arr[2][i]\n",
    "        srcs = np.where(temp_arr[1]==tmp_src)\n",
    "        dests = np.where(temp_arr[2] == tmp_src)\n",
    "        for r in srcs[0]:\n",
    "            src_node=temp_arr[3][i]\n",
    "            dest_node=temp_arr[3][r]\n",
    "            edges = np.vstack([edges, [src_node,dest_node]])\n",
    "        for k in dests[0]:\n",
    "            src_node=temp_arr[3][i]\n",
    "            dest_node=temp_arr[3][k]\n",
    "            edges = np.vstack([edges, [src_node,dest_node]])\n",
    "    edges=np.delete(edges,(0), axis=0)\n",
    "\n",
    "    pos_dict = defaultdict(list)\n",
    "    mid_pos_dict = defaultdict(list)\n",
    "    for i, j, k in zip(graphArr.mid_point_names,graphArr.mid_point_x,graphArr.mid_point_y):\n",
    "        mid_pos_dict[i].append(j)\n",
    "        mid_pos_dict[i].append(k)\n",
    "    \n",
    "    for i,j,k in zip(nodeArr.NAME,nodeArr.NodeXCoordinate,nodeArr.NodeYCoordinate):\n",
    "        pos_dict[i].append(j)\n",
    "        pos_dict[i].append(k)\n",
    "    pos_dict0 = dict(pos_dict)\n",
    "\n",
    "    mid_post_dict0=dict(mid_pos_dict)\n",
    "\n",
    "\n",
    "    temp_0=[0]*graphArr.NAME.size\n",
    "\n",
    "\n",
    "    node_dict0 = {val:item for val, item in zip(nodeArr.NAME,graphArr.VELOpipeFPS)}\n",
    "    edgeflow_dict0 = {val:item for val, item in zip(graphArr.mid_point_names, graphArr.VELOpipeFPS)}\n",
    "\n",
    "    d3pos_dict = defaultdict(list)\n",
    "    midpos_dict = defaultdict(list)\n",
    "\n",
    "    for d in (mid_post_dict0, edgeflow_dict0): # you can list as many input dicts as you want here\n",
    "        for key, value in d.items():\n",
    "            midpos_dict[key].append(value)\n",
    "    midpos_dict0 = dict(midpos_dict)\n",
    "\n",
    "    for d in (pos_dict0, node_dict0): # you can list as many input dicts as you want here\n",
    "        for key, value in d.items():\n",
    "            d3pos_dict[key].append(value)\n",
    "    d3pos_dict0 = dict(d3pos_dict)\n",
    "\n",
    "\n",
    "    edge_list = list(graphArr.mid_point_names)\n",
    "    node_list = list(nodeArr.NAME)\n",
    "    temp = list(pos_dict0.keys())\n",
    "    temp2 = list(mid_post_dict0.keys())\n",
    "    keys_all=np.append(temp,temp2)\n",
    "\n",
    "    G.add_nodes_from(keys_all)\n",
    "\n",
    "    for n in node_list:\n",
    "        G.nodes[n]['pos'] = pos_dict0[n]\n",
    "        G.nodes[n]['flow'] = 0\n",
    "    \n",
    "    for n in edge_list:\n",
    "        G.nodes[n]['pos'] = mid_post_dict0[n]\n",
    "        G.nodes[n]['flow'] = edgeflow_dict0[n]\n",
    "    \n",
    "\n",
    "    for i in edges:\n",
    "        pdest = i[1]\n",
    "        psource = i[0]\n",
    "        name = i[0]\n",
    "        G.add_edge(psource, pdest, n = name)\n",
    "\n",
    "\n",
    "    def network_plot_3D(G, angle, save=True):\n",
    "    \n",
    "        lower = min(cal_diff0_41['VELOpipeFPS'])\n",
    "        upper = max(cal_diff0_41['VELOpipeFPS'])\n",
    "        tp_arr = (graphArr['VELOpipeFPS']-lower)/(upper-lower)\n",
    "        tp2 = [float(i) for i in tp_arr]\n",
    "        \n",
    "        colors = [\"#1a1aff\", \"#00cc00\", \"#ffff00\", \"#ffa500\", \"#ff4d4d\"]\n",
    "        cmap= matplotlib.colors.ListedColormap(colors)\n",
    "        cmap.set_under(\"crimson\")\n",
    "        cmap.set_over(\"w\")\n",
    "        norm= matplotlib.colors.Normalize(vmin=lower,vmax=upper)\n",
    "        mapper = matplotlib.cm.ScalarMappable(norm=norm, cmap=cmap)\n",
    "        cc = cmap(tp2)\n",
    "\n",
    "\n",
    "        # 3D network plot\n",
    "        with plt.style.context(('ggplot')):\n",
    "\n",
    "            fig = plt.figure(figsize=(30,30))\n",
    "            ax = Axes3D(fig)\n",
    "            ax.set_xlabel('x-coordinates',fontsize=30)\n",
    "            ax.set_ylabel('y-coordinates',fontsize=30)\n",
    "            ax.set_zlabel('Flow Deviation', fontsize=30)\n",
    "            ax.set_zlim(lower,upper)\n",
    "            \n",
    "            ctr=0\n",
    "            for key, value in midpos_dict0.items():\n",
    "                xi = value[0][0]\n",
    "                yi = value[0][1]\n",
    "                zi = value[1]\n",
    "\n",
    "                p = ax.scatter(xi, yi, zi, c=cc[ctr], alpha=0.7, s=80,cmap=cmap)\n",
    "                ctr=ctr+1\n",
    "            d3pos_dict0.update(midpos_dict0)\n",
    "\n",
    "        \n",
    "            for i in edges:\n",
    "                x = np.array((d3pos_dict0[i[0]][0][0],d3pos_dict0[i[1]][0][0] ))\n",
    "                y = np.array((d3pos_dict0[i[0]][0][1], d3pos_dict0[i[1]][0][1]))\n",
    "                z = np.array((d3pos_dict0[i[0]][1], d3pos_dict0[i[1]][1]))\n",
    "\n",
    "                ax.plot(x, y, z, c='gray',alpha=0.5)\n",
    "            #fig.colorbar(p)\n",
    "\n",
    "\n",
    "        # Set the initial view\n",
    "        angleVerticle = 30\n",
    "        ax.view_init(angleVerticle, angle)\n",
    "        ax.zaxis.set_tick_params(labelsize='22',pad=17)\n",
    "        ax.zaxis.labelpad = 40\n",
    "        ax.xaxis.labelpad = 20\n",
    "        ax.yaxis.labelpad = 20\n",
    "        \n",
    "\n",
    "        if save is not False:\n",
    "            plt.savefig(d3plotname)\n",
    "            plt.show()\n",
    "        else:\n",
    "            plt.show()\n",
    "\n",
    "        return\n",
    "\n",
    "    network_plot_3D(G, 60)"
   ]
  },
  {
   "cell_type": "code",
   "execution_count": 16,
   "metadata": {},
   "outputs": [],
   "source": [
    "def draw_2d_flow(graphArr):\n",
    "    cntrlnd = '0BEC50B8'\n",
    "    unique_node=graphArr.FacilityToNodeName.unique()\n",
    "    u_n_2 = graphArr.FacilityFromNodeName.unique()\n",
    "    unique_node=np.append(unique_node,u_n_2)\n",
    "    unique_node=np.unique(unique_node)\n",
    "    anomalyFreeNode = toplevelpath + all_datadir + \"/LeakData_ZeroDegrees/NYU Anamoly Data_ZeroDeg_Nodes.csv\"\n",
    "    nodeArr=pd.read_csv(anomalyFreeNode)\n",
    "    nodeArr = nodeArr[nodeArr.NAME.isin(unique_node)]\n",
    "\n",
    "    G = nx.Graph()\n",
    "\n",
    "    graphArr['mid_point_names']=\"mid_point\"+graphArr.NAME\n",
    "\n",
    "    temp_arr = np.array([graphArr.NAME, graphArr.FacilityFromNodeName, graphArr.FacilityToNodeName, graphArr.mid_point_names, graphArr.mid_point_x, graphArr.mid_point_y, [0]*graphArr.NAME.size,[0]*graphArr.NAME.size,[0]*graphArr.NAME.size])\n",
    "    edges=np.array([['','',5]])\n",
    "    m=0\n",
    "    for i,j in enumerate(temp_arr[3]):\n",
    "        tmp_src=temp_arr[1][i]\n",
    "        tmp_dest=temp_arr[2][i]\n",
    "        srcs = np.where(temp_arr[1]==tmp_src)\n",
    "        dests = np.where(temp_arr[2] == tmp_src)\n",
    "        for r in srcs[0]:\n",
    "            src_node=temp_arr[3][i]\n",
    "            dest_node=temp_arr[3][r]\n",
    "            flow=temp_arr[6][i]\n",
    "            edges = np.vstack([edges, [src_node,dest_node,flow]])\n",
    "        for k in dests[0]:\n",
    "            src_node=temp_arr[3][i]\n",
    "            dest_node=temp_arr[3][k]\n",
    "            flow=temp_arr[6][i]\n",
    "            edges = np.vstack([edges, [src_node,dest_node,flow]])\n",
    "    edges=np.delete(edges,(0), axis=0)\n",
    "\n",
    "    pos_dict = defaultdict(list)\n",
    "    mid_pos_dict = defaultdict(list)\n",
    "    for i, j, k in zip(graphArr.mid_point_names,graphArr.mid_point_x,graphArr.mid_point_y):\n",
    "        mid_pos_dict[i].append(j)\n",
    "        mid_pos_dict[i].append(k)\n",
    "    \n",
    "    for i,j,k in zip(nodeArr.NAME,nodeArr.NodeXCoordinate,nodeArr.NodeYCoordinate):\n",
    "        pos_dict[i].append(j)\n",
    "        pos_dict[i].append(k)\n",
    "    pos_dict0 = dict(pos_dict)\n",
    "\n",
    "    mid_post_dict0=dict(mid_pos_dict)\n",
    "\n",
    "\n",
    "    temp_0=[0]*graphArr.NAME.size\n",
    "\n",
    "\n",
    "    node_dict0 = {val:item for val, item in zip(nodeArr.NAME,graphArr.VELOpipeFPS)}\n",
    "    edgeflow_dict0 = {val:item for val, item in zip(graphArr.mid_point_names, graphArr.VELOpipeFPS)}\n",
    "\n",
    "    d3pos_dict = defaultdict(list)\n",
    "    midpos_dict = defaultdict(list)\n",
    "\n",
    "    for d in (mid_post_dict0, edgeflow_dict0): # you can list as many input dicts as you want here\n",
    "        for key, value in d.items():\n",
    "            midpos_dict[key].append(value)\n",
    "    midpos_dict0 = dict(midpos_dict)\n",
    "\n",
    "    for d in (pos_dict0, node_dict0): # you can list as many input dicts as you want here\n",
    "        for key, value in d.items():\n",
    "            d3pos_dict[key].append(value)\n",
    "    d3pos_dict0 = dict(d3pos_dict)\n",
    "\n",
    "\n",
    "    edge_list = list(graphArr.mid_point_names)\n",
    "    node_list = list(nodeArr.NAME)\n",
    "    temp = list(pos_dict0.keys())\n",
    "    temp2 = list(mid_post_dict0.keys())\n",
    "    keys_all=np.append(temp,temp2)\n",
    "\n",
    "    G.add_nodes_from(edge_list)\n",
    "    \n",
    "    for n in edge_list:\n",
    "        G.nodes[n]['pos'] = mid_post_dict0[n]\n",
    "        G.nodes[n]['flow'] = edgeflow_dict0[n]\n",
    "    \n",
    "\n",
    "    for i in edges:\n",
    "        pdest = i[1]\n",
    "        psource = i[0]\n",
    "        flow = i[2]\n",
    "        name = i[0]\n",
    "        G.add_edge(psource, pdest,p=flow, n = name)\n",
    "\n",
    "\n",
    "    n_data = list(G.nodes(data=True))\n",
    "    p_data = list(G.edges(data=True))\n",
    "\n",
    "    edgeinfo = nx.get_node_attributes(G, 'flow')\n",
    "\n",
    "    fig_size = plt.rcParams[\"figure.figsize\"]\n",
    "    fig_size[0] = 30\n",
    "    fig_size[1] = 30\n",
    "    plt.rcParams[\"figure.figsize\"] = fig_size\n",
    "    print(\"Current size:\", fig_size)\n",
    "\n",
    "    labels = {}\n",
    "    labels['mid_point0BF5C083'] = r'$\\delta$'\n",
    "    labels['mid_point0BF5C2D7'] = r'$\\delta$'\n",
    "    labels['mid_point0BF5C2D7'] = r'$\\delta$'\n",
    "    lower = min(cal_diff0_41.VELOpipeFPS)\n",
    "    upper = max(cal_diff0_41.VELOpipeFPS)\n",
    "    \n",
    "    colors = [\"#1a1aff\", \"#00cc00\", \"#ffff00\", \"#ffa500\", \"#ff4d4d\"]\n",
    "    cmap= matplotlib.colors.ListedColormap(colors)\n",
    "    cmap.set_under(\"crimson\")\n",
    "    cmap.set_over(\"w\")\n",
    "    norm= matplotlib.colors.Normalize(vmin=lower,vmax=upper)\n",
    "\n",
    "    nodes = G.nodes()\n",
    "    ec = nx.draw_networkx_edges(G, pos = mid_post_dict0, alpha=1)\n",
    "    nc = nx.draw_networkx_nodes(G, pos = mid_post_dict0, nodelist=nodes, node_color=graphArr['VELOpipeFPS'], with_labels=False, node_size=25, cmap=cmap, vmin=lower, vmax=upper)\n",
    "    lc = nx.draw_networkx_labels(G, pos = mid_post_dict0, labels = labels, font_size=32, font_color='r')\n",
    "    \n",
    "    plt.colorbar(nc)\n",
    "    plt.axis('off')\n",
    "    plt.savefig(d2plotname)\n",
    "    plt.show()"
   ]
  },
  {
   "cell_type": "code",
   "execution_count": 17,
   "metadata": {},
   "outputs": [
    {
     "name": "stdout",
     "output_type": "stream",
     "text": [
      "1636.2226718578963\n"
     ]
    }
   ],
   "source": [
    "simple_calc = pipe_velocity_calc(leak0_41)\n",
    "print(max(simple_calc['VELOpipeFPS']))"
   ]
  },
  {
   "cell_type": "code",
   "execution_count": 18,
   "metadata": {},
   "outputs": [],
   "source": [
    "color_picker=np.array([[0,0,0,0,0],[0,0,1,1,1],[0,1,2,2,2],[1,2,2,3,3],[1,2,3,3,4],[2,2,3,4,4]])\n",
    "color_picker\n",
    "def color_indexer(input_arr):\n",
    "    out_arr=np.array(input_arr)\n",
    "    for i in range(0,input_arr[0].size):\n",
    "        out_arr[0,i]=color_picker[input_arr[0,i]][0]\n",
    "        out_arr[1,i]=color_picker[input_arr[1,i]][1]\n",
    "        out_arr[2,i]=color_picker[input_arr[2,i]][2]\n",
    "        out_arr[3,i]=color_picker[input_arr[3,i]][3]\n",
    "        out_arr[4,i]=color_picker[input_arr[4,i]][4]\n",
    "\n",
    "    return out_arr"
   ]
  },
  {
   "cell_type": "code",
   "execution_count": 538,
   "metadata": {},
   "outputs": [],
   "source": [
    "scaled_vals=np.array([cal_diff0_1.VELOpipeFPS ,cal_diff0_11.VELOpipeFPS,cal_diff0_21.VELOpipeFPS,cal_diff0_31.VELOpipeFPS, cal_diff0_41.VELOpipeFPS])\n",
    "scaled_vals[scaled_vals > 0.1] = 5\n",
    "scaled_vals[scaled_vals <=0.01] = 6\n",
    "scaled_vals[scaled_vals <=0.02] = 1\n",
    "scaled_vals[scaled_vals <=0.04] = 2\n",
    "scaled_vals[scaled_vals <=0.07] = 3\n",
    "scaled_vals[scaled_vals <=0.1] = 4\n",
    "scaled_vals[scaled_vals == 6] = 0\n",
    "scaled_vals=scaled_vals.astype(int)\n",
    "colors_array = color_indexer(scaled_vals)\n",
    "color_indexed0_41=cal_diff0_41\n",
    "color_indexed0_41['color']=colors_array[4]\n",
    "color_indexed0_31=cal_diff0_31\n",
    "color_indexed0_31['color']=colors_array[3]\n",
    "color_indexed0_21=cal_diff0_21\n",
    "color_indexed0_21['color']=colors_array[2]\n",
    "color_indexed0_11=cal_diff0_11\n",
    "color_indexed0_11['color']=colors_array[1]\n",
    "color_indexed0_1=cal_diff0_1\n",
    "color_indexed0_1['color']=colors_array[0]\n"
   ]
  },
  {
   "cell_type": "code",
   "execution_count": 537,
   "metadata": {},
   "outputs": [],
   "source": [
    "scaled_vals=np.array([cal_diff0_1_500.VELOpipeFPS ,cal_diff0_11_500.VELOpipeFPS,cal_diff0_21_500.VELOpipeFPS,cal_diff0_31_500.VELOpipeFPS, cal_diff0_41_500.VELOpipeFPS])\n",
    "scaled_vals[scaled_vals > 0.1] = 5\n",
    "scaled_vals[scaled_vals <=0.01] = 6\n",
    "scaled_vals[scaled_vals <=0.02] = 1\n",
    "scaled_vals[scaled_vals <=0.04] = 2\n",
    "scaled_vals[scaled_vals <=0.07] = 3\n",
    "scaled_vals[scaled_vals <=0.1] = 4\n",
    "scaled_vals[scaled_vals == 6] = 0\n",
    "scaled_vals=scaled_vals.astype(int)\n",
    "colors_array = color_indexer(scaled_vals)\n",
    "color_indexed0_41_500=cal_diff0_41_500\n",
    "color_indexed0_41_500['color']=colors_array[4]\n",
    "color_indexed0_31_500=cal_diff0_31_500\n",
    "color_indexed0_31_500['color']=colors_array[3]\n",
    "color_indexed0_21_500=cal_diff0_21_500\n",
    "color_indexed0_21_500['color']=colors_array[2]\n",
    "color_indexed0_11_500=cal_diff0_11_500\n",
    "color_indexed0_11_500['color']=colors_array[1]\n",
    "color_indexed0_1_500=cal_diff0_1_500\n",
    "color_indexed0_1_500['color']=colors_array[0]"
   ]
  },
  {
   "cell_type": "code",
   "execution_count": 179,
   "metadata": {},
   "outputs": [],
   "source": [
    "scaled_vals=np.array([cal_diff0_1.VELOpipeFPS ,cal_diff0_11.VELOpipeFPS,cal_diff0_21.VELOpipeFPS,cal_diff0_31.VELOpipeFPS, cal_diff0_41.VELOpipeFPS])\n",
    "scaled_vals[scaled_vals > 0.1] = 5\n",
    "scaled_vals[scaled_vals <=0.009] = 6\n",
    "scaled_vals[scaled_vals <=0.02] = 1\n",
    "scaled_vals[scaled_vals <=0.04] = 2\n",
    "scaled_vals[scaled_vals <=0.07] = 3\n",
    "scaled_vals[scaled_vals <=0.1] = 4\n",
    "scaled_vals[scaled_vals == 6] = 0\n",
    "scaled_vals=scaled_vals.astype(int)\n",
    "colors_array = color_indexer(scaled_vals)\n",
    "color_indexed0_41=cal_diff0_41\n",
    "color_indexed0_41['color']=colors_array[4]\n",
    "color_indexed0_31=cal_diff0_31\n",
    "color_indexed0_31['color']=colors_array[3]\n",
    "color_indexed0_21=cal_diff0_21\n",
    "color_indexed0_21['color']=colors_array[2]\n",
    "color_indexed0_11=cal_diff0_11\n",
    "color_indexed0_11['color']=colors_array[1]\n",
    "color_indexed0_1=cal_diff0_1\n",
    "color_indexed0_1['color']=colors_array[0]\n",
    "\n",
    "\n",
    "\n",
    "scaled_vals=np.array([cal_diff0_1_500.VELOpipeFPS ,cal_diff0_11_500.VELOpipeFPS,cal_diff0_21_500.VELOpipeFPS,cal_diff0_31_500.VELOpipeFPS, cal_diff0_41_500.VELOpipeFPS])\n",
    "scaled_vals[scaled_vals > 0.1] = 5\n",
    "scaled_vals[scaled_vals <=0.009] = 6\n",
    "scaled_vals[scaled_vals <=0.02] = 1\n",
    "scaled_vals[scaled_vals <=0.04] = 2\n",
    "scaled_vals[scaled_vals <=0.07] = 3\n",
    "scaled_vals[scaled_vals <=0.1] = 4\n",
    "scaled_vals[scaled_vals == 6] = 0\n",
    "scaled_vals=scaled_vals.astype(int)\n",
    "colors_array = color_indexer(scaled_vals)\n",
    "color_indexed0_41_500=cal_diff0_41_500\n",
    "color_indexed0_41_500['color']=colors_array[4]\n",
    "color_indexed0_31_500=cal_diff0_31_500\n",
    "color_indexed0_31_500['color']=colors_array[3]\n",
    "color_indexed0_21_500=cal_diff0_21_500\n",
    "color_indexed0_21_500['color']=colors_array[2]\n",
    "color_indexed0_11_500=cal_diff0_11_500\n",
    "color_indexed0_11_500['color']=colors_array[1]\n",
    "color_indexed0_1_500=cal_diff0_1_500\n",
    "color_indexed0_1_500['color']=colors_array[0]"
   ]
  },
  {
   "cell_type": "code",
   "execution_count": 238,
   "metadata": {},
   "outputs": [],
   "source": [
    "scaled_vals=np.array([cal_diff1.VELOpipeFPS ,cal_diff11.VELOpipeFPS,cal_diff21.VELOpipeFPS,cal_diff31.VELOpipeFPS, cal_diff41.VELOpipeFPS])\n",
    "scaled_vals[scaled_vals > 0.1] = 5\n",
    "scaled_vals[scaled_vals <=0.01] = 6\n",
    "scaled_vals[scaled_vals <=0.02] = 1\n",
    "scaled_vals[scaled_vals <=0.04] = 2\n",
    "scaled_vals[scaled_vals <=0.07] = 3\n",
    "scaled_vals[scaled_vals <=0.1] = 4\n",
    "scaled_vals[scaled_vals == 6] = 0\n",
    "scaled_vals=scaled_vals.astype(int)\n",
    "colors_array = color_indexer(scaled_vals)\n",
    "color_indexed41=cal_diff41\n",
    "color_indexed41['color']=colors_array[4]\n",
    "color_indexed31=cal_diff31\n",
    "color_indexed31['color']=colors_array[3]\n",
    "color_indexed21=cal_diff21\n",
    "color_indexed21['color']=colors_array[2]\n",
    "color_indexed11=cal_diff11\n",
    "color_indexed11['color']=colors_array[1]\n",
    "color_indexed1=cal_diff1\n",
    "color_indexed1['color']=colors_array[0]"
   ]
  },
  {
   "cell_type": "code",
   "execution_count": 239,
   "metadata": {},
   "outputs": [],
   "source": [
    "scaled_vals=np.array([cal_diff1_500.VELOpipeFPS ,cal_diff11_500.VELOpipeFPS,cal_diff21_500.VELOpipeFPS,cal_diff31_500.VELOpipeFPS, cal_diff41_500.VELOpipeFPS])\n",
    "scaled_vals[scaled_vals > 0.1] = 5\n",
    "scaled_vals[scaled_vals <=0.01] = 6\n",
    "scaled_vals[scaled_vals <=0.02] = 1\n",
    "scaled_vals[scaled_vals <=0.04] = 2\n",
    "scaled_vals[scaled_vals <=0.07] = 3\n",
    "scaled_vals[scaled_vals <=0.1] = 4\n",
    "scaled_vals[scaled_vals == 6] = 0\n",
    "scaled_vals=scaled_vals.astype(int)\n",
    "colors_array = color_indexer(scaled_vals)\n",
    "color_indexed41_500=cal_diff41_500\n",
    "color_indexed41_500['color']=colors_array[4]\n",
    "color_indexed31_500=cal_diff31_500\n",
    "color_indexed31_500['color']=colors_array[3]\n",
    "color_indexed21_500=cal_diff21_500\n",
    "color_indexed21_500['color']=colors_array[2]\n",
    "color_indexed11_500=cal_diff11_500\n",
    "color_indexed11_500['color']=colors_array[1]\n",
    "color_indexed1_500=cal_diff1_500\n",
    "color_indexed1_500['color']=colors_array[0]"
   ]
  },
  {
   "cell_type": "code",
   "execution_count": 240,
   "metadata": {},
   "outputs": [],
   "source": [
    "scaled_vals=np.array([cal_diff32_1.VELOpipeFPS ,cal_diff32_11.VELOpipeFPS,cal_diff32_21.VELOpipeFPS,cal_diff32_31.VELOpipeFPS, cal_diff32_41.VELOpipeFPS])\n",
    "scaled_vals[scaled_vals > 0.1] = 5\n",
    "scaled_vals[scaled_vals <=0.01] = 6\n",
    "scaled_vals[scaled_vals <=0.02] = 1\n",
    "scaled_vals[scaled_vals <=0.04] = 2\n",
    "scaled_vals[scaled_vals <=0.07] = 3\n",
    "scaled_vals[scaled_vals <=0.1] = 4\n",
    "scaled_vals[scaled_vals == 6] = 0\n",
    "scaled_vals=scaled_vals.astype(int)\n",
    "colors_array = color_indexer(scaled_vals)\n",
    "color_indexed32_41=cal_diff32_41\n",
    "color_indexed32_41['color']=colors_array[4]\n",
    "color_indexed32_31=cal_diff32_31\n",
    "color_indexed32_31['color']=colors_array[3]\n",
    "color_indexed32_21=cal_diff32_21\n",
    "color_indexed32_21['color']=colors_array[2]\n",
    "color_indexed32_11=cal_diff32_11\n",
    "color_indexed32_11['color']=colors_array[1]\n",
    "color_indexed32_1=cal_diff32_1\n",
    "color_indexed32_1['color']=colors_array[0]"
   ]
  },
  {
   "cell_type": "code",
   "execution_count": 241,
   "metadata": {},
   "outputs": [],
   "source": [
    "scaled_vals=np.array([cal_diff32_1_500.VELOpipeFPS ,cal_diff32_11_500.VELOpipeFPS,cal_diff32_21_500.VELOpipeFPS,cal_diff32_31_500.VELOpipeFPS, cal_diff32_41_500.VELOpipeFPS])\n",
    "scaled_vals[scaled_vals > 0.1] = 5\n",
    "scaled_vals[scaled_vals <=0.01] = 6\n",
    "scaled_vals[scaled_vals <=0.02] = 1\n",
    "scaled_vals[scaled_vals <=0.04] = 2\n",
    "scaled_vals[scaled_vals <=0.07] = 3\n",
    "scaled_vals[scaled_vals <=0.1] = 4\n",
    "scaled_vals[scaled_vals == 6] = 0\n",
    "scaled_vals=scaled_vals.astype(int)\n",
    "colors_array = color_indexer(scaled_vals)\n",
    "color_indexed32_41_500=cal_diff32_41_500\n",
    "color_indexed32_41_500['color']=colors_array[4]\n",
    "color_indexed32_31_500=cal_diff32_31_500\n",
    "color_indexed32_31_500['color']=colors_array[3]\n",
    "color_indexed32_21_500=cal_diff32_21_500\n",
    "color_indexed32_21_500['color']=colors_array[2]\n",
    "color_indexed32_11_500=cal_diff32_11_500\n",
    "color_indexed32_11_500['color']=colors_array[1]\n",
    "color_indexed32_1_500=cal_diff32_1_500\n",
    "color_indexed32_1_500['color']=colors_array[0]"
   ]
  },
  {
   "cell_type": "code",
   "execution_count": 242,
   "metadata": {},
   "outputs": [],
   "source": [
    "scaled_vals=np.array([cal_diff48_1.VELOpipeFPS ,cal_diff48_11.VELOpipeFPS,cal_diff48_21.VELOpipeFPS,cal_diff48_31.VELOpipeFPS, cal_diff48_41.VELOpipeFPS])\n",
    "scaled_vals[scaled_vals > 0.1] = 5\n",
    "scaled_vals[scaled_vals <=0.01] = 6\n",
    "scaled_vals[scaled_vals <=0.02] = 1\n",
    "scaled_vals[scaled_vals <=0.04] = 2\n",
    "scaled_vals[scaled_vals <=0.07] = 3\n",
    "scaled_vals[scaled_vals <=0.1] = 4\n",
    "scaled_vals[scaled_vals == 6] = 0\n",
    "scaled_vals=scaled_vals.astype(int)\n",
    "colors_array = color_indexer(scaled_vals)\n",
    "color_indexed48_41=cal_diff48_41\n",
    "color_indexed48_41['color']=colors_array[4]\n",
    "color_indexed48_31=cal_diff48_31\n",
    "color_indexed48_31['color']=colors_array[3]\n",
    "color_indexed48_21=cal_diff48_21\n",
    "color_indexed48_21['color']=colors_array[2]\n",
    "color_indexed48_11=cal_diff48_11\n",
    "color_indexed48_11['color']=colors_array[1]\n",
    "color_indexed48_1=cal_diff48_1\n",
    "color_indexed48_1['color']=colors_array[0]"
   ]
  },
  {
   "cell_type": "code",
   "execution_count": 243,
   "metadata": {},
   "outputs": [],
   "source": [
    "scaled_vals=np.array([cal_diff48_1_500.VELOpipeFPS ,cal_diff48_11_500.VELOpipeFPS,cal_diff48_21_500.VELOpipeFPS,cal_diff48_31_500.VELOpipeFPS, cal_diff48_41_500.VELOpipeFPS])\n",
    "scaled_vals[scaled_vals > 0.1] = 5\n",
    "scaled_vals[scaled_vals <=0.01] = 6\n",
    "scaled_vals[scaled_vals <=0.02] = 1\n",
    "scaled_vals[scaled_vals <=0.04] = 2\n",
    "scaled_vals[scaled_vals <=0.07] = 3\n",
    "scaled_vals[scaled_vals <=0.1] = 4\n",
    "scaled_vals[scaled_vals == 6] = 0\n",
    "scaled_vals=scaled_vals.astype(int)\n",
    "colors_array = color_indexer(scaled_vals)\n",
    "color_indexed48_41_500=cal_diff48_41_500\n",
    "color_indexed48_41_500['color']=colors_array[4]\n",
    "color_indexed48_31_500=cal_diff48_31_500\n",
    "color_indexed48_31_500['color']=colors_array[3]\n",
    "color_indexed48_21_500=cal_diff48_21_500\n",
    "color_indexed48_21_500['color']=colors_array[2]\n",
    "color_indexed48_11_500=cal_diff48_11_500\n",
    "color_indexed48_11_500['color']=colors_array[1]\n",
    "color_indexed48_1_500=cal_diff48_1_500\n",
    "color_indexed48_1_500['color']=colors_array[0]"
   ]
  },
  {
   "cell_type": "code",
   "execution_count": 244,
   "metadata": {},
   "outputs": [],
   "source": [
    "scaled_vals=np.array([cal_diff64_1_500.VELOpipeFPS ,cal_diff64_11_500.VELOpipeFPS,cal_diff64_21_500.VELOpipeFPS,cal_diff64_31_500.VELOpipeFPS, cal_diff64_41_500.VELOpipeFPS])\n",
    "scaled_vals[scaled_vals > 0.1] = 5\n",
    "scaled_vals[scaled_vals <=0.01] = 6\n",
    "scaled_vals[scaled_vals <=0.02] = 1\n",
    "scaled_vals[scaled_vals <=0.04] = 2\n",
    "scaled_vals[scaled_vals <=0.07] = 3\n",
    "scaled_vals[scaled_vals <=0.1] = 4\n",
    "scaled_vals[scaled_vals == 6] = 0\n",
    "scaled_vals=scaled_vals.astype(int)\n",
    "colors_array = color_indexer(scaled_vals)\n",
    "color_indexed64_41_500=cal_diff64_41_500\n",
    "color_indexed64_41_500['color']=colors_array[4]\n",
    "color_indexed64_31_500=cal_diff64_31_500\n",
    "color_indexed64_31_500['color']=colors_array[3]\n",
    "color_indexed64_21_500=cal_diff64_21_500\n",
    "color_indexed64_21_500['color']=colors_array[2]\n",
    "color_indexed64_11_500=cal_diff64_11_500\n",
    "color_indexed64_11_500['color']=colors_array[1]\n",
    "color_indexed64_1_500=cal_diff64_1_500\n",
    "color_indexed64_1_500['color']=colors_array[0]"
   ]
  },
  {
   "cell_type": "code",
   "execution_count": 245,
   "metadata": {},
   "outputs": [],
   "source": [
    "scaled_vals=np.array([cal_diff64_1.VELOpipeFPS ,cal_diff64_11.VELOpipeFPS,cal_diff64_21.VELOpipeFPS,cal_diff64_31.VELOpipeFPS, cal_diff64_41.VELOpipeFPS])\n",
    "scaled_vals[scaled_vals > 0.1] = 5\n",
    "scaled_vals[scaled_vals <=0.01] = 6\n",
    "scaled_vals[scaled_vals <=0.02] = 1\n",
    "scaled_vals[scaled_vals <=0.04] = 2\n",
    "scaled_vals[scaled_vals <=0.07] = 3\n",
    "scaled_vals[scaled_vals <=0.1] = 4\n",
    "scaled_vals[scaled_vals == 6] = 0\n",
    "scaled_vals=scaled_vals.astype(int)\n",
    "colors_array = color_indexer(scaled_vals)\n",
    "color_indexed64_41=cal_diff64_41\n",
    "color_indexed64_41['color']=colors_array[4]\n",
    "color_indexed64_31=cal_diff64_31\n",
    "color_indexed64_31['color']=colors_array[3]\n",
    "color_indexed64_21=cal_diff64_21\n",
    "color_indexed64_21['color']=colors_array[2]\n",
    "color_indexed64_11=cal_diff64_11\n",
    "color_indexed64_11['color']=colors_array[1]\n",
    "color_indexed64_1=cal_diff64_1\n",
    "color_indexed64_1['color']=colors_array[0]"
   ]
  },
  {
   "cell_type": "code",
   "execution_count": 20,
   "metadata": {},
   "outputs": [],
   "source": [
    "def draw_2d_flow_color(graphArr,d2plotname):\n",
    "    cntrlnd = '0BEC50B8'\n",
    "    unique_node=graphArr.FacilityToNodeName.unique()\n",
    "    u_n_2 = graphArr.FacilityFromNodeName.unique()\n",
    "    unique_node=np.append(unique_node,u_n_2)\n",
    "    unique_node=np.unique(unique_node)\n",
    "    anomalyFreeNode = toplevelpath + all_datadir + \"/LeakData_ZeroDegrees/NYU Anamoly Data_ZeroDeg_Nodes.csv\"\n",
    "    nodeArr=pd.read_csv(anomalyFreeNode)\n",
    "    nodeArr = nodeArr[nodeArr.NAME.isin(unique_node)]\n",
    "\n",
    "    G = nx.Graph()\n",
    "\n",
    "    graphArr['mid_point_names']=\"mid_point\"+graphArr.NAME\n",
    "\n",
    "    temp_arr = np.array([graphArr.NAME, graphArr.FacilityFromNodeName, graphArr.FacilityToNodeName, graphArr.mid_point_names, graphArr.mid_point_x, graphArr.mid_point_y, [0]*graphArr.NAME.size,[0]*graphArr.NAME.size,[0]*graphArr.NAME.size])\n",
    "    edges=np.array([['','',5]])\n",
    "    m=0\n",
    "    for i,j in enumerate(temp_arr[3]):\n",
    "        tmp_src=temp_arr[1][i]\n",
    "        tmp_dest=temp_arr[2][i]\n",
    "        srcs = np.where(temp_arr[1]==tmp_src)\n",
    "        dests = np.where(temp_arr[2] == tmp_src)\n",
    "        for r in srcs[0]:\n",
    "            src_node=temp_arr[3][i]\n",
    "            dest_node=temp_arr[3][r]\n",
    "            flow=temp_arr[6][i]\n",
    "            edges = np.vstack([edges, [src_node,dest_node,flow]])\n",
    "        for k in dests[0]:\n",
    "            src_node=temp_arr[3][i]\n",
    "            dest_node=temp_arr[3][k]\n",
    "            flow=temp_arr[6][i]\n",
    "            edges = np.vstack([edges, [src_node,dest_node,flow]])\n",
    "    edges=np.delete(edges,(0), axis=0)\n",
    "\n",
    "    pos_dict = defaultdict(list)\n",
    "    mid_pos_dict = defaultdict(list)\n",
    "    for i, j, k in zip(graphArr.mid_point_names,graphArr.mid_point_x,graphArr.mid_point_y):\n",
    "        mid_pos_dict[i].append(j)\n",
    "        mid_pos_dict[i].append(k)\n",
    "    \n",
    "    for i,j,k in zip(nodeArr.NAME,nodeArr.NodeXCoordinate,nodeArr.NodeYCoordinate):\n",
    "        pos_dict[i].append(j)\n",
    "        pos_dict[i].append(k)\n",
    "    pos_dict0 = dict(pos_dict)\n",
    "\n",
    "    mid_post_dict0=dict(mid_pos_dict)\n",
    "\n",
    "\n",
    "    temp_0=[0]*graphArr.NAME.size\n",
    "\n",
    "\n",
    "    node_dict0 = {val:item for val, item in zip(nodeArr.NAME,graphArr.color)}\n",
    "    edgeflow_dict0 = {val:item for val, item in zip(graphArr.mid_point_names, graphArr.color)}\n",
    "\n",
    "    d3pos_dict = defaultdict(list)\n",
    "    midpos_dict = defaultdict(list)\n",
    "\n",
    "    for d in (mid_post_dict0, edgeflow_dict0): # you can list as many input dicts as you want here\n",
    "        for key, value in d.items():\n",
    "            midpos_dict[key].append(value)\n",
    "    midpos_dict0 = dict(midpos_dict)\n",
    "\n",
    "    for d in (pos_dict0, node_dict0): # you can list as many input dicts as you want here\n",
    "        for key, value in d.items():\n",
    "            d3pos_dict[key].append(value)\n",
    "    d3pos_dict0 = dict(d3pos_dict)\n",
    "\n",
    "\n",
    "    edge_list = list(graphArr.mid_point_names)\n",
    "    node_list = list(nodeArr.NAME)\n",
    "    temp = list(pos_dict0.keys())\n",
    "    temp2 = list(mid_post_dict0.keys())\n",
    "    keys_all=np.append(temp,temp2)\n",
    "\n",
    "    G.add_nodes_from(edge_list)\n",
    "    \n",
    "    for n in edge_list:\n",
    "        G.nodes[n]['pos'] = mid_post_dict0[n]\n",
    "        G.nodes[n]['flow'] = edgeflow_dict0[n]\n",
    "    \n",
    "\n",
    "    for i in edges:\n",
    "        pdest = i[1]\n",
    "        psource = i[0]\n",
    "        flow = i[2]\n",
    "        name = i[0]\n",
    "        G.add_edge(psource, pdest,p=flow, n = name)\n",
    "\n",
    "\n",
    "    n_data = list(G.nodes(data=True))\n",
    "    p_data = list(G.edges(data=True))\n",
    "\n",
    "    edgeinfo = nx.get_node_attributes(G, 'flow')\n",
    "\n",
    "    fig_size = plt.rcParams[\"figure.figsize\"]\n",
    "    fig_size[0] = 30\n",
    "    fig_size[1] = 30\n",
    "    plt.rcParams[\"figure.figsize\"] = fig_size\n",
    "    print(\"Current size:\", fig_size)\n",
    "\n",
    "    labels = {}\n",
    "    labels['mid_point0BF5C083'] = r'$\\delta$'\n",
    "    labels['mid_point0BF5C2D7'] = r'$\\delta$'\n",
    "    lower = 0\n",
    "    upper = 5\n",
    "    \n",
    "    colors = [\"#1a1aff\", \"#00cc00\", \"#ffff00\", \"#ffa500\", \"#ff4d4d\"]\n",
    "    cmap= matplotlib.colors.ListedColormap(colors)\n",
    "    cmap.set_under(\"crimson\")\n",
    "    cmap.set_over(\"w\")\n",
    "    norm= matplotlib.colors.Normalize(vmin=lower,vmax=upper)\n",
    "\n",
    "    nodes = G.nodes()\n",
    "    ec = nx.draw_networkx_edges(G, pos = mid_post_dict0, alpha=1)\n",
    "    nc = nx.draw_networkx_nodes(G, pos = mid_post_dict0, nodelist=nodes, node_color=graphArr['color'], with_labels=False, node_size=25, cmap=cmap, vmin=lower, vmax=upper)\n",
    "    lc = nx.draw_networkx_labels(G, pos = mid_post_dict0, labels = labels, font_size=32, font_color='r')\n",
    "    \n",
    "    plt.colorbar(nc)\n",
    "    plt.axis('off')\n",
    "    #plt.savefig(d2plotname)\n",
    "    plt.show()"
   ]
  },
  {
   "cell_type": "code",
   "execution_count": 794,
   "metadata": {},
   "outputs": [],
   "source": [
    "#draw_2d_flow_color(avgcolor_indexed0_41,\"hello\")"
   ]
  },
  {
   "cell_type": "code",
   "execution_count": 795,
   "metadata": {},
   "outputs": [
    {
     "name": "stdout",
     "output_type": "stream",
     "text": [
      "/Users/kavyaub/Documents/mySubjects/ConEdison/screenshots/screenshotsPipe_32Deg/NYU Anamoly Data_32Deg_Pipes_Leak11.csv_2D_velo_deviation.png\n"
     ]
    }
   ],
   "source": [
    "d2plotname = dirpltpath+\"/\"+name32_11+\"_2D_velo_deviation.png\"\n",
    "print(d2plotname)\n",
    "#draw_2d_flow_color(color_indexed0_41,d2plotname)"
   ]
  },
  {
   "cell_type": "code",
   "execution_count": 796,
   "metadata": {},
   "outputs": [
    {
     "name": "stdout",
     "output_type": "stream",
     "text": [
      "/Users/kavyaub/Documents/mySubjects/ConEdison/screenshots/screenshotsPipe_32Deg/NYU Anamoly Data_32Deg_Pipes_Leak31.csv_2D_velo_deviation.png\n"
     ]
    }
   ],
   "source": [
    "d2plotname = dirpltpath+\"/\"+name32_31+\"_2D_velo_deviation.png\"\n",
    "print(d2plotname)\n",
    "#draw_2d_flow_color(color_indexed32_31,d2plotname)"
   ]
  },
  {
   "cell_type": "code",
   "execution_count": 797,
   "metadata": {},
   "outputs": [
    {
     "name": "stdout",
     "output_type": "stream",
     "text": [
      "/Users/kavyaub/Documents/mySubjects/ConEdison/screenshots/screenshotsPipe_32Deg/NYU Anamoly Data_32Deg_Pipes_Leak21.csv_2D_velo_deviation.png\n"
     ]
    }
   ],
   "source": [
    "d2plotname = dirpltpath+\"/\"+name32_21+\"_2D_velo_deviation.png\"\n",
    "print(d2plotname)\n",
    "#draw_2d_flow_color(color_indexed32_21,d2plotname)"
   ]
  },
  {
   "cell_type": "code",
   "execution_count": 798,
   "metadata": {},
   "outputs": [
    {
     "name": "stdout",
     "output_type": "stream",
     "text": [
      "/Users/kavyaub/Documents/mySubjects/ConEdison/screenshots/screenshotsPipe_32Deg/NYU Anamoly Data_32Deg_Pipes_Leak41.csv_2D_velo_deviation.png\n"
     ]
    }
   ],
   "source": [
    "d2plotname = dirpltpath+\"/\"+name32_41+\"_2D_velo_deviation.png\"\n",
    "print(d2plotname)\n",
    "#draw_2d_flow_color(color_indexed0_41,d2plotname)"
   ]
  },
  {
   "cell_type": "code",
   "execution_count": 799,
   "metadata": {},
   "outputs": [
    {
     "name": "stdout",
     "output_type": "stream",
     "text": [
      "/Users/kavyaub/Documents/mySubjects/ConEdison/screenshots/screenshotsPipe_32Deg/Data_ZeroDeg_Pipes_Leak1_2D_velo_deviation.png\n"
     ]
    }
   ],
   "source": [
    "d2plotname = dirpltpath+\"/\"+\"Data_ZeroDeg_Pipes_Leak1_2D_velo_deviation.png\"\n",
    "print(d2plotname)\n",
    "#draw_2d_flow_color(color_indexed32_1,d2plotname)"
   ]
  },
  {
   "cell_type": "code",
   "execution_count": 21,
   "metadata": {},
   "outputs": [],
   "source": [
    "from mpl_toolkits.mplot3d import Axes3D\n",
    "\n",
    "def draw_3d_color(graphArr,d3plotname):\n",
    "    cntrlnd = '0BEC50B8'\n",
    "    unique_node=graphArr.FacilityToNodeName.unique()\n",
    "    u_n_2 = graphArr.FacilityFromNodeName.unique()\n",
    "    unique_node=np.append(unique_node,u_n_2)\n",
    "    unique_node=np.unique(unique_node)\n",
    "    anomalyFreeNode = toplevelpath + all_datadir + \"/LeakData_ZeroDegrees/NYU Anamoly Data_ZeroDeg_Nodes.csv\"\n",
    "    nodeArr=pd.read_csv(anomalyFreeNode)\n",
    "    nodeArr = nodeArr[nodeArr.NAME.isin(unique_node)]\n",
    "\n",
    "    G = nx.Graph()\n",
    "\n",
    "    graphArr['mid_point_names']=\"mid_point\"+graphArr.NAME\n",
    "\n",
    "\n",
    "\n",
    "    temp_arr = np.array([graphArr.NAME, graphArr.FacilityFromNodeName, graphArr.FacilityToNodeName, graphArr.mid_point_names, graphArr.mid_point_x, graphArr.mid_point_y, [0]*graphArr.NAME.size,[0]*graphArr.NAME.size,[0]*graphArr.NAME.size])\n",
    "    edges=np.array([['','']])\n",
    "    m=0\n",
    "    for i,j in enumerate(temp_arr[3]):\n",
    "        tmp_src=temp_arr[1][i]\n",
    "        tmp_dest=temp_arr[2][i]\n",
    "        srcs = np.where(temp_arr[1]==tmp_src)\n",
    "        dests = np.where(temp_arr[2] == tmp_src)\n",
    "        for r in srcs[0]:\n",
    "            src_node=temp_arr[3][i]\n",
    "            dest_node=temp_arr[3][r]\n",
    "            edges = np.vstack([edges, [src_node,dest_node]])\n",
    "        for k in dests[0]:\n",
    "            src_node=temp_arr[3][i]\n",
    "            dest_node=temp_arr[3][k]\n",
    "            edges = np.vstack([edges, [src_node,dest_node]])\n",
    "    edges=np.delete(edges,(0), axis=0)\n",
    "\n",
    "    pos_dict = defaultdict(list)\n",
    "    mid_pos_dict = defaultdict(list)\n",
    "    for i, j, k in zip(graphArr.mid_point_names,graphArr.mid_point_x,graphArr.mid_point_y):\n",
    "        mid_pos_dict[i].append(j)\n",
    "        mid_pos_dict[i].append(k)\n",
    "    \n",
    "    for i,j,k in zip(nodeArr.NAME,nodeArr.NodeXCoordinate,nodeArr.NodeYCoordinate):\n",
    "        pos_dict[i].append(j)\n",
    "        pos_dict[i].append(k)\n",
    "    pos_dict0 = dict(pos_dict)\n",
    "\n",
    "    mid_post_dict0=dict(mid_pos_dict)\n",
    "\n",
    "\n",
    "    temp_0=[0]*graphArr.NAME.size\n",
    "\n",
    "\n",
    "    node_dict0 = {val:item for val, item in zip(nodeArr.NAME,graphArr.color)}\n",
    "    edgeflow_dict0 = {val:item for val, item in zip(graphArr.mid_point_names, graphArr.color)}\n",
    "\n",
    "    d3pos_dict = defaultdict(list)\n",
    "    midpos_dict = defaultdict(list)\n",
    "\n",
    "    for d in (mid_post_dict0, edgeflow_dict0): # you can list as many input dicts as you want here\n",
    "        for key, value in d.items():\n",
    "            midpos_dict[key].append(value)\n",
    "    midpos_dict0 = dict(midpos_dict)\n",
    "\n",
    "    for d in (pos_dict0, node_dict0): # you can list as many input dicts as you want here\n",
    "        for key, value in d.items():\n",
    "            d3pos_dict[key].append(value)\n",
    "    d3pos_dict0 = dict(d3pos_dict)\n",
    "\n",
    "\n",
    "    edge_list = list(graphArr.mid_point_names)\n",
    "    node_list = list(nodeArr.NAME)\n",
    "    temp = list(pos_dict0.keys())\n",
    "    temp2 = list(mid_post_dict0.keys())\n",
    "    keys_all=np.append(temp,temp2)\n",
    "\n",
    "    G.add_nodes_from(keys_all)\n",
    "\n",
    "    for n in node_list:\n",
    "        G.nodes[n]['pos'] = pos_dict0[n]\n",
    "        G.nodes[n]['flow'] = 0\n",
    "    \n",
    "    for n in edge_list:\n",
    "        G.nodes[n]['pos'] = mid_post_dict0[n]\n",
    "        G.nodes[n]['flow'] = edgeflow_dict0[n]\n",
    "    \n",
    "\n",
    "    for i in edges:\n",
    "        pdest = i[1]\n",
    "        psource = i[0]\n",
    "        name = i[0]\n",
    "        G.add_edge(psource, pdest, n = name)\n",
    "\n",
    "\n",
    "    def network_plot_3D(G, angle, save=True):\n",
    "    \n",
    "        lower = 0\n",
    "        upper = 5\n",
    "        #tp_arr = (graphArr['VELOpipeFPS']-lower)/(upper-lower)\n",
    "        #tp2 = [float(i) for i in tp_arr]\n",
    "        \n",
    "        colors = [\"#1a1aff\", \"#00cc00\", \"#ffff00\", \"#ffa500\", \"#ff4d4d\"]\n",
    "        #cmap= matplotlib.colors.ListedColormap(colors)\n",
    "        #cmap.set_under(\"crimson\")\n",
    "        #cmap.set_over(\"w\")\n",
    "        #norm= matplotlib.colors.Normalize(vmin=lower,vmax=upper)\n",
    "        #mapper = matplotlib.cm.ScalarMappable(norm=norm, cmap=cmap)\n",
    "        #cc = cmap(tp2)\n",
    "\n",
    "\n",
    "        # 3D network plot\n",
    "        with plt.style.context(('ggplot')):\n",
    "\n",
    "            fig = plt.figure(figsize=(30,30))\n",
    "            ax = Axes3D(fig)\n",
    "            ax.set_xlabel('x-coordinates',fontsize=30)\n",
    "            ax.set_ylabel('y-coordinates',fontsize=30)\n",
    "            ax.set_zlabel('Flow Deviation', fontsize=30)\n",
    "            ax.set_zlim(lower,upper)\n",
    "            \n",
    "            ctr=0\n",
    "            for key, value in midpos_dict0.items():\n",
    "                xi = value[0][0]\n",
    "                yi = value[0][1]\n",
    "                zi = value[1]\n",
    "\n",
    "                p = ax.scatter(xi, yi, zi, c=colors[zi], alpha=0.7, s=80,cmap=colors)\n",
    "                ctr=ctr+1\n",
    "            d3pos_dict0.update(midpos_dict0)\n",
    "\n",
    "        \n",
    "            for i in edges:\n",
    "                x = np.array((d3pos_dict0[i[0]][0][0],d3pos_dict0[i[1]][0][0] ))\n",
    "                y = np.array((d3pos_dict0[i[0]][0][1], d3pos_dict0[i[1]][0][1]))\n",
    "                z = np.array((d3pos_dict0[i[0]][1], d3pos_dict0[i[1]][1]))\n",
    "\n",
    "                ax.plot(x, y, z, c='gray',alpha=0.5)\n",
    "            #fig.colorbar(p)\n",
    "\n",
    "\n",
    "        # Set the initial view\n",
    "        angleVerticle = 30\n",
    "        ax.view_init(angleVerticle, angle)\n",
    "        ax.zaxis.set_tick_params(labelsize='22',pad=17)\n",
    "        ax.zaxis.labelpad = 40\n",
    "        ax.xaxis.labelpad = 20\n",
    "        ax.yaxis.labelpad = 20\n",
    "        \n",
    "\n",
    "        \n",
    "        #plt.savefig(d3plotname)\n",
    "        plt.show()\n",
    "\n",
    "        return\n",
    "\n",
    "    network_plot_3D(G, 60)"
   ]
  },
  {
   "cell_type": "code",
   "execution_count": 801,
   "metadata": {},
   "outputs": [
    {
     "name": "stdout",
     "output_type": "stream",
     "text": [
      "/Users/kavyaub/Documents/mySubjects/ConEdison/screenshots/screenshotsPipe_32Deg/NYU Anamoly Data_32Deg_Pipes_Leak11.csv_3D_velo_deviation.png\n"
     ]
    }
   ],
   "source": [
    "d3plotname = dirpltpath+\"/\"+name32_11+\"_3D_velo_deviation.png\"\n",
    "print(d3plotname)\n",
    "#draw_3d_color(color_indexed32_11,d3plotname)"
   ]
  },
  {
   "cell_type": "code",
   "execution_count": 802,
   "metadata": {},
   "outputs": [
    {
     "name": "stdout",
     "output_type": "stream",
     "text": [
      "/Users/kavyaub/Documents/mySubjects/ConEdison/screenshots/screenshotsPipe_32Deg/NYU Anamoly Data_32Deg_Pipes_Leak21.csv_3D_velo_deviation.png\n"
     ]
    }
   ],
   "source": [
    "d3plotname = dirpltpath+\"/\"+name32_21+\"_3D_velo_deviation.png\"\n",
    "print(d3plotname)\n",
    "#draw_3d_color(color_indexed32_21,d3plotname)"
   ]
  },
  {
   "cell_type": "code",
   "execution_count": 803,
   "metadata": {},
   "outputs": [
    {
     "name": "stdout",
     "output_type": "stream",
     "text": [
      "/Users/kavyaub/Documents/mySubjects/ConEdison/screenshots/screenshotsPipe_32Deg/NYU Anamoly Data_32Deg_Pipes_Leak31.csv_3D_velo_deviation.png\n"
     ]
    }
   ],
   "source": [
    "d3plotname = dirpltpath+\"/\"+name32_31+\"_3D_velo_deviation.png\"\n",
    "print(d3plotname)\n",
    "#draw_3d_color(color_indexed32_31,d3plotname)"
   ]
  },
  {
   "cell_type": "code",
   "execution_count": 804,
   "metadata": {},
   "outputs": [
    {
     "name": "stdout",
     "output_type": "stream",
     "text": [
      "/Users/kavyaub/Documents/mySubjects/ConEdison/screenshots/screenshotsPipe_32Deg/NYU Anamoly Data_32Deg_Pipes_Leak41.csv_3D_velo_deviation.png\n"
     ]
    }
   ],
   "source": [
    "d3plotname = dirpltpath+\"/\"+name32_41+\"_3D_velo_deviation.png\"\n",
    "print(d3plotname)\n",
    "#draw_3d_color(color_indexed32_41,d3plotname)"
   ]
  },
  {
   "cell_type": "code",
   "execution_count": 805,
   "metadata": {},
   "outputs": [
    {
     "name": "stdout",
     "output_type": "stream",
     "text": [
      "/Users/kavyaub/Documents/mySubjects/ConEdison/screenshots/screenshotsPipe_32Deg/Data_ZeroDeg_Pipes_Leak1_3D_velo_deviation.png\n"
     ]
    }
   ],
   "source": [
    "d3plotname = dirpltpath+\"/\"+\"Data_ZeroDeg_Pipes_Leak1_3D_velo_deviation.png\"\n",
    "print(d3plotname)\n",
    "#draw_3d_color(color_indexed32_1,d3plotname)"
   ]
  },
  {
   "cell_type": "code",
   "execution_count": 45,
   "metadata": {},
   "outputs": [
    {
     "data": {
      "text/plain": [
       "0.3388456203725569"
      ]
     },
     "execution_count": 45,
     "metadata": {},
     "output_type": "execute_result"
    }
   ],
   "source": [
    "max(res64_41.VELOpipeFPS)"
   ]
  },
  {
   "cell_type": "code",
   "execution_count": 180,
   "metadata": {},
   "outputs": [],
   "source": [
    "def save_data_file(temp):\n",
    "    if temp == 16:\n",
    "        arr1=color_indexed1\n",
    "        arr11=color_indexed11\n",
    "        arr21=color_indexed21\n",
    "        arr31=color_indexed31\n",
    "        arr41=color_indexed41\n",
    "    elif temp==0:\n",
    "        arr1=color_indexed0_1\n",
    "        arr11=color_indexed0_11\n",
    "        arr21=color_indexed0_21\n",
    "        arr31=color_indexed0_31\n",
    "        arr41=color_indexed0_41\n",
    "    elif temp==32:\n",
    "        arr1=color_indexed32_1\n",
    "        arr11=color_indexed32_11\n",
    "        arr21=color_indexed32_21\n",
    "        arr31=color_indexed32_31\n",
    "        arr41=color_indexed32_41\n",
    "    elif temp==48:\n",
    "        arr1=color_indexed48_1\n",
    "        arr11=color_indexed48_11\n",
    "        arr21=color_indexed48_21\n",
    "        arr31=color_indexed48_31\n",
    "        arr41=color_indexed48_41\n",
    "    elif temp==64:\n",
    "        arr1=color_indexed64_1\n",
    "        arr11=color_indexed64_11\n",
    "        arr21=color_indexed64_21\n",
    "        arr31=color_indexed64_31\n",
    "        arr41=color_indexed64_41\n",
    "    day = np.hstack([[0]*arr1.NAME.size,[1]*arr1.NAME.size,[2]*arr1.NAME.size,[3]*arr1.NAME.size,[4]*arr1.NAME.size])\n",
    "    p = np.hstack([arr1.FacilityFlowAbsolute,arr11.FacilityFlowAbsolute,arr21.FacilityFlowAbsolute,arr31.FacilityFlowAbsolute,arr41.FacilityFlowAbsolute])\n",
    "    pd = np.hstack([arr1.VELOpipeFPS,arr11.VELOpipeFPS,arr21.VELOpipeFPS,arr31.VELOpipeFPS,arr41.VELOpipeFPS])\n",
    "    names = np.hstack([arr1.NAME,arr1.NAME,arr1.NAME,arr1.NAME,arr1.NAME])\n",
    "    temps=np.hstack([[temp]*arr1.NAME.size,[temp]*arr1.NAME.size,[temp]*arr1.NAME.size,[temp]*arr1.NAME.size,[temp]*arr1.NAME.size])\n",
    "    color=np.hstack([arr1.color,arr11.color,arr21.color,arr31.color,arr41.color])\n",
    "    final_file = np.vstack([names.T,p.T,pd.T,temps.T,color.T,day.T])\n",
    "\n",
    "    ff = np.vstack([p,pd,color,day])\n",
    "    np.savetxt(\"./data/pipes/full/vel_\"+str(temp)+\".csv\",ff,delimiter=\",\",fmt='%s')\n",
    "    \n",
    "    labels = np.hstack([[0]*arr1.NAME.size,[0]*arr1.NAME.size,[0]*arr1.NAME.size,[0]*arr1.NAME.size,[0]*arr1.NAME.size])\n",
    "    labels[np.where(final_file[4]>=1)]=1\n",
    "    targets=labels\n",
    "    \n",
    "    np.savetxt(\"./data/pipes/full/target_\"+str(temp)+\".txt\", targets.T,fmt='%s')\n",
    "    \n",
    "    return final_file, targets\n"
   ]
  },
  {
   "cell_type": "code",
   "execution_count": 664,
   "metadata": {},
   "outputs": [],
   "source": [
    "def save_data_file_500(temp):\n",
    "    if temp == 16:\n",
    "        arr1=color_indexed1_500\n",
    "        arr11=color_indexed11_500\n",
    "        arr21=color_indexed21_500\n",
    "        arr31=color_indexed31_500\n",
    "        arr41=color_indexed41_500\n",
    "    elif temp==0:\n",
    "        arr1=color_indexed0_1_500\n",
    "        arr11=color_indexed0_11_500\n",
    "        arr21=color_indexed0_21_500\n",
    "        arr31=color_indexed0_31_500\n",
    "        arr41=color_indexed0_41_500\n",
    "    elif temp==32:\n",
    "        arr1=color_indexed32_1_500\n",
    "        arr11=color_indexed32_11_500\n",
    "        arr21=color_indexed32_21_500\n",
    "        arr31=color_indexed32_31_500\n",
    "        arr41=color_indexed32_41_500\n",
    "    elif temp==48:\n",
    "        arr1=color_indexed48_1_500\n",
    "        arr11=color_indexed48_11_500\n",
    "        arr21=color_indexed48_21_500\n",
    "        arr31=color_indexed48_31_500\n",
    "        arr41=color_indexed48_41_500\n",
    "    elif temp==64:\n",
    "        arr1=color_indexed64_1_500\n",
    "        arr11=color_indexed64_11_500\n",
    "        arr21=color_indexed64_21_500\n",
    "        arr31=color_indexed64_31_500\n",
    "        arr41=color_indexed64_41_500\n",
    "    day = np.hstack([[0]*arr1.NAME.size,[1]*arr1.NAME.size,[2]*arr1.NAME.size,[3]*arr1.NAME.size,[4]*arr1.NAME.size])\n",
    "    p = np.hstack([arr1.FacilityFlowAbsolute,arr11.FacilityFlowAbsolute,arr21.FacilityFlowAbsolute,arr31.FacilityFlowAbsolute,arr41.FacilityFlowAbsolute])\n",
    "    pd = np.hstack([arr1.VELOpipeFPS,arr11.VELOpipeFPS,arr21.VELOpipeFPS,arr31.VELOpipeFPS,arr41.VELOpipeFPS])\n",
    "    names = np.hstack([arr1.NAME,arr1.NAME,arr1.NAME,arr1.NAME,arr1.NAME])\n",
    "    temps=np.hstack([[temp]*arr1.NAME.size,[temp]*arr1.NAME.size,[temp]*arr1.NAME.size,[temp]*arr1.NAME.size,[temp]*arr1.NAME.size])\n",
    "    color=np.hstack([arr1.color,arr11.color,arr21.color,arr31.color,arr41.color])\n",
    "\n",
    "    final_file = np.vstack([names.T,p.T,pd.T,temps.T,color.T,day.T])\n",
    "    ff = np.vstack([p,pd,day])\n",
    "    #np.savetxt(\"data_pipes_vel\"+str(temp)+\".txt\", final_file.T,fmt='%s')\n",
    "    #np.savetxt(\"data_pipes_vel_ind_\"+str(temp)+\".txt\", final_file[2],fmt='%s')\n",
    "    #np.savetxt(\"./data/pipes/data_pipes_vel_500_\"+str(temp)+\".csv\",ff,delimiter=\",\",fmt='%s')\n",
    "\n",
    "    \n",
    "    labels = np.hstack([[0]*arr1.NAME.size,[0]*arr1.NAME.size,[0]*arr1.NAME.size,[0]*arr1.NAME.size,[0]*arr1.NAME.size])\n",
    "    labels[np.where(final_file[4]>=1)]=1\n",
    "    targets=labels\n",
    "    \n",
    "    #np.savetxt(\"target_nodes\"+str(temp)+\".txt\", targets.T,fmt='%s')\n",
    "    #np.savetxt(\"./data/pipes/target_pipes_500_lab4_\"+str(temp)+\".csv\",targets,delimiter=\",\",fmt='%s')\n",
    "    \n",
    "    return final_file, targets\n",
    "\n"
   ]
  },
  {
   "cell_type": "code",
   "execution_count": 665,
   "metadata": {},
   "outputs": [],
   "source": [
    "final_file_0_500,target_0_500 = save_data_file_500(0)\n",
    "#final_file_16_500,target_16_500 = save_data_file_500(16)\n",
    "#final_file_32_500,target_32_500= save_data_file_500(32)\n",
    "#final_file_48_500,target_48_500 = save_data_file_500(48)\n",
    "#final_file_64_500,target_64_500 = save_data_file_500(64)"
   ]
  },
  {
   "cell_type": "code",
   "execution_count": 666,
   "metadata": {},
   "outputs": [],
   "source": [
    "#Code to transpose input file for ANN\n",
    "#pd.read_csv(\"./data/pipes/data_pipes_vel_500_64.csv\", header=None).T.to_csv(\"./data/pipes/data_pipes_vel_500_64.csv\", header=False, index=False)\n",
    "#final_file_0_500[2]"
   ]
  },
  {
   "cell_type": "code",
   "execution_count": 809,
   "metadata": {},
   "outputs": [
    {
     "data": {
      "text/plain": [
       "array(['0BF5B297', 2.333016, 0.014876054449498218, 0, 1, 2], dtype=object)"
      ]
     },
     "execution_count": 809,
     "metadata": {},
     "output_type": "execute_result"
    }
   ],
   "source": [
    "import numpy as np\n",
    "import tensorflow as tf\n",
    "from sklearn.model_selection import train_test_split\n",
    "from sklearn import svm\n",
    "final_file_0_500.T[1200]"
   ]
  },
  {
   "cell_type": "code",
   "execution_count": 856,
   "metadata": {},
   "outputs": [],
   "source": [
    "final_file_0,target_0 = save_data_file(0)\n",
    "#final_file_16,target_16 = save_data_file(16)\n",
    "#final_file_32,target_32= save_data_file(32)\n",
    "#final_file_48,target_48 = save_data_file(48)\n",
    "#final_file_64,target_64 = save_data_file(64)\n",
    "\n",
    "label1_values = []\n",
    "label2_values = []\n",
    "label3_values = []\n",
    "label4_values = []\n",
    "\n",
    "for i in range(0,len(final_file_0_500[4])):\n",
    "    if final_file_0_500[4][i]==1:\n",
    "        label1_values.append(final_file_0_500.T[i])\n",
    "    elif final_file_0_500[4][i]==2:\n",
    "        label2_values.append(final_file_0_500.T[i])\n",
    "    elif final_file_0_500[4][i]==3:\n",
    "        label3_values.append(final_file_0_500.T[i])\n",
    "    elif final_file_0_500[4][i]==4:\n",
    "        label4_values.append(final_file_0_500.T[i])\n",
    "    else:\n",
    "        label1_values.append(final_file_0_500.T[i])\n",
    "        label2_values.append(final_file_0_500.T[i])\n",
    "        label3_values.append(final_file_0_500.T[i])\n",
    "        label4_values.append(final_file_0_500.T[i])\n",
    "label1 = np.vstack(label1_values).T\n",
    "label2 = np.vstack(label2_values).T\n",
    "label3 = np.vstack(label3_values).T\n",
    "label4 = np.vstack(label4_values).T\n",
    "\n",
    "label2[4][label2[4]==2]=1\n",
    "label3[4][label3[4]==2]=1\n",
    "label4[4][label4[4]==2]=1"
   ]
  },
  {
   "cell_type": "code",
   "execution_count": 669,
   "metadata": {},
   "outputs": [],
   "source": [
    "#consolidated_file = np.concatenate((final_file_0,final_file_16,final_file_32,final_file_48,final_file_64),axis=1)\n",
    "#consolidated_target = np.concatenate((target_0,target_16,target_32,target_48,target_64))\n"
   ]
  },
  {
   "cell_type": "code",
   "execution_count": 994,
   "metadata": {},
   "outputs": [
    {
     "data": {
      "text/plain": [
       "(array([0, 1], dtype=object), array([2084,  387]))"
      ]
     },
     "execution_count": 994,
     "metadata": {},
     "output_type": "execute_result"
    }
   ],
   "source": [
    "np.unique(final_file_0_500[4],return_counts=True)\n",
    "np.unique(label1[4],return_counts=True)"
   ]
  },
  {
   "cell_type": "code",
   "execution_count": 1098,
   "metadata": {},
   "outputs": [
    {
     "name": "stdout",
     "output_type": "stream",
     "text": [
      "(3334, 1)\n"
     ]
    }
   ],
   "source": [
    "from imblearn.over_sampling import RandomOverSampler\n",
    "\n",
    "\n",
    "sess=tf.Session()\n",
    "X=np.array([label1[2]])\n",
    "X=X.T\n",
    "\n",
    "y=label1[4]\n",
    "y = y.astype('int')\n",
    "\n",
    "\n",
    "ros = RandomOverSampler(random_state=109)\n",
    "X_res, y_res = ros.fit_resample(X, y)\n",
    "\n",
    "X_train, X_test, y_train, y_test = train_test_split(X_res, y_res, test_size=0.20, random_state=42)\n",
    "\n",
    "y_train=y_train.astype('int')\n",
    "y_test=y_test.astype('int')\n",
    "y = y.astype('int')\n",
    "print(X_train.shape)"
   ]
  },
  {
   "cell_type": "code",
   "execution_count": 1102,
   "metadata": {},
   "outputs": [
    {
     "name": "stdout",
     "output_type": "stream",
     "text": [
      "[LibSVM]"
     ]
    },
    {
     "data": {
      "text/plain": [
       "SVC(C=2.8, break_ties=False, cache_size=200, class_weight=None, coef0=0.0,\n",
       "    decision_function_shape='ovr', degree=3, gamma=0.0073, kernel='linear',\n",
       "    max_iter=-1, probability=False, random_state=None, shrinking=True,\n",
       "    tol=0.001, verbose=10)"
      ]
     },
     "execution_count": 1102,
     "metadata": {},
     "output_type": "execute_result"
    }
   ],
   "source": [
    "svc = svm.SVC(probability=False,  kernel=\"linear\", C=2.8, gamma=.0073,verbose=10)\n",
    "svc.fit(X_train,y_train)"
   ]
  },
  {
   "cell_type": "code",
   "execution_count": 1103,
   "metadata": {},
   "outputs": [
    {
     "data": {
      "text/plain": [
       "(array([0, 1]), array([1644, 1690]))"
      ]
     },
     "execution_count": 1103,
     "metadata": {},
     "output_type": "execute_result"
    }
   ],
   "source": [
    "np.unique(y_train,return_counts=True)"
   ]
  },
  {
   "cell_type": "code",
   "execution_count": 1104,
   "metadata": {},
   "outputs": [],
   "source": [
    "yhat_ts = svc.predict(X_test)"
   ]
  },
  {
   "cell_type": "code",
   "execution_count": 1105,
   "metadata": {},
   "outputs": [
    {
     "data": {
      "text/plain": [
       "0.8920863309352518"
      ]
     },
     "execution_count": 1105,
     "metadata": {},
     "output_type": "execute_result"
    }
   ],
   "source": [
    "acc = np.mean(y_test == yhat_ts)\n",
    "acc"
   ]
  },
  {
   "cell_type": "code",
   "execution_count": 1106,
   "metadata": {},
   "outputs": [
    {
     "data": {
      "text/plain": [
       "(array([0, 1]), array([440, 394]))"
      ]
     },
     "execution_count": 1106,
     "metadata": {},
     "output_type": "execute_result"
    }
   ],
   "source": [
    "S = svc.support_vectors_\n",
    "np.unique(y_test,return_counts=True)"
   ]
  },
  {
   "cell_type": "code",
   "execution_count": 1107,
   "metadata": {},
   "outputs": [
    {
     "name": "stdout",
     "output_type": "stream",
     "text": [
      "[[350  90]\n",
      " [  0 394]]\n"
     ]
    },
    {
     "data": {
      "text/plain": [
       "<matplotlib.colorbar.Colorbar at 0x1513c6cc0>"
      ]
     },
     "execution_count": 1107,
     "metadata": {},
     "output_type": "execute_result"
    },
    {
     "data": {
      "image/png": "[encoded data removed]",
      "text/plain": [
       "<Figure size 360x360 with 2 Axes>"
      ]
     },
     "metadata": {
      "needs_background": "light"
     },
     "output_type": "display_data"
    }
   ],
   "source": [
    "from sklearn.metrics import confusion_matrix\n",
    "C = confusion_matrix(y_test,yhat_ts)\n",
    "\n",
    "# Normalize the confusion matrix\n",
    "#Csum = np.sum(C,1)\n",
    "#C = C / Csum[None,:]\n",
    "\n",
    "# Print the confusion matrix\n",
    "print(np.array_str(C, precision=3, suppress_small=True))\n",
    "plt.imshow(C, interpolation='none')\n",
    "plt.colorbar()"
   ]
  },
  {
   "cell_type": "code",
   "execution_count": 1045,
   "metadata": {},
   "outputs": [
    {
     "name": "stderr",
     "output_type": "stream",
     "text": [
      "[Parallel(n_jobs=1)]: Using backend SequentialBackend with 1 concurrent workers.\n",
      "[Parallel(n_jobs=1)]: Done   1 out of   1 | elapsed:    0.0s remaining:    0.0s\n",
      "[Parallel(n_jobs=1)]: Done   1 out of   1 | elapsed:    0.0s finished\n"
     ]
    },
    {
     "data": {
      "text/plain": [
       "LogisticRegression(C=1.0, class_weight=None, dual=False, fit_intercept=True,\n",
       "                   intercept_scaling=1, l1_ratio=None, max_iter=1000,\n",
       "                   multi_class='multinomial', n_jobs=None, penalty='l2',\n",
       "                   random_state=None, solver='lbfgs', tol=0.0001, verbose=10,\n",
       "                   warm_start=False)"
      ]
     },
     "execution_count": 1045,
     "metadata": {},
     "output_type": "execute_result"
    }
   ],
   "source": [
    "from sklearn import linear_model\n",
    "logreg = linear_model.LogisticRegression(verbose=10, solver='lbfgs',\\\n",
    "                                         multi_class='multinomial',max_iter=1000)\n",
    "logreg.fit(X_train,y_train)"
   ]
  },
  {
   "cell_type": "code",
   "execution_count": 940,
   "metadata": {},
   "outputs": [
    {
     "data": {
      "text/plain": [
       "0.8404040404040404"
      ]
     },
     "execution_count": 940,
     "metadata": {},
     "output_type": "execute_result"
    }
   ],
   "source": [
    "yhat = logreg.predict(X_test)\n",
    "acc1 = np.mean(yhat == y_test)\n",
    "acc1"
   ]
  },
  {
   "cell_type": "code",
   "execution_count": 941,
   "metadata": {},
   "outputs": [
    {
     "name": "stdout",
     "output_type": "stream",
     "text": [
      "[[416   0]\n",
      " [ 79   0]]\n"
     ]
    }
   ],
   "source": [
    "C1 = confusion_matrix(y_test,yhat_ts)\n",
    "\n",
    "print(np.array_str(C1, precision=3, suppress_small=True))\n"
   ]
  },
  {
   "cell_type": "code",
   "execution_count": 942,
   "metadata": {},
   "outputs": [],
   "source": [
    "X_multi=np.array([final_file_0_500[2]])\n",
    "X_multi=X_multi.T\n",
    "\n",
    "y_multi = final_file_0_500[4]\n",
    "\n",
    "Xm_train, Xm_test, ym_train, ym_test = train_test_split(X_multi, y_multi, test_size=0.20, random_state=42)\n",
    "ym_train=ym_train.astype('int')\n",
    "ym_test=ym_test.astype('int')\n"
   ]
  },
  {
   "cell_type": "code",
   "execution_count": 943,
   "metadata": {},
   "outputs": [],
   "source": [
    "clf = svm.SVC(decision_function_shape='linear',kernel='rbf')"
   ]
  },
  {
   "cell_type": "code",
   "execution_count": 944,
   "metadata": {},
   "outputs": [
    {
     "data": {
      "text/plain": [
       "SVC(C=1.0, break_ties=False, cache_size=200, class_weight=None, coef0=0.0,\n",
       "    decision_function_shape='linear', degree=3, gamma='scale', kernel='rbf',\n",
       "    max_iter=-1, probability=False, random_state=None, shrinking=True,\n",
       "    tol=0.001, verbose=False)"
      ]
     },
     "execution_count": 944,
     "metadata": {},
     "output_type": "execute_result"
    }
   ],
   "source": [
    "clf.fit(Xm_train, ym_train)"
   ]
  },
  {
   "cell_type": "code",
   "execution_count": 945,
   "metadata": {},
   "outputs": [
    {
     "data": {
      "text/plain": [
       "0.9576719576719577"
      ]
     },
     "execution_count": 945,
     "metadata": {},
     "output_type": "execute_result"
    }
   ],
   "source": [
    "ymhat = clf.predict(Xm_test)\n",
    "acc1 = np.mean(ymhat == ym_test)\n",
    "acc1"
   ]
  },
  {
   "cell_type": "code",
   "execution_count": 946,
   "metadata": {},
   "outputs": [
    {
     "name": "stdout",
     "output_type": "stream",
     "text": [
      "[[[0.973 0.027 0.    0.    0.   ]\n",
      "  [0.06  0.881 0.06  0.    0.   ]\n",
      "  [0.    0.018 0.982 0.    0.   ]\n",
      "  [0.    0.    0.083 0.917 0.   ]\n",
      "  [0.    0.    0.    1.    0.   ]]]\n"
     ]
    },
    {
     "data": {
      "text/plain": [
       "<matplotlib.colorbar.Colorbar at 0x150827160>"
      ]
     },
     "execution_count": 946,
     "metadata": {},
     "output_type": "execute_result"
    },
    {
     "data": {
      "image/png": "[encoded data removed]",
      "text/plain": [
       "<Figure size 360x360 with 2 Axes>"
      ]
     },
     "metadata": {
      "needs_background": "light"
     },
     "output_type": "display_data"
    }
   ],
   "source": [
    "C2 = confusion_matrix(ym_test,ymhat)\n",
    "\n",
    "\n",
    "# Normalize the confusion matrix\n",
    "Csum1 = np.sum(C2,1)\n",
    "C2 = C2[None, :]/Csum1[:,None]\n",
    "\n",
    "# Print the confusion matrix\n",
    "print(np.array_str(C2, precision=3, suppress_small=True))\n",
    "plt.imshow(C2[0], interpolation='none')\n",
    "plt.colorbar()"
   ]
  },
  {
   "cell_type": "code",
   "execution_count": 204,
   "metadata": {},
   "outputs": [],
   "source": [
    "x0_predict_41=np.vstack([color_indexed0_41.VELOpipeFPS])\n",
    "\n",
    "yhat_ts = clf.predict(x0_predict_41.T)"
   ]
  },
  {
   "cell_type": "code",
   "execution_count": 205,
   "metadata": {},
   "outputs": [],
   "source": [
    "#x0_predict_1=color_indexed0_41\n",
    "#x0_predict_1.color = yhat_ts\n",
    "#draw_3d_color(x0_predict_1,\"hello\")"
   ]
  },
  {
   "cell_type": "code",
   "execution_count": 206,
   "metadata": {},
   "outputs": [],
   "source": [
    "#draw_2d_flow_color(x0_predict_1,\"hello\")"
   ]
  },
  {
   "cell_type": "code",
   "execution_count": 207,
   "metadata": {},
   "outputs": [],
   "source": [
    "def reducer_node(input_df, template_df):\n",
    "    unique_nodes = template_df.NAME.unique()\n",
    "    reduced_nodeArr = input_df[input_df.NAME.isin(unique_nodes)]\n",
    "    reduced_nodeArr.reset_index(inplace = True, drop = True)\n",
    "    return reduced_nodeArr"
   ]
  },
  {
   "cell_type": "code",
   "execution_count": null,
   "metadata": {},
   "outputs": [],
   "source": []
  },
  {
   "cell_type": "code",
   "execution_count": 208,
   "metadata": {},
   "outputs": [
    {
     "name": "stderr",
     "output_type": "stream",
     "text": [
      "/Library/Frameworks/Python.framework/Versions/3.6/lib/python3.6/site-packages/IPython/core/interactiveshell.py:3020: DtypeWarning: Columns (106) have mixed types. Specify dtype option on import or set low_memory=False.\n",
      "  interactivity=interactivity, compiler=compiler, result=result)\n"
     ]
    }
   ],
   "source": [
    "fN = \"./data/nodes/full/color_indexed0_1.csv\"\n",
    "nodes0_1=pd.read_csv(fN)\n",
    "fN = \"./data/nodes/full/color_indexed0_11.csv\"\n",
    "nodes0_11=pd.read_csv(fN)\n",
    "fN = \"./data/nodes/full/color_indexed0_21.csv\"\n",
    "nodes0_21=pd.read_csv(fN)\n",
    "fN = \"./data/nodes/full/color_indexed0_31.csv\"\n",
    "nodes0_31=pd.read_csv(fN)\n",
    "fN = \"./data/nodes/full/color_indexed0_41.csv\"\n",
    "nodes0_41=pd.read_csv(fN)\n",
    "\n",
    "preDir = \"/ReducedNodeSet/\"\n",
    "name500=\"CECnodes_500_TableToExcel\"\n",
    "filetype = \".csv\"\n",
    "nodes500 = get_file(preDir+name500+filetype)\n",
    "\n",
    "\n",
    "nodes0_1_500=reducer_node(nodes0_1,nodes500)\n",
    "nodes0_11_500=reducer_node(nodes0_11,nodes500)\n",
    "nodes0_21_500=reducer_node(nodes0_21,nodes500)\n",
    "nodes0_31_500=reducer_node(nodes0_31,nodes500)\n",
    "nodes0_41_500=reducer_node(nodes0_41,nodes500)"
   ]
  },
  {
   "cell_type": "code",
   "execution_count": 209,
   "metadata": {},
   "outputs": [
    {
     "name": "stderr",
     "output_type": "stream",
     "text": [
      "/Library/Frameworks/Python.framework/Versions/3.6/lib/python3.6/site-packages/IPython/core/interactiveshell.py:3020: DtypeWarning: Columns (105) have mixed types. Specify dtype option on import or set low_memory=False.\n",
      "  interactivity=interactivity, compiler=compiler, result=result)\n"
     ]
    }
   ],
   "source": [
    "anomalyFree = \"/Users/kavyaub/Documents/mySubjects/ConEdison/NYU_LeakData/LeakData_ZeroDegrees/NYU Anamoly Data_ZeroDeg_Nodes.csv\"\n",
    "nFile0=pd.read_csv(anomalyFree)\n",
    "\n",
    "def calculations_press_avg(input_arr,nodeArr):\n",
    "    final_temp_arr = np.array([input_arr['NAME'],input_arr['FacilityFromNodeName'],input_arr['FacilityToNodeName'],input_arr['NAME'],[0]*input_arr.NAME.size,[0]*input_arr.NAME.size,[0]*input_arr.NAME.size,[0]*input_arr.NAME.size,[0]*input_arr.NAME.size,[0]*input_arr.NAME.size,[0]*input_arr.NAME.size])\n",
    "    pres1 = 0\n",
    "    pres2 = 0\n",
    "    setOfNames = set(nodeArr['NAME'])\n",
    "    for i in range(0,final_temp_arr[1].size):\n",
    "        if final_temp_arr[1][i] in setOfNames:\n",
    "            temp = nodeArr.loc[nodeArr['NAME']==final_temp_arr[1][i]]\n",
    "            pres1 = temp.color\n",
    "            final_temp_arr[4][i]=pres1.iloc[0]\n",
    "            pressure1 = temp.NodePressure\n",
    "            final_temp_arr[6][i]=pressure1.iloc[0]\n",
    "            pressure2 = nFile0[nFile0.NAME==final_temp_arr[1][i]].NodePressure\n",
    "            final_temp_arr[8][i]=pressure2.iloc[0]\n",
    "        if final_temp_arr[2][i] in setOfNames:\n",
    "            temp = nodeArr.loc[nodeArr['NAME']==final_temp_arr[2][i]]\n",
    "            pres2 = temp.color\n",
    "            final_temp_arr[5][i]=pres2.iloc[0]\n",
    "            pressure1 = temp.NodePressure\n",
    "            final_temp_arr[7][i]=pressure1.iloc[0]\n",
    "            pressure2 = nFile0[nFile0.NAME==final_temp_arr[2][i]].NodePressure\n",
    "            final_temp_arr[9][i]=pressure2.iloc[0]\n",
    "            \n",
    "    fin_anomaly=(final_temp_arr[6]+final_temp_arr[7])/2\n",
    "    fin_no_anomaly=(final_temp_arr[8]+final_temp_arr[9])/2\n",
    "    finalPres = (final_temp_arr[4]+final_temp_arr[5])/2\n",
    "    avg_pressure=abs(fin_anomaly-fin_no_anomaly)/fin_no_anomaly\n",
    "\n",
    "    input_arr['finalVal']=0.6*finalPres+0.4*input_arr.color\n",
    "    input_arr['avgPressure']=avg_pressure\n",
    "    "
   ]
  },
  {
   "cell_type": "code",
   "execution_count": 210,
   "metadata": {},
   "outputs": [],
   "source": [
    "calculations_press_avg(cal_diff0_1,nodes0_1)\n",
    "calculations_press_avg(cal_diff0_11,nodes0_11)\n",
    "calculations_press_avg(cal_diff0_21,nodes0_21)\n",
    "calculations_press_avg(cal_diff0_31,nodes0_31)\n",
    "calculations_press_avg(cal_diff0_41,nodes0_41)"
   ]
  },
  {
   "cell_type": "code",
   "execution_count": null,
   "metadata": {},
   "outputs": [],
   "source": []
  },
  {
   "cell_type": "code",
   "execution_count": 211,
   "metadata": {},
   "outputs": [],
   "source": [
    "scaled_vals=np.array([cal_diff0_1.finalVal ,cal_diff0_11.finalVal,cal_diff0_21.finalVal,cal_diff0_31.finalVal, cal_diff0_41.finalVal])\n",
    "scaled_vals[scaled_vals >= 4] = 40\n",
    "scaled_vals[scaled_vals <1] = 6\n",
    "scaled_vals[scaled_vals <2] = 10\n",
    "scaled_vals[scaled_vals <3] = 20\n",
    "scaled_vals[scaled_vals <4] = 30\n",
    "scaled_vals[scaled_vals == 6] = 0\n",
    "\n",
    "scaled_vals=scaled_vals/10\n",
    "\n",
    "scaled_vals=scaled_vals.astype(int)\n",
    "\n",
    "#colors_array = color_indexer(scaled_vals)\n",
    "avgcolor_indexed0_41=cal_diff0_41\n",
    "avgcolor_indexed0_41['color']=scaled_vals[4]\n",
    "avgcolor_indexed0_31=cal_diff0_31\n",
    "avgcolor_indexed0_31['color']=scaled_vals[3]\n",
    "avgcolor_indexed0_21=cal_diff0_21\n",
    "avgcolor_indexed0_21['color']=scaled_vals[2]\n",
    "avgcolor_indexed0_11=cal_diff0_11\n",
    "avgcolor_indexed0_11['color']=scaled_vals[1]\n",
    "avgcolor_indexed0_1=cal_diff0_1\n",
    "avgcolor_indexed0_1['color']=scaled_vals[0]\n",
    "\n",
    "\n",
    "avgcolor_indexed0_1_500=reducer(avgcolor_indexed0_1)\n",
    "avgcolor_indexed0_11_500=reducer(avgcolor_indexed0_11)\n",
    "avgcolor_indexed0_21_500=reducer(avgcolor_indexed0_21)\n",
    "avgcolor_indexed0_31_500=reducer(avgcolor_indexed0_31)\n",
    "avgcolor_indexed0_41_500=reducer(avgcolor_indexed0_41)"
   ]
  },
  {
   "cell_type": "code",
   "execution_count": 212,
   "metadata": {},
   "outputs": [],
   "source": [
    "#draw_3d_color(avgcolor_indexed0_41,\"hello\")"
   ]
  },
  {
   "cell_type": "code",
   "execution_count": 213,
   "metadata": {},
   "outputs": [],
   "source": [
    "#draw_2d_flow_color(cal_diff0_41,\"hello\")\n"
   ]
  },
  {
   "cell_type": "code",
   "execution_count": 214,
   "metadata": {},
   "outputs": [],
   "source": [
    "arr=[1,11,21,31,41]\n",
    "vals=[np.max(color_indexed0_1.VELOpipeFPS),np.max(color_indexed0_11.VELOpipeFPS),np.max(color_indexed0_21.VELOpipeFPS),np.max(color_indexed0_31.VELOpipeFPS),np.max(color_indexed0_41.VELOpipeFPS)]\n",
    "fig_size = plt.rcParams[\"figure.figsize\"]\n",
    "fig_size[0] = 5\n",
    "fig_size[1] = 5\n",
    "plt.rcParams[\"figure.figsize\"] = fig_size\n",
    "#plt.plot(arr, vals)"
   ]
  },
  {
   "cell_type": "code",
   "execution_count": 215,
   "metadata": {},
   "outputs": [],
   "source": [
    "def save_data_file_500_avg(temp):\n",
    "    if temp == 16:\n",
    "        arr1=color_indexed1_500\n",
    "        arr11=color_indexed11_500\n",
    "        arr21=color_indexed21_500\n",
    "        arr31=color_indexed31_500\n",
    "        arr41=color_indexed41_500\n",
    "    elif temp==0:\n",
    "        arr1=avgcolor_indexed0_1_500\n",
    "        arr11=avgcolor_indexed0_11_500\n",
    "        arr21=avgcolor_indexed0_21_500\n",
    "        arr31=avgcolor_indexed0_31_500\n",
    "        arr41=avgcolor_indexed0_41_500\n",
    "    elif temp==32:\n",
    "        arr1=color_indexed32_1_500\n",
    "        arr11=color_indexed32_11_500\n",
    "        arr21=color_indexed32_21_500\n",
    "        arr31=color_indexed32_31_500\n",
    "        arr41=color_indexed32_41_500\n",
    "    elif temp==48:\n",
    "        arr1=color_indexed48_1_500\n",
    "        arr11=color_indexed48_11_500\n",
    "        arr21=color_indexed48_21_500\n",
    "        arr31=color_indexed48_31_500\n",
    "        arr41=color_indexed48_41_500\n",
    "    elif temp==64:\n",
    "        arr1=color_indexed64_1_500\n",
    "        arr11=color_indexed64_11_500\n",
    "        arr21=color_indexed64_21_500\n",
    "        arr31=color_indexed64_31_500\n",
    "        arr41=color_indexed64_41_500\n",
    "    day = np.hstack([[0]*arr1.NAME.size,[1]*arr1.NAME.size,[2]*arr1.NAME.size,[3]*arr1.NAME.size,[4]*arr1.NAME.size])\n",
    "    p = np.hstack([arr1.FacilityFlowAbsolute,arr11.FacilityFlowAbsolute,arr21.FacilityFlowAbsolute,arr31.FacilityFlowAbsolute,arr41.FacilityFlowAbsolute])\n",
    "    pd = np.hstack([arr1.VELOpipeFPS,arr11.VELOpipeFPS,arr21.VELOpipeFPS,arr31.VELOpipeFPS,arr41.VELOpipeFPS])\n",
    "    names = np.hstack([arr1.NAME,arr1.NAME,arr1.NAME,arr1.NAME,arr1.NAME])\n",
    "    pressures=np.hstack([arr1.avgPressure,arr11.avgPressure,arr21.avgPressure,arr31.avgPressure,arr41.avgPressure])\n",
    "    temps=np.hstack([[temp]*arr1.NAME.size,[temp]*arr1.NAME.size,[temp]*arr1.NAME.size,[temp]*arr1.NAME.size,[temp]*arr1.NAME.size])\n",
    "    color=np.hstack([arr1.color,arr11.color,arr21.color,arr31.color,arr41.color])\n",
    "    print(names.shape)\n",
    "    print(pressures.shape)\n",
    "    final_file = np.vstack([names.T,p.T,pd.T,temps.T,color.T,day.T,pressures.T])\n",
    "    \n",
    "    #final_file = np.vstack([names.T,p.T,pd.T,temps.T,color.T,day.T])\n",
    "    ff = np.vstack([p,pd,day])\n",
    "\n",
    "    \n",
    "    labels = np.hstack([[0]*arr1.NAME.size,[0]*arr1.NAME.size,[0]*arr1.NAME.size,[0]*arr1.NAME.size,[0]*arr1.NAME.size])\n",
    "    labels[np.where(final_file[4]==1)]=1\n",
    "    targets=labels\n",
    "    \n",
    "    return final_file, targets\n",
    "\n",
    "\n"
   ]
  },
  {
   "cell_type": "code",
   "execution_count": 216,
   "metadata": {},
   "outputs": [],
   "source": [
    "def save_data_file_avg(temp):\n",
    "    if temp == 16:\n",
    "        arr1=color_indexed1_500\n",
    "        arr11=color_indexed11_500\n",
    "        arr21=color_indexed21_500\n",
    "        arr31=color_indexed31_500\n",
    "        arr41=color_indexed41_500\n",
    "    elif temp==0:\n",
    "        arr1=avgcolor_indexed0_1\n",
    "        arr11=avgcolor_indexed0_11\n",
    "        arr21=avgcolor_indexed0_21\n",
    "        arr31=avgcolor_indexed0_31\n",
    "        arr41=avgcolor_indexed0_41\n",
    "    elif temp==32:\n",
    "        arr1=color_indexed32_1_500\n",
    "        arr11=color_indexed32_11_500\n",
    "        arr21=color_indexed32_21_500\n",
    "        arr31=color_indexed32_31_500\n",
    "        arr41=color_indexed32_41_500\n",
    "    elif temp==48:\n",
    "        arr1=color_indexed48_1_500\n",
    "        arr11=color_indexed48_11_500\n",
    "        arr21=color_indexed48_21_500\n",
    "        arr31=color_indexed48_31_500\n",
    "        arr41=color_indexed48_41_500\n",
    "    elif temp==64:\n",
    "        arr1=color_indexed64_1_500\n",
    "        arr11=color_indexed64_11_500\n",
    "        arr21=color_indexed64_21_500\n",
    "        arr31=color_indexed64_31_500\n",
    "        arr41=color_indexed64_41_500\n",
    "    day = np.hstack([[0]*arr1.NAME.size,[1]*arr1.NAME.size,[2]*arr1.NAME.size,[3]*arr1.NAME.size,[4]*arr1.NAME.size])\n",
    "    p = np.hstack([arr1.FacilityFlowAbsolute,arr11.FacilityFlowAbsolute,arr21.FacilityFlowAbsolute,arr31.FacilityFlowAbsolute,arr41.FacilityFlowAbsolute])\n",
    "    pd = np.hstack([arr1.VELOpipeFPS,arr11.VELOpipeFPS,arr21.VELOpipeFPS,arr31.VELOpipeFPS,arr41.VELOpipeFPS])\n",
    "    pressures=np.hstack([arr1.avgPressure,arr11.avgPressure,arr21.avgPressure,arr31.avgPressure,arr41.avgPressure])\n",
    "    names = np.hstack([arr1.NAME,arr1.NAME,arr1.NAME,arr1.NAME,arr1.NAME])\n",
    "    temps=np.hstack([[temp]*arr1.NAME.size,[temp]*arr1.NAME.size,[temp]*arr1.NAME.size,[temp]*arr1.NAME.size,[temp]*arr1.NAME.size])\n",
    "    color=np.hstack([arr1.color,arr11.color,arr21.color,arr31.color,arr41.color])\n",
    "    \n",
    "    final_file = np.vstack([names.T,p.T,pd.T,temps.T,color.T,day.T,pressures.T])\n",
    "    #final_file = np.vstack([names.T,p.T,pd.T,temps.T,color.T,day.T])\n",
    "    ff = np.vstack([p,pd,day])\n",
    "\n",
    "    \n",
    "    labels = np.hstack([[0]*arr1.NAME.size,[0]*arr1.NAME.size,[0]*arr1.NAME.size,[0]*arr1.NAME.size,[0]*arr1.NAME.size])\n",
    "    labels[np.where(final_file[4]>=1)]=1\n",
    "    targets=labels\n",
    "    \n",
    "    return final_file, targets\n"
   ]
  },
  {
   "cell_type": "code",
   "execution_count": null,
   "metadata": {},
   "outputs": [],
   "source": []
  },
  {
   "cell_type": "code",
   "execution_count": 1111,
   "metadata": {},
   "outputs": [
    {
     "name": "stdout",
     "output_type": "stream",
     "text": [
      "(2835,)\n",
      "(2835,)\n"
     ]
    }
   ],
   "source": [
    "avg_0_500,avg_tgt_0_500 = save_data_file_500_avg(0)\n",
    "avg_0,avg_tgt_0 = save_data_file_avg(0)"
   ]
  },
  {
   "cell_type": "code",
   "execution_count": 231,
   "metadata": {},
   "outputs": [],
   "source": [
    "sess=tf.Session()\n",
    "X=np.array([avg_0_500[2],avg_0_500[5],avg_0_500[6]])\n",
    "X=X.T\n",
    "labels1 = np.hstack([[0]*avgcolor_indexed0_1_500.NAME.size,[0]*avgcolor_indexed0_1_500.NAME.size,[0]*avgcolor_indexed0_1_500.NAME.size,[0]*avgcolor_indexed0_1_500.NAME.size,[0]*avgcolor_indexed0_1_500.NAME.size])\n",
    "\n",
    "\n",
    "#X_train, X_test, y_train, y_test = train_test_split(X, y, test_size=0.20, random_state=42)\n"
   ]
  },
  {
   "cell_type": "code",
   "execution_count": 232,
   "metadata": {},
   "outputs": [],
   "source": [
    "svc = svm.SVC(probability=False,  kernel=\"linear\", C=2.8, gamma=.0073,verbose=10)"
   ]
  },
  {
   "cell_type": "code",
   "execution_count": 1332,
   "metadata": {},
   "outputs": [],
   "source": [
    "#labels1[avg_0_500[4]==1]=1\n",
    "#y=labels1\n",
    "#svc.fit(X,y)\n",
    "\n",
    "#labels1[avg_0_500[4]==3]=1\n",
    "#y=labels1\n",
    "#svc.fit(X,y)\n",
    "\n",
    "#labels1[avg_0_500[4]==2]=1\n",
    "#y=labels1\n",
    "#svc.fit(X,y)\n",
    "\n",
    "#labels1[avg_0_500[4]==1]=1\n",
    "#y=labels1\n",
    "#svc.fit(X,y)\n",
    "\n",
    "label1_values = []\n",
    "label2_values = []\n",
    "label3_values = []\n",
    "label4_values = []\n",
    "\n",
    "for i in range(0,len(avg_0_500[4])):\n",
    "    if avg_0_500[4][i]==1:\n",
    "        label1_values.append(avg_0_500.T[i])\n",
    "    elif avg_0_500[4][i]==2:\n",
    "        label2_values.append(avg_0_500.T[i])\n",
    "    elif avg_0_500[4][i]==3:\n",
    "        label3_values.append(avg_0_500.T[i])\n",
    "    elif avg_0_500[4][i]==4:\n",
    "        label4_values.append(avg_0_500.T[i])\n",
    "    else:\n",
    "        label1_values.append(avg_0_500.T[i])\n",
    "        label2_values.append(avg_0_500.T[i])\n",
    "        label3_values.append(avg_0_500.T[i])\n",
    "        label4_values.append(avg_0_500.T[i])\n",
    "label1 = np.vstack(label1_values).T\n",
    "label2 = np.vstack(label2_values).T\n",
    "label3 = np.vstack(label3_values).T\n",
    "label4 = np.vstack(label4_values).T\n",
    "\n",
    "label2[4][label2[4]==2]=1\n",
    "label3[4][label3[4]==3]=1\n",
    "label4[4][label4[4]==4]=1"
   ]
  },
  {
   "cell_type": "code",
   "execution_count": 1333,
   "metadata": {},
   "outputs": [
    {
     "name": "stdout",
     "output_type": "stream",
     "text": [
      "[LibSVM]"
     ]
    },
    {
     "data": {
      "text/plain": [
       "0.9523809523809523"
      ]
     },
     "execution_count": 1333,
     "metadata": {},
     "output_type": "execute_result"
    }
   ],
   "source": [
    "X = np.array([label1[2],label1[5],label1[6]])\n",
    "X=X.T\n",
    "\n",
    "y=label1[4]\n",
    "\n",
    "y=y.astype('int')\n",
    "\n",
    "X_train, X_test, y_train, y_test = train_test_split(X, y, test_size=0.20, random_state=42)\n",
    "\n",
    "svc1 = svm.SVC(probability=False,  kernel=\"linear\", C=10, gamma=.0073,verbose=10)\n",
    "svc1.fit(X_train,y_train)\n",
    "\n",
    "yhat_ts = svc1.predict(X_test)\n",
    "\n",
    "acc = np.mean(yhat_ts == y_test)\n",
    "acc"
   ]
  },
  {
   "cell_type": "code",
   "execution_count": 1334,
   "metadata": {},
   "outputs": [
    {
     "name": "stdout",
     "output_type": "stream",
     "text": [
      "[LibSVM]"
     ]
    },
    {
     "data": {
      "text/plain": [
       "0.9952941176470588"
      ]
     },
     "execution_count": 1334,
     "metadata": {},
     "output_type": "execute_result"
    }
   ],
   "source": [
    "X = np.array([label2[2],label2[5],label2[6]])\n",
    "X=X.T\n",
    "\n",
    "y=label2[4]\n",
    "\n",
    "y=y.astype('int')\n",
    "\n",
    "X_train, X_test, y_train, y_test = train_test_split(X, y, test_size=0.20, random_state=42)\n",
    "\n",
    "svc2 = svm.SVC(probability=False,  kernel=\"linear\", C=3, gamma=.0073,verbose=10)\n",
    "svc2.fit(X_train,y_train)\n",
    "\n",
    "yhat_ts = svc2.predict(X_test)\n",
    "\n",
    "acc = np.mean(yhat_ts == y_test)\n",
    "acc"
   ]
  },
  {
   "cell_type": "code",
   "execution_count": 1335,
   "metadata": {},
   "outputs": [
    {
     "name": "stdout",
     "output_type": "stream",
     "text": [
      "[LibSVM]"
     ]
    },
    {
     "data": {
      "text/plain": [
       "1.0"
      ]
     },
     "execution_count": 1335,
     "metadata": {},
     "output_type": "execute_result"
    }
   ],
   "source": [
    "X = np.array([label3[2],label3[5],label3[6]])\n",
    "X=X.T\n",
    "\n",
    "y=label3[4]\n",
    "\n",
    "y=y.astype('int')\n",
    "\n",
    "X_train, X_test, y_train, y_test = train_test_split(X, y, test_size=0.20, random_state=42)\n",
    "\n",
    "svc3 = svm.SVC(probability=False,  kernel=\"linear\", C=2.6, gamma=.0073,verbose=10)\n",
    "svc3.fit(X_train,y_train)\n",
    "\n",
    "yhat_ts = svc3.predict(X_test)\n",
    "\n",
    "acc = np.mean(yhat_ts == y_test)\n",
    "acc"
   ]
  },
  {
   "cell_type": "code",
   "execution_count": 1336,
   "metadata": {},
   "outputs": [
    {
     "name": "stdout",
     "output_type": "stream",
     "text": [
      "[LibSVM]"
     ]
    },
    {
     "data": {
      "text/plain": [
       "1.0"
      ]
     },
     "execution_count": 1336,
     "metadata": {},
     "output_type": "execute_result"
    }
   ],
   "source": [
    "X = np.array([label4[2],label4[5],label4[6]])\n",
    "X=X.T\n",
    "\n",
    "y=label4[4]\n",
    "\n",
    "y=y.astype('int')\n",
    "\n",
    "X_train, X_test, y_train, y_test = train_test_split(X, y, test_size=0.20, random_state=42)\n",
    "\n",
    "svc4 = svm.SVC(probability=False,  kernel=\"linear\", C=2.3, gamma=.0073,verbose=10)\n",
    "svc4.fit(X_train,y_train)\n",
    "\n",
    "yhat_ts = svc4.predict(X_test)\n",
    "\n",
    "acc = np.mean(yhat_ts == y_test)\n",
    "acc"
   ]
  },
  {
   "cell_type": "code",
   "execution_count": 1337,
   "metadata": {},
   "outputs": [
    {
     "data": {
      "text/plain": [
       "(array([0]), array([354]))"
      ]
     },
     "execution_count": 1337,
     "metadata": {},
     "output_type": "execute_result"
    }
   ],
   "source": [
    "np.unique(y_test,return_counts=True)"
   ]
  },
  {
   "cell_type": "code",
   "execution_count": 1338,
   "metadata": {},
   "outputs": [
    {
     "name": "stdout",
     "output_type": "stream",
     "text": [
      "[[354]]\n"
     ]
    },
    {
     "data": {
      "text/plain": [
       "<matplotlib.colorbar.Colorbar at 0x1531ba470>"
      ]
     },
     "execution_count": 1338,
     "metadata": {},
     "output_type": "execute_result"
    },
    {
     "data": {
      "image/png": "[encoded data removed]",
      "text/plain": [
       "<Figure size 360x360 with 2 Axes>"
      ]
     },
     "metadata": {
      "needs_background": "light"
     },
     "output_type": "display_data"
    }
   ],
   "source": [
    "C = confusion_matrix(y_test,yhat_ts)\n",
    "\n",
    "# Normalize the confusion matrix\n",
    "#Csum = np.sum(C,1)\n",
    "#C = C / Csum[None,:]\n",
    "\n",
    "# Print the confusion matrix\n",
    "print(np.array_str(C, precision=3, suppress_small=True))\n",
    "plt.imshow(C, interpolation='none')\n",
    "plt.colorbar()"
   ]
  },
  {
   "cell_type": "code",
   "execution_count": 1369,
   "metadata": {},
   "outputs": [
    {
     "name": "stdout",
     "output_type": "stream",
     "text": [
      "[LibSVM]"
     ]
    },
    {
     "data": {
      "text/plain": [
       "0.8888888888888888"
      ]
     },
     "execution_count": 1369,
     "metadata": {},
     "output_type": "execute_result"
    }
   ],
   "source": [
    "X = np.array([avg_0_500[2],avg_0_500[5],avg_0_500[6]])\n",
    "X=X.T\n",
    "\n",
    "y=avg_0_500[4]\n",
    "\n",
    "y=y.astype('int')\n",
    "\n",
    "X_train, X_test, y_train, y_test = train_test_split(X, y, test_size=0.20, random_state=42)\n",
    "\n",
    "clf = svm.SVC(decision_function_shape='linear',probability=False,  kernel=\"linear\", C=16, gamma=.0073,verbose=10)\n",
    "\n",
    "clf.fit(X_train,y_train)\n",
    "\n",
    "\n",
    "yhat_ts = clf.predict(X_test)\n",
    "\n",
    "acc = np.mean(yhat_ts == y_test)\n",
    "acc"
   ]
  },
  {
   "cell_type": "code",
   "execution_count": 1370,
   "metadata": {},
   "outputs": [
    {
     "name": "stdout",
     "output_type": "stream",
     "text": [
      "[[0.974 0.067 0.    0.   ]\n",
      " [0.049 0.836 0.068 0.   ]\n",
      " [0.    0.157 0.716 0.   ]\n",
      " [0.    0.    0.149 0.   ]]\n"
     ]
    },
    {
     "data": {
      "text/plain": [
       "<matplotlib.colorbar.Colorbar at 0x15377a978>"
      ]
     },
     "execution_count": 1370,
     "metadata": {},
     "output_type": "execute_result"
    },
    {
     "data": {
      "image/png": "[encoded data removed]",
      "text/plain": [
       "<Figure size 360x360 with 2 Axes>"
      ]
     },
     "metadata": {
      "needs_background": "light"
     },
     "output_type": "display_data"
    }
   ],
   "source": [
    "C = confusion_matrix(y_test,yhat_ts)\n",
    "\n",
    "# Normalize the confusion matrix\n",
    "Csum = np.sum(C,1)\n",
    "C = C / Csum[None,:]\n",
    "\n",
    "# Print the confusion matrix\n",
    "print(np.array_str(C, precision=3, suppress_small=True))\n",
    "plt.imshow(C, interpolation='none')\n",
    "plt.colorbar()"
   ]
  },
  {
   "cell_type": "code",
   "execution_count": 1270,
   "metadata": {},
   "outputs": [],
   "source": [
    "#from sklearn.preprocessing import StandardScaler\n",
    "\n",
    "#scaler = StandardScaler()\n",
    "#scaler.fit(np.array(final_file_0_500[2]).reshape(1,-1))\n",
    "#print(scaler.mean_)\n",
    "#scaler.transform(np.array(final_file_0_500[2]).reshape(1,-1))\n",
    "#print(scaler.transform([[2, 2]]))\n"
   ]
  },
  {
   "cell_type": "code",
   "execution_count": 1352,
   "metadata": {},
   "outputs": [],
   "source": [
    "def visualize_spread(arr1,y_test):\n",
    "    #final_file_0_500[2],final_file_0_500[5]]\n",
    "    col = []\n",
    "    for i in range(0,len(arr1[0])):\n",
    "        if y_test[i] == 1:\n",
    "            col.append('g')\n",
    "        elif y_test[i] == 2:\n",
    "            col.append('y')\n",
    "        elif y_test[i] == 3:\n",
    "            col.append('cyan')\n",
    "        elif y_test[i] == 4:\n",
    "            col.append('r')\n",
    "        else:\n",
    "            col.append('b')\n",
    "    \n",
    "    \n",
    "    plt.scatter(np.arange(len(arr1[0])),arr1[6],c=col)\n"
   ]
  },
  {
   "cell_type": "code",
   "execution_count": 1348,
   "metadata": {},
   "outputs": [
    {
     "data": {
      "text/plain": [
       "(array([0, 1, 2]), array([357, 143,  67]))"
      ]
     },
     "execution_count": 1348,
     "metadata": {},
     "output_type": "execute_result"
    },
    {
     "data": {
      "image/png": "[encoded data removed]",
      "text/plain": [
       "<Figure size 360x360 with 1 Axes>"
      ]
     },
     "metadata": {
      "needs_background": "light"
     },
     "output_type": "display_data"
    }
   ],
   "source": [
    "visualize_spread(X_test.T,yhat_ts)\n",
    "np.unique(yhat_ts,return_counts=True)"
   ]
  },
  {
   "cell_type": "code",
   "execution_count": 1349,
   "metadata": {},
   "outputs": [
    {
     "data": {
      "text/plain": [
       "(array([0, 1, 2, 3]), array([348, 134,  74,  11]))"
      ]
     },
     "execution_count": 1349,
     "metadata": {},
     "output_type": "execute_result"
    },
    {
     "data": {
      "image/png": "[encoded data removed]",
      "text/plain": [
       "<Figure size 360x360 with 1 Axes>"
      ]
     },
     "metadata": {
      "needs_background": "light"
     },
     "output_type": "display_data"
    }
   ],
   "source": [
    "visualize_spread(X_test.T,y_test)\n",
    "np.unique(y_test,return_counts=True)"
   ]
  },
  {
   "cell_type": "code",
   "execution_count": 1350,
   "metadata": {},
   "outputs": [
    {
     "data": {
      "text/plain": [
       "(array([0, 1, 2, 3, 4]), array([1421,  509,  282,   55,    1]))"
      ]
     },
     "execution_count": 1350,
     "metadata": {},
     "output_type": "execute_result"
    },
    {
     "data": {
      "image/png": "[encoded data removed]",
      "text/plain": [
       "<Figure size 360x360 with 1 Axes>"
      ]
     },
     "metadata": {
      "needs_background": "light"
     },
     "output_type": "display_data"
    }
   ],
   "source": [
    "visualize_spread(X_train.T,y_train) \n",
    "np.unique(y_train,return_counts=True)"
   ]
  },
  {
   "cell_type": "code",
   "execution_count": 1353,
   "metadata": {},
   "outputs": [
    {
     "data": {
      "image/png": "[encoded data removed]",
      "text/plain": [
       "<Figure size 360x360 with 1 Axes>"
      ]
     },
     "metadata": {
      "needs_background": "light"
     },
     "output_type": "display_data"
    }
   ],
   "source": [
    "visualize_spread(avg_0_500,avg_0_500[4])"
   ]
  },
  {
   "cell_type": "code",
   "execution_count": 1364,
   "metadata": {},
   "outputs": [],
   "source": [
    "ip = np.array([avg_0_500[2],avg_0_500[5],avg_0_500[6]])\n",
    "yip1 = svc1.predict(ip.T)\n",
    "yip2 = svc2.predict(ip.T)\n",
    "yip3 = svc3.predict(ip.T)\n",
    "yip4 = svc4.predict(ip.T)\n",
    "\n",
    "\n",
    "yxp = avg_0_500[4]\n",
    "yxp = yxp.astype('int')\n",
    "\n",
    "yfinal = np.zeros(len(yip1))\n",
    "\n",
    "acc1= np.mean(yxp == yip1)\n",
    "acc2= np.mean(yxp == yip2)\n",
    "acc3= np.mean(yxp == yip3)\n",
    "acc4= np.mean(yxp == yip4)\n",
    "\n",
    "yfinal[np.where(yip1==1)]=1\n",
    "yfinal[np.where(yip2==1)]=2\n",
    "yfinal[np.where(yip3==1)]=3\n",
    "yfinal[np.where(yip4==1)]=4\n"
   ]
  },
  {
   "cell_type": "code",
   "execution_count": 1365,
   "metadata": {},
   "outputs": [
    {
     "name": "stdout",
     "output_type": "stream",
     "text": [
      "[[0.979 0.058 0.    0.    0.   ]\n",
      " [0.046 0.505 0.489 0.955 0.   ]\n",
      " [0.    0.034 0.368 3.076 0.   ]\n",
      " [0.    0.    0.    1.    0.   ]\n",
      " [0.    0.    0.    0.015 0.   ]]\n"
     ]
    },
    {
     "data": {
      "text/plain": [
       "<matplotlib.colorbar.Colorbar at 0x1532870b8>"
      ]
     },
     "execution_count": 1365,
     "metadata": {},
     "output_type": "execute_result"
    },
    {
     "data": {
      "image/png": "[encoded data removed]",
      "text/plain": [
       "<Figure size 360x360 with 2 Axes>"
      ]
     },
     "metadata": {
      "needs_background": "light"
     },
     "output_type": "display_data"
    }
   ],
   "source": [
    "C = confusion_matrix(yxp,yfinal)\n",
    "\n",
    "# Normalize the confusion matrix\n",
    "Csum = np.sum(C,1)\n",
    "C = C / Csum[None,:]\n",
    "\n",
    "# Print the confusion matrix\n",
    "print(np.array_str(C, precision=3, suppress_small=True))\n",
    "plt.imshow(C, interpolation='none')\n",
    "plt.colorbar()"
   ]
  },
  {
   "cell_type": "code",
   "execution_count": null,
   "metadata": {},
   "outputs": [],
   "source": []
  }
 ],
 "metadata": {
  "kernelspec": {
   "display_name": "Python 3",
   "language": "python",
   "name": "python3"
  },
  "language_info": {
   "codemirror_mode": {
    "name": "ipython",
    "version": 3
   },
   "file_extension": ".py",
   "mimetype": "text/x-python",
   "name": "python",
   "nbconvert_exporter": "python",
   "pygments_lexer": "ipython3",
   "version": "3.7.1"
  }
 },
 "nbformat": 4,
 "nbformat_minor": 4
}
